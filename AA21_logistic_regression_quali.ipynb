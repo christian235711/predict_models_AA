{
  "nbformat": 4,
  "nbformat_minor": 5,
  "metadata": {
    "colab": {
      "name": "AA21_logistic_regression_quali.ipynb",
      "provenance": [],
      "collapsed_sections": []
    },
    "kernelspec": {
      "display_name": "Python 3",
      "language": "python",
      "name": "python3"
    },
    "language_info": {
      "codemirror_mode": {
        "name": "ipython",
        "version": 3
      },
      "file_extension": ".py",
      "mimetype": "text/x-python",
      "name": "python",
      "nbconvert_exporter": "python",
      "pygments_lexer": "ipython3",
      "version": "3.8.8"
    }
  },
  "cells": [
    {
      "cell_type": "code",
      "metadata": {
        "colab": {
          "base_uri": "https://localhost:8080/"
        },
        "id": "46d1b569",
        "outputId": "dd924628-0e4b-47c3-cec6-3007a5a3e43c"
      },
      "source": [
        "import numpy as np\n",
        "import pandas as pd\n",
        "import seaborn as sns\n",
        "import matplotlib.pyplot as plt\n",
        "import sklearn\n",
        "\n",
        "from sklearn.linear_model import LogisticRegression\n",
        "\n",
        "from sklearn.metrics import f1_score, confusion_matrix, classification_report, confusion_matrix\n",
        "from sklearn.model_selection import train_test_split, learning_curve, GridSearchCV, RandomizedSearchCV\n",
        "\n",
        "from sklearn.preprocessing import OneHotEncoder\n",
        "\n",
        "from google.colab import drive\n",
        "drive.mount('/content/drive')"
      ],
      "id": "46d1b569",
      "execution_count": 14,
      "outputs": [
        {
          "output_type": "stream",
          "text": [
            "Drive already mounted at /content/drive; to attempt to forcibly remount, call drive.mount(\"/content/drive\", force_remount=True).\n"
          ],
          "name": "stdout"
        }
      ]
    },
    {
      "cell_type": "code",
      "metadata": {
        "id": "CzxckN1fQpZU"
      },
      "source": [
        "import warnings\n",
        "warnings.filterwarnings(\"ignore\")"
      ],
      "id": "CzxckN1fQpZU",
      "execution_count": 2,
      "outputs": []
    },
    {
      "cell_type": "code",
      "metadata": {
        "id": "d704d0bf"
      },
      "source": [
        "# option d'affichage des résultats\n",
        "#pd.set_option(\"display.max_row\",130)\n",
        "pd.set_option(\"display.max_columns\",100)"
      ],
      "id": "d704d0bf",
      "execution_count": 3,
      "outputs": []
    },
    {
      "cell_type": "code",
      "metadata": {
        "id": "78ad0a9b"
      },
      "source": [
        "# les noms des variables\n",
        "\n",
        "colonnes =([\"IDENT\", \"TypeHabi\", \"GeoFaz_Scl\", \"GeoFaz_cl\", \"ImmoFaz_Scl\", \"ImmoFaz_cl\", \"Anciennete\",\n",
        "            \"Logement_prix_m2\", \"Mediane_RFR\", \"Sexe\", \"Prenom_Phase_scl_H\", \"Prenom_Phase_scl_F\",\n",
        "            \"Prenom_Phase_cl_H\", \"Prenom_Phase_cl_F\", \"Age_H\", \"Age_F\", \"Affinite_1\", \"Affinite_2\",\n",
        "            \"Prenom_effectif\", \"Potentiel_prenom\", \"Onoma-Phase_Scl\", \"Onoma-Phase_CL\", \"Top_mon\"])\n"
      ],
      "id": "78ad0a9b",
      "execution_count": 4,
      "outputs": []
    },
    {
      "cell_type": "code",
      "metadata": {
        "id": "xg5O-7Vu25p0"
      },
      "source": [
        "\n",
        "colonnes_montant = [\"DEDUPLI\", \"IDENT\", \"SommeDeMONTANT_NUM\", \"Flag_Top_Montant\", \"NovosScore_Vingtile\"]\n",
        "colonnes_montant = colonnes_montant[:-1]\n",
        "\n",
        "data_montant_orig = pd.read_csv(\"/content/drive/MyDrive/spad_score_method_1/spad_projection_AAPOT21/DONS_AA_N_TODAY_1ers gestes_REF_MD.txt\", sep=\";\", header = 0, low_memory=False, dtype=str) #, dtype=str )#, dtype='Int64')\n",
        "data_montant_orig =data_montant_orig.iloc[:,1:]  \n",
        "\n",
        "data_montant_orig.iloc[:,2]=data_montant_orig.iloc[:,2].str.replace(\",\",\".\")\n",
        "\n",
        "data_montant_orig.columns =colonnes_montant\n",
        "data_montant_orig[\"SommeDeMONTANT_NUM\"]=data_montant_orig[\"SommeDeMONTANT_NUM\"].astype(float)\n"
      ],
      "id": "xg5O-7Vu25p0",
      "execution_count": 20,
      "outputs": []
    },
    {
      "cell_type": "code",
      "metadata": {
        "id": "dhNfcV7U62LL"
      },
      "source": [
        ""
      ],
      "id": "dhNfcV7U62LL",
      "execution_count": 21,
      "outputs": []
    },
    {
      "cell_type": "code",
      "metadata": {
        "id": "47c00091",
        "colab": {
          "base_uri": "https://localhost:8080/",
          "height": 461
        },
        "outputId": "a743d437-5980-403c-dd71-a15377851fb6"
      },
      "source": [
        "data_orig = pd.read_csv(\"/content/drive/MyDrive/spad_score_method_1/spad_projection_AAPOT21/sep_AAPOT21.txt\", delim_whitespace=\"\\t\", header = None, names=colonnes, low_memory=False, dtype=str )#, dtype='Int64')\n",
        "data = data_orig.copy()\n",
        "data"
      ],
      "id": "47c00091",
      "execution_count": 5,
      "outputs": [
        {
          "output_type": "execute_result",
          "data": {
            "text/html": [
              "<div>\n",
              "<style scoped>\n",
              "    .dataframe tbody tr th:only-of-type {\n",
              "        vertical-align: middle;\n",
              "    }\n",
              "\n",
              "    .dataframe tbody tr th {\n",
              "        vertical-align: top;\n",
              "    }\n",
              "\n",
              "    .dataframe thead th {\n",
              "        text-align: right;\n",
              "    }\n",
              "</style>\n",
              "<table border=\"1\" class=\"dataframe\">\n",
              "  <thead>\n",
              "    <tr style=\"text-align: right;\">\n",
              "      <th></th>\n",
              "      <th>IDENT</th>\n",
              "      <th>TypeHabi</th>\n",
              "      <th>GeoFaz_Scl</th>\n",
              "      <th>GeoFaz_cl</th>\n",
              "      <th>ImmoFaz_Scl</th>\n",
              "      <th>ImmoFaz_cl</th>\n",
              "      <th>Anciennete</th>\n",
              "      <th>Logement_prix_m2</th>\n",
              "      <th>Mediane_RFR</th>\n",
              "      <th>Sexe</th>\n",
              "      <th>Prenom_Phase_scl_H</th>\n",
              "      <th>Prenom_Phase_scl_F</th>\n",
              "      <th>Prenom_Phase_cl_H</th>\n",
              "      <th>Prenom_Phase_cl_F</th>\n",
              "      <th>Age_H</th>\n",
              "      <th>Age_F</th>\n",
              "      <th>Affinite_1</th>\n",
              "      <th>Affinite_2</th>\n",
              "      <th>Prenom_effectif</th>\n",
              "      <th>Potentiel_prenom</th>\n",
              "      <th>Onoma-Phase_Scl</th>\n",
              "      <th>Onoma-Phase_CL</th>\n",
              "      <th>Top_mon</th>\n",
              "    </tr>\n",
              "  </thead>\n",
              "  <tbody>\n",
              "    <tr>\n",
              "      <th>0</th>\n",
              "      <td>0010000067</td>\n",
              "      <td>01</td>\n",
              "      <td>72</td>\n",
              "      <td>07</td>\n",
              "      <td>83</td>\n",
              "      <td>08</td>\n",
              "      <td>06</td>\n",
              "      <td>17</td>\n",
              "      <td>18</td>\n",
              "      <td>05</td>\n",
              "      <td>44</td>\n",
              "      <td>81</td>\n",
              "      <td>04</td>\n",
              "      <td>08</td>\n",
              "      <td>06</td>\n",
              "      <td>12</td>\n",
              "      <td>02</td>\n",
              "      <td>03</td>\n",
              "      <td>04</td>\n",
              "      <td>12</td>\n",
              "      <td>31</td>\n",
              "      <td>03</td>\n",
              "      <td>1</td>\n",
              "    </tr>\n",
              "    <tr>\n",
              "      <th>1</th>\n",
              "      <td>0010000070</td>\n",
              "      <td>01</td>\n",
              "      <td>72</td>\n",
              "      <td>07</td>\n",
              "      <td>84</td>\n",
              "      <td>08</td>\n",
              "      <td>05</td>\n",
              "      <td>18</td>\n",
              "      <td>20</td>\n",
              "      <td>05</td>\n",
              "      <td>33</td>\n",
              "      <td>44</td>\n",
              "      <td>03</td>\n",
              "      <td>04</td>\n",
              "      <td>08</td>\n",
              "      <td>08</td>\n",
              "      <td>05</td>\n",
              "      <td>09</td>\n",
              "      <td>05</td>\n",
              "      <td>20</td>\n",
              "      <td>36</td>\n",
              "      <td>03</td>\n",
              "      <td>2</td>\n",
              "    </tr>\n",
              "    <tr>\n",
              "      <th>2</th>\n",
              "      <td>0010000090</td>\n",
              "      <td>03</td>\n",
              "      <td>64</td>\n",
              "      <td>06</td>\n",
              "      <td>75</td>\n",
              "      <td>07</td>\n",
              "      <td>05</td>\n",
              "      <td>13</td>\n",
              "      <td>08</td>\n",
              "      <td>05</td>\n",
              "      <td>71</td>\n",
              "      <td>67</td>\n",
              "      <td>07</td>\n",
              "      <td>06</td>\n",
              "      <td>12</td>\n",
              "      <td>11</td>\n",
              "      <td>10</td>\n",
              "      <td>08</td>\n",
              "      <td>04</td>\n",
              "      <td>02</td>\n",
              "      <td>22</td>\n",
              "      <td>02</td>\n",
              "      <td>2</td>\n",
              "    </tr>\n",
              "    <tr>\n",
              "      <th>3</th>\n",
              "      <td>0010000124</td>\n",
              "      <td>03</td>\n",
              "      <td>43</td>\n",
              "      <td>04</td>\n",
              "      <td>82</td>\n",
              "      <td>08</td>\n",
              "      <td>01</td>\n",
              "      <td>15</td>\n",
              "      <td>17</td>\n",
              "      <td>05</td>\n",
              "      <td>51</td>\n",
              "      <td>81</td>\n",
              "      <td>05</td>\n",
              "      <td>08</td>\n",
              "      <td>10</td>\n",
              "      <td>12</td>\n",
              "      <td>10</td>\n",
              "      <td>14</td>\n",
              "      <td>05</td>\n",
              "      <td>15</td>\n",
              "      <td>61</td>\n",
              "      <td>06</td>\n",
              "      <td>2</td>\n",
              "    </tr>\n",
              "    <tr>\n",
              "      <th>4</th>\n",
              "      <td>0010000147</td>\n",
              "      <td>02</td>\n",
              "      <td>25</td>\n",
              "      <td>02</td>\n",
              "      <td>32</td>\n",
              "      <td>03</td>\n",
              "      <td>07</td>\n",
              "      <td>07</td>\n",
              "      <td>15</td>\n",
              "      <td>05</td>\n",
              "      <td>71</td>\n",
              "      <td>81</td>\n",
              "      <td>07</td>\n",
              "      <td>08</td>\n",
              "      <td>12</td>\n",
              "      <td>12</td>\n",
              "      <td>21</td>\n",
              "      <td>21</td>\n",
              "      <td>06</td>\n",
              "      <td>21</td>\n",
              "      <td>61</td>\n",
              "      <td>06</td>\n",
              "      <td>1</td>\n",
              "    </tr>\n",
              "    <tr>\n",
              "      <th>...</th>\n",
              "      <td>...</td>\n",
              "      <td>...</td>\n",
              "      <td>...</td>\n",
              "      <td>...</td>\n",
              "      <td>...</td>\n",
              "      <td>...</td>\n",
              "      <td>...</td>\n",
              "      <td>...</td>\n",
              "      <td>...</td>\n",
              "      <td>...</td>\n",
              "      <td>...</td>\n",
              "      <td>...</td>\n",
              "      <td>...</td>\n",
              "      <td>...</td>\n",
              "      <td>...</td>\n",
              "      <td>...</td>\n",
              "      <td>...</td>\n",
              "      <td>...</td>\n",
              "      <td>...</td>\n",
              "      <td>...</td>\n",
              "      <td>...</td>\n",
              "      <td>...</td>\n",
              "      <td>...</td>\n",
              "    </tr>\n",
              "    <tr>\n",
              "      <th>152505</th>\n",
              "      <td>0010382515</td>\n",
              "      <td>02</td>\n",
              "      <td>37</td>\n",
              "      <td>03</td>\n",
              "      <td>22</td>\n",
              "      <td>02</td>\n",
              "      <td>07</td>\n",
              "      <td>03</td>\n",
              "      <td>13</td>\n",
              "      <td>05</td>\n",
              "      <td>71</td>\n",
              "      <td>66</td>\n",
              "      <td>07</td>\n",
              "      <td>06</td>\n",
              "      <td>12</td>\n",
              "      <td>11</td>\n",
              "      <td>12</td>\n",
              "      <td>16</td>\n",
              "      <td>04</td>\n",
              "      <td>07</td>\n",
              "      <td>12</td>\n",
              "      <td>01</td>\n",
              "      <td>2</td>\n",
              "    </tr>\n",
              "    <tr>\n",
              "      <th>152506</th>\n",
              "      <td>0010382517</td>\n",
              "      <td>02</td>\n",
              "      <td>31</td>\n",
              "      <td>03</td>\n",
              "      <td>82</td>\n",
              "      <td>08</td>\n",
              "      <td>06</td>\n",
              "      <td>16</td>\n",
              "      <td>20</td>\n",
              "      <td>05</td>\n",
              "      <td>71</td>\n",
              "      <td>64</td>\n",
              "      <td>07</td>\n",
              "      <td>06</td>\n",
              "      <td>12</td>\n",
              "      <td>09</td>\n",
              "      <td>19</td>\n",
              "      <td>19</td>\n",
              "      <td>04</td>\n",
              "      <td>13</td>\n",
              "      <td>13</td>\n",
              "      <td>01</td>\n",
              "      <td>1</td>\n",
              "    </tr>\n",
              "    <tr>\n",
              "      <th>152507</th>\n",
              "      <td>0010382520</td>\n",
              "      <td>01</td>\n",
              "      <td>75</td>\n",
              "      <td>07</td>\n",
              "      <td>24</td>\n",
              "      <td>02</td>\n",
              "      <td>07</td>\n",
              "      <td>03</td>\n",
              "      <td>01</td>\n",
              "      <td>05</td>\n",
              "      <td>66</td>\n",
              "      <td>81</td>\n",
              "      <td>06</td>\n",
              "      <td>08</td>\n",
              "      <td>11</td>\n",
              "      <td>12</td>\n",
              "      <td>09</td>\n",
              "      <td>06</td>\n",
              "      <td>04</td>\n",
              "      <td>12</td>\n",
              "      <td>22</td>\n",
              "      <td>02</td>\n",
              "      <td>1</td>\n",
              "    </tr>\n",
              "    <tr>\n",
              "      <th>152508</th>\n",
              "      <td>0010382522</td>\n",
              "      <td>02</td>\n",
              "      <td>75</td>\n",
              "      <td>07</td>\n",
              "      <td>43</td>\n",
              "      <td>04</td>\n",
              "      <td>06</td>\n",
              "      <td>05</td>\n",
              "      <td>04</td>\n",
              "      <td>05</td>\n",
              "      <td>71</td>\n",
              "      <td>72</td>\n",
              "      <td>07</td>\n",
              "      <td>07</td>\n",
              "      <td>12</td>\n",
              "      <td>08</td>\n",
              "      <td>15</td>\n",
              "      <td>15</td>\n",
              "      <td>05</td>\n",
              "      <td>13</td>\n",
              "      <td>37</td>\n",
              "      <td>03</td>\n",
              "      <td>1</td>\n",
              "    </tr>\n",
              "    <tr>\n",
              "      <th>152509</th>\n",
              "      <td>0010382525</td>\n",
              "      <td>03</td>\n",
              "      <td>72</td>\n",
              "      <td>07</td>\n",
              "      <td>82</td>\n",
              "      <td>08</td>\n",
              "      <td>07</td>\n",
              "      <td>17</td>\n",
              "      <td>20</td>\n",
              "      <td>05</td>\n",
              "      <td>71</td>\n",
              "      <td>55</td>\n",
              "      <td>07</td>\n",
              "      <td>05</td>\n",
              "      <td>12</td>\n",
              "      <td>07</td>\n",
              "      <td>02</td>\n",
              "      <td>03</td>\n",
              "      <td>04</td>\n",
              "      <td>06</td>\n",
              "      <td>32</td>\n",
              "      <td>03</td>\n",
              "      <td>2</td>\n",
              "    </tr>\n",
              "  </tbody>\n",
              "</table>\n",
              "<p>152510 rows × 23 columns</p>\n",
              "</div>"
            ],
            "text/plain": [
              "             IDENT TypeHabi GeoFaz_Scl GeoFaz_cl ImmoFaz_Scl ImmoFaz_cl  \\\n",
              "0       0010000067       01         72        07          83         08   \n",
              "1       0010000070       01         72        07          84         08   \n",
              "2       0010000090       03         64        06          75         07   \n",
              "3       0010000124       03         43        04          82         08   \n",
              "4       0010000147       02         25        02          32         03   \n",
              "...            ...      ...        ...       ...         ...        ...   \n",
              "152505  0010382515       02         37        03          22         02   \n",
              "152506  0010382517       02         31        03          82         08   \n",
              "152507  0010382520       01         75        07          24         02   \n",
              "152508  0010382522       02         75        07          43         04   \n",
              "152509  0010382525       03         72        07          82         08   \n",
              "\n",
              "       Anciennete Logement_prix_m2 Mediane_RFR Sexe Prenom_Phase_scl_H  \\\n",
              "0              06               17          18   05                 44   \n",
              "1              05               18          20   05                 33   \n",
              "2              05               13          08   05                 71   \n",
              "3              01               15          17   05                 51   \n",
              "4              07               07          15   05                 71   \n",
              "...           ...              ...         ...  ...                ...   \n",
              "152505         07               03          13   05                 71   \n",
              "152506         06               16          20   05                 71   \n",
              "152507         07               03          01   05                 66   \n",
              "152508         06               05          04   05                 71   \n",
              "152509         07               17          20   05                 71   \n",
              "\n",
              "       Prenom_Phase_scl_F Prenom_Phase_cl_H Prenom_Phase_cl_F Age_H Age_F  \\\n",
              "0                      81                04                08    06    12   \n",
              "1                      44                03                04    08    08   \n",
              "2                      67                07                06    12    11   \n",
              "3                      81                05                08    10    12   \n",
              "4                      81                07                08    12    12   \n",
              "...                   ...               ...               ...   ...   ...   \n",
              "152505                 66                07                06    12    11   \n",
              "152506                 64                07                06    12    09   \n",
              "152507                 81                06                08    11    12   \n",
              "152508                 72                07                07    12    08   \n",
              "152509                 55                07                05    12    07   \n",
              "\n",
              "       Affinite_1 Affinite_2 Prenom_effectif Potentiel_prenom Onoma-Phase_Scl  \\\n",
              "0              02         03              04               12              31   \n",
              "1              05         09              05               20              36   \n",
              "2              10         08              04               02              22   \n",
              "3              10         14              05               15              61   \n",
              "4              21         21              06               21              61   \n",
              "...           ...        ...             ...              ...             ...   \n",
              "152505         12         16              04               07              12   \n",
              "152506         19         19              04               13              13   \n",
              "152507         09         06              04               12              22   \n",
              "152508         15         15              05               13              37   \n",
              "152509         02         03              04               06              32   \n",
              "\n",
              "       Onoma-Phase_CL Top_mon  \n",
              "0                  03       1  \n",
              "1                  03       2  \n",
              "2                  02       2  \n",
              "3                  06       2  \n",
              "4                  06       1  \n",
              "...               ...     ...  \n",
              "152505             01       2  \n",
              "152506             01       1  \n",
              "152507             02       1  \n",
              "152508             03       1  \n",
              "152509             03       2  \n",
              "\n",
              "[152510 rows x 23 columns]"
            ]
          },
          "metadata": {
            "tags": []
          },
          "execution_count": 5
        }
      ]
    },
    {
      "cell_type": "code",
      "metadata": {
        "id": "0924d2aa",
        "colab": {
          "base_uri": "https://localhost:8080/"
        },
        "outputId": "d2960d9c-5e5d-427f-eb77-4618b94ea5ae"
      },
      "source": [
        "data.info()"
      ],
      "id": "0924d2aa",
      "execution_count": 6,
      "outputs": [
        {
          "output_type": "stream",
          "text": [
            "<class 'pandas.core.frame.DataFrame'>\n",
            "RangeIndex: 152510 entries, 0 to 152509\n",
            "Data columns (total 23 columns):\n",
            " #   Column              Non-Null Count   Dtype \n",
            "---  ------              --------------   ----- \n",
            " 0   IDENT               152510 non-null  object\n",
            " 1   TypeHabi            152510 non-null  object\n",
            " 2   GeoFaz_Scl          152510 non-null  object\n",
            " 3   GeoFaz_cl           152510 non-null  object\n",
            " 4   ImmoFaz_Scl         152510 non-null  object\n",
            " 5   ImmoFaz_cl          152510 non-null  object\n",
            " 6   Anciennete          152510 non-null  object\n",
            " 7   Logement_prix_m2    152510 non-null  object\n",
            " 8   Mediane_RFR         152510 non-null  object\n",
            " 9   Sexe                152510 non-null  object\n",
            " 10  Prenom_Phase_scl_H  152510 non-null  object\n",
            " 11  Prenom_Phase_scl_F  152510 non-null  object\n",
            " 12  Prenom_Phase_cl_H   152510 non-null  object\n",
            " 13  Prenom_Phase_cl_F   152510 non-null  object\n",
            " 14  Age_H               152510 non-null  object\n",
            " 15  Age_F               152510 non-null  object\n",
            " 16  Affinite_1          152510 non-null  object\n",
            " 17  Affinite_2          152510 non-null  object\n",
            " 18  Prenom_effectif     152510 non-null  object\n",
            " 19  Potentiel_prenom    152510 non-null  object\n",
            " 20  Onoma-Phase_Scl     152510 non-null  object\n",
            " 21  Onoma-Phase_CL      152510 non-null  object\n",
            " 22  Top_mon             152510 non-null  object\n",
            "dtypes: object(23)\n",
            "memory usage: 26.8+ MB\n"
          ],
          "name": "stdout"
        }
      ]
    },
    {
      "cell_type": "code",
      "metadata": {
        "id": "239a362c"
      },
      "source": [
        "#nombre de modalités de chaque variables (dans un dataframe)\n",
        "def nombre_mod(data2):\n",
        "    #création d'un dataframe vide\n",
        "    dff= pd.DataFrame(columns=[\"VARIABLE\",\"NOMBRE_MOD\", \"NOMBRE_MOD_SANS_NA\"])\n",
        "    for i in range(data2.shape[1]): # sans compter les valeurs manquantes\n",
        "        taille =len(data2.iloc[:,i].value_counts(dropna=False))\n",
        "        taille_1 = len(data2.iloc[:,i].value_counts(dropna=True) )\n",
        "        dff=dff.append({\"VARIABLE\": colonnes[i],\"NOMBRE_MOD\":taille, \"NOMBRE_MOD_SANS_NA\":taille_1 }, ignore_index=True)\n",
        "    return dff\n",
        "\n",
        "# sélection des corrélations les plus importantes\n",
        "def variables_corr(tableau_corr, seuil):\n",
        "    colonnes = tableau_corr.columns\n",
        "    val_temp = 0 \n",
        "    variables_corr_pos=[] ; variables_corr_pos_val=[]\n",
        "    variables_corr_neg=[] ; variables_corr_neg_val=[]\n",
        "    for i in range(tableau_corr.shape[0]):  \n",
        "        for j in range(tableau_corr.shape[0]):\n",
        "            if i<j: #i!=j:\n",
        "                if (tableau_corr.iloc[i,j] > seuil):\n",
        "                    variables_corr_pos.append(colonnes[j])\n",
        "                    variables_corr_pos_val.append(round( tableau_corr.iloc[i,j], 2))\n",
        "                    val_temp += 1\n",
        "\n",
        "                if (tableau_corr.iloc[i,j] <-seuil):\n",
        "                    variables_corr_neg.append(colonnes[j])\n",
        "                    variables_corr_neg_val.append(round( tableau_corr.iloc[i,j], 2))\n",
        "                    val_temp += 1\n",
        "\n",
        "        if (len(variables_corr_pos) > 0) | (len(variables_corr_neg) >0) :\n",
        "            print(\"variable : \", colonnes[i])\n",
        "            if len(variables_corr_pos) > 0:    \n",
        "                print(\"corr pos\", variables_corr_pos)\n",
        "                print(\"corr pos\", variables_corr_pos_val)\n",
        "                val_temp += 1\n",
        "\n",
        "            if len(variables_corr_neg) >0:  \n",
        "                print(\"corr neg\", variables_corr_neg)\n",
        "                print(\"corr neg\", variables_corr_neg_val)\n",
        "                val_temp += 1\n",
        "            print(\"\")\n",
        "        variables_corr_pos = variables_corr_pos*0\n",
        "        variables_corr_neg = variables_corr_pos*0\n",
        "\n",
        "        variables_corr_pos_val = variables_corr_pos_val*0\n",
        "        variables_corr_neg_val = variables_corr_pos_val*0\n",
        "    if val_temp == 0:\n",
        "        print(\"IL N'Y A PAS DE CORRELATION ENTRE LES VARIABLES PAR RAPPORT AU SEUIL PRIS\")\n",
        "        \n",
        "\n",
        "def evaluation(model, X_train, y_train, X_test, y_test, scoring, plot):\n",
        "\n",
        "    model.fit(X_train, y_train)\n",
        "    y_pred = model.predict(X_test)\n",
        "    \n",
        "    print(\"test set : \")\n",
        "    print(confusion_matrix(y_test, y_pred))\n",
        "    print(classification_report(y_test, y_pred)) \n",
        "    print(\"train set : \")\n",
        "    print(confusion_matrix(y_train, model.predict(X_train)))  \n",
        "    print(classification_report(y_train, model.predict(X_train) ))\n",
        "\n",
        "    if plot == True:\n",
        "        N, train_score, val_score = learning_curve(model, X_train, y_train, shuffle=True, cv = 4, scoring = scoring, train_sizes = np.linspace(0.1, 1, 6) )\n",
        "\n",
        "        plt.figure(figsize = (10,6))\n",
        "        plt.plot(N, train_score.mean(axis=1), label =\"train_score\")\n",
        "        plt.plot(N, val_score.mean(axis=1), label =\"cross_validation_score\")\n",
        "        plt.legend()\n",
        "    else :\n",
        "        print(\"GRAPHIQUE NON DEMANDE\")\n",
        "\n",
        "# Comme il n'y a pas de valeurs manquantes (à la place il y a un nombre), le seul traitement qu'on fait c'est tranformer\n",
        "# le type de variable (les variables continues deviennent qualitatives)\n",
        "def data_processing(df):\n",
        "    \"\"\" \n",
        "    for i in range(0,len(df.columns)):    \n",
        "        df[df.columns[i]].fillna(100.0, inplace=True) #On remplace les données manquantes par 100\n",
        "    for i in range(0,len(df.columns)):\n",
        "        print(df[df.columns[i]].value_counts(dropna=False))    \n",
        "    \"\"\"\n",
        "    \n",
        "   #Transformation de toutes les variables en facteurs         \n",
        "    for i in range(0,len(df.columns)):\n",
        "        df[df.columns[i]] = df[df.columns[i]].astype('category')\n",
        "    return df.to_numpy() #.as_matrix()\n",
        "\n",
        "\n",
        "def vingtiles(model, data_orig, affichage, save, path): # data_orig est une variables locale (peut être différente au df d'origine)\n",
        "    # position de la dernière variable explicative dans le dataset\n",
        "    nb_var = data_orig.shape[1]-1\n",
        "\n",
        "    # predict sur tous les individus (avec et sans classe Top_mon)\n",
        "    tous_probas = model.predict_proba(data_orig.iloc[:,1:nb_var])\n",
        "    df_tous = pd.DataFrame({'IDENT': data_orig.iloc[:,0] , 'PROBA': tous_probas[:,0] })\n",
        "    #df_tous\n",
        "    \n",
        "    # valeurs ordonnées pour diviser après\n",
        "    df_tous=df_tous.sort_values(by='PROBA', ascending=True)\n",
        "    #df_tous\n",
        "    print(df_tous)\n",
        "    \n",
        "    #vérification\n",
        "    print(df_tous['PROBA'].value_counts())\n",
        "\n",
        "    # vingtiles\n",
        "    df_temp =pd.DataFrame( pd.qcut(df_tous['PROBA'],q= 20)  )\n",
        "    #print(df_temp)\n",
        "\n",
        "    # ajout par index (IMPORTANTE)\n",
        "    df_tous[\"TRANCHES\"]=pd.DataFrame(df_temp.iloc[:,0].to_numpy(),index= df_temp.index)\n",
        "    #print(df_tous)\n",
        "\n",
        "    # création de la dernière colonne CLASSE et son remplissage\n",
        "    index_20_ord = pd.DataFrame(np.unique(df_tous[\"TRANCHES\"])) \n",
        "    df_tous[\"CLASSE\"]=df_tous[\"TRANCHES\"].copy()\n",
        "    ind_val=1\n",
        "    for kk in range(20):\n",
        "        df_tous[\"CLASSE\"][df_tous[\"CLASSE\"]== index_20_ord.iloc[kk,0] ] = str(ind_val) \n",
        "        ind_val+=1\n",
        "    print(df_tous)    \n",
        "    \n",
        "    # pour la colonne Top_mon : changement de type de variable et remplissage des valeurs (s'il le faut)\n",
        "    data_temp_t = data_orig.copy()\n",
        "    data_temp_t[\"Top_mon\"] =  data_temp_t[\"Top_mon\"].replace(1.0,'1')\n",
        "    data_temp_t[\"Top_mon\"] =  data_temp_t[\"Top_mon\"].replace(2.0,'2')\n",
        "    data_all_complet_class = data_temp_t #data_temp_t.fillna('2')\n",
        "    #data_all_complet_class\n",
        "\n",
        "    # jointure\n",
        "    ident_class_tous = data_all_complet_class[[\"IDENT\",\"Top_mon\"]]\n",
        "    tableau_resultats = pd.merge(df_tous,ident_class_tous)\n",
        "    #tableau_resultats\n",
        "\n",
        "    # tranches finales\n",
        "    tab_cross_temp = pd.crosstab(tableau_resultats[\"TRANCHES\"],tableau_resultats[\"Top_mon\"])\n",
        "    #print(tab_cross_temp); print(\"-----------------------\")\n",
        "\n",
        "    # création d'une colonne TOTAL\n",
        "    tab_cross_temp[\"TOTAL\"]=tab_cross_temp[\"1\"]+tab_cross_temp[\"2\"]\n",
        "    \n",
        "    # affichage\n",
        "    if affichage ==True:        \n",
        "        print(tab_cross_temp)\n",
        "\n",
        "    # création du tableau final en éliminant la colonne 2\n",
        "    #tab_pour_excel = tab_cross_temp.drop([\"2\"], axis=1)\n",
        "\n",
        "    # si on ne veut pas éliminer la colonne 2\n",
        "    tab_pour_excel =  tab_cross_temp\n",
        "    \n",
        "    # enregistrement sous Excel\n",
        "    if save == True:\n",
        "        tab_pour_excel.to_excel(path)\n",
        "\n",
        "    return  df_tous\n",
        "\n",
        "\n",
        "def tableau_5_montant(df_tous, data_montant_orig, affichage, save, path):\n",
        "    # tableau avec les deux variables qui nous intéressent\n",
        "    ident_et_montant = data_montant_orig[[\"IDENT\",\"SommeDeMONTANT_NUM\"]]\n",
        "\n",
        "    # jointure\n",
        "    tableau_resultats_et_montant = pd.merge(df_tous,ident_et_montant)\n",
        "    #print(tableau_resultats_et_montant) \n",
        "\n",
        "    # on élimine toutes les sommes supérieur à 5000 €\n",
        "    tableau_resultats_et_montant = tableau_resultats_et_montant[tableau_resultats_et_montant[\"SommeDeMONTANT_NUM\"] <= 5000]\n",
        "    print(tableau_resultats_et_montant) \n",
        "    #print(tableau_resultats_et_montant[\"TRANCHES\"].value_counts())\n",
        "    #print(pd.DataFrame(np.unique(tableau_resultats_et_montant[\"TRANCHES\"])))\n",
        "\n",
        "    # index\n",
        "    index_temp = pd.DataFrame(np.unique(tableau_resultats_et_montant[\"TRANCHES\"])) \n",
        "\n",
        "    # création du tableau qui contiendra les résultats finaux\n",
        "    tableau_resultats_finaux = pd.DataFrame(columns=[\"TRANCHES\",\"Moyen_Somme\",\"TOTAL\"],index=range(20))\n",
        "    tableau_resultats_finaux[\"TRANCHES\"] = index_temp\n",
        "\n",
        "    # remplissage du tableau final\n",
        "    for k in range(20):\n",
        "        tableau_resultats_finaux.iloc[k,1] = tableau_resultats_et_montant[tableau_resultats_et_montant[\"TRANCHES\"]==index_temp.iloc[k,0]][\"SommeDeMONTANT_NUM\"].mean()\n",
        "        tableau_resultats_finaux.iloc[k,2] = (tableau_resultats_et_montant[\"TRANCHES\"]==index_temp.iloc[k,0]).sum()\n",
        "    \n",
        "    # affichage\n",
        "    if affichage:        \n",
        "        print(tableau_resultats_finaux)\n",
        "    \n",
        "    # enregistrement sous Excel\n",
        "    if save:\n",
        "        tableau_resultats_finaux.to_excel(path)\n",
        "\n",
        "\n",
        "def vingtiles_ind_sans_target(model, data_orig, affichage, save, path):\n",
        "    # position de la dernière variable explicative dans le dataset\n",
        "    nb_var = data_orig.shape[1]-1\n",
        "\n",
        "    # predict sur tous les individus (avec et sans classe IFI+)\n",
        "    tous_probas = model.predict_proba(data_orig.iloc[:,1:nb_var])\n",
        "    df_tous = pd.DataFrame({'IDENT': data_orig.iloc[:,0] , 'PROBA': tous_probas[:,0] })\n",
        "    #df_tous\n",
        "    \n",
        "    # valeurs ordonnées pour diviser après\n",
        "    df_tous=df_tous.sort_values(by='PROBA', ascending=True)\n",
        "    #df_tous\n",
        "    print(df_tous)\n",
        "    \n",
        "    #vérification\n",
        "    print(df_tous['PROBA'].value_counts())\n",
        "\n",
        "    # quarantiles\n",
        "    df_temp =pd.DataFrame( pd.qcut(df_tous['PROBA'],q= 20)  )\n",
        "    print(df_temp)\n",
        "\n",
        "    # ajout par index (IMPORTANTE)\n",
        "    df_tous[\"TRANCHES\"]=pd.DataFrame(df_temp.iloc[:,0].to_numpy(),index= df_temp.index)\n",
        "    print(df_tous)\n",
        "    print(df_tous[\"TRANCHES\"].value_counts(ascending = True))\n",
        "\n",
        "    # GERE L'ORDRE\n",
        "    patra = np.unique(df_tous.iloc[:,2], return_counts=True)\n",
        "    df_tranches_sans_target = pd.DataFrame([patra[0],patra[1]]).T\n",
        "    df_tranches_sans_target.columns=[\"TRANCHES\",\"COUNTS\"]\n",
        "\n",
        "    # affichage\n",
        "    if affichage ==True:        \n",
        "        print(df_tranches_sans_target)\n",
        "    \n",
        "    # enregistrement sous Excel\n",
        "    if save == True:\n",
        "        df_tranches_sans_target.to_excel(path)\n",
        "    \n",
        "\n",
        "# élimination des variables trop corrélées (choix manuel)\n",
        "def elimination_val_corr(data):\n",
        "    data = data.drop(columns=[\"\"])\n",
        "    return data\n",
        "          \n"
      ],
      "id": "239a362c",
      "execution_count": 7,
      "outputs": []
    },
    {
      "cell_type": "code",
      "metadata": {
        "id": "1cfbe9f8"
      },
      "source": [
        ""
      ],
      "id": "1cfbe9f8",
      "execution_count": 7,
      "outputs": []
    },
    {
      "cell_type": "code",
      "metadata": {
        "id": "e46a9d46"
      },
      "source": [
        "##############################################################################################################\n",
        "#                                                   PREMIERS TESTS\n",
        "##############################################################################################################\n"
      ],
      "id": "e46a9d46",
      "execution_count": 8,
      "outputs": []
    },
    {
      "cell_type": "code",
      "metadata": {
        "id": "367ea9ec"
      },
      "source": [
        "#################################################################################################\n",
        "#                       SANS VARIABLES CORR ET ENCODAGE DUMMIES\n",
        "#################################################################################################\n"
      ],
      "id": "367ea9ec",
      "execution_count": 9,
      "outputs": []
    },
    {
      "cell_type": "code",
      "metadata": {
        "id": "4eea29b1"
      },
      "source": [
        "# test predict individus sans classe\n",
        "data = data_orig.copy()\n",
        "\n",
        "# on élimine les variables dons\n",
        "data=data.drop([\"GeoFaz_cl\", \"ImmoFaz_Scl\", \"ImmoFaz_cl\", \"Prenom_Phase_cl_H\", \"Prenom_Phase_cl_F\",\n",
        "                \"Onoma-Phase_Scl\", \"Onoma-Phase_CL\"],axis=1)\n",
        "\n",
        "# encodage Onehot sur toutes les données (on évite ainsi les erreurs futures)\n",
        "nb_var = data.shape[1] - 1\n",
        "data_1_22 = pd.get_dummies(data.iloc[:,1:(data.shape[1]-1)], columns=data.columns[1:(data.shape[1]-1)] )\n",
        "data_var_qualitatives_temp =  pd.concat([data[\"IDENT\"], data_1_22, data[\"Top_mon\"]], axis=1)\n",
        "data = data_var_qualitatives_temp\n",
        "#encodage = OneHotEncoder()\n",
        "#encodage.fit(data_processing(data.iloc[:,1:nb_var]))\n",
        "\n",
        "# élimination des individus n'ayant pas de valeur pour la varialbe Top_mon\n",
        "\"\"\"IMPORTANT\"\"\"\n",
        "data_sans_nan = data[(data.isnull()).sum(axis=1) == 0]\n",
        "\n",
        "#conversion du type de variable\n",
        "for i in range(1,data_sans_nan.shape[1]):\n",
        "    data_sans_nan.iloc[:,i]=data_sans_nan.iloc[:,i].astype(int)\n",
        "\n",
        "# base de données avec des variables corrélées et avec encodage OneHot\n",
        "data =data_sans_nan\n",
        "\n",
        "nb_var = data.shape[1] - 1\n",
        "train_set, test_set = train_test_split(data, test_size = 0.2, random_state=0 )\n",
        "\n",
        "train_X_s = (train_set.iloc[:,1:nb_var]).to_numpy()\n",
        "train_Y_s = np.asanyarray(train_set.iloc[:,nb_var])\n",
        "\n",
        "test_X_s = (test_set.iloc[:,1:nb_var]).to_numpy()\n",
        "test_Y_s = np.asanyarray(test_set.iloc[:,nb_var])\n"
      ],
      "id": "4eea29b1",
      "execution_count": 10,
      "outputs": []
    },
    {
      "cell_type": "code",
      "metadata": {
        "id": "eNhe_wSV5ae8"
      },
      "source": [
        "#######################################################################################################\n",
        "#                               REGRESSION LOGISTIQUE\n",
        "#######################################################################################################"
      ],
      "id": "eNhe_wSV5ae8",
      "execution_count": null,
      "outputs": []
    },
    {
      "cell_type": "code",
      "metadata": {
        "colab": {
          "base_uri": "https://localhost:8080/"
        },
        "id": "1bfe404f",
        "outputId": "8870da59-83fb-41df-9309-1afd114c7681"
      },
      "source": [
        "model_reg_logistic = LogisticRegression(random_state =0, max_iter= 10000, class_weight=\"balanced\" )\n",
        "\n",
        "param = {'C':[0.01,0.05,0.1,1,2], 'solver': ['liblinear','newton-cg', 'lbfgs'], 'penalty': [\"l1\",\"l2\",\"none\"] } \n",
        "\n",
        "grid_reg_logistic = GridSearchCV(model_reg_logistic, param_grid = param, cv=5, scoring ='recall', n_jobs=2 )\n",
        "resultat_reg_logistic = grid_reg_logistic.fit(train_X_s, train_Y_s)\n",
        "print(resultat_reg_logistic.best_params_)\n"
      ],
      "id": "1bfe404f",
      "execution_count": null,
      "outputs": [
        {
          "output_type": "stream",
          "text": [
            "{'C': 0.01, 'penalty': 'none', 'solver': 'lbfgs'}\n"
          ],
          "name": "stdout"
        }
      ]
    },
    {
      "cell_type": "code",
      "metadata": {
        "colab": {
          "base_uri": "https://localhost:8080/"
        },
        "id": "4883d96d",
        "outputId": "fb8695d2-6c21-457f-def1-63f8d32604af"
      },
      "source": [
        "model_17_cw = LogisticRegression(random_state =0, C=0.01,penalty=\"none\" , solver=\"lbfgs\", max_iter= 10000, class_weight=\"balanced\")\n",
        "\n",
        "evaluation(model_17_cw, train_X_s, train_Y_s, test_X_s, test_Y_s, scoring=\"recall\", plot=False )"
      ],
      "id": "4883d96d",
      "execution_count": 28,
      "outputs": [
        {
          "output_type": "stream",
          "text": [
            "test set : \n",
            "[[ 3495  2610]\n",
            " [ 8954 15443]]\n",
            "              precision    recall  f1-score   support\n",
            "\n",
            "           1       0.28      0.57      0.38      6105\n",
            "           2       0.86      0.63      0.73     24397\n",
            "\n",
            "    accuracy                           0.62     30502\n",
            "   macro avg       0.57      0.60      0.55     30502\n",
            "weighted avg       0.74      0.62      0.66     30502\n",
            "\n",
            "train set : \n",
            "[[14247 10087]\n",
            " [35791 61883]]\n",
            "              precision    recall  f1-score   support\n",
            "\n",
            "           1       0.28      0.59      0.38     24334\n",
            "           2       0.86      0.63      0.73     97674\n",
            "\n",
            "    accuracy                           0.62    122008\n",
            "   macro avg       0.57      0.61      0.56    122008\n",
            "weighted avg       0.75      0.62      0.66    122008\n",
            "\n",
            "GRAPHIQUE NON DEMANDE\n"
          ],
          "name": "stdout"
        }
      ]
    },
    {
      "cell_type": "code",
      "metadata": {
        "colab": {
          "base_uri": "https://localhost:8080/"
        },
        "id": "05a41696",
        "outputId": "33dc933b-d192-4bd0-f4ff-ab9d441b150b"
      },
      "source": [
        "# TRAIN SET TEST SET\n",
        "vingtiles_tableau = vingtiles(model=model_17_cw, data_orig= data, affichage=True,\n",
        "            save=True, path = \"/content/drive/MyDrive/spad_score_method_1/spad_projection_AAPOT21/Fichier_E_vingtiles_AA/train_test_logistic_regression.xlsx\")"
      ],
      "id": "05a41696",
      "execution_count": 29,
      "outputs": [
        {
          "output_type": "stream",
          "text": [
            "             IDENT     PROBA\n",
            "55829   0010141500  0.000780\n",
            "139119  0010354142  0.001011\n",
            "25069   0010067604  0.001014\n",
            "119480  0010305739  0.001121\n",
            "38487   0010102619  0.001134\n",
            "...            ...       ...\n",
            "72826   0010187194  0.900752\n",
            "87312   0010223246  0.915061\n",
            "25340   0010067908  0.919779\n",
            "26399   0010069098  0.925294\n",
            "82689   0010211476  0.925294\n",
            "\n",
            "[152510 rows x 2 columns]\n",
            "0.846705    204\n",
            "0.840589     76\n",
            "0.890249     60\n",
            "0.782927     49\n",
            "0.843653     47\n",
            "           ... \n",
            "0.420471      1\n",
            "0.333232      1\n",
            "0.524124      1\n",
            "0.380102      1\n",
            "0.477243      1\n",
            "Name: PROBA, Length: 142315, dtype: int64\n",
            "             IDENT     PROBA                          TRANCHES CLASSE\n",
            "55829   0010141500  0.000780  (-0.00022000000000000003, 0.272]      1\n",
            "139119  0010354142  0.001011  (-0.00022000000000000003, 0.272]      1\n",
            "25069   0010067604  0.001014  (-0.00022000000000000003, 0.272]      1\n",
            "119480  0010305739  0.001121  (-0.00022000000000000003, 0.272]      1\n",
            "38487   0010102619  0.001134  (-0.00022000000000000003, 0.272]      1\n",
            "...            ...       ...                               ...    ...\n",
            "72826   0010187194  0.900752                    (0.715, 0.925]     20\n",
            "87312   0010223246  0.915061                    (0.715, 0.925]     20\n",
            "25340   0010067908  0.919779                    (0.715, 0.925]     20\n",
            "26399   0010069098  0.925294                    (0.715, 0.925]     20\n",
            "82689   0010211476  0.925294                    (0.715, 0.925]     20\n",
            "\n",
            "[152510 rows x 4 columns]\n",
            "Top_mon                              1     2  TOTAL\n",
            "TRANCHES                                           \n",
            "(-0.00022000000000000003, 0.272]   545  7081   7626\n",
            "(0.272, 0.314]                     728  6897   7625\n",
            "(0.314, 0.341]                     826  6800   7626\n",
            "(0.341, 0.364]                     911  6714   7625\n",
            "(0.364, 0.384]                     979  6647   7626\n",
            "(0.384, 0.404]                    1100  6525   7625\n",
            "(0.404, 0.421]                    1165  6461   7626\n",
            "(0.421, 0.438]                    1208  6417   7625\n",
            "(0.438, 0.454]                    1313  6313   7626\n",
            "(0.454, 0.47]                     1323  6302   7625\n",
            "(0.47, 0.487]                     1413  6212   7625\n",
            "(0.487, 0.503]                    1487  6139   7626\n",
            "(0.503, 0.521]                    1544  6081   7625\n",
            "(0.521, 0.541]                    1641  5985   7626\n",
            "(0.541, 0.562]                    1701  5924   7625\n",
            "(0.562, 0.587]                    1863  5763   7626\n",
            "(0.587, 0.616]                    2072  5553   7625\n",
            "(0.616, 0.655]                    2247  5380   7627\n",
            "(0.655, 0.715]                    2735  4890   7625\n",
            "(0.715, 0.925]                    3638  3987   7625\n"
          ],
          "name": "stdout"
        }
      ]
    },
    {
      "cell_type": "code",
      "metadata": {
        "colab": {
          "base_uri": "https://localhost:8080/"
        },
        "id": "5qEI9hCP2vtZ",
        "outputId": "59c4cdbe-e0b1-4d6e-e47f-4409fd8be972"
      },
      "source": [
        "# TABLEAU MONTANT\n",
        "tableau_5_montant(vingtiles_tableau, data_montant_orig, affichage=True,\n",
        "            save=True, path = \"/content/drive/MyDrive/spad_score_method_1/spad_projection_AAPOT21/Fichier_E_vingtiles_AA/montant_logistic_regression.xlsx\")"
      ],
      "id": "5qEI9hCP2vtZ",
      "execution_count": 30,
      "outputs": [
        {
          "output_type": "stream",
          "text": [
            "             IDENT     PROBA                          TRANCHES CLASSE  \\\n",
            "0       0010141500  0.000780  (-0.00022000000000000003, 0.272]      1   \n",
            "1       0010354142  0.001011  (-0.00022000000000000003, 0.272]      1   \n",
            "2       0010067604  0.001014  (-0.00022000000000000003, 0.272]      1   \n",
            "3       0010305739  0.001121  (-0.00022000000000000003, 0.272]      1   \n",
            "4       0010102619  0.001134  (-0.00022000000000000003, 0.272]      1   \n",
            "...            ...       ...                               ...    ...   \n",
            "152505  0010187194  0.900752                    (0.715, 0.925]     20   \n",
            "152506  0010223246  0.915061                    (0.715, 0.925]     20   \n",
            "152507  0010067908  0.919779                    (0.715, 0.925]     20   \n",
            "152508  0010069098  0.925294                    (0.715, 0.925]     20   \n",
            "152509  0010211476  0.925294                    (0.715, 0.925]     20   \n",
            "\n",
            "        SommeDeMONTANT_NUM  \n",
            "0                     10.0  \n",
            "1                     10.0  \n",
            "2                     30.0  \n",
            "3                     20.0  \n",
            "4                     20.0  \n",
            "...                    ...  \n",
            "152505               500.0  \n",
            "152506               160.0  \n",
            "152507                10.0  \n",
            "152508              1000.0  \n",
            "152509                50.0  \n",
            "\n",
            "[152134 rows x 5 columns]\n",
            "                            TRANCHES Moyen_Somme TOTAL\n",
            "0   (-0.00022000000000000003, 0.272]     26.6525  7625\n",
            "1                     (0.272, 0.314]     33.0676  7624\n",
            "2                     (0.314, 0.341]     34.1427  7625\n",
            "3                     (0.341, 0.364]     34.2507  7624\n",
            "4                     (0.364, 0.384]     37.8806  7624\n",
            "5                     (0.384, 0.404]      38.094  7623\n",
            "6                     (0.404, 0.421]     39.1859  7620\n",
            "7                     (0.421, 0.438]     39.3812  7621\n",
            "8                     (0.438, 0.454]      40.815  7622\n",
            "9                      (0.454, 0.47]     41.5456  7617\n",
            "10                     (0.47, 0.487]     45.3015  7620\n",
            "11                    (0.487, 0.503]     45.4947  7617\n",
            "12                    (0.503, 0.521]     50.6827  7618\n",
            "13                    (0.521, 0.541]     52.1695  7617\n",
            "14                    (0.541, 0.562]     54.1223  7617\n",
            "15                    (0.562, 0.587]     66.0256  7598\n",
            "16                    (0.587, 0.616]     72.6864  7598\n",
            "17                    (0.616, 0.655]     79.1898  7603\n",
            "18                    (0.655, 0.715]     95.8503  7585\n",
            "19                    (0.715, 0.925]     160.487  7436\n"
          ],
          "name": "stdout"
        }
      ]
    },
    {
      "cell_type": "code",
      "metadata": {
        "id": "wFltVBVFo9nn"
      },
      "source": [
        ""
      ],
      "id": "wFltVBVFo9nn",
      "execution_count": 22,
      "outputs": []
    },
    {
      "cell_type": "code",
      "metadata": {
        "colab": {
          "base_uri": "https://localhost:8080/",
          "height": 398
        },
        "id": "Ja0XEUe2lym2",
        "outputId": "d8bc5223-8c37-4045-b909-4921eb715f96"
      },
      "source": [
        "# INDIVIDUS SANS TARGET\n",
        "test_target = vingtiles_ind_sans_target(model=model_17_cw, data_orig= data_var_qualitatives_temp[(data_var_qualitatives_temp.isnull()).sum(axis=1) != 0], affichage=True,\n",
        "            save=False, path = \"/content/drive/MyDrive/spad_score_method_1/spad_projection_AAPOT21/Fichier_E_vingtiles_AA/ind_sans_target_logistic_regression.xlsx\")"
      ],
      "id": "Ja0XEUe2lym2",
      "execution_count": 23,
      "outputs": [
        {
          "output_type": "error",
          "ename": "ValueError",
          "evalue": "ignored",
          "traceback": [
            "\u001b[0;31m---------------------------------------------------------------------------\u001b[0m",
            "\u001b[0;31mValueError\u001b[0m                                Traceback (most recent call last)",
            "\u001b[0;32m<ipython-input-23-a21ba157b871>\u001b[0m in \u001b[0;36m<module>\u001b[0;34m()\u001b[0m\n\u001b[1;32m      1\u001b[0m \u001b[0;31m# INDIVIDUS SANS TARGET\u001b[0m\u001b[0;34m\u001b[0m\u001b[0;34m\u001b[0m\u001b[0;34m\u001b[0m\u001b[0m\n\u001b[1;32m      2\u001b[0m test_target = vingtiles_ind_sans_target(model=model_17_cw, data_orig= data_var_qualitatives_temp[(data_var_qualitatives_temp.isnull()).sum(axis=1) != 0], affichage=True,\n\u001b[0;32m----> 3\u001b[0;31m             save=False, path = \"/content/drive/MyDrive/spad_score_method_1/spad_projection_AAPOT21/Fichier_E_vingtiles_AA/ind_sans_target_logistic_regression.xlsx\")\n\u001b[0m",
            "\u001b[0;32m<ipython-input-7-8e1bcf0023f5>\u001b[0m in \u001b[0;36mvingtiles_ind_sans_target\u001b[0;34m(model, data_orig, affichage, save, path)\u001b[0m\n\u001b[1;32m    197\u001b[0m \u001b[0;34m\u001b[0m\u001b[0m\n\u001b[1;32m    198\u001b[0m     \u001b[0;31m# predict sur tous les individus (avec et sans classe IFI+)\u001b[0m\u001b[0;34m\u001b[0m\u001b[0;34m\u001b[0m\u001b[0;34m\u001b[0m\u001b[0m\n\u001b[0;32m--> 199\u001b[0;31m     \u001b[0mtous_probas\u001b[0m \u001b[0;34m=\u001b[0m \u001b[0mmodel\u001b[0m\u001b[0;34m.\u001b[0m\u001b[0mpredict_proba\u001b[0m\u001b[0;34m(\u001b[0m\u001b[0mdata_orig\u001b[0m\u001b[0;34m.\u001b[0m\u001b[0miloc\u001b[0m\u001b[0;34m[\u001b[0m\u001b[0;34m:\u001b[0m\u001b[0;34m,\u001b[0m\u001b[0;36m1\u001b[0m\u001b[0;34m:\u001b[0m\u001b[0mnb_var\u001b[0m\u001b[0;34m]\u001b[0m\u001b[0;34m)\u001b[0m\u001b[0;34m\u001b[0m\u001b[0;34m\u001b[0m\u001b[0m\n\u001b[0m\u001b[1;32m    200\u001b[0m     \u001b[0mdf_tous\u001b[0m \u001b[0;34m=\u001b[0m \u001b[0mpd\u001b[0m\u001b[0;34m.\u001b[0m\u001b[0mDataFrame\u001b[0m\u001b[0;34m(\u001b[0m\u001b[0;34m{\u001b[0m\u001b[0;34m'IDENT'\u001b[0m\u001b[0;34m:\u001b[0m \u001b[0mdata_orig\u001b[0m\u001b[0;34m.\u001b[0m\u001b[0miloc\u001b[0m\u001b[0;34m[\u001b[0m\u001b[0;34m:\u001b[0m\u001b[0;34m,\u001b[0m\u001b[0;36m0\u001b[0m\u001b[0;34m]\u001b[0m \u001b[0;34m,\u001b[0m \u001b[0;34m'PROBA'\u001b[0m\u001b[0;34m:\u001b[0m \u001b[0mtous_probas\u001b[0m\u001b[0;34m[\u001b[0m\u001b[0;34m:\u001b[0m\u001b[0;34m,\u001b[0m\u001b[0;36m0\u001b[0m\u001b[0;34m]\u001b[0m \u001b[0;34m}\u001b[0m\u001b[0;34m)\u001b[0m\u001b[0;34m\u001b[0m\u001b[0;34m\u001b[0m\u001b[0m\n\u001b[1;32m    201\u001b[0m     \u001b[0;31m#df_tous\u001b[0m\u001b[0;34m\u001b[0m\u001b[0;34m\u001b[0m\u001b[0;34m\u001b[0m\u001b[0m\n",
            "\u001b[0;32m/usr/local/lib/python3.7/dist-packages/sklearn/linear_model/_logistic.py\u001b[0m in \u001b[0;36mpredict_proba\u001b[0;34m(self, X)\u001b[0m\n\u001b[1;32m   1649\u001b[0m                                                 self.solver == 'liblinear')))\n\u001b[1;32m   1650\u001b[0m         \u001b[0;32mif\u001b[0m \u001b[0movr\u001b[0m\u001b[0;34m:\u001b[0m\u001b[0;34m\u001b[0m\u001b[0;34m\u001b[0m\u001b[0m\n\u001b[0;32m-> 1651\u001b[0;31m             \u001b[0;32mreturn\u001b[0m \u001b[0msuper\u001b[0m\u001b[0;34m(\u001b[0m\u001b[0;34m)\u001b[0m\u001b[0;34m.\u001b[0m\u001b[0m_predict_proba_lr\u001b[0m\u001b[0;34m(\u001b[0m\u001b[0mX\u001b[0m\u001b[0;34m)\u001b[0m\u001b[0;34m\u001b[0m\u001b[0;34m\u001b[0m\u001b[0m\n\u001b[0m\u001b[1;32m   1652\u001b[0m         \u001b[0;32melse\u001b[0m\u001b[0;34m:\u001b[0m\u001b[0;34m\u001b[0m\u001b[0;34m\u001b[0m\u001b[0m\n\u001b[1;32m   1653\u001b[0m             \u001b[0mdecision\u001b[0m \u001b[0;34m=\u001b[0m \u001b[0mself\u001b[0m\u001b[0;34m.\u001b[0m\u001b[0mdecision_function\u001b[0m\u001b[0;34m(\u001b[0m\u001b[0mX\u001b[0m\u001b[0;34m)\u001b[0m\u001b[0;34m\u001b[0m\u001b[0;34m\u001b[0m\u001b[0m\n",
            "\u001b[0;32m/usr/local/lib/python3.7/dist-packages/sklearn/linear_model/_base.py\u001b[0m in \u001b[0;36m_predict_proba_lr\u001b[0;34m(self, X)\u001b[0m\n\u001b[1;32m    305\u001b[0m         \u001b[0mmulticlass\u001b[0m \u001b[0;32mis\u001b[0m \u001b[0mhandled\u001b[0m \u001b[0mby\u001b[0m \u001b[0mnormalizing\u001b[0m \u001b[0mthat\u001b[0m \u001b[0mover\u001b[0m \u001b[0mall\u001b[0m \u001b[0mclasses\u001b[0m\u001b[0;34m.\u001b[0m\u001b[0;34m\u001b[0m\u001b[0;34m\u001b[0m\u001b[0m\n\u001b[1;32m    306\u001b[0m         \"\"\"\n\u001b[0;32m--> 307\u001b[0;31m         \u001b[0mprob\u001b[0m \u001b[0;34m=\u001b[0m \u001b[0mself\u001b[0m\u001b[0;34m.\u001b[0m\u001b[0mdecision_function\u001b[0m\u001b[0;34m(\u001b[0m\u001b[0mX\u001b[0m\u001b[0;34m)\u001b[0m\u001b[0;34m\u001b[0m\u001b[0;34m\u001b[0m\u001b[0m\n\u001b[0m\u001b[1;32m    308\u001b[0m         \u001b[0mexpit\u001b[0m\u001b[0;34m(\u001b[0m\u001b[0mprob\u001b[0m\u001b[0;34m,\u001b[0m \u001b[0mout\u001b[0m\u001b[0;34m=\u001b[0m\u001b[0mprob\u001b[0m\u001b[0;34m)\u001b[0m\u001b[0;34m\u001b[0m\u001b[0;34m\u001b[0m\u001b[0m\n\u001b[1;32m    309\u001b[0m         \u001b[0;32mif\u001b[0m \u001b[0mprob\u001b[0m\u001b[0;34m.\u001b[0m\u001b[0mndim\u001b[0m \u001b[0;34m==\u001b[0m \u001b[0;36m1\u001b[0m\u001b[0;34m:\u001b[0m\u001b[0;34m\u001b[0m\u001b[0;34m\u001b[0m\u001b[0m\n",
            "\u001b[0;32m/usr/local/lib/python3.7/dist-packages/sklearn/linear_model/_base.py\u001b[0m in \u001b[0;36mdecision_function\u001b[0;34m(self, X)\u001b[0m\n\u001b[1;32m    266\u001b[0m         \u001b[0mcheck_is_fitted\u001b[0m\u001b[0;34m(\u001b[0m\u001b[0mself\u001b[0m\u001b[0;34m)\u001b[0m\u001b[0;34m\u001b[0m\u001b[0;34m\u001b[0m\u001b[0m\n\u001b[1;32m    267\u001b[0m \u001b[0;34m\u001b[0m\u001b[0m\n\u001b[0;32m--> 268\u001b[0;31m         \u001b[0mX\u001b[0m \u001b[0;34m=\u001b[0m \u001b[0mcheck_array\u001b[0m\u001b[0;34m(\u001b[0m\u001b[0mX\u001b[0m\u001b[0;34m,\u001b[0m \u001b[0maccept_sparse\u001b[0m\u001b[0;34m=\u001b[0m\u001b[0;34m'csr'\u001b[0m\u001b[0;34m)\u001b[0m\u001b[0;34m\u001b[0m\u001b[0;34m\u001b[0m\u001b[0m\n\u001b[0m\u001b[1;32m    269\u001b[0m \u001b[0;34m\u001b[0m\u001b[0m\n\u001b[1;32m    270\u001b[0m         \u001b[0mn_features\u001b[0m \u001b[0;34m=\u001b[0m \u001b[0mself\u001b[0m\u001b[0;34m.\u001b[0m\u001b[0mcoef_\u001b[0m\u001b[0;34m.\u001b[0m\u001b[0mshape\u001b[0m\u001b[0;34m[\u001b[0m\u001b[0;36m1\u001b[0m\u001b[0;34m]\u001b[0m\u001b[0;34m\u001b[0m\u001b[0;34m\u001b[0m\u001b[0m\n",
            "\u001b[0;32m/usr/local/lib/python3.7/dist-packages/sklearn/utils/validation.py\u001b[0m in \u001b[0;36mcheck_array\u001b[0;34m(array, accept_sparse, accept_large_sparse, dtype, order, copy, force_all_finite, ensure_2d, allow_nd, ensure_min_samples, ensure_min_features, warn_on_dtype, estimator)\u001b[0m\n\u001b[1;32m    584\u001b[0m                              \u001b[0;34m\" minimum of %d is required%s.\"\u001b[0m\u001b[0;34m\u001b[0m\u001b[0;34m\u001b[0m\u001b[0m\n\u001b[1;32m    585\u001b[0m                              % (n_samples, array.shape, ensure_min_samples,\n\u001b[0;32m--> 586\u001b[0;31m                                 context))\n\u001b[0m\u001b[1;32m    587\u001b[0m \u001b[0;34m\u001b[0m\u001b[0m\n\u001b[1;32m    588\u001b[0m     \u001b[0;32mif\u001b[0m \u001b[0mensure_min_features\u001b[0m \u001b[0;34m>\u001b[0m \u001b[0;36m0\u001b[0m \u001b[0;32mand\u001b[0m \u001b[0marray\u001b[0m\u001b[0;34m.\u001b[0m\u001b[0mndim\u001b[0m \u001b[0;34m==\u001b[0m \u001b[0;36m2\u001b[0m\u001b[0;34m:\u001b[0m\u001b[0;34m\u001b[0m\u001b[0;34m\u001b[0m\u001b[0m\n",
            "\u001b[0;31mValueError\u001b[0m: Found array with 0 sample(s) (shape=(0, 266)) while a minimum of 1 is required."
          ]
        }
      ]
    },
    {
      "cell_type": "code",
      "metadata": {
        "id": "6a62db87"
      },
      "source": [
        "####################################################################################\n",
        "#                                FIN PREMIERS TESTS\n",
        "####################################################################################"
      ],
      "id": "6a62db87",
      "execution_count": null,
      "outputs": []
    },
    {
      "cell_type": "code",
      "metadata": {
        "id": "178704f4"
      },
      "source": [
        ""
      ],
      "id": "178704f4",
      "execution_count": null,
      "outputs": []
    },
    {
      "cell_type": "code",
      "metadata": {
        "id": "2b90ca16",
        "colab": {
          "base_uri": "https://localhost:8080/"
        },
        "outputId": "38195597-c76a-4a84-d0da-336e68e564c1"
      },
      "source": [
        "####################################################################################\n",
        "#                                TEST AVEC LES ANCIENS PARAMETRES\n",
        "####################################################################################\n",
        "model_17_cw = LogisticRegression(random_state =0, C=0.01,penalty=\"l2\" , solver=\"newton-cg\", max_iter= 10000, class_weight=\"balanced\")\n",
        "\n",
        "evaluation(model_17_cw, train_X_s, train_Y_s, test_X_s, test_Y_s, scoring=\"recall\", plot=False )"
      ],
      "id": "2b90ca16",
      "execution_count": 24,
      "outputs": [
        {
          "output_type": "stream",
          "text": [
            "test set : \n",
            "[[ 3486  2619]\n",
            " [ 8941 15456]]\n",
            "              precision    recall  f1-score   support\n",
            "\n",
            "           1       0.28      0.57      0.38      6105\n",
            "           2       0.86      0.63      0.73     24397\n",
            "\n",
            "    accuracy                           0.62     30502\n",
            "   macro avg       0.57      0.60      0.55     30502\n",
            "weighted avg       0.74      0.62      0.66     30502\n",
            "\n",
            "train set : \n",
            "[[14175 10159]\n",
            " [35706 61968]]\n",
            "              precision    recall  f1-score   support\n",
            "\n",
            "           1       0.28      0.58      0.38     24334\n",
            "           2       0.86      0.63      0.73     97674\n",
            "\n",
            "    accuracy                           0.62    122008\n",
            "   macro avg       0.57      0.61      0.56    122008\n",
            "weighted avg       0.74      0.62      0.66    122008\n",
            "\n",
            "GRAPHIQUE NON DEMANDE\n"
          ],
          "name": "stdout"
        }
      ]
    },
    {
      "cell_type": "code",
      "metadata": {
        "id": "1d2bc66a",
        "colab": {
          "base_uri": "https://localhost:8080/"
        },
        "outputId": "6e7356ae-1373-47ee-e5dd-6f702754c1a5"
      },
      "source": [
        "# TRAIN SET TEST SET\n",
        "vingtiles_tableau = vingtiles(model=model_17_cw, data_orig= data, affichage=True,\n",
        "            save=False, path = \"/content/drive/MyDrive/spad_score_method_1/spad_projection_AAPOT21/Fichier_E_vingtiles_AA/train_test_logistic_regression.xlsx\")"
      ],
      "id": "1d2bc66a",
      "execution_count": 25,
      "outputs": [
        {
          "output_type": "stream",
          "text": [
            "             IDENT     PROBA\n",
            "107629  0010272515  0.081341\n",
            "42884   0010109170  0.082445\n",
            "144705  0010367114  0.083004\n",
            "47633   0010121056  0.084642\n",
            "108740  0010273739  0.086430\n",
            "...            ...       ...\n",
            "69768   0010176881  0.871663\n",
            "29915   0010079712  0.871685\n",
            "123802  0010312330  0.874939\n",
            "86436   0010222278  0.876184\n",
            "70521   0010177901  0.879319\n",
            "\n",
            "[152510 rows x 2 columns]\n",
            "0.843251    204\n",
            "0.835865     76\n",
            "0.792331     60\n",
            "0.779294     49\n",
            "0.838966     47\n",
            "           ... \n",
            "0.541561      1\n",
            "0.488397      1\n",
            "0.790308      1\n",
            "0.417559      1\n",
            "0.536094      1\n",
            "Name: PROBA, Length: 142316, dtype: int64\n",
            "             IDENT     PROBA         TRANCHES CLASSE\n",
            "107629  0010272515  0.081341  (0.0803, 0.283]      1\n",
            "42884   0010109170  0.082445  (0.0803, 0.283]      1\n",
            "144705  0010367114  0.083004  (0.0803, 0.283]      1\n",
            "47633   0010121056  0.084642  (0.0803, 0.283]      1\n",
            "108740  0010273739  0.086430  (0.0803, 0.283]      1\n",
            "...            ...       ...              ...    ...\n",
            "69768   0010176881  0.871663   (0.707, 0.879]     20\n",
            "29915   0010079712  0.871685   (0.707, 0.879]     20\n",
            "123802  0010312330  0.874939   (0.707, 0.879]     20\n",
            "86436   0010222278  0.876184   (0.707, 0.879]     20\n",
            "70521   0010177901  0.879319   (0.707, 0.879]     20\n",
            "\n",
            "[152510 rows x 4 columns]\n",
            "Top_mon             1     2  TOTAL\n",
            "TRANCHES                          \n",
            "(0.0803, 0.283]   566  7060   7626\n",
            "(0.283, 0.321]    720  6905   7625\n",
            "(0.321, 0.347]    842  6784   7626\n",
            "(0.347, 0.369]    893  6732   7625\n",
            "(0.369, 0.388]   1032  6594   7626\n",
            "(0.388, 0.407]   1075  6550   7625\n",
            "(0.407, 0.424]   1148  6478   7626\n",
            "(0.424, 0.44]    1231  6394   7625\n",
            "(0.44, 0.455]    1289  6337   7626\n",
            "(0.455, 0.471]   1354  6271   7625\n",
            "(0.471, 0.487]   1404  6221   7625\n",
            "(0.487, 0.503]   1455  6171   7626\n",
            "(0.503, 0.52]    1554  6071   7625\n",
            "(0.52, 0.539]    1612  6014   7626\n",
            "(0.539, 0.56]    1735  5890   7625\n",
            "(0.56, 0.583]    1862  5764   7626\n",
            "(0.583, 0.612]   2072  5553   7625\n",
            "(0.612, 0.649]   2212  5418   7630\n",
            "(0.649, 0.707]   2750  4871   7621\n",
            "(0.707, 0.879]   3633  3993   7626\n"
          ],
          "name": "stdout"
        }
      ]
    },
    {
      "cell_type": "code",
      "metadata": {
        "id": "e52f95fe",
        "colab": {
          "base_uri": "https://localhost:8080/"
        },
        "outputId": "15e7cc02-7340-4cab-bc65-11624e651b20"
      },
      "source": [
        "3633/7626"
      ],
      "id": "e52f95fe",
      "execution_count": 26,
      "outputs": [
        {
          "output_type": "execute_result",
          "data": {
            "text/plain": [
              "0.47639653815892996"
            ]
          },
          "metadata": {
            "tags": []
          },
          "execution_count": 26
        }
      ]
    },
    {
      "cell_type": "code",
      "metadata": {
        "colab": {
          "base_uri": "https://localhost:8080/"
        },
        "id": "msReQEYCGFzb",
        "outputId": "c1fe1d85-ec76-441d-e41f-cc3d0c65af6d"
      },
      "source": [
        "3638/7625"
      ],
      "id": "msReQEYCGFzb",
      "execution_count": 27,
      "outputs": [
        {
          "output_type": "execute_result",
          "data": {
            "text/plain": [
              "0.4771147540983607"
            ]
          },
          "metadata": {
            "tags": []
          },
          "execution_count": 27
        }
      ]
    },
    {
      "cell_type": "code",
      "metadata": {
        "id": "5d4494ad"
      },
      "source": [
        "####################################################################################################\n",
        "#\n",
        "#                                        DATA AUGMENTATION\n",
        "#\n",
        "####################################################################################################"
      ],
      "id": "5d4494ad",
      "execution_count": null,
      "outputs": []
    },
    {
      "cell_type": "code",
      "metadata": {
        "id": "8f4843be"
      },
      "source": [
        "####################################################################################################\n",
        "#\n",
        "#                                       UNDER-SAMPLING  ET OVER-SAMPLING\n",
        "#\n",
        "####################################################################################################"
      ],
      "id": "8f4843be",
      "execution_count": null,
      "outputs": []
    },
    {
      "cell_type": "code",
      "metadata": {
        "id": "_LK3t4SFt4lB"
      },
      "source": [
        "##########################################\n",
        "# AVEC VARIABLES DONS ET ENCODAGE DUMMIES\n",
        "##########################################\n",
        "\n",
        "# test predict individus sans classe\n",
        "data = data_orig.copy()\n",
        "\n",
        "# on élimine les variables dons\n",
        "data=data.drop([\"GeoFaz_cl\", \"ImmoFaz_Scl\", \"ImmoFaz_cl\", \"Prenom_Phase_cl_H\", \"Prenom_Phase_cl_F\",\n",
        "                \"Onoma-Phase_Scl\", \"Onoma-Phase_CL\"],axis=1)\n",
        "\n",
        "# encodage Onehot sur toutes les données (on évite ainsi les erreurs futures)\n",
        "nb_var = data.shape[1] - 1\n",
        "data_1_22 = pd.get_dummies(data.iloc[:,1:(data.shape[1]-1)], columns=data.columns[1:(data.shape[1]-1)] )\n",
        "data_var_qualitatives_temp =  pd.concat([data[\"IDENT\"], data_1_22, data[\"Top_mon\"]], axis=1)\n",
        "data = data_var_qualitatives_temp\n",
        "#encodage = OneHotEncoder()\n",
        "#encodage.fit(data_processing(data.iloc[:,1:nb_var]))\n",
        "\n",
        "# élimination des individus n'ayant pas de valeur pour la varialbe Top_mon\n",
        "\"\"\"IMPORTANT\"\"\"\n",
        "data_sans_nan = data[(data.isnull()).sum(axis=1) == 0]\n",
        "\n",
        "#conversion du type de variable\n",
        "for i in range(1,data_sans_nan.shape[1]):\n",
        "    data_sans_nan.iloc[:,i]=data_sans_nan.iloc[:,i].astype(int)\n",
        "\n",
        "# base de données avec des variables corrélées et avec encodage OneHot\n",
        "data =data_sans_nan\n",
        "\n",
        "nb_var = data.shape[1] - 1\n",
        "train_set, test_set = train_test_split(data, test_size = 0.2, random_state=0 )\n",
        "\n",
        "train_X_s = (train_set.iloc[:,1:nb_var]).to_numpy()\n",
        "train_Y_s = np.asanyarray(train_set.iloc[:,nb_var])\n",
        "\n",
        "test_X_s = (test_set.iloc[:,1:nb_var]).to_numpy()\n",
        "test_Y_s = np.asanyarray(test_set.iloc[:,nb_var])\n"
      ],
      "id": "_LK3t4SFt4lB",
      "execution_count": null,
      "outputs": []
    },
    {
      "cell_type": "code",
      "metadata": {
        "id": "6bK9oJU4tzzh"
      },
      "source": [
        "\n",
        "from imblearn.under_sampling import TomekLinks\n",
        "from imblearn.over_sampling import SMOTE"
      ],
      "id": "6bK9oJU4tzzh",
      "execution_count": null,
      "outputs": []
    },
    {
      "cell_type": "code",
      "metadata": {
        "colab": {
          "base_uri": "https://localhost:8080/",
          "height": 139
        },
        "id": "sa_nSucG6qO-",
        "outputId": "b6499ef0-26dc-4389-9da3-e2f362a2cfe3"
      },
      "source": [
        "\n",
        "# dimension du train set\n",
        "print(\"Sans aucun traitement sur le train set : \" , np.unique(train_Y_s, return_counts=True))\n",
        "\n",
        "# diminution des données\n",
        "t2 = TomekLinks(random_state=0)\n",
        "X_resampled, y_resampled = t2.fit_resample(train_X_s[:,:nb_var] , train_Y_s )\n",
        "print(\"Après under-sampling : \", np.unique(y_resampled, return_counts=True ))\n",
        "\n",
        "# augmentation des données\n",
        "tl = SMOTE(random_state=0)\n",
        "X_resampled, y_resampled = tl.fit_resample(X_resampled, y_resampled )\n",
        "print(\"Après over-smapling : \" , np.unique(y_resampled, return_counts=True ))\n",
        "\n",
        "'''\n",
        "# enregistrement du nouveau train set car le traitement du under-sampling prendre du temps \n",
        "pd.DataFrame(np.concatenate((X_resampled, y_resampled.reshape((y_resampled.shape[0],1)) ),\n",
        "                            axis=1)).to_csv(\"/content/drive/MyDrive/spad_score_method_1/spad_projection_FDFTOT21/sans_val_corr_spad_under_over_sampling.txt\",\n",
        "                                            sep=\" \", index =False , header = False, encoding =\"utf-8\")\n",
        "'''\n"
      ],
      "id": "sa_nSucG6qO-",
      "execution_count": null,
      "outputs": [
        {
          "output_type": "stream",
          "text": [
            "Sans aucun traitement sur le train set :  (array([1, 2]), array([21397, 58039]))\n",
            "Après under-sampling :  (array([1, 2]), array([21397, 52706]))\n",
            "Après over-smapling :  (array([1, 2]), array([52706, 52706]))\n"
          ],
          "name": "stdout"
        },
        {
          "output_type": "execute_result",
          "data": {
            "application/vnd.google.colaboratory.intrinsic+json": {
              "type": "string"
            },
            "text/plain": [
              "'\\n# enregistrement du nouveau train set car le traitement du under-sampling prendre du temps \\npd.DataFrame(np.concatenate((X_resampled, y_resampled.reshape((y_resampled.shape[0],1)) ),\\n                            axis=1)).to_csv(\"/content/drive/MyDrive/spad_score_method_1/spad_projection_FDFTOT21/sans_val_corr_spad_under_over_sampling.txt\",\\n                                            sep=\" \", index =False , header = False, encoding =\"utf-8\")\\n'"
            ]
          },
          "metadata": {
            "tags": []
          },
          "execution_count": 85
        }
      ]
    },
    {
      "cell_type": "code",
      "metadata": {
        "id": "5mp7wBBvMtWz"
      },
      "source": [
        ""
      ],
      "id": "5mp7wBBvMtWz",
      "execution_count": null,
      "outputs": []
    },
    {
      "cell_type": "code",
      "metadata": {
        "id": "yk6snWL1MyHc"
      },
      "source": [
        "'''\n",
        "# Résultat du traitement sur le train set (under-sampling et over-sampling)\n",
        "abc_test = pd.read_csv(\"/content/drive/MyDrive/spad_score_method_1/spad_projection_FDFTOT21/sans_val_corr_spad_under_over_sampling.txt\", delim_whitespace=\"\\t\", header = None, low_memory=False, dtype=\"Int64\" ) #, dtype='Int64')\n",
        "abc_np = abc_test.to_numpy(dtype=\"Int64\")\n",
        "\n",
        "X_resampled = abc_np[:,:-1]\n",
        "y_resampled = abc_np[:, abc_np.shape[1] -1 ]\n",
        "'''"
      ],
      "id": "yk6snWL1MyHc",
      "execution_count": null,
      "outputs": []
    },
    {
      "cell_type": "code",
      "metadata": {
        "colab": {
          "base_uri": "https://localhost:8080/"
        },
        "id": "X5C3X2ODQxNu",
        "outputId": "12425876-933b-40ec-9049-715cc9c8c7e5"
      },
      "source": [
        "X_resampled.shape, y_resampled.shape"
      ],
      "id": "X5C3X2ODQxNu",
      "execution_count": null,
      "outputs": [
        {
          "output_type": "execute_result",
          "data": {
            "text/plain": [
              "((105412, 269), (105412,))"
            ]
          },
          "metadata": {
            "tags": []
          },
          "execution_count": 86
        }
      ]
    },
    {
      "cell_type": "code",
      "metadata": {
        "colab": {
          "base_uri": "https://localhost:8080/"
        },
        "id": "dMpSRRr4WTrV",
        "outputId": "cb4abeae-9f63-4669-87d0-4bf975b2d674"
      },
      "source": [
        "model_reg_logistic = LogisticRegression(random_state =0, max_iter= 10000, class_weight=\"balanced\" )\n",
        "\n",
        "param = {'C':[0.01,0.1,1], 'solver': ['liblinear','newton-cg', 'lbfgs'], 'penalty': [\"l1\",\"l2\",\"none\"] } \n",
        "\n",
        "grid_reg_logistic = GridSearchCV(model_reg_logistic, param_grid = param, cv=5, scoring ='recall', n_jobs=2 )\n",
        "resultat_reg_logistic = grid_reg_logistic.fit(train_X_s, train_Y_s)\n",
        "print(resultat_reg_logistic.best_params_)"
      ],
      "id": "dMpSRRr4WTrV",
      "execution_count": null,
      "outputs": [
        {
          "output_type": "stream",
          "text": [
            "{'C': 0.01, 'penalty': 'l2', 'solver': 'newton-cg'}\n"
          ],
          "name": "stdout"
        }
      ]
    },
    {
      "cell_type": "code",
      "metadata": {
        "colab": {
          "base_uri": "https://localhost:8080/"
        },
        "id": "rwIUJx67WTuF",
        "outputId": "403fe40f-6b50-4d3e-ced0-e5d062ac3545"
      },
      "source": [
        "model_17_cw = LogisticRegression(random_state =0,C=0.01, penalty=\"l2\", solver=\"newton-cg\", max_iter= 10000, class_weight=\"balanced\")\n",
        "evaluation(model_17_cw, X_resampled, y_resampled, test_X_s, test_Y_s, scoring=\"recall\", plot=False )"
      ],
      "id": "rwIUJx67WTuF",
      "execution_count": null,
      "outputs": [
        {
          "output_type": "stream",
          "text": [
            "test set : \n",
            "[[ 1051  4280]\n",
            " [ 1088 13441]]\n",
            "              precision    recall  f1-score   support\n",
            "\n",
            "           1       0.49      0.20      0.28      5331\n",
            "           2       0.76      0.93      0.83     14529\n",
            "\n",
            "    accuracy                           0.73     19860\n",
            "   macro avg       0.62      0.56      0.56     19860\n",
            "weighted avg       0.69      0.73      0.69     19860\n",
            "\n",
            "train set : \n",
            "[[35256 17450]\n",
            " [ 3539 49167]]\n",
            "              precision    recall  f1-score   support\n",
            "\n",
            "           1       0.91      0.67      0.77     52706\n",
            "           2       0.74      0.93      0.82     52706\n",
            "\n",
            "    accuracy                           0.80    105412\n",
            "   macro avg       0.82      0.80      0.80    105412\n",
            "weighted avg       0.82      0.80      0.80    105412\n",
            "\n",
            "GRAPHIQUE NON DEMANDE\n"
          ],
          "name": "stdout"
        }
      ]
    },
    {
      "cell_type": "code",
      "metadata": {
        "colab": {
          "base_uri": "https://localhost:8080/"
        },
        "id": "vy-NGURDWT0I",
        "outputId": "aa58c7e6-06ff-4efa-82f2-1d97b4266ea2"
      },
      "source": [
        "model_17_cw = LogisticRegression(random_state =0,C=1, penalty=\"l2\", solver=\"newton-cg\", max_iter= 100)\n",
        "evaluation(model_17_cw, X_resampled, y_resampled, test_X_s, test_Y_s, scoring=\"recall\", plot=False )"
      ],
      "id": "vy-NGURDWT0I",
      "execution_count": null,
      "outputs": [
        {
          "output_type": "stream",
          "text": [
            "test set : \n",
            "[[  753  4578]\n",
            " [  695 13834]]\n",
            "              precision    recall  f1-score   support\n",
            "\n",
            "           1       0.52      0.14      0.22      5331\n",
            "           2       0.75      0.95      0.84     14529\n",
            "\n",
            "    accuracy                           0.73     19860\n",
            "   macro avg       0.64      0.55      0.53     19860\n",
            "weighted avg       0.69      0.73      0.67     19860\n",
            "\n",
            "train set : \n",
            "[[34214 18492]\n",
            " [ 2098 50608]]\n",
            "              precision    recall  f1-score   support\n",
            "\n",
            "           1       0.94      0.65      0.77     52706\n",
            "           2       0.73      0.96      0.83     52706\n",
            "\n",
            "    accuracy                           0.80    105412\n",
            "   macro avg       0.84      0.80      0.80    105412\n",
            "weighted avg       0.84      0.80      0.80    105412\n",
            "\n",
            "GRAPHIQUE NON DEMANDE\n"
          ],
          "name": "stdout"
        }
      ]
    },
    {
      "cell_type": "code",
      "metadata": {
        "id": "WzdLmFXvbcCq"
      },
      "source": [
        ""
      ],
      "id": "WzdLmFXvbcCq",
      "execution_count": null,
      "outputs": []
    },
    {
      "cell_type": "code",
      "metadata": {
        "id": "6275209a"
      },
      "source": [
        "#####################################################################################\n",
        "###################################################################################\n",
        "####################################################################################\n",
        "####################################################################################"
      ],
      "id": "6275209a",
      "execution_count": null,
      "outputs": []
    },
    {
      "cell_type": "code",
      "metadata": {
        "id": "b6af0b20"
      },
      "source": [
        "############### A EFFACER"
      ],
      "id": "b6af0b20",
      "execution_count": null,
      "outputs": []
    },
    {
      "cell_type": "code",
      "metadata": {
        "id": "RQ9dEN6d22Xm"
      },
      "source": [
        ""
      ],
      "id": "RQ9dEN6d22Xm",
      "execution_count": null,
      "outputs": []
    },
    {
      "cell_type": "code",
      "metadata": {
        "id": "Le4AAOMHebIA"
      },
      "source": [
        ""
      ],
      "id": "Le4AAOMHebIA",
      "execution_count": null,
      "outputs": []
    },
    {
      "cell_type": "code",
      "metadata": {
        "id": "Vfm4RjtYer74"
      },
      "source": [
        ""
      ],
      "id": "Vfm4RjtYer74",
      "execution_count": null,
      "outputs": []
    },
    {
      "cell_type": "code",
      "metadata": {
        "id": "bBrt7WZng5wx"
      },
      "source": [
        ""
      ],
      "id": "bBrt7WZng5wx",
      "execution_count": null,
      "outputs": []
    },
    {
      "cell_type": "code",
      "metadata": {
        "id": "GbsF8xWdkfn8"
      },
      "source": [
        ""
      ],
      "id": "GbsF8xWdkfn8",
      "execution_count": null,
      "outputs": []
    },
    {
      "cell_type": "code",
      "metadata": {
        "id": "R8WMdowvkj0H"
      },
      "source": [
        ""
      ],
      "id": "R8WMdowvkj0H",
      "execution_count": null,
      "outputs": []
    },
    {
      "cell_type": "code",
      "metadata": {
        "id": "b_BJP-9rkknw"
      },
      "source": [
        ""
      ],
      "id": "b_BJP-9rkknw",
      "execution_count": null,
      "outputs": []
    },
    {
      "cell_type": "code",
      "metadata": {
        "id": "T63a5IcBknLq"
      },
      "source": [
        ""
      ],
      "id": "T63a5IcBknLq",
      "execution_count": null,
      "outputs": []
    },
    {
      "cell_type": "code",
      "metadata": {
        "id": "8iqsgl7AqRrJ"
      },
      "source": [
        ""
      ],
      "id": "8iqsgl7AqRrJ",
      "execution_count": null,
      "outputs": []
    }
  ]
}