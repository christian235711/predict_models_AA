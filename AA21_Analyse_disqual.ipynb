{
  "nbformat": 4,
  "nbformat_minor": 0,
  "metadata": {
    "colab": {
      "name": "AA21_Analyse_disqual.ipynb",
      "provenance": [],
      "collapsed_sections": [],
      "authorship_tag": "ABX9TyOgpNoKLrNQujLn9WNvPHBs"
    },
    "kernelspec": {
      "name": "python3",
      "display_name": "Python 3"
    },
    "language_info": {
      "name": "python"
    }
  },
  "cells": [
    {
      "cell_type": "code",
      "metadata": {
        "id": "6PE_fq-Af-lD",
        "colab": {
          "base_uri": "https://localhost:8080/"
        },
        "outputId": "f095bd5f-1ee5-4b46-a70d-5ff594a8c0f9"
      },
      "source": [
        "import numpy as np\n",
        "import pandas as pd\n",
        "import seaborn as sns\n",
        "import matplotlib.pyplot as plt\n",
        "\n",
        "!pip install fanalysis\n",
        "from fanalysis.mca import MCA\n",
        "\n",
        "from sklearn.metrics import confusion_matrix\n",
        "\n",
        "from google.colab import drive\n",
        "drive.mount('/content/drive')"
      ],
      "execution_count": 232,
      "outputs": [
        {
          "output_type": "stream",
          "text": [
            "Requirement already satisfied: fanalysis in /usr/local/lib/python3.7/dist-packages (0.0.1)\n",
            "Requirement already satisfied: numpy>=1.11.0 in /usr/local/lib/python3.7/dist-packages (from fanalysis) (1.19.5)\n",
            "Requirement already satisfied: matplotlib>=2.0.0 in /usr/local/lib/python3.7/dist-packages (from fanalysis) (3.2.2)\n",
            "Requirement already satisfied: scikit-learn>=0.18.0 in /usr/local/lib/python3.7/dist-packages (from fanalysis) (0.22.2.post1)\n",
            "Requirement already satisfied: pandas>=0.19.0 in /usr/local/lib/python3.7/dist-packages (from fanalysis) (1.1.5)\n",
            "Requirement already satisfied: cycler>=0.10 in /usr/local/lib/python3.7/dist-packages (from matplotlib>=2.0.0->fanalysis) (0.10.0)\n",
            "Requirement already satisfied: kiwisolver>=1.0.1 in /usr/local/lib/python3.7/dist-packages (from matplotlib>=2.0.0->fanalysis) (1.3.1)\n",
            "Requirement already satisfied: python-dateutil>=2.1 in /usr/local/lib/python3.7/dist-packages (from matplotlib>=2.0.0->fanalysis) (2.8.1)\n",
            "Requirement already satisfied: pyparsing!=2.0.4,!=2.1.2,!=2.1.6,>=2.0.1 in /usr/local/lib/python3.7/dist-packages (from matplotlib>=2.0.0->fanalysis) (2.4.7)\n",
            "Requirement already satisfied: six in /usr/local/lib/python3.7/dist-packages (from cycler>=0.10->matplotlib>=2.0.0->fanalysis) (1.15.0)\n",
            "Requirement already satisfied: pytz>=2017.2 in /usr/local/lib/python3.7/dist-packages (from pandas>=0.19.0->fanalysis) (2018.9)\n",
            "Requirement already satisfied: joblib>=0.11 in /usr/local/lib/python3.7/dist-packages (from scikit-learn>=0.18.0->fanalysis) (1.0.1)\n",
            "Requirement already satisfied: scipy>=0.17.0 in /usr/local/lib/python3.7/dist-packages (from scikit-learn>=0.18.0->fanalysis) (1.4.1)\n",
            "Drive already mounted at /content/drive; to attempt to forcibly remount, call drive.mount(\"/content/drive\", force_remount=True).\n"
          ],
          "name": "stdout"
        }
      ]
    },
    {
      "cell_type": "code",
      "metadata": {
        "id": "yuD2HnZ3uKFa"
      },
      "source": [
        ""
      ],
      "execution_count": 232,
      "outputs": []
    },
    {
      "cell_type": "code",
      "metadata": {
        "id": "HDcsBJYZuKHz"
      },
      "source": [
        "# option d'affichage des résultats\n",
        "pd.set_option(\"display.max_row\",130)\n",
        "pd.set_option(\"display.max_columns\",100)"
      ],
      "execution_count": 233,
      "outputs": []
    },
    {
      "cell_type": "code",
      "metadata": {
        "id": "EIiIM-2FuKKO"
      },
      "source": [
        "# les noms des variables\n",
        "\n",
        "colonnes =([\"IDENT\", \"TypeHabi\", \"GeoFaz_Scl\", \"GeoFaz_cl\", \"ImmoFaz_Scl\", \"ImmoFaz_cl\", \"Anciennete\",\n",
        "            \"Logement_prix_m2\", \"Mediane_RFR\", \"Sexe\", \"Prenom_Phase_scl_H\", \"Prenom_Phase_scl_F\",\n",
        "            \"Prenom_Phase_cl_H\", \"Prenom_Phase_cl_F\", \"Age_H\", \"Age_F\", \"Affinite_1\", \"Affinite_2\",\n",
        "            \"Prenom_effectif\", \"Potentiel_prenom\", \"Onoma-Phase_Scl\", \"Onoma-Phase_CL\", \"Top_mon\"])"
      ],
      "execution_count": 234,
      "outputs": []
    },
    {
      "cell_type": "code",
      "metadata": {
        "id": "pKb5oZ88kUoG"
      },
      "source": [
        "\n",
        "colonnes_montant = [\"DEDUPLI\", \"IDENT\", \"SommeDeMONTANT_NUM\", \"Flag_Top_Montant\", \"NovosScore_Vingtile\"]\n",
        "colonnes_montant = colonnes_montant[:-1]\n",
        "\n",
        "data_montant_orig = pd.read_csv(\"/content/drive/MyDrive/spad_score_method_1/spad_projection_AAPOT21/DONS_AA_N_TODAY_1ers gestes_REF_MD.txt\", sep=\";\", header = 0, low_memory=False, dtype=str) #, dtype='Int64')\n",
        "data_montant_orig =data_montant_orig.iloc[:,1:]  \n",
        "\n",
        "data_montant_orig.iloc[:,2]=data_montant_orig.iloc[:,2].str.replace(\",\",\".\")\n",
        "\n",
        "data_montant_orig.columns =colonnes_montant\n",
        "data_montant_orig[\"SommeDeMONTANT_NUM\"]=data_montant_orig[\"SommeDeMONTANT_NUM\"].astype(float)\n"
      ],
      "execution_count": 235,
      "outputs": []
    },
    {
      "cell_type": "code",
      "metadata": {
        "id": "wci4tC0suKMu"
      },
      "source": [
        "# importation du fichier (changer le chemin d'accès)\n",
        "''' Faites attention au type de fichier, au délimiteur des valeurs (ça doit être unique et non multiple),\n",
        "au header et à la lecture des types d'objets (low_memory) '''\n",
        "\n",
        "data_orig = pd.read_csv(\"/content/drive/MyDrive/spad_score_method_1/spad_projection_AAPOT21/sep_AAPOT21.txt\", delim_whitespace=\"\\t\", header = None, names=colonnes, low_memory=False, dtype=str )#, dtype='Int64')\n"
      ],
      "execution_count": 236,
      "outputs": []
    },
    {
      "cell_type": "code",
      "metadata": {
        "colab": {
          "base_uri": "https://localhost:8080/"
        },
        "id": "oyDoq2cHxz7o",
        "outputId": "efe3e497-1f93-4de6-ca16-39073ab33d64"
      },
      "source": [
        "''' copie superficielle (peu profonde) du dataset original pour ne pas modifier les valeurs\n",
        "d'origine par erreur plus tard \n",
        "'''\n",
        "data = data_orig.copy()\n",
        "data.shape"
      ],
      "execution_count": 237,
      "outputs": [
        {
          "output_type": "execute_result",
          "data": {
            "text/plain": [
              "(152510, 23)"
            ]
          },
          "metadata": {
            "tags": []
          },
          "execution_count": 237
        }
      ]
    },
    {
      "cell_type": "code",
      "metadata": {
        "colab": {
          "base_uri": "https://localhost:8080/",
          "height": 243
        },
        "id": "d8EgLMlSxz9s",
        "outputId": "c853f24d-75cd-496c-b68c-13279f396899"
      },
      "source": [
        "# visualisation des premiers lignes\n",
        "data.head()\n"
      ],
      "execution_count": 238,
      "outputs": [
        {
          "output_type": "execute_result",
          "data": {
            "text/html": [
              "<div>\n",
              "<style scoped>\n",
              "    .dataframe tbody tr th:only-of-type {\n",
              "        vertical-align: middle;\n",
              "    }\n",
              "\n",
              "    .dataframe tbody tr th {\n",
              "        vertical-align: top;\n",
              "    }\n",
              "\n",
              "    .dataframe thead th {\n",
              "        text-align: right;\n",
              "    }\n",
              "</style>\n",
              "<table border=\"1\" class=\"dataframe\">\n",
              "  <thead>\n",
              "    <tr style=\"text-align: right;\">\n",
              "      <th></th>\n",
              "      <th>IDENT</th>\n",
              "      <th>TypeHabi</th>\n",
              "      <th>GeoFaz_Scl</th>\n",
              "      <th>GeoFaz_cl</th>\n",
              "      <th>ImmoFaz_Scl</th>\n",
              "      <th>ImmoFaz_cl</th>\n",
              "      <th>Anciennete</th>\n",
              "      <th>Logement_prix_m2</th>\n",
              "      <th>Mediane_RFR</th>\n",
              "      <th>Sexe</th>\n",
              "      <th>Prenom_Phase_scl_H</th>\n",
              "      <th>Prenom_Phase_scl_F</th>\n",
              "      <th>Prenom_Phase_cl_H</th>\n",
              "      <th>Prenom_Phase_cl_F</th>\n",
              "      <th>Age_H</th>\n",
              "      <th>Age_F</th>\n",
              "      <th>Affinite_1</th>\n",
              "      <th>Affinite_2</th>\n",
              "      <th>Prenom_effectif</th>\n",
              "      <th>Potentiel_prenom</th>\n",
              "      <th>Onoma-Phase_Scl</th>\n",
              "      <th>Onoma-Phase_CL</th>\n",
              "      <th>Top_mon</th>\n",
              "    </tr>\n",
              "  </thead>\n",
              "  <tbody>\n",
              "    <tr>\n",
              "      <th>0</th>\n",
              "      <td>0010000067</td>\n",
              "      <td>01</td>\n",
              "      <td>72</td>\n",
              "      <td>07</td>\n",
              "      <td>83</td>\n",
              "      <td>08</td>\n",
              "      <td>06</td>\n",
              "      <td>17</td>\n",
              "      <td>18</td>\n",
              "      <td>03</td>\n",
              "      <td>44</td>\n",
              "      <td>81</td>\n",
              "      <td>04</td>\n",
              "      <td>08</td>\n",
              "      <td>06</td>\n",
              "      <td>12</td>\n",
              "      <td>02</td>\n",
              "      <td>03</td>\n",
              "      <td>04</td>\n",
              "      <td>12</td>\n",
              "      <td>31</td>\n",
              "      <td>03</td>\n",
              "      <td>1</td>\n",
              "    </tr>\n",
              "    <tr>\n",
              "      <th>1</th>\n",
              "      <td>0010000070</td>\n",
              "      <td>01</td>\n",
              "      <td>72</td>\n",
              "      <td>07</td>\n",
              "      <td>84</td>\n",
              "      <td>08</td>\n",
              "      <td>05</td>\n",
              "      <td>18</td>\n",
              "      <td>20</td>\n",
              "      <td>01</td>\n",
              "      <td>33</td>\n",
              "      <td>44</td>\n",
              "      <td>03</td>\n",
              "      <td>04</td>\n",
              "      <td>08</td>\n",
              "      <td>08</td>\n",
              "      <td>05</td>\n",
              "      <td>09</td>\n",
              "      <td>05</td>\n",
              "      <td>20</td>\n",
              "      <td>36</td>\n",
              "      <td>03</td>\n",
              "      <td>2</td>\n",
              "    </tr>\n",
              "    <tr>\n",
              "      <th>2</th>\n",
              "      <td>0010000090</td>\n",
              "      <td>03</td>\n",
              "      <td>64</td>\n",
              "      <td>06</td>\n",
              "      <td>75</td>\n",
              "      <td>07</td>\n",
              "      <td>05</td>\n",
              "      <td>13</td>\n",
              "      <td>08</td>\n",
              "      <td>01</td>\n",
              "      <td>71</td>\n",
              "      <td>67</td>\n",
              "      <td>07</td>\n",
              "      <td>06</td>\n",
              "      <td>12</td>\n",
              "      <td>11</td>\n",
              "      <td>10</td>\n",
              "      <td>08</td>\n",
              "      <td>04</td>\n",
              "      <td>02</td>\n",
              "      <td>22</td>\n",
              "      <td>02</td>\n",
              "      <td>2</td>\n",
              "    </tr>\n",
              "    <tr>\n",
              "      <th>3</th>\n",
              "      <td>0010000124</td>\n",
              "      <td>03</td>\n",
              "      <td>43</td>\n",
              "      <td>04</td>\n",
              "      <td>82</td>\n",
              "      <td>08</td>\n",
              "      <td>01</td>\n",
              "      <td>15</td>\n",
              "      <td>17</td>\n",
              "      <td>03</td>\n",
              "      <td>51</td>\n",
              "      <td>81</td>\n",
              "      <td>05</td>\n",
              "      <td>08</td>\n",
              "      <td>10</td>\n",
              "      <td>12</td>\n",
              "      <td>10</td>\n",
              "      <td>14</td>\n",
              "      <td>05</td>\n",
              "      <td>15</td>\n",
              "      <td>61</td>\n",
              "      <td>06</td>\n",
              "      <td>2</td>\n",
              "    </tr>\n",
              "    <tr>\n",
              "      <th>4</th>\n",
              "      <td>0010000147</td>\n",
              "      <td>02</td>\n",
              "      <td>25</td>\n",
              "      <td>02</td>\n",
              "      <td>32</td>\n",
              "      <td>03</td>\n",
              "      <td>07</td>\n",
              "      <td>07</td>\n",
              "      <td>15</td>\n",
              "      <td>05</td>\n",
              "      <td>71</td>\n",
              "      <td>81</td>\n",
              "      <td>07</td>\n",
              "      <td>08</td>\n",
              "      <td>12</td>\n",
              "      <td>12</td>\n",
              "      <td>21</td>\n",
              "      <td>21</td>\n",
              "      <td>06</td>\n",
              "      <td>21</td>\n",
              "      <td>61</td>\n",
              "      <td>06</td>\n",
              "      <td>1</td>\n",
              "    </tr>\n",
              "  </tbody>\n",
              "</table>\n",
              "</div>"
            ],
            "text/plain": [
              "        IDENT TypeHabi GeoFaz_Scl GeoFaz_cl ImmoFaz_Scl ImmoFaz_cl Anciennete  \\\n",
              "0  0010000067       01         72        07          83         08         06   \n",
              "1  0010000070       01         72        07          84         08         05   \n",
              "2  0010000090       03         64        06          75         07         05   \n",
              "3  0010000124       03         43        04          82         08         01   \n",
              "4  0010000147       02         25        02          32         03         07   \n",
              "\n",
              "  Logement_prix_m2 Mediane_RFR Sexe Prenom_Phase_scl_H Prenom_Phase_scl_F  \\\n",
              "0               17          18   03                 44                 81   \n",
              "1               18          20   01                 33                 44   \n",
              "2               13          08   01                 71                 67   \n",
              "3               15          17   03                 51                 81   \n",
              "4               07          15   05                 71                 81   \n",
              "\n",
              "  Prenom_Phase_cl_H Prenom_Phase_cl_F Age_H Age_F Affinite_1 Affinite_2  \\\n",
              "0                04                08    06    12         02         03   \n",
              "1                03                04    08    08         05         09   \n",
              "2                07                06    12    11         10         08   \n",
              "3                05                08    10    12         10         14   \n",
              "4                07                08    12    12         21         21   \n",
              "\n",
              "  Prenom_effectif Potentiel_prenom Onoma-Phase_Scl Onoma-Phase_CL Top_mon  \n",
              "0              04               12              31             03       1  \n",
              "1              05               20              36             03       2  \n",
              "2              04               02              22             02       2  \n",
              "3              05               15              61             06       2  \n",
              "4              06               21              61             06       1  "
            ]
          },
          "metadata": {
            "tags": []
          },
          "execution_count": 238
        }
      ]
    },
    {
      "cell_type": "code",
      "metadata": {
        "id": "0DV4-3xA2W_K"
      },
      "source": [
        "#nombre de modalités de chaque variables (dans un dataframe)\n",
        "def nombre_mod(data2):\n",
        "    #création d'un dataframe vide\n",
        "    dff= pd.DataFrame(columns=[\"VARIABLE\",\"NOMBRE_MOD\", \"NOMBRE_MOD_SANS_NA\"])\n",
        "    for i in range(data2.shape[1]): # sans compter les valeurs manquantes\n",
        "        taille =len(data2.iloc[:,i].value_counts(dropna=False))\n",
        "        taille_1 = len(data2.iloc[:,i].value_counts(dropna=True) )\n",
        "        dff=dff.append({\"VARIABLE\": colonnes[i],\"NOMBRE_MOD\":taille, \"NOMBRE_MOD_SANS_NA\":taille_1 }, ignore_index=True)\n",
        "    return dff\n",
        "\n",
        "# sélection des corrélations les plus importantes\n",
        "def variables_corr(tableau_corr, seuil):\n",
        "    colonnes = tableau_corr.columns\n",
        "    val_temp = 0 \n",
        "    variables_corr_pos=[] ; variables_corr_pos_val=[]\n",
        "    variables_corr_neg=[] ; variables_corr_neg_val=[]\n",
        "    for i in range(tableau_corr.shape[0]):  \n",
        "        for j in range(tableau_corr.shape[0]):\n",
        "            if i<j: #i!=j:\n",
        "                if (tableau_corr.iloc[i,j] > seuil):\n",
        "                    variables_corr_pos.append(colonnes[j])\n",
        "                    variables_corr_pos_val.append(round( tableau_corr.iloc[i,j], 2))\n",
        "                    val_temp += 1\n",
        "\n",
        "                if (tableau_corr.iloc[i,j] <-seuil):\n",
        "                    variables_corr_neg.append(colonnes[j])\n",
        "                    variables_corr_neg_val.append(round( tableau_corr.iloc[i,j], 2))\n",
        "                    val_temp += 1\n",
        "\n",
        "        if (len(variables_corr_pos) > 0) | (len(variables_corr_neg) >0) :\n",
        "            print(\"variable : \", colonnes[i])\n",
        "            if len(variables_corr_pos) > 0:    \n",
        "                print(\"corr pos\", variables_corr_pos)\n",
        "                print(\"corr pos\", variables_corr_pos_val)\n",
        "                val_temp += 1\n",
        "\n",
        "            if len(variables_corr_neg) >0:  \n",
        "                print(\"corr neg\", variables_corr_neg)\n",
        "                print(\"corr neg\", variables_corr_neg_val)\n",
        "                val_temp += 1\n",
        "            print(\"\")\n",
        "        variables_corr_pos = variables_corr_pos*0\n",
        "        variables_corr_neg = variables_corr_pos*0\n",
        "\n",
        "        variables_corr_pos_val = variables_corr_pos_val*0\n",
        "        variables_corr_neg_val = variables_corr_pos_val*0\n",
        "    if val_temp == 0:\n",
        "        print(\"IL N'Y A PAS DE CORRELATION ENTRE LES VARIABLES PAR RAPPORT AU SEUIL PRIS\")\n",
        "        \n",
        "\n",
        "def evaluation(model, X_train, y_train, X_test, y_test, scoring, plot):\n",
        "\n",
        "    model.fit(X_train, y_train)\n",
        "    y_pred = model.predict(X_test)\n",
        "    \n",
        "    print(\"test set : \")\n",
        "    print(confusion_matrix(y_test, y_pred))\n",
        "    print(classification_report(y_test, y_pred)) \n",
        "    print(\"train set : \")\n",
        "    print(confusion_matrix(y_train, model.predict(X_train)))  \n",
        "    print(classification_report(y_train, model.predict(X_train) ))\n",
        "\n",
        "    if plot == True:\n",
        "        N, train_score, val_score = learning_curve(model, X_train, y_train, shuffle=True, cv = 4, scoring = scoring, train_sizes = np.linspace(0.1, 1, 6) )\n",
        "\n",
        "        plt.figure(figsize = (10,6))\n",
        "        plt.plot(N, train_score.mean(axis=1), label =\"train_score\")\n",
        "        plt.plot(N, val_score.mean(axis=1), label =\"cross_validation_score\")\n",
        "        plt.legend()\n",
        "    else :\n",
        "        print(\"GRAPHIQUE NON DEMANDE\")\n",
        "\n",
        "# Comme il n'y a pas de valeurs manquantes (à la place il y a un nombre), le seul traitement qu'on fait c'est tranformer\n",
        "# le type de variable (les variables continues deviennent qualitatives)\n",
        "def data_processing(df):\n",
        "    \"\"\" \n",
        "    for i in range(0,len(df.columns)):    \n",
        "        df[df.columns[i]].fillna(100.0, inplace=True) #On remplace les données manquantes par 100\n",
        "    for i in range(0,len(df.columns)):\n",
        "        print(df[df.columns[i]].value_counts(dropna=False))    \n",
        "    \"\"\"\n",
        "    \n",
        "   #Transformation de toutes les variables en facteurs         \n",
        "    for i in range(0,len(df.columns)):\n",
        "        df[df.columns[i]] = df[df.columns[i]].astype('category')\n",
        "    return df.to_numpy() #.as_matrix()\n",
        "\n",
        "\n",
        "def vingtiles(model, data_orig, affichage, save, path): # data_orig est une variables locale (peut être différente au df d'origine)\n",
        "    # position de la dernière variable explicative dans le dataset\n",
        "    nb_var = data_orig.shape[1]-1\n",
        "\n",
        "    # predict sur tous les individus (avec et sans classe Top_mon)\n",
        "    tous_probas = model.predict_proba(data_orig.iloc[:,1:nb_var])\n",
        "    df_tous = pd.DataFrame({'IDENT': data_orig.iloc[:,0] , 'PROBA': tous_probas[:,0] })\n",
        "    #df_tous\n",
        "    \n",
        "    # valeurs ordonnées pour diviser après\n",
        "    df_tous=df_tous.sort_values(by='PROBA', ascending=True)\n",
        "    #df_tous\n",
        "    print(df_tous)\n",
        "    \n",
        "    #vérification\n",
        "    print(df_tous['PROBA'].value_counts())\n",
        "\n",
        "    # vingtiles\n",
        "    df_temp =pd.DataFrame( pd.qcut(df_tous['PROBA'],q= 20)  )\n",
        "    #print(df_temp)\n",
        "\n",
        "    # ajout par index (IMPORTANTE)\n",
        "    df_tous[\"TRANCHES\"]=pd.DataFrame(df_temp.iloc[:,0].to_numpy(),index= df_temp.index)\n",
        "    #print(df_tous)\n",
        "\n",
        "    # création de la dernière colonne CLASSE et son remplissage\n",
        "    index_20_ord = pd.DataFrame(np.unique(df_tous[\"TRANCHES\"])) \n",
        "    df_tous[\"CLASSE\"]=df_tous[\"TRANCHES\"].copy()\n",
        "    ind_val=1\n",
        "    for kk in range(20):\n",
        "        df_tous[\"CLASSE\"][df_tous[\"CLASSE\"]== index_20_ord.iloc[kk,0] ] = str(ind_val) \n",
        "        ind_val+=1\n",
        "    print(df_tous)    \n",
        "    \n",
        "    # pour la colonne Top_mon : changement de type de variable et remplissage des valeurs (s'il le faut)\n",
        "    data_temp_t = data_orig.copy()\n",
        "    data_temp_t[\"Top_mon\"] =  data_temp_t[\"Top_mon\"].replace(1.0,'1')\n",
        "    data_temp_t[\"Top_mon\"] =  data_temp_t[\"Top_mon\"].replace(2.0,'2')\n",
        "    data_all_complet_class = data_temp_t #data_temp_t.fillna('2')\n",
        "    #data_all_complet_class\n",
        "\n",
        "    # jointure\n",
        "    ident_class_tous = data_all_complet_class[[\"IDENT\",\"Top_mon\"]]\n",
        "    tableau_resultats = pd.merge(df_tous,ident_class_tous)\n",
        "    #tableau_resultats\n",
        "\n",
        "    # tranches finales\n",
        "    tab_cross_temp = pd.crosstab(tableau_resultats[\"TRANCHES\"],tableau_resultats[\"Top_mon\"])\n",
        "    #print(tab_cross_temp); print(\"-----------------------\")\n",
        "\n",
        "    # création d'une colonne TOTAL\n",
        "    tab_cross_temp[\"TOTAL\"]=tab_cross_temp[\"1\"]+tab_cross_temp[\"2\"]\n",
        "    \n",
        "    # affichage\n",
        "    if affichage ==True:        \n",
        "        print(tab_cross_temp)\n",
        "\n",
        "    # création du tableau final en éliminant la colonne 2\n",
        "    #tab_pour_excel = tab_cross_temp.drop([\"2\"], axis=1)\n",
        "\n",
        "    # si on ne veut pas éliminer la colonne 2\n",
        "    tab_pour_excel =  tab_cross_temp\n",
        "    \n",
        "    # enregistrement sous Excel\n",
        "    if save == True:\n",
        "        tab_pour_excel.to_excel(path)\n",
        "\n",
        "    return  df_tous\n",
        "\n",
        "\n",
        "def tableau_5_montant(df_tous, data_montant_orig, affichage, save, path):\n",
        "    # tableau avec les deux variables qui nous intéressent\n",
        "    ident_et_montant = data_montant_orig[[\"IDENT\",\"SommeDeMONTANT_NUM\"]]\n",
        "\n",
        "    # jointure\n",
        "    tableau_resultats_et_montant = pd.merge(df_tous,ident_et_montant)\n",
        "    #print(tableau_resultats_et_montant) \n",
        "\n",
        "    # on élimine toutes les sommes supérieur à 5000 €\n",
        "    tableau_resultats_et_montant = tableau_resultats_et_montant[tableau_resultats_et_montant[\"SommeDeMONTANT_NUM\"] <= 5000]\n",
        "    print(tableau_resultats_et_montant) \n",
        "    #print(tableau_resultats_et_montant[\"TRANCHES\"].value_counts())\n",
        "    #print(pd.DataFrame(np.unique(tableau_resultats_et_montant[\"TRANCHES\"])))\n",
        "\n",
        "    # index\n",
        "    index_temp = pd.DataFrame(np.unique(tableau_resultats_et_montant[\"TRANCHES\"])) \n",
        "\n",
        "    # création du tableau qui contiendra les résultats finaux\n",
        "    tableau_resultats_finaux = pd.DataFrame(columns=[\"TRANCHES\",\"Moyen_Somme\",\"TOTAL\"],index=range(20))\n",
        "    tableau_resultats_finaux[\"TRANCHES\"] = index_temp\n",
        "\n",
        "    # remplissage du tableau final\n",
        "    for k in range(20):\n",
        "        tableau_resultats_finaux.iloc[k,1] = tableau_resultats_et_montant[tableau_resultats_et_montant[\"TRANCHES\"]==index_temp.iloc[k,0]][\"SommeDeMONTANT_NUM\"].mean()\n",
        "        tableau_resultats_finaux.iloc[k,2] = (tableau_resultats_et_montant[\"TRANCHES\"]==index_temp.iloc[k,0]).sum()\n",
        "    \n",
        "    # affichage\n",
        "    if affichage:        \n",
        "        print(tableau_resultats_finaux)\n",
        "    \n",
        "    # enregistrement sous Excel\n",
        "    if save:\n",
        "        tableau_resultats_finaux.to_excel(path)\n",
        "\n",
        "\n",
        "def vingtiles_ind_sans_target(model, data_orig, affichage, save, path):\n",
        "    # position de la dernière variable explicative dans le dataset\n",
        "    nb_var = data_orig.shape[1]-1\n",
        "\n",
        "    # predict sur tous les individus (avec et sans classe IFI+)\n",
        "    tous_probas = model.predict_proba(data_orig.iloc[:,1:nb_var])\n",
        "    df_tous = pd.DataFrame({'IDENT': data_orig.iloc[:,0] , 'PROBA': tous_probas[:,0] })\n",
        "    #df_tous\n",
        "    \n",
        "    # valeurs ordonnées pour diviser après\n",
        "    df_tous=df_tous.sort_values(by='PROBA', ascending=True)\n",
        "    #df_tous\n",
        "    print(df_tous)\n",
        "    \n",
        "    #vérification\n",
        "    print(df_tous['PROBA'].value_counts())\n",
        "\n",
        "    # quarantiles\n",
        "    df_temp =pd.DataFrame( pd.qcut(df_tous['PROBA'],q= 20)  )\n",
        "    print(df_temp)\n",
        "\n",
        "    # ajout par index (IMPORTANTE)\n",
        "    df_tous[\"TRANCHES\"]=pd.DataFrame(df_temp.iloc[:,0].to_numpy(),index= df_temp.index)\n",
        "    print(df_tous)\n",
        "    print(df_tous[\"TRANCHES\"].value_counts(ascending = True))\n",
        "\n",
        "    # GERE L'ORDRE\n",
        "    patra = np.unique(df_tous.iloc[:,2], return_counts=True)\n",
        "    df_tranches_sans_target = pd.DataFrame([patra[0],patra[1]]).T\n",
        "    df_tranches_sans_target.columns=[\"TRANCHES\",\"COUNTS\"]\n",
        "\n",
        "    # affichage\n",
        "    if affichage ==True:        \n",
        "        print(df_tranches_sans_target)\n",
        "    \n",
        "    # enregistrement sous Excel\n",
        "    if save == True:\n",
        "        df_tranches_sans_target.to_excel(path)\n",
        "    \n",
        "\n",
        "# élimination des variables trop corrélées (choix manuel)\n",
        "def elimination_val_corr(data):\n",
        "    data = data.drop(columns=[\"\"])\n",
        "    return data\n",
        "          \n",
        " "
      ],
      "execution_count": 239,
      "outputs": []
    },
    {
      "cell_type": "code",
      "metadata": {
        "id": "0lpwr2FMYiq2"
      },
      "source": [
        ""
      ],
      "execution_count": 239,
      "outputs": []
    },
    {
      "cell_type": "code",
      "metadata": {
        "id": "gGyqVG-fUKyo"
      },
      "source": [
        "############################################################### AJOUTER OU EFFACER (data =) #######################################\n",
        "# on élimine les variables corr\n",
        "data=data.drop([\"GeoFaz_cl\", \"ImmoFaz_Scl\", \"ImmoFaz_cl\", \"Prenom_Phase_cl_H\", \"Prenom_Phase_cl_F\", \"Onoma-Phase_Scl\", \"Onoma-Phase_CL\"],axis=1)\n"
      ],
      "execution_count": 240,
      "outputs": []
    },
    {
      "cell_type": "code",
      "metadata": {
        "colab": {
          "base_uri": "https://localhost:8080/"
        },
        "id": "2-RPzJ4vZEhM",
        "outputId": "c73d0a91-1974-4060-c157-8d6a189d433d"
      },
      "source": [
        "num_var_max = data.shape[1] - 1\n",
        "num_var_max"
      ],
      "execution_count": 241,
      "outputs": [
        {
          "output_type": "execute_result",
          "data": {
            "text/plain": [
              "15"
            ]
          },
          "metadata": {
            "tags": []
          },
          "execution_count": 241
        }
      ]
    },
    {
      "cell_type": "code",
      "metadata": {
        "id": "C0T71nnOQ1rc",
        "colab": {
          "base_uri": "https://localhost:8080/",
          "height": 313
        },
        "outputId": "588d7b9a-95ab-458d-9800-c9235d85b85d"
      },
      "source": [
        "#importation de la librairie\n",
        "from fanalysis.mca import MCA\n",
        "\n",
        "#instanciation\n",
        "acm = MCA(var_labels=data.columns[1:num_var_max])\n",
        "\n",
        "# apprentissage\n",
        "dim_temporaire = data_orig[(data_orig.isnull()).sum(axis=1) == 0].shape[0]\n",
        "acm.fit(data.iloc[:dim_temporaire,1:num_var_max].values) # (ATTENTION : il faut prendre la taille du dataset AAPOT21 et non AATOT21)\n",
        "#valeurs propres - graphique\n",
        "print(acm.plot_eigenvalues())"
      ],
      "execution_count": 242,
      "outputs": [
        {
          "output_type": "display_data",
          "data": {
            "image/png": "[encoded data removed]",
            "text/plain": [
              "<Figure size 432x288 with 1 Axes>"
            ]
          },
          "metadata": {
            "tags": [],
            "needs_background": "light"
          }
        },
        {
          "output_type": "stream",
          "text": [
            "None\n"
          ],
          "name": "stdout"
        }
      ]
    },
    {
      "cell_type": "code",
      "metadata": {
        "id": "uba6n_5g-7-U"
      },
      "source": [
        "# fonction qui va diviser et calculer les coordonnées des individus \n",
        "def transform_to_coord(data):\n",
        "    coord_part = 0\n",
        "    coord = acm.transform(data.iloc[0:30000,1:num_var_max].values)\n",
        "    k=30000\n",
        "    nb_part = round(data.shape[0]/k)\n",
        "    for i in range(1, nb_part):\n",
        "        coord_part=acm.transform(data.iloc[i*k:(i+1)*k,1:num_var_max].values)\n",
        "        coord=np.concatenate((coord, coord_part))\n",
        "\n",
        "    coord_part = acm.transform(data.iloc[nb_part*k: ,1:num_var_max].values )\n",
        "    coord=np.concatenate((coord, coord_part))\n",
        "    return coord"
      ],
      "execution_count": 243,
      "outputs": []
    },
    {
      "cell_type": "code",
      "metadata": {
        "id": "Owu0Cby0oOnj"
      },
      "source": [
        "#instanciation\n",
        "acm = MCA(var_labels = data.columns[1:num_var_max], n_components=15)  # paramètres index manquante (gérer après)\n",
        "#apprentissage \n",
        "\"ne pas utiliser fit_tranform car le datset est trop grand \"\n",
        "dim_temporaire = data_orig[(data_orig.isnull()).sum(axis=1) == 0].shape[0]\n",
        "acm.fit(data.iloc[:dim_temporaire,1:num_var_max].values) # (ATTENTION : il faut prendre la taille du dataset AAPOT21 et non AATOT21)\n",
        "# tranformation du dataset\n",
        "coord = transform_to_coord(data)\n"
      ],
      "execution_count": 244,
      "outputs": []
    },
    {
      "cell_type": "code",
      "metadata": {
        "id": "cF7I6w-gPtLx"
      },
      "source": [
        ""
      ],
      "execution_count": 244,
      "outputs": []
    },
    {
      "cell_type": "code",
      "metadata": {
        "id": "o6XdxYjGPT1c"
      },
      "source": [
        ""
      ],
      "execution_count": 244,
      "outputs": []
    },
    {
      "cell_type": "code",
      "metadata": {
        "colab": {
          "base_uri": "https://localhost:8080/"
        },
        "id": "7Xqe0tJsysa3",
        "outputId": "118a1c0d-c663-4522-91e3-46f03ba547fc"
      },
      "source": [
        "# dimension\n",
        "coord.shape"
      ],
      "execution_count": 245,
      "outputs": [
        {
          "output_type": "execute_result",
          "data": {
            "text/plain": [
              "(152510, 55)"
            ]
          },
          "metadata": {
            "tags": []
          },
          "execution_count": 245
        }
      ]
    },
    {
      "cell_type": "code",
      "metadata": {
        "colab": {
          "base_uri": "https://localhost:8080/",
          "height": 313
        },
        "id": "tpU2mQ-g8XJQ",
        "outputId": "056eb4ca-6995-4566-a3e1-90e768cd60fa"
      },
      "source": [
        "#valeurs propres - graphique\n",
        "print(acm.plot_eigenvalues())\n"
      ],
      "execution_count": 246,
      "outputs": [
        {
          "output_type": "display_data",
          "data": {
            "image/png": "[encoded data removed]",
            "text/plain": [
              "<Figure size 432x288 with 1 Axes>"
            ]
          },
          "metadata": {
            "tags": [],
            "needs_background": "light"
          }
        },
        {
          "output_type": "stream",
          "text": [
            "None\n"
          ],
          "name": "stdout"
        }
      ]
    },
    {
      "cell_type": "code",
      "metadata": {
        "colab": {
          "base_uri": "https://localhost:8080/"
        },
        "id": "OJEJV8tO8eqw",
        "outputId": "b60d3304-7158-4e36-ae44-15acf1fbf06c"
      },
      "source": [
        "#coordonnées des colonnes\n",
        "print(acm.col_topandas())"
      ],
      "execution_count": 247,
      "outputs": [
        {
          "output_type": "stream",
          "text": [
            "                     col_coord_dim1  col_coord_dim2  col_coord_dim3  \\\n",
            "TypeHabi_01               -0.373136        0.188474       -0.218330   \n",
            "TypeHabi_02                0.208977       -0.099083        0.119195   \n",
            "TypeHabi_03               -0.095624        0.003844       -0.029392   \n",
            "TypeHabi_04               -0.778125        1.468221       -1.385161   \n",
            "GeoFaz_Scl_11              0.216295        0.022946        0.051189   \n",
            "...                             ...             ...             ...   \n",
            "Potentiel_prenom_17        1.456212        0.045287       -0.125030   \n",
            "Potentiel_prenom_18        1.236067        0.036591       -0.138493   \n",
            "Potentiel_prenom_19        1.018261        0.018215       -0.310573   \n",
            "Potentiel_prenom_20        0.998250       -0.009927       -0.337480   \n",
            "Potentiel_prenom_21       -0.463648        4.468289        1.290694   \n",
            "\n",
            "                     col_coord_dim4  col_coord_dim5  col_coord_dim6  \\\n",
            "TypeHabi_01                0.103883       -0.014954        0.200419   \n",
            "TypeHabi_02               -0.052999        0.009502       -0.056614   \n",
            "TypeHabi_03                0.022311       -0.016460        0.083283   \n",
            "TypeHabi_04               -1.345841        0.534768      -22.419861   \n",
            "GeoFaz_Scl_11             -0.062111       -0.050078        0.052235   \n",
            "...                             ...             ...             ...   \n",
            "Potentiel_prenom_17        1.190832        1.525361       -0.048029   \n",
            "Potentiel_prenom_18        0.580241        0.195390        0.016108   \n",
            "Potentiel_prenom_19       -0.634493       -1.440850        0.072255   \n",
            "Potentiel_prenom_20       -0.749301       -1.435998        0.151044   \n",
            "Potentiel_prenom_21       -0.627690        0.433565        0.215102   \n",
            "\n",
            "                     col_coord_dim7  col_coord_dim8  col_coord_dim9  \\\n",
            "TypeHabi_01               -0.471519        0.392260       -0.198201   \n",
            "TypeHabi_02                0.261493       -0.213818        0.117198   \n",
            "TypeHabi_03               -0.080952        0.085077       -0.064271   \n",
            "TypeHabi_04               -3.127942       -0.133542       -1.636336   \n",
            "GeoFaz_Scl_11             -0.133834        0.054277        0.025020   \n",
            "...                             ...             ...             ...   \n",
            "Potentiel_prenom_17       -0.039905        0.370350       -0.146343   \n",
            "Potentiel_prenom_18        0.031417        0.425097       -1.384954   \n",
            "Potentiel_prenom_19       -0.407305       -0.449957        0.308492   \n",
            "Potentiel_prenom_20       -0.979318       -0.393466       -0.711628   \n",
            "Potentiel_prenom_21        0.228252       -0.304011        0.064199   \n",
            "\n",
            "                     col_coord_dim10  col_coord_dim11  col_coord_dim12  \\\n",
            "TypeHabi_01                 0.479130        -0.035813         0.132760   \n",
            "TypeHabi_02                -0.265191         0.023598        -0.077181   \n",
            "TypeHabi_03                 0.093711        -0.026054         0.051247   \n",
            "TypeHabi_04                 2.099717        -0.062968        -0.022576   \n",
            "GeoFaz_Scl_11               0.038043         0.015837        -0.096407   \n",
            "...                              ...              ...              ...   \n",
            "Potentiel_prenom_17        -0.234233         0.722289        -0.877356   \n",
            "Potentiel_prenom_18        -0.322419        -0.203678         1.188703   \n",
            "Potentiel_prenom_19         0.182106         0.883339         0.045592   \n",
            "Potentiel_prenom_20        -0.607926        -0.997159        -0.836848   \n",
            "Potentiel_prenom_21        -0.245338        -0.006914         0.035736   \n",
            "\n",
            "                     col_coord_dim13  col_coord_dim14  col_coord_dim15  \\\n",
            "TypeHabi_01                -0.267548         0.069546        -0.195305   \n",
            "TypeHabi_02                 0.147681        -0.024684         0.068097   \n",
            "TypeHabi_03                -0.060199        -0.049852         0.136408   \n",
            "TypeHabi_04                -0.415137         0.166724         0.257289   \n",
            "GeoFaz_Scl_11               0.143414        -0.262148         1.075110   \n",
            "...                              ...              ...              ...   \n",
            "Potentiel_prenom_17        -0.949096         0.529889         0.236162   \n",
            "Potentiel_prenom_18         0.929965        -0.902069        -0.054893   \n",
            "Potentiel_prenom_19        -0.105991        -0.704058        -0.024071   \n",
            "Potentiel_prenom_20        -0.231295         0.724504         0.152351   \n",
            "Potentiel_prenom_21         0.084187         0.016299         0.042169   \n",
            "\n",
            "                     col_coord_dim16  col_coord_dim17  col_coord_dim18  \\\n",
            "TypeHabi_01                 0.052348        -0.004668         0.018355   \n",
            "TypeHabi_02                -0.031341         0.010601        -0.031685   \n",
            "TypeHabi_03                 0.020734        -0.039854         0.113468   \n",
            "TypeHabi_04                 0.282584         0.062205        -0.553775   \n",
            "GeoFaz_Scl_11              -0.043745        -0.125809         0.006374   \n",
            "...                              ...              ...              ...   \n",
            "Potentiel_prenom_17         0.041611         0.197183         0.309999   \n",
            "Potentiel_prenom_18         0.074497         0.499211        -0.982243   \n",
            "Potentiel_prenom_19         1.652655         0.477989         0.030893   \n",
            "Potentiel_prenom_20        -0.063955         0.119548         0.074042   \n",
            "Potentiel_prenom_21         0.021077         0.128576         0.025411   \n",
            "\n",
            "                     col_coord_dim19  col_coord_dim20  col_coord_dim21  \\\n",
            "TypeHabi_01                -0.071352         0.184238        -0.090894   \n",
            "TypeHabi_02                 0.050804        -0.130956         0.066533   \n",
            "TypeHabi_03                -0.074705         0.189666        -0.105160   \n",
            "TypeHabi_04                 0.253894        -0.487407         0.433611   \n",
            "GeoFaz_Scl_11              -0.006532        -0.067523         0.020797   \n",
            "...                              ...              ...              ...   \n",
            "Potentiel_prenom_17        -0.084822         0.089939        -0.242496   \n",
            "Potentiel_prenom_18         0.857536         0.957033         0.239081   \n",
            "Potentiel_prenom_19        -0.679740        -0.683744        -0.025738   \n",
            "Potentiel_prenom_20        -0.336810        -0.047811        -0.161159   \n",
            "Potentiel_prenom_21        -0.006323        -0.122643         0.033229   \n",
            "\n",
            "                     col_coord_dim22  col_coord_dim23  col_coord_dim24  \\\n",
            "TypeHabi_01                 0.267784        -0.205910         0.007606   \n",
            "TypeHabi_02                -0.190856         0.143254        -0.014859   \n",
            "TypeHabi_03                 0.278880        -0.192639         0.050489   \n",
            "TypeHabi_04                -0.768223         0.183609         0.134774   \n",
            "GeoFaz_Scl_11              -0.195429         0.090313         0.019850   \n",
            "...                              ...              ...              ...   \n",
            "Potentiel_prenom_17         0.110295         0.125467         0.326789   \n",
            "Potentiel_prenom_18         0.012687        -0.052879         0.292618   \n",
            "Potentiel_prenom_19         0.015570        -0.907795         0.297923   \n",
            "Potentiel_prenom_20         0.544317         0.805626        -0.511935   \n",
            "Potentiel_prenom_21        -0.029864         0.032155        -0.024669   \n",
            "\n",
            "                     col_coord_dim25  col_coord_dim26  col_coord_dim27  \\\n",
            "TypeHabi_01                -0.032846        -0.062108         0.003818   \n",
            "TypeHabi_02                 0.034556         0.045755        -0.020320   \n",
            "TypeHabi_03                -0.085015        -0.067101         0.089096   \n",
            "TypeHabi_04                -0.048911        -0.179767        -0.164263   \n",
            "GeoFaz_Scl_11               0.084288         0.070322         0.100893   \n",
            "...                              ...              ...              ...   \n",
            "Potentiel_prenom_17         0.258670         0.277205        -0.495596   \n",
            "Potentiel_prenom_18        -0.448352         0.328788        -0.097486   \n",
            "Potentiel_prenom_19         0.428781         0.078202        -0.445401   \n",
            "Potentiel_prenom_20         0.415532        -0.031122        -0.278439   \n",
            "Potentiel_prenom_21         0.005546        -0.020103         0.114920   \n",
            "\n",
            "                     col_coord_dim28  col_coord_dim29  col_coord_dim30  \\\n",
            "TypeHabi_01                 0.049364        -0.018497        -0.043350   \n",
            "TypeHabi_02                -0.064085        -0.000059         0.037218   \n",
            "TypeHabi_03                 0.179022         0.037076        -0.071445   \n",
            "TypeHabi_04                 0.549968         0.534801        -0.151894   \n",
            "GeoFaz_Scl_11              -0.063750         0.265128         0.116652   \n",
            "...                              ...              ...              ...   \n",
            "Potentiel_prenom_17        -0.108374         0.096795         0.018159   \n",
            "Potentiel_prenom_18         0.025066        -0.078888        -0.184006   \n",
            "Potentiel_prenom_19         0.158213         0.004868         0.091995   \n",
            "Potentiel_prenom_20         0.152335        -0.041280         0.064591   \n",
            "Potentiel_prenom_21         0.030941         0.016128        -0.016021   \n",
            "\n",
            "                     col_coord_dim31  col_coord_dim32  col_coord_dim33  \\\n",
            "TypeHabi_01                -0.062784         0.051391        -0.341316   \n",
            "TypeHabi_02                 0.051805        -0.044060         0.240515   \n",
            "TypeHabi_03                -0.091303         0.084167        -0.316599   \n",
            "TypeHabi_04                -0.395137         0.198740        -1.025593   \n",
            "GeoFaz_Scl_11               0.353841        -0.428310         1.318215   \n",
            "...                              ...              ...              ...   \n",
            "Potentiel_prenom_17        -0.212190         0.198240         0.120711   \n",
            "Potentiel_prenom_18        -0.079486         0.242404        -0.057233   \n",
            "Potentiel_prenom_19         0.175053         0.114483         0.025553   \n",
            "Potentiel_prenom_20        -0.281470         0.039476        -0.068481   \n",
            "Potentiel_prenom_21         0.026237         0.004581        -0.023873   \n",
            "\n",
            "                     col_coord_dim34  col_coord_dim35  col_coord_dim36  \\\n",
            "TypeHabi_01                 0.021474        -0.117077         0.070986   \n",
            "TypeHabi_02                -0.029647         0.083080        -0.028623   \n",
            "TypeHabi_03                 0.089130        -0.109809        -0.035907   \n",
            "TypeHabi_04                 0.015116        -0.470148         0.264642   \n",
            "GeoFaz_Scl_11               0.006927         0.436831        -0.244709   \n",
            "...                              ...              ...              ...   \n",
            "Potentiel_prenom_17        -0.106717        -0.177156         0.075841   \n",
            "Potentiel_prenom_18         0.147210         0.156574        -0.382544   \n",
            "Potentiel_prenom_19        -0.035321        -0.248802         0.338563   \n",
            "Potentiel_prenom_20         0.280845         0.061799        -0.424007   \n",
            "Potentiel_prenom_21         0.042862        -0.025421        -0.107619   \n",
            "\n",
            "                     col_coord_dim37  col_coord_dim38  col_coord_dim39  \\\n",
            "TypeHabi_01                -0.022227         0.051178        -0.006200   \n",
            "TypeHabi_02                 0.015874        -0.045740         0.077546   \n",
            "TypeHabi_03                -0.021572         0.094872        -0.348581   \n",
            "TypeHabi_04                -0.070026         0.023223        -0.241180   \n",
            "GeoFaz_Scl_11               0.055354        -0.206827         0.086610   \n",
            "...                              ...              ...              ...   \n",
            "Potentiel_prenom_17        -0.029722        -0.265254         0.009549   \n",
            "Potentiel_prenom_18         0.882814         0.090343         0.113052   \n",
            "Potentiel_prenom_19        -0.197416        -0.365119         0.748331   \n",
            "Potentiel_prenom_20         0.586329        -0.150991        -0.383600   \n",
            "Potentiel_prenom_21        -0.021095         0.013979        -0.009211   \n",
            "\n",
            "                     col_coord_dim40  col_coord_dim41  col_coord_dim42  \\\n",
            "TypeHabi_01                 0.028790        -0.003594         0.017218   \n",
            "TypeHabi_02                 0.022864         0.069028        -0.075389   \n",
            "TypeHabi_03                -0.177519        -0.315386         0.311520   \n",
            "TypeHabi_04                 0.114851        -0.172561         0.306408   \n",
            "GeoFaz_Scl_11              -0.101047        -0.118738         0.143114   \n",
            "...                              ...              ...              ...   \n",
            "Potentiel_prenom_17        -0.063308         0.172157         0.124712   \n",
            "Potentiel_prenom_18         0.194298         0.118375         0.271383   \n",
            "Potentiel_prenom_19         0.002025        -0.561576        -0.224437   \n",
            "Potentiel_prenom_20        -0.116611         0.102723        -0.038885   \n",
            "Potentiel_prenom_21        -0.061379         0.030178        -0.062341   \n",
            "\n",
            "                     col_coord_dim43  col_coord_dim44  col_coord_dim45  \\\n",
            "TypeHabi_01                -0.020903         0.011437        -0.008871   \n",
            "TypeHabi_02                 0.080951         0.051707        -0.073209   \n",
            "TypeHabi_03                -0.327916        -0.268153         0.362427   \n",
            "TypeHabi_04                -0.397454        -0.243304         0.339930   \n",
            "GeoFaz_Scl_11              -0.104386         0.022151        -0.102326   \n",
            "...                              ...              ...              ...   \n",
            "Potentiel_prenom_17        -0.039224         0.138737         0.042552   \n",
            "Potentiel_prenom_18         0.188134        -0.170076         0.101499   \n",
            "Potentiel_prenom_19        -0.009083        -0.299356         0.059804   \n",
            "Potentiel_prenom_20         0.164838        -0.278472        -0.206686   \n",
            "Potentiel_prenom_21         0.026141        -0.045848         0.087873   \n",
            "\n",
            "                     col_coord_dim46  col_coord_dim47  col_coord_dim48  \\\n",
            "TypeHabi_01                 0.095705        -0.047135         0.052416   \n",
            "TypeHabi_02                 0.106708         0.043651         0.030158   \n",
            "TypeHabi_03                -0.737669        -0.081857        -0.277121   \n",
            "TypeHabi_04                 0.576680        -1.007006         0.837657   \n",
            "GeoFaz_Scl_11              -0.180395         0.441940         0.347459   \n",
            "...                              ...              ...              ...   \n",
            "Potentiel_prenom_17         0.007794        -0.051144         0.010679   \n",
            "Potentiel_prenom_18         0.093233         0.140669        -0.011442   \n",
            "Potentiel_prenom_19         0.228275         0.435455        -0.021101   \n",
            "Potentiel_prenom_20         0.058553        -0.090530        -0.049936   \n",
            "Potentiel_prenom_21        -0.014052        -0.091565         0.033566   \n",
            "\n",
            "                     col_coord_dim49  col_coord_dim50  ...  col_cos2_dim6  \\\n",
            "TypeHabi_01                -0.064755         0.068820  ...       0.016542   \n",
            "TypeHabi_02                -0.048633         0.045161  ...       0.004486   \n",
            "TypeHabi_03                 0.383530        -0.379430  ...       0.000977   \n",
            "TypeHabi_04                -0.060849         0.270108  ...       0.802170   \n",
            "GeoFaz_Scl_11               0.176503         0.176975  ...       0.000107   \n",
            "...                              ...              ...  ...            ...   \n",
            "Potentiel_prenom_17        -0.036177        -0.078857  ...       0.000179   \n",
            "Potentiel_prenom_18        -0.071847         0.063652  ...       0.000015   \n",
            "Potentiel_prenom_19        -0.318377        -0.010541  ...       0.000286   \n",
            "Potentiel_prenom_20         0.396922         0.278449  ...       0.001494   \n",
            "Potentiel_prenom_21         0.032472        -0.042936  ...       0.001998   \n",
            "\n",
            "                     col_cos2_dim7  col_cos2_dim8  col_cos2_dim9  \\\n",
            "TypeHabi_01               0.091559       0.063365       0.016178   \n",
            "TypeHabi_02               0.095699       0.063985       0.019223   \n",
            "TypeHabi_03               0.000923       0.001019       0.000582   \n",
            "TypeHabi_04               0.015614       0.000028       0.004273   \n",
            "GeoFaz_Scl_11             0.000704       0.000116       0.000025   \n",
            "...                            ...            ...            ...   \n",
            "Potentiel_prenom_17       0.000123       0.010628       0.001660   \n",
            "Potentiel_prenom_18       0.000056       0.010236       0.108653   \n",
            "Potentiel_prenom_19       0.009091       0.011094       0.005215   \n",
            "Potentiel_prenom_20       0.062823       0.010141       0.033173   \n",
            "Potentiel_prenom_21       0.002250       0.003992       0.000178   \n",
            "\n",
            "                     col_cos2_dim10  col_cos2_dim11  col_cos2_dim12  \\\n",
            "TypeHabi_01                0.094539        0.000528    7.258302e-03   \n",
            "TypeHabi_02                0.098425        0.000779    8.336895e-03   \n",
            "TypeHabi_03                0.001237        0.000096    3.699095e-04   \n",
            "TypeHabi_04                0.007036        0.000006    8.133975e-07   \n",
            "GeoFaz_Scl_11              0.000057        0.000010    3.654640e-04   \n",
            "...                             ...             ...             ...   \n",
            "Potentiel_prenom_17        0.004251        0.040426    5.964768e-02   \n",
            "Potentiel_prenom_18        0.005889        0.002350    8.004215e-02   \n",
            "Potentiel_prenom_19        0.001817        0.042758    1.139049e-04   \n",
            "Potentiel_prenom_20        0.024209        0.065133    4.587417e-02   \n",
            "Potentiel_prenom_21        0.002600        0.000002    5.515375e-05   \n",
            "\n",
            "                     col_cos2_dim13  col_cos2_dim14  col_cos2_dim15  \\\n",
            "TypeHabi_01                0.029479        0.001992        0.015708   \n",
            "TypeHabi_02                0.030524        0.000853        0.006490   \n",
            "TypeHabi_03                0.000510        0.000350        0.002621   \n",
            "TypeHabi_04                0.000275        0.000044        0.000106   \n",
            "GeoFaz_Scl_11              0.000809        0.002702        0.045450   \n",
            "...                             ...             ...             ...   \n",
            "Potentiel_prenom_17        0.069801        0.021758        0.004322   \n",
            "Potentiel_prenom_18        0.048990        0.046095        0.000171   \n",
            "Potentiel_prenom_19        0.000616        0.027163        0.000032   \n",
            "Potentiel_prenom_20        0.003504        0.034384        0.001520   \n",
            "Potentiel_prenom_21        0.000306        0.000011        0.000077   \n",
            "\n",
            "                     col_cos2_dim16  col_cos2_dim17  col_cos2_dim18  \\\n",
            "TypeHabi_01                0.001128        0.000009        0.000139   \n",
            "TypeHabi_02                0.001375        0.000157        0.001405   \n",
            "TypeHabi_03                0.000061        0.000224        0.001813   \n",
            "TypeHabi_04                0.000127        0.000006        0.000489   \n",
            "GeoFaz_Scl_11              0.000075        0.000622        0.000002   \n",
            "...                             ...             ...             ...   \n",
            "Potentiel_prenom_17        0.000134        0.003013        0.007447   \n",
            "Potentiel_prenom_18        0.000314        0.014117        0.054653   \n",
            "Potentiel_prenom_19        0.149667        0.012520        0.000052   \n",
            "Potentiel_prenom_20        0.000268        0.000936        0.000359   \n",
            "Potentiel_prenom_21        0.000019        0.000714        0.000028   \n",
            "\n",
            "                     col_cos2_dim19  col_cos2_dim20  col_cos2_dim21  \\\n",
            "TypeHabi_01                0.002097        0.013979        0.003402   \n",
            "TypeHabi_02                0.003612        0.024001        0.006195   \n",
            "TypeHabi_03                0.000786        0.005067        0.001558   \n",
            "TypeHabi_04                0.000103        0.000379        0.000300   \n",
            "GeoFaz_Scl_11              0.000002        0.000179        0.000017   \n",
            "...                             ...             ...             ...   \n",
            "Potentiel_prenom_17        0.000558        0.000627        0.004557   \n",
            "Potentiel_prenom_18        0.041656        0.051883        0.003238   \n",
            "Potentiel_prenom_19        0.025319        0.025618        0.000036   \n",
            "Potentiel_prenom_20        0.007431        0.000150        0.001701   \n",
            "Potentiel_prenom_21        0.000002        0.000650        0.000048   \n",
            "\n",
            "                     col_cos2_dim22  col_cos2_dim23  col_cos2_dim24  \\\n",
            "TypeHabi_01                0.029531        0.017461        0.000024   \n",
            "TypeHabi_02                0.050980        0.028721        0.000309   \n",
            "TypeHabi_03                0.010954        0.005227        0.000359   \n",
            "TypeHabi_04                0.000942        0.000054        0.000029   \n",
            "GeoFaz_Scl_11              0.001502        0.000321        0.000015   \n",
            "...                             ...             ...             ...   \n",
            "Potentiel_prenom_17        0.000943        0.001220        0.008275   \n",
            "Potentiel_prenom_18        0.000009        0.000158        0.004850   \n",
            "Potentiel_prenom_19        0.000013        0.045158        0.004864   \n",
            "Potentiel_prenom_20        0.019408        0.042515        0.017167   \n",
            "Potentiel_prenom_21        0.000039        0.000045        0.000026   \n",
            "\n",
            "                     col_cos2_dim25  col_cos2_dim26  col_cos2_dim27  \\\n",
            "TypeHabi_01                0.000444        0.001589        0.000006   \n",
            "TypeHabi_02                0.001671        0.002930        0.000578   \n",
            "TypeHabi_03                0.001018        0.000634        0.001118   \n",
            "TypeHabi_04                0.000004        0.000052        0.000043   \n",
            "GeoFaz_Scl_11              0.000279        0.000194        0.000400   \n",
            "...                             ...             ...             ...   \n",
            "Potentiel_prenom_17        0.005185        0.005954        0.019033   \n",
            "Potentiel_prenom_18        0.011387        0.006124        0.000538   \n",
            "Potentiel_prenom_19        0.010075        0.000335        0.010871   \n",
            "Potentiel_prenom_20        0.011311        0.000063        0.005078   \n",
            "Potentiel_prenom_21        0.000001        0.000017        0.000570   \n",
            "\n",
            "                     col_cos2_dim28  col_cos2_dim29  col_cos2_dim30  \\\n",
            "TypeHabi_01                0.001004    1.408991e-04        0.000774   \n",
            "TypeHabi_02                0.005748    4.795626e-09        0.001939   \n",
            "TypeHabi_03                0.004514    1.936203e-04        0.000719   \n",
            "TypeHabi_04                0.000483    4.564419e-04        0.000037   \n",
            "GeoFaz_Scl_11              0.000160    2.764010e-03        0.000535   \n",
            "...                             ...             ...             ...   \n",
            "Potentiel_prenom_17        0.000910    7.260197e-04        0.000026   \n",
            "Potentiel_prenom_18        0.000036    3.525258e-04        0.001918   \n",
            "Potentiel_prenom_19        0.001372    1.298614e-06        0.000464   \n",
            "Potentiel_prenom_20        0.001520    1.116208e-04        0.000273   \n",
            "Potentiel_prenom_21        0.000041    1.123415e-05        0.000011   \n",
            "\n",
            "                     col_cos2_dim31  col_cos2_dim32  col_cos2_dim33  \\\n",
            "TypeHabi_01                0.001623    1.087614e-03        0.047975   \n",
            "TypeHabi_02                0.003756    2.716941e-03        0.080960   \n",
            "TypeHabi_03                0.001174    9.977986e-04        0.014118   \n",
            "TypeHabi_04                0.000249    6.303319e-05        0.001679   \n",
            "GeoFaz_Scl_11              0.004923    7.213473e-03        0.068328   \n",
            "...                             ...             ...             ...   \n",
            "Potentiel_prenom_17        0.003489    3.045249e-03        0.001129   \n",
            "Potentiel_prenom_18        0.000358    3.328527e-03        0.000186   \n",
            "Potentiel_prenom_19        0.001679    7.181922e-04        0.000036   \n",
            "Potentiel_prenom_20        0.005190    1.020790e-04        0.000307   \n",
            "Potentiel_prenom_21        0.000030    9.063314e-07        0.000025   \n",
            "\n",
            "                     col_cos2_dim34  col_cos2_dim35  col_cos2_dim36  \\\n",
            "TypeHabi_01            1.898960e-04        0.005645        0.002075   \n",
            "TypeHabi_02            1.230140e-03        0.009660        0.001147   \n",
            "TypeHabi_03            1.118941e-03        0.001698        0.000182   \n",
            "TypeHabi_04            3.646469e-07        0.000353        0.000112   \n",
            "GeoFaz_Scl_11          1.886510e-06        0.007503        0.002355   \n",
            "...                             ...             ...             ...   \n",
            "Potentiel_prenom_17    8.824924e-04        0.002432        0.000446   \n",
            "Potentiel_prenom_18    1.227564e-03        0.001389        0.008290   \n",
            "Potentiel_prenom_19    6.836559e-05        0.003392        0.006281   \n",
            "Potentiel_prenom_20    5.166650e-03        0.000250        0.011777   \n",
            "Potentiel_prenom_21    7.934542e-05        0.000028        0.000500   \n",
            "\n",
            "                     col_cos2_dim37  col_cos2_dim38  col_cos2_dim39  \\\n",
            "TypeHabi_01                0.000203    1.078605e-03        0.000016   \n",
            "TypeHabi_02                0.000353    2.928067e-03        0.008416   \n",
            "TypeHabi_03                0.000066    1.267759e-03        0.017115   \n",
            "TypeHabi_04                0.000008    8.607053e-07        0.000093   \n",
            "GeoFaz_Scl_11              0.000120    1.682069e-03        0.000295   \n",
            "...                             ...             ...             ...   \n",
            "Potentiel_prenom_17        0.000068    5.452114e-03        0.000007   \n",
            "Potentiel_prenom_18        0.044148    4.623386e-04        0.000724   \n",
            "Potentiel_prenom_19        0.002136    7.305160e-03        0.030687   \n",
            "Potentiel_prenom_20        0.022519    1.493402e-03        0.009639   \n",
            "Potentiel_prenom_21        0.000019    8.440099e-06        0.000004   \n",
            "\n",
            "                     col_cos2_dim40  col_cos2_dim41  col_cos2_dim42  \\\n",
            "TypeHabi_01            3.413499e-04        0.000005        0.000122   \n",
            "TypeHabi_02            7.316406e-04        0.006669        0.007954   \n",
            "TypeHabi_03            4.438592e-03        0.014010        0.013669   \n",
            "TypeHabi_04            2.105085e-05        0.000048        0.000150   \n",
            "GeoFaz_Scl_11          4.014865e-04        0.000554        0.000805   \n",
            "...                             ...             ...             ...   \n",
            "Potentiel_prenom_17    3.105662e-04        0.002297        0.001205   \n",
            "Potentiel_prenom_18    2.138493e-03        0.000794        0.004172   \n",
            "Potentiel_prenom_19    2.247739e-07        0.017281        0.002760   \n",
            "Potentiel_prenom_20    8.907462e-04        0.000691        0.000099   \n",
            "Potentiel_prenom_21    1.627063e-04        0.000039        0.000168   \n",
            "\n",
            "                     col_cos2_dim43  col_cos2_dim44  col_cos2_dim45  \\\n",
            "TypeHabi_01                0.000180        0.000054        0.000032   \n",
            "TypeHabi_02                0.009171        0.003742        0.007501   \n",
            "TypeHabi_03                0.015145        0.010128        0.018501   \n",
            "TypeHabi_04                0.000252        0.000094        0.000184   \n",
            "GeoFaz_Scl_11              0.000428        0.000019        0.000412   \n",
            "...                             ...             ...             ...   \n",
            "Potentiel_prenom_17        0.000119        0.001492        0.000140   \n",
            "Potentiel_prenom_18        0.002005        0.001639        0.000584   \n",
            "Potentiel_prenom_19        0.000005        0.004911        0.000196   \n",
            "Potentiel_prenom_20        0.001780        0.005080        0.002798   \n",
            "Potentiel_prenom_21        0.000030        0.000091        0.000333   \n",
            "\n",
            "                     col_cos2_dim46  col_cos2_dim47  col_cos2_dim48  \\\n",
            "TypeHabi_01                0.003772        0.000915        0.001131   \n",
            "TypeHabi_02                0.015936        0.002667        0.001273   \n",
            "TypeHabi_03                0.076644        0.000944        0.010817   \n",
            "TypeHabi_04                0.000531        0.001618        0.001120   \n",
            "GeoFaz_Scl_11              0.001280        0.007680        0.004747   \n",
            "...                             ...             ...             ...   \n",
            "Potentiel_prenom_17        0.000005        0.000203        0.000009   \n",
            "Potentiel_prenom_18        0.000492        0.001121        0.000007   \n",
            "Potentiel_prenom_19        0.002855        0.010391        0.000024   \n",
            "Potentiel_prenom_20        0.000225        0.000537        0.000163   \n",
            "Potentiel_prenom_21        0.000009        0.000362        0.000049   \n",
            "\n",
            "                     col_cos2_dim49  col_cos2_dim50  col_cos2_dim51  \\\n",
            "TypeHabi_01                0.001727        0.001950        0.002279   \n",
            "TypeHabi_02                0.003310        0.002854        0.004501   \n",
            "TypeHabi_03                0.020718        0.020278        0.029407   \n",
            "TypeHabi_04                0.000006        0.000116        0.001690   \n",
            "GeoFaz_Scl_11              0.001225        0.001232        0.033590   \n",
            "...                             ...             ...             ...   \n",
            "Potentiel_prenom_17        0.000101        0.000482        0.000036   \n",
            "Potentiel_prenom_18        0.000292        0.000230        0.000912   \n",
            "Potentiel_prenom_19        0.005554        0.000006        0.000002   \n",
            "Potentiel_prenom_20        0.010320        0.005079        0.000111   \n",
            "Potentiel_prenom_21        0.000046        0.000080        0.000019   \n",
            "\n",
            "                     col_cos2_dim52  col_cos2_dim53  col_cos2_dim54  \\\n",
            "TypeHabi_01                0.002937        0.000034        0.000972   \n",
            "TypeHabi_02                0.003205        0.000215        0.000475   \n",
            "TypeHabi_03                0.025103        0.001110        0.005170   \n",
            "TypeHabi_04                0.000112        0.000763        0.000998   \n",
            "GeoFaz_Scl_11              0.000463        0.013996        0.000078   \n",
            "...                             ...             ...             ...   \n",
            "Potentiel_prenom_17        0.000125        0.000052        0.000290   \n",
            "Potentiel_prenom_18        0.000412        0.004907        0.005586   \n",
            "Potentiel_prenom_19        0.001818        0.000018        0.001360   \n",
            "Potentiel_prenom_20        0.000426        0.003469        0.000038   \n",
            "Potentiel_prenom_21        0.000046        0.000005        0.000038   \n",
            "\n",
            "                     col_cos2_dim55  \n",
            "TypeHabi_01            2.509618e-03  \n",
            "TypeHabi_02            1.864184e-03  \n",
            "TypeHabi_03            1.785722e-02  \n",
            "TypeHabi_04            5.981701e-06  \n",
            "GeoFaz_Scl_11          7.072210e-04  \n",
            "...                             ...  \n",
            "Potentiel_prenom_17    6.243598e-04  \n",
            "Potentiel_prenom_18    2.993389e-03  \n",
            "Potentiel_prenom_19    1.274901e-02  \n",
            "Potentiel_prenom_20    3.676108e-04  \n",
            "Potentiel_prenom_21    4.500076e-07  \n",
            "\n",
            "[269 rows x 165 columns]\n"
          ],
          "name": "stdout"
        }
      ]
    },
    {
      "cell_type": "code",
      "metadata": {
        "colab": {
          "base_uri": "https://localhost:8080/"
        },
        "id": "irARzF0d8es8",
        "outputId": "022a42ed-8a23-4eec-c201-f991cab58b3d"
      },
      "source": [
        "#nombre var. actives\n",
        "p = data.shape[1]-1\n",
        "print(p)\n",
        "#calcul des fonctions de projection\n",
        "fproj = np.zeros(acm.col_coord_.shape)\n",
        "#pour chaque colonne\n",
        "for j in range(fproj.shape[1]):\n",
        " fproj[:,j] = acm.col_coord_[:,j]/(p*np.sqrt(acm.eig_[0,j]))\n",
        "#affichage fonction\n",
        "print(fproj)\n",
        "#affichage plus avenant des deux premiers facteurs\n",
        "print(pd.DataFrame(fproj,index=acm.col_labels_))\n"
      ],
      "execution_count": 248,
      "outputs": [
        {
          "output_type": "stream",
          "text": [
            "15\n",
            "[[-4.03194814e-02  2.19774844e-02 -2.63664229e-02 ...  2.06432664e-03\n",
            "   1.11771512e-02 -1.79905235e-02]\n",
            " [ 2.25811525e-02 -1.15538013e-02  1.43945006e-02 ...  2.83668367e-03\n",
            "   4.23866664e-03 -8.41091479e-03]\n",
            " [-1.03327092e-02  4.48272079e-04 -3.54954701e-03 ... -2.03212088e-02\n",
            "  -4.40830161e-02  8.20577606e-02]\n",
            " ...\n",
            " [ 1.10028958e-01  2.12395484e-03 -3.75060491e-02 ...  4.11000502e-03\n",
            "  -3.62462305e-02  1.11160281e-01]\n",
            " [ 1.07866648e-01 -1.15751133e-03 -4.07555074e-02 ... -5.26706397e-02\n",
            "  -5.57811856e-03 -1.72642733e-02]\n",
            " [-5.00998466e-02  5.21034807e-01  1.55869622e-01 ...  2.54670179e-03\n",
            "  -6.85458678e-03  7.43904069e-04]]\n",
            "                           0         1         2         3         4   \\\n",
            "TypeHabi_01         -0.040319  0.021977 -0.026366  0.013628 -0.002041   \n",
            "TypeHabi_02          0.022581 -0.011554  0.014395 -0.006953  0.001297   \n",
            "TypeHabi_03         -0.010333  0.000448 -0.003550  0.002927 -0.002247   \n",
            "TypeHabi_04         -0.084081  0.171205 -0.167278 -0.176558  0.072989   \n",
            "GeoFaz_Scl_11        0.023372  0.002676  0.006182 -0.008148 -0.006835   \n",
            "...                       ...       ...       ...       ...       ...   \n",
            "Potentiel_prenom_17  0.157352  0.005281 -0.015099  0.156223  0.208192   \n",
            "Potentiel_prenom_18  0.133564  0.004267 -0.016725  0.076120  0.026668   \n",
            "Potentiel_prenom_19  0.110029  0.002124 -0.037506 -0.083238 -0.196657   \n",
            "Potentiel_prenom_20  0.107867 -0.001158 -0.040756 -0.098299 -0.195995   \n",
            "Potentiel_prenom_21 -0.050100  0.521035  0.155870 -0.082345  0.059176   \n",
            "\n",
            "                           5         6         7         8         9   \\\n",
            "TypeHabi_01          0.028720 -0.069610  0.060212 -0.031198  0.076929   \n",
            "TypeHabi_02         -0.008113  0.038604 -0.032821  0.018447 -0.042579   \n",
            "TypeHabi_03          0.011934 -0.011951  0.013059 -0.010117  0.015046   \n",
            "TypeHabi_04         -3.212756 -0.461776 -0.020499 -0.257566  0.337131   \n",
            "GeoFaz_Scl_11        0.007485 -0.019758  0.008332  0.003938  0.006108   \n",
            "...                       ...       ...       ...       ...       ...   \n",
            "Potentiel_prenom_17 -0.006883 -0.005891  0.056849 -0.023035 -0.037609   \n",
            "Potentiel_prenom_18  0.002308  0.004638  0.065253 -0.217998 -0.051768   \n",
            "Potentiel_prenom_19  0.010354 -0.060130 -0.069069  0.048558  0.029239   \n",
            "Potentiel_prenom_20  0.021645 -0.144576 -0.060397 -0.112013 -0.097609   \n",
            "Potentiel_prenom_21  0.030824  0.033697 -0.046666  0.010105 -0.039392   \n",
            "\n",
            "                           10        11        12        13        14  \\\n",
            "TypeHabi_01         -0.005929  0.022226 -0.045379  0.012156 -0.034586   \n",
            "TypeHabi_02          0.003907 -0.012921  0.025048 -0.004314  0.012059   \n",
            "TypeHabi_03         -0.004313  0.008580 -0.010210 -0.008714  0.024156   \n",
            "TypeHabi_04         -0.010424 -0.003780 -0.070412  0.029142  0.045562   \n",
            "GeoFaz_Scl_11        0.002622 -0.016140  0.024325 -0.045821  0.190387   \n",
            "...                       ...       ...       ...       ...       ...   \n",
            "Potentiel_prenom_17  0.119574 -0.146885 -0.160977  0.092620  0.041821   \n",
            "Potentiel_prenom_18 -0.033719  0.199011  0.157732 -0.157674 -0.009721   \n",
            "Potentiel_prenom_19  0.146235  0.007633 -0.017977 -0.123063 -0.004263   \n",
            "Potentiel_prenom_20 -0.165078 -0.140104 -0.039230  0.126637  0.026979   \n",
            "Potentiel_prenom_21 -0.001145  0.005983  0.014279  0.002849  0.007468   \n",
            "\n",
            "                           15        16        17        18        19  \\\n",
            "TypeHabi_01          0.009314 -0.000839  0.003329 -0.013077  0.034217   \n",
            "TypeHabi_02         -0.005576  0.001905 -0.005746  0.009311 -0.024322   \n",
            "TypeHabi_03          0.003689 -0.007163  0.020578 -0.013691  0.035226   \n",
            "TypeHabi_04          0.050280  0.011180 -0.100428  0.046532 -0.090523   \n",
            "GeoFaz_Scl_11       -0.007784 -0.022611  0.001156 -0.001197 -0.012541   \n",
            "...                       ...       ...       ...       ...       ...   \n",
            "Potentiel_prenom_17  0.007404  0.035438  0.056219 -0.015545  0.016704   \n",
            "Potentiel_prenom_18  0.013255  0.089720 -0.178131  0.157162  0.177744   \n",
            "Potentiel_prenom_19  0.294058  0.085906  0.005603 -0.124577 -0.126988   \n",
            "Potentiel_prenom_20 -0.011380  0.021485  0.013428 -0.061728 -0.008880   \n",
            "Potentiel_prenom_21  0.003750  0.023108  0.004608 -0.001159 -0.022778   \n",
            "\n",
            "                           20        21        22        23        24  \\\n",
            "TypeHabi_01         -0.016888  0.050282 -0.038922  0.001463 -0.006393   \n",
            "TypeHabi_02          0.012361 -0.035837  0.027078 -0.002859  0.006725   \n",
            "TypeHabi_03         -0.019538  0.052366 -0.036413  0.009714 -0.016546   \n",
            "TypeHabi_04          0.080562 -0.144250  0.034706  0.025930 -0.009519   \n",
            "GeoFaz_Scl_11        0.003864 -0.036696  0.017071  0.003819  0.016404   \n",
            "...                       ...       ...       ...       ...       ...   \n",
            "Potentiel_prenom_17 -0.045054  0.020710  0.023716  0.062872  0.050343   \n",
            "Potentiel_prenom_18  0.044420  0.002382 -0.009995  0.056298 -0.087259   \n",
            "Potentiel_prenom_19 -0.004782  0.002924 -0.171593  0.057318  0.083450   \n",
            "Potentiel_prenom_20 -0.029942  0.102207  0.152281 -0.098493  0.080872   \n",
            "Potentiel_prenom_21  0.006174 -0.005608  0.006078 -0.004746  0.001079   \n",
            "\n",
            "                           25        26        27        28        29  \\\n",
            "TypeHabi_01         -0.012100  0.000753  0.009786 -0.003682 -0.008674   \n",
            "TypeHabi_02          0.008914 -0.004007 -0.012705 -0.000012  0.007447   \n",
            "TypeHabi_03         -0.013072  0.017570  0.035491  0.007381 -0.014296   \n",
            "TypeHabi_04         -0.035022 -0.032393  0.109031  0.106462 -0.030393   \n",
            "GeoFaz_Scl_11        0.013700  0.019896 -0.012638  0.052779  0.023342   \n",
            "...                       ...       ...       ...       ...       ...   \n",
            "Potentiel_prenom_17  0.054004 -0.097733 -0.021485  0.019269  0.003633   \n",
            "Potentiel_prenom_18  0.064054 -0.019224  0.004969 -0.015704 -0.036819   \n",
            "Potentiel_prenom_19  0.015235 -0.087834  0.031366  0.000969  0.018408   \n",
            "Potentiel_prenom_20 -0.006063 -0.054909  0.030200 -0.008217  0.012924   \n",
            "Potentiel_prenom_21 -0.003916  0.022663  0.006134  0.003211 -0.003206   \n",
            "\n",
            "                           30        31        32        33        34  \\\n",
            "TypeHabi_01         -0.012664  0.010429 -0.069575  0.004409 -0.024085   \n",
            "TypeHabi_02          0.010450 -0.008941  0.049027 -0.006088  0.017091   \n",
            "TypeHabi_03         -0.018417  0.017080 -0.064537  0.018302 -0.022590   \n",
            "TypeHabi_04         -0.079702  0.040330 -0.209061  0.003104 -0.096718   \n",
            "GeoFaz_Scl_11        0.071372 -0.086916  0.268710  0.001422  0.089864   \n",
            "...                       ...       ...       ...       ...       ...   \n",
            "Potentiel_prenom_17 -0.042800  0.040228  0.024606 -0.021913 -0.036444   \n",
            "Potentiel_prenom_18 -0.016033  0.049191 -0.011667  0.030227  0.032210   \n",
            "Potentiel_prenom_19  0.035309  0.023232  0.005209 -0.007253 -0.051183   \n",
            "Potentiel_prenom_20 -0.056775  0.008011 -0.013959  0.057668  0.012713   \n",
            "Potentiel_prenom_21  0.005292  0.000930 -0.004866  0.008801 -0.005229   \n",
            "\n",
            "                           35        36        37        38        39  \\\n",
            "TypeHabi_01          0.014666 -0.004655  0.010750 -0.001322  0.006173   \n",
            "TypeHabi_02         -0.005914  0.003324 -0.009608  0.016531  0.004902   \n",
            "TypeHabi_03         -0.007418 -0.004518  0.019929 -0.074309 -0.038063   \n",
            "TypeHabi_04          0.054675 -0.014665  0.004878 -0.051413  0.024626   \n",
            "GeoFaz_Scl_11       -0.050557  0.011592 -0.043446  0.018463 -0.021666   \n",
            "...                       ...       ...       ...       ...       ...   \n",
            "Potentiel_prenom_17  0.015669 -0.006224 -0.055719  0.002036 -0.013574   \n",
            "Potentiel_prenom_18 -0.079034  0.184879  0.018977  0.024100  0.041661   \n",
            "Potentiel_prenom_19  0.069947 -0.041343 -0.076696  0.159525  0.000434   \n",
            "Potentiel_prenom_20 -0.087600  0.122789 -0.031717 -0.081774 -0.025003   \n",
            "Potentiel_prenom_21 -0.022234 -0.004418  0.002936 -0.001964 -0.013161   \n",
            "\n",
            "                           40        41        42        43        44  \\\n",
            "TypeHabi_01         -0.000776  0.003729 -0.004544  0.002503 -0.001968   \n",
            "TypeHabi_02          0.014898 -0.016329  0.017597  0.011314 -0.016243   \n",
            "TypeHabi_03         -0.068067  0.067474 -0.071281 -0.058677  0.080414   \n",
            "TypeHabi_04         -0.037242  0.066367 -0.086397 -0.053239  0.075423   \n",
            "GeoFaz_Scl_11       -0.025626  0.030998 -0.022691  0.004847 -0.022704   \n",
            "...                       ...       ...       ...       ...       ...   \n",
            "Potentiel_prenom_17  0.037155  0.027012 -0.008526  0.030358  0.009441   \n",
            "Potentiel_prenom_18  0.025548  0.058780  0.040896 -0.037216  0.022520   \n",
            "Potentiel_prenom_19 -0.121200 -0.048612 -0.001974 -0.065505  0.013269   \n",
            "Potentiel_prenom_20  0.022170 -0.008422  0.035832 -0.060935 -0.045859   \n",
            "Potentiel_prenom_21  0.006513 -0.013503  0.005683 -0.010032  0.019497   \n",
            "\n",
            "                           45        46        47        48        49  \\\n",
            "TypeHabi_01          0.021263 -0.010547  0.011767 -0.014569  0.015500   \n",
            "TypeHabi_02          0.023707  0.009768  0.006770 -0.010942  0.010171   \n",
            "TypeHabi_03         -0.163887 -0.018317 -0.062210  0.086289 -0.085458   \n",
            "TypeHabi_04          0.128120 -0.225334  0.188042 -0.013690  0.060836   \n",
            "GeoFaz_Scl_11       -0.040078  0.098891  0.078000  0.039711  0.039860   \n",
            "...                       ...       ...       ...       ...       ...   \n",
            "Potentiel_prenom_17  0.001731 -0.011444  0.002397 -0.008139 -0.017761   \n",
            "Potentiel_prenom_18  0.020713  0.031477 -0.002569 -0.016164  0.014336   \n",
            "Potentiel_prenom_19  0.050716  0.097440 -0.004737 -0.071630 -0.002374   \n",
            "Potentiel_prenom_20  0.013009 -0.020258 -0.011210  0.089302  0.062714   \n",
            "Potentiel_prenom_21 -0.003122 -0.020489  0.007535  0.007306 -0.009670   \n",
            "\n",
            "                           50        51        52        53        54  \n",
            "TypeHabi_01         -0.016906 -0.019233  0.002064  0.011177 -0.017991  \n",
            "TypeHabi_02         -0.012888 -0.010898  0.002837  0.004239 -0.008411  \n",
            "TypeHabi_03          0.103847  0.096144 -0.020321 -0.044083  0.082058  \n",
            "TypeHabi_04         -0.233847  0.060407  0.158295 -0.181998  0.014109  \n",
            "GeoFaz_Scl_11       -0.210059 -0.024718  0.136542 -0.010265 -0.030907  \n",
            "...                       ...       ...       ...       ...       ...  \n",
            "Potentiel_prenom_17  0.004875 -0.009163  0.005919  0.014065 -0.020687  \n",
            "Potentiel_prenom_18 -0.028844  0.019429 -0.067363 -0.072259 -0.052977  \n",
            "Potentiel_prenom_19  0.001497  0.041481  0.004110 -0.036246  0.111160  \n",
            "Potentiel_prenom_20 -0.009349 -0.018376 -0.052671 -0.005578 -0.017264  \n",
            "Potentiel_prenom_21 -0.004707  0.007451  0.002547 -0.006855  0.000744  \n",
            "\n",
            "[269 rows x 55 columns]\n"
          ],
          "name": "stdout"
        }
      ]
    },
    {
      "cell_type": "code",
      "metadata": {
        "id": "TYbwi6XPom6o"
      },
      "source": [
        ""
      ],
      "execution_count": 248,
      "outputs": []
    },
    {
      "cell_type": "code",
      "metadata": {
        "id": "yk7314rJo8ss",
        "colab": {
          "base_uri": "https://localhost:8080/"
        },
        "outputId": "b9aace74-8ae4-4583-9e84-d8f19762a770"
      },
      "source": [
        "# affichafe des 10 premières lignes\n",
        "print(coord[:2,:])\n"
      ],
      "execution_count": 249,
      "outputs": [
        {
          "output_type": "stream",
          "text": [
            "[[ 0.06093485  0.10086818 -0.73007285 -0.44417444 -0.08987511  0.03850469\n",
            "  -0.30380395  1.10215093  0.81301489 -0.49341628  0.16389212  0.45675505\n",
            "  -0.12541652 -0.41596831  0.35720754 -0.11940425 -0.30648017  0.12737597\n",
            "   0.37534687  0.03156098 -0.5161587   0.17105054  0.01781923 -0.06195069\n",
            "  -0.49585682  0.6037199   0.41706127 -0.13682246  0.68998008  0.44156247\n",
            "  -0.09501994  0.07824083 -0.39445087  0.37558238 -0.18504068  0.46344109\n",
            "  -0.92951815 -1.19383291 -0.6199042  -1.05825348  0.84145438  0.10246373\n",
            "   0.20201483 -0.69938497  0.6755233  -0.07110608 -0.11499954 -0.73181506\n",
            "  -0.50746479  1.36949172 -0.23417539 -0.91151946 -0.26367653  0.04474027\n",
            "   0.71436347]\n",
            " [-0.05236679 -0.19415547 -0.01395386 -0.51651808 -0.37870646  0.28021493\n",
            "  -1.14921744  0.20819817 -0.95821915  0.28842749 -0.23179103 -0.87333204\n",
            "   0.69050649 -0.02425942 -0.03726352 -0.5350517   0.48726354  0.41106854\n",
            "  -0.23281814  0.026134    0.01983652  0.29965295  0.1056637   0.08279762\n",
            "   0.36869744  0.11148075  0.01447945  0.6588697   0.10923955  0.46518477\n",
            "  -0.11696593  0.3411706  -0.38099485  0.55947237 -0.18255744 -0.50774738\n",
            "   0.05026525 -0.16264585  0.10711378  0.02587022  0.39490369 -0.36707462\n",
            "   0.25630443 -0.05890482 -0.10398717  0.04521941 -0.26617591 -0.42606226\n",
            "   0.27549016  0.0202883   0.22373662 -0.13676899 -0.28117401  0.11211324\n",
            "  -0.00928357]]\n"
          ],
          "name": "stdout"
        }
      ]
    },
    {
      "cell_type": "code",
      "metadata": {
        "id": "XZXRt7tZSM2r",
        "colab": {
          "base_uri": "https://localhost:8080/"
        },
        "outputId": "5daf8c29-8919-4b68-d31c-552744e56c05"
      },
      "source": [
        "#print(data_sans_nan.shape)\n",
        "#print(coord_sans_nan.shape)\n",
        "#print(data_sans_nan.iloc[:,0])\n",
        "#dfff.isnull().sum(axis=0)\n",
        "data.info()"
      ],
      "execution_count": 250,
      "outputs": [
        {
          "output_type": "stream",
          "text": [
            "<class 'pandas.core.frame.DataFrame'>\n",
            "RangeIndex: 152510 entries, 0 to 152509\n",
            "Data columns (total 16 columns):\n",
            " #   Column              Non-Null Count   Dtype \n",
            "---  ------              --------------   ----- \n",
            " 0   IDENT               152510 non-null  object\n",
            " 1   TypeHabi            152510 non-null  object\n",
            " 2   GeoFaz_Scl          152510 non-null  object\n",
            " 3   Anciennete          152510 non-null  object\n",
            " 4   Logement_prix_m2    152510 non-null  object\n",
            " 5   Mediane_RFR         152510 non-null  object\n",
            " 6   Sexe                152510 non-null  object\n",
            " 7   Prenom_Phase_scl_H  152510 non-null  object\n",
            " 8   Prenom_Phase_scl_F  152510 non-null  object\n",
            " 9   Age_H               152510 non-null  object\n",
            " 10  Age_F               152510 non-null  object\n",
            " 11  Affinite_1          152510 non-null  object\n",
            " 12  Affinite_2          152510 non-null  object\n",
            " 13  Prenom_effectif     152510 non-null  object\n",
            " 14  Potentiel_prenom    152510 non-null  object\n",
            " 15  Top_mon             152510 non-null  object\n",
            "dtypes: object(16)\n",
            "memory usage: 18.6+ MB\n"
          ],
          "name": "stdout"
        }
      ]
    },
    {
      "cell_type": "code",
      "metadata": {
        "id": "NpZCCbB4VJmr",
        "colab": {
          "base_uri": "https://localhost:8080/"
        },
        "outputId": "3cf9e2ac-000b-4098-b68b-e259185c0db4"
      },
      "source": [
        "## ATTENTION\n",
        "# élimination des individus n'ayant pas de valeur pour la variable Top_mon\n",
        "data_sans_nan = data[(data.isnull()).sum(axis=1) == 0]\n",
        "coord_sans_nan = coord[(data.isnull()).sum(axis=1) == 0] # coordonnées\n",
        "\n",
        "#conversion du type de variable\n",
        "for i in range(1,data_sans_nan.shape[1]):\n",
        "    data_sans_nan.iloc[:,i]=data_sans_nan.iloc[:,i].astype(int) # essayer avec int64\n",
        "\n",
        "# création\n",
        "def creation_df_temp(data_sans_nan, coord_sans_nan):\n",
        "    dfff = pd.DataFrame()\n",
        "    dfff[\"IDENT\"] = data_sans_nan.iloc[:,0]\n",
        "    for i in range(coord_sans_nan.shape[1] ): #avant 10\n",
        "        dfff[str(i)]=coord_sans_nan[:,i]\n",
        "    dfff[\"Top_mon\"] = data_sans_nan.iloc[:,data_sans_nan.shape[1]-1].astype(int)\n",
        "    return dfff\n",
        "# stockage\n",
        "data_coord_nan = creation_df_temp(data_sans_nan, coord_sans_nan)\n",
        "data_coord_nan.info()\n",
        "#data_coord_nan = dfff \n",
        "\n",
        "# maintien des individus  n'ayant pas de valeur pour la variable Top_mon\n",
        "\n",
        "data_avec_nan = data\n",
        "coord_avec_nan = coord # coordonnées\n",
        "def creation_df_temp_2(data_sans_nan, coord_sans_nan):\n",
        "    dfff = pd.DataFrame()\n",
        "    dfff[\"IDENT\"] = data_sans_nan.iloc[:,0]\n",
        "    for i in range(coord_sans_nan.shape[1]): # avant 10\n",
        "        dfff[str(i)]=coord_sans_nan[:,i]\n",
        "\n",
        "    dfff[\"Top_mon\"] = data_sans_nan.iloc[:,data_sans_nan.shape[1]-1] #.astype(int)\n",
        "\n",
        "    dfff[\"Top_mon\"] = dfff[\"Top_mon\"].replace(1.0, '1')\n",
        "    dfff[\"Top_mon\"] = dfff[\"Top_mon\"].replace(2.0,'2')\n",
        "    #for j in range(data_sans_nan.shape[1]):\n",
        "    #    if dfff.iloc[j,10+1] == 2.0:\n",
        "    #        dfff.iloc[j,10+1] = 2\n",
        "    #    if dfff.iloc[j, 10+1] ==1.0:\n",
        "    #        dfff.iloc[j,10+1] =1\n",
        "\n",
        "    return dfff\n",
        "data_coord_avec_nan = creation_df_temp_2(data_avec_nan, coord_avec_nan)\n",
        "data_coord_avec_nan.info()\n",
        "\n"
      ],
      "execution_count": 251,
      "outputs": [
        {
          "output_type": "stream",
          "text": [
            "<class 'pandas.core.frame.DataFrame'>\n",
            "Int64Index: 152510 entries, 0 to 152509\n",
            "Data columns (total 57 columns):\n",
            " #   Column   Non-Null Count   Dtype  \n",
            "---  ------   --------------   -----  \n",
            " 0   IDENT    152510 non-null  object \n",
            " 1   0        152510 non-null  float64\n",
            " 2   1        152510 non-null  float64\n",
            " 3   2        152510 non-null  float64\n",
            " 4   3        152510 non-null  float64\n",
            " 5   4        152510 non-null  float64\n",
            " 6   5        152510 non-null  float64\n",
            " 7   6        152510 non-null  float64\n",
            " 8   7        152510 non-null  float64\n",
            " 9   8        152510 non-null  float64\n",
            " 10  9        152510 non-null  float64\n",
            " 11  10       152510 non-null  float64\n",
            " 12  11       152510 non-null  float64\n",
            " 13  12       152510 non-null  float64\n",
            " 14  13       152510 non-null  float64\n",
            " 15  14       152510 non-null  float64\n",
            " 16  15       152510 non-null  float64\n",
            " 17  16       152510 non-null  float64\n",
            " 18  17       152510 non-null  float64\n",
            " 19  18       152510 non-null  float64\n",
            " 20  19       152510 non-null  float64\n",
            " 21  20       152510 non-null  float64\n",
            " 22  21       152510 non-null  float64\n",
            " 23  22       152510 non-null  float64\n",
            " 24  23       152510 non-null  float64\n",
            " 25  24       152510 non-null  float64\n",
            " 26  25       152510 non-null  float64\n",
            " 27  26       152510 non-null  float64\n",
            " 28  27       152510 non-null  float64\n",
            " 29  28       152510 non-null  float64\n",
            " 30  29       152510 non-null  float64\n",
            " 31  30       152510 non-null  float64\n",
            " 32  31       152510 non-null  float64\n",
            " 33  32       152510 non-null  float64\n",
            " 34  33       152510 non-null  float64\n",
            " 35  34       152510 non-null  float64\n",
            " 36  35       152510 non-null  float64\n",
            " 37  36       152510 non-null  float64\n",
            " 38  37       152510 non-null  float64\n",
            " 39  38       152510 non-null  float64\n",
            " 40  39       152510 non-null  float64\n",
            " 41  40       152510 non-null  float64\n",
            " 42  41       152510 non-null  float64\n",
            " 43  42       152510 non-null  float64\n",
            " 44  43       152510 non-null  float64\n",
            " 45  44       152510 non-null  float64\n",
            " 46  45       152510 non-null  float64\n",
            " 47  46       152510 non-null  float64\n",
            " 48  47       152510 non-null  float64\n",
            " 49  48       152510 non-null  float64\n",
            " 50  49       152510 non-null  float64\n",
            " 51  50       152510 non-null  float64\n",
            " 52  51       152510 non-null  float64\n",
            " 53  52       152510 non-null  float64\n",
            " 54  53       152510 non-null  float64\n",
            " 55  54       152510 non-null  float64\n",
            " 56  Top_mon  152510 non-null  int64  \n",
            "dtypes: float64(55), int64(1), object(1)\n",
            "memory usage: 67.5+ MB\n",
            "<class 'pandas.core.frame.DataFrame'>\n",
            "RangeIndex: 152510 entries, 0 to 152509\n",
            "Data columns (total 57 columns):\n",
            " #   Column   Non-Null Count   Dtype  \n",
            "---  ------   --------------   -----  \n",
            " 0   IDENT    152510 non-null  object \n",
            " 1   0        152510 non-null  float64\n",
            " 2   1        152510 non-null  float64\n",
            " 3   2        152510 non-null  float64\n",
            " 4   3        152510 non-null  float64\n",
            " 5   4        152510 non-null  float64\n",
            " 6   5        152510 non-null  float64\n",
            " 7   6        152510 non-null  float64\n",
            " 8   7        152510 non-null  float64\n",
            " 9   8        152510 non-null  float64\n",
            " 10  9        152510 non-null  float64\n",
            " 11  10       152510 non-null  float64\n",
            " 12  11       152510 non-null  float64\n",
            " 13  12       152510 non-null  float64\n",
            " 14  13       152510 non-null  float64\n",
            " 15  14       152510 non-null  float64\n",
            " 16  15       152510 non-null  float64\n",
            " 17  16       152510 non-null  float64\n",
            " 18  17       152510 non-null  float64\n",
            " 19  18       152510 non-null  float64\n",
            " 20  19       152510 non-null  float64\n",
            " 21  20       152510 non-null  float64\n",
            " 22  21       152510 non-null  float64\n",
            " 23  22       152510 non-null  float64\n",
            " 24  23       152510 non-null  float64\n",
            " 25  24       152510 non-null  float64\n",
            " 26  25       152510 non-null  float64\n",
            " 27  26       152510 non-null  float64\n",
            " 28  27       152510 non-null  float64\n",
            " 29  28       152510 non-null  float64\n",
            " 30  29       152510 non-null  float64\n",
            " 31  30       152510 non-null  float64\n",
            " 32  31       152510 non-null  float64\n",
            " 33  32       152510 non-null  float64\n",
            " 34  33       152510 non-null  float64\n",
            " 35  34       152510 non-null  float64\n",
            " 36  35       152510 non-null  float64\n",
            " 37  36       152510 non-null  float64\n",
            " 38  37       152510 non-null  float64\n",
            " 39  38       152510 non-null  float64\n",
            " 40  39       152510 non-null  float64\n",
            " 41  40       152510 non-null  float64\n",
            " 42  41       152510 non-null  float64\n",
            " 43  42       152510 non-null  float64\n",
            " 44  43       152510 non-null  float64\n",
            " 45  44       152510 non-null  float64\n",
            " 46  45       152510 non-null  float64\n",
            " 47  46       152510 non-null  float64\n",
            " 48  47       152510 non-null  float64\n",
            " 49  48       152510 non-null  float64\n",
            " 50  49       152510 non-null  float64\n",
            " 51  50       152510 non-null  float64\n",
            " 52  51       152510 non-null  float64\n",
            " 53  52       152510 non-null  float64\n",
            " 54  53       152510 non-null  float64\n",
            " 55  54       152510 non-null  float64\n",
            " 56  Top_mon  152510 non-null  object \n",
            "dtypes: float64(55), object(2)\n",
            "memory usage: 66.3+ MB\n"
          ],
          "name": "stdout"
        }
      ]
    },
    {
      "cell_type": "code",
      "metadata": {
        "id": "LJ4G93RJxEdo"
      },
      "source": [
        ""
      ],
      "execution_count": 251,
      "outputs": []
    },
    {
      "cell_type": "code",
      "metadata": {
        "id": "CuvxB6-qYNzJ"
      },
      "source": [
        "from sklearn.discriminant_analysis import LinearDiscriminantAnalysis, QuadraticDiscriminantAnalysis\n",
        "\n",
        "from sklearn.metrics import f1_score, confusion_matrix, classification_report\n",
        "from sklearn.model_selection import train_test_split, learning_curve, GridSearchCV\n",
        "\n",
        "import imblearn\n",
        "from imblearn.combine import SMOTETomek\n",
        "from imblearn.under_sampling import TomekLinks\n",
        "from imblearn.over_sampling import SMOTE\n"
      ],
      "execution_count": 252,
      "outputs": []
    },
    {
      "cell_type": "code",
      "metadata": {
        "id": "7ksFu0t_cirJ"
      },
      "source": [
        "#data_coord_nan.shape\n",
        "#train_X_s.shape"
      ],
      "execution_count": 253,
      "outputs": []
    },
    {
      "cell_type": "code",
      "metadata": {
        "id": "S0jwerFqbXh-"
      },
      "source": [
        "#data_non_corr = elimination_val_corr(data)\n",
        "#nb_var = data_non_corr.shape[1] - 1\n",
        "nb_var = data_coord_nan.shape[1] - 1\n",
        "\n",
        "train_set, test_set = train_test_split(data_coord_nan, test_size = 0.2, random_state=0) # , stratify =data_coord_nan[\"IFI+\"] )\n",
        "\n",
        "train_X_s = (train_set.iloc[:,1:nb_var]).to_numpy()\n",
        "train_Y_s = np.asanyarray(train_set.iloc[:,nb_var])\n",
        "\n",
        "test_X_s = (test_set.iloc[:,1:nb_var]).to_numpy()\n",
        "test_Y_s = np.asanyarray(test_set.iloc[:,nb_var])\n",
        "\n",
        "# comme les résulats sont en overfitting :\n",
        "# Résultat du traitement sur le train set (under-sampling et over-sampling)\n",
        "#abc_test = pd.read_csv(\"/content/drive/MyDrive/spad_score_method_1/spad_projection_FDFTOT21/sans_val_corr_spad_under_over_sampling.txt\", delim_whitespace=\"\\t\", header = None, low_memory=False, dtype=\"Int64\" ) #, dtype='Int64')\n",
        "#abc_np = abc_test.to_numpy(dtype=\"Int64\")\n",
        "\n",
        "#X_resampled = abc_np[:,:-1]\n",
        "#y_resampled = abc_np[:, abc_np.shape[1] -1 ]\n"
      ],
      "execution_count": 254,
      "outputs": []
    },
    {
      "cell_type": "code",
      "metadata": {
        "colab": {
          "base_uri": "https://localhost:8080/",
          "height": 211
        },
        "id": "iMyvFOxwXgcu",
        "outputId": "8b7b02c3-513f-47dd-a6d1-5a264266225e"
      },
      "source": [
        "\n",
        "# dimension du train set\n",
        "print(\"Sans aucun traitement sur le train set : \" , np.unique(train_Y_s, return_counts=True))\n",
        "\n",
        "# diminution des données\n",
        "t2 = TomekLinks(random_state=0)\n",
        "X_resampled, y_resampled = t2.fit_resample(train_X_s[:,:nb_var] , train_Y_s )\n",
        "print(\"Après under-sampling : \", np.unique(y_resampled, return_counts=True ))\n",
        "\n",
        "# augmentation des données\n",
        "tl = SMOTE(random_state=0)\n",
        "X_resampled, y_resampled = tl.fit_resample(X_resampled, y_resampled )\n",
        "print(\"Après over-smapling : \" , np.unique(y_resampled, return_counts=True ))\n",
        "\n",
        "'''\n",
        "# enregistrement du nouveau train set car le traitement du under-sampling prendre du temps \n",
        "pd.DataFrame(np.concatenate((X_resampled, y_resampled.reshape((y_resampled.shape[0],1)) ),\n",
        "                            axis=1)).to_csv(\"/content/drive/MyDrive/spad_score_method_1/spad_projection_FDFTOT21/val_all_spad_under_over_sampling.txt\",\n",
        "                                            sep=\" \", index =False , header = False )\n",
        "'''"
      ],
      "execution_count": 255,
      "outputs": [
        {
          "output_type": "stream",
          "text": [
            "Sans aucun traitement sur le train set :  (array([1, 2]), array([24334, 97674]))\n"
          ],
          "name": "stdout"
        },
        {
          "output_type": "stream",
          "text": [
            "/usr/local/lib/python3.7/dist-packages/sklearn/utils/deprecation.py:87: FutureWarning: Function safe_indexing is deprecated; safe_indexing is deprecated in version 0.22 and will be removed in version 0.24.\n",
            "  warnings.warn(msg, category=FutureWarning)\n",
            "/usr/local/lib/python3.7/dist-packages/sklearn/utils/deprecation.py:87: FutureWarning: Function safe_indexing is deprecated; safe_indexing is deprecated in version 0.22 and will be removed in version 0.24.\n",
            "  warnings.warn(msg, category=FutureWarning)\n"
          ],
          "name": "stderr"
        },
        {
          "output_type": "stream",
          "text": [
            "Après under-sampling :  (array([1, 2]), array([24334, 89641]))\n",
            "Après over-smapling :  (array([1, 2]), array([89641, 89641]))\n"
          ],
          "name": "stdout"
        },
        {
          "output_type": "execute_result",
          "data": {
            "application/vnd.google.colaboratory.intrinsic+json": {
              "type": "string"
            },
            "text/plain": [
              "'\\n# enregistrement du nouveau train set car le traitement du under-sampling prendre du temps \\npd.DataFrame(np.concatenate((X_resampled, y_resampled.reshape((y_resampled.shape[0],1)) ),\\n                            axis=1)).to_csv(\"/content/drive/MyDrive/spad_score_method_1/spad_projection_FDFTOT21/val_all_spad_under_over_sampling.txt\",\\n                                            sep=\" \", index =False , header = False )\\n'"
            ]
          },
          "metadata": {
            "tags": []
          },
          "execution_count": 255
        }
      ]
    },
    {
      "cell_type": "code",
      "metadata": {
        "id": "uTPZVCiaFPYp"
      },
      "source": [
        ""
      ],
      "execution_count": 255,
      "outputs": []
    },
    {
      "cell_type": "code",
      "metadata": {
        "colab": {
          "base_uri": "https://localhost:8080/"
        },
        "id": "tLasso34-MXx",
        "outputId": "7b05e6f7-05cc-4487-9dbc-a86d4d5013b5"
      },
      "source": [
        "model_LinearDiscriminantAnalysis = LinearDiscriminantAnalysis()\n",
        "param = {\"solver\" : [\"svd\",\"lsqr\", \"eigen\"], \"tol\" : [0.00001,0.0001,0.001,0.01]}\n",
        "\n",
        "grid_LinearDiscriminantAnalysis = GridSearchCV(model_LinearDiscriminantAnalysis, param_grid= param, cv = 4, scoring = \"f1\")\n",
        "resultat_grid_LinearDiscriminantAnalysis = grid_LinearDiscriminantAnalysis.fit(X_resampled, y_resampled)\n",
        "resultat_grid_LinearDiscriminantAnalysis.best_params_ "
      ],
      "execution_count": 256,
      "outputs": [
        {
          "output_type": "execute_result",
          "data": {
            "text/plain": [
              "{'solver': 'svd', 'tol': 1e-05}"
            ]
          },
          "metadata": {
            "tags": []
          },
          "execution_count": 256
        }
      ]
    },
    {
      "cell_type": "code",
      "metadata": {
        "colab": {
          "base_uri": "https://localhost:8080/"
        },
        "id": "mtwy_DkreMi8",
        "outputId": "eb2b334c-f708-4b41-b947-e9c2d57b11c3"
      },
      "source": [
        "final_model_ADL = LinearDiscriminantAnalysis()  # la valeur par defaut de la tolérence donne le même résultat que tol=1e-5\n",
        "evaluation(final_model_ADL, X_resampled, y_resampled, test_X_s, test_Y_s, scoring = \"recall\", plot=False)"
      ],
      "execution_count": 257,
      "outputs": [
        {
          "output_type": "stream",
          "text": [
            "test set : \n",
            "[[ 3592  2513]\n",
            " [ 9364 15033]]\n",
            "              precision    recall  f1-score   support\n",
            "\n",
            "           1       0.28      0.59      0.38      6105\n",
            "           2       0.86      0.62      0.72     24397\n",
            "\n",
            "    accuracy                           0.61     30502\n",
            "   macro avg       0.57      0.60      0.55     30502\n",
            "weighted avg       0.74      0.61      0.65     30502\n",
            "\n",
            "train set : \n",
            "[[53876 35765]\n",
            " [33817 55824]]\n",
            "              precision    recall  f1-score   support\n",
            "\n",
            "           1       0.61      0.60      0.61     89641\n",
            "           2       0.61      0.62      0.62     89641\n",
            "\n",
            "    accuracy                           0.61    179282\n",
            "   macro avg       0.61      0.61      0.61    179282\n",
            "weighted avg       0.61      0.61      0.61    179282\n",
            "\n",
            "GRAPHIQUE NON DEMANDE\n"
          ],
          "name": "stdout"
        }
      ]
    },
    {
      "cell_type": "code",
      "metadata": {
        "id": "YOVl16Po611_"
      },
      "source": [
        ""
      ],
      "execution_count": 257,
      "outputs": []
    },
    {
      "cell_type": "code",
      "metadata": {
        "colab": {
          "base_uri": "https://localhost:8080/"
        },
        "id": "aiN9NNXgjtkO",
        "outputId": "c6d08b84-d681-4745-99cc-77f2353ff0d0"
      },
      "source": [
        "#classe pour l'analyse discriminante\n",
        "\n",
        "#instanciation\n",
        "adl = LinearDiscriminantAnalysis()\n",
        "#apprentissage\n",
        "adl.fit(coord_sans_nan,data_sans_nan[\"Top_mon\"])"
      ],
      "execution_count": 258,
      "outputs": [
        {
          "output_type": "execute_result",
          "data": {
            "text/plain": [
              "LinearDiscriminantAnalysis(n_components=None, priors=None, shrinkage=None,\n",
              "                           solver='svd', store_covariance=False, tol=0.0001)"
            ]
          },
          "metadata": {
            "tags": []
          },
          "execution_count": 258
        }
      ]
    },
    {
      "cell_type": "code",
      "metadata": {
        "id": "ixzqkiWMxz_6",
        "colab": {
          "base_uri": "https://localhost:8080/",
          "height": 423
        },
        "outputId": "69b7ea75-6e84-456b-d5fd-13c83a5f59c9"
      },
      "source": [
        "#reconstitution de la fonction sur indicatrices (multiplication)\n",
        "fpValues = np.dot(fproj,np.transpose(adl.coef_))\n",
        "#print(fpValues)\n",
        "#affichage plus joli\n",
        "pd.DataFrame(fpValues,index=acm.col_labels_)"
      ],
      "execution_count": 259,
      "outputs": [
        {
          "output_type": "execute_result",
          "data": {
            "text/html": [
              "<div>\n",
              "<style scoped>\n",
              "    .dataframe tbody tr th:only-of-type {\n",
              "        vertical-align: middle;\n",
              "    }\n",
              "\n",
              "    .dataframe tbody tr th {\n",
              "        vertical-align: top;\n",
              "    }\n",
              "\n",
              "    .dataframe thead th {\n",
              "        text-align: right;\n",
              "    }\n",
              "</style>\n",
              "<table border=\"1\" class=\"dataframe\">\n",
              "  <thead>\n",
              "    <tr style=\"text-align: right;\">\n",
              "      <th></th>\n",
              "      <th>0</th>\n",
              "    </tr>\n",
              "  </thead>\n",
              "  <tbody>\n",
              "    <tr>\n",
              "      <th>TypeHabi_01</th>\n",
              "      <td>-0.082089</td>\n",
              "    </tr>\n",
              "    <tr>\n",
              "      <th>TypeHabi_02</th>\n",
              "      <td>0.059112</td>\n",
              "    </tr>\n",
              "    <tr>\n",
              "      <th>TypeHabi_03</th>\n",
              "      <td>-0.077940</td>\n",
              "    </tr>\n",
              "    <tr>\n",
              "      <th>TypeHabi_04</th>\n",
              "      <td>-0.571176</td>\n",
              "    </tr>\n",
              "    <tr>\n",
              "      <th>GeoFaz_Scl_11</th>\n",
              "      <td>-0.037777</td>\n",
              "    </tr>\n",
              "    <tr>\n",
              "      <th>...</th>\n",
              "      <td>...</td>\n",
              "    </tr>\n",
              "    <tr>\n",
              "      <th>Potentiel_prenom_17</th>\n",
              "      <td>-0.025534</td>\n",
              "    </tr>\n",
              "    <tr>\n",
              "      <th>Potentiel_prenom_18</th>\n",
              "      <td>-0.052725</td>\n",
              "    </tr>\n",
              "    <tr>\n",
              "      <th>Potentiel_prenom_19</th>\n",
              "      <td>-0.105671</td>\n",
              "    </tr>\n",
              "    <tr>\n",
              "      <th>Potentiel_prenom_20</th>\n",
              "      <td>-0.181541</td>\n",
              "    </tr>\n",
              "    <tr>\n",
              "      <th>Potentiel_prenom_21</th>\n",
              "      <td>-0.213464</td>\n",
              "    </tr>\n",
              "  </tbody>\n",
              "</table>\n",
              "<p>269 rows × 1 columns</p>\n",
              "</div>"
            ],
            "text/plain": [
              "                            0\n",
              "TypeHabi_01         -0.082089\n",
              "TypeHabi_02          0.059112\n",
              "TypeHabi_03         -0.077940\n",
              "TypeHabi_04         -0.571176\n",
              "GeoFaz_Scl_11       -0.037777\n",
              "...                       ...\n",
              "Potentiel_prenom_17 -0.025534\n",
              "Potentiel_prenom_18 -0.052725\n",
              "Potentiel_prenom_19 -0.105671\n",
              "Potentiel_prenom_20 -0.181541\n",
              "Potentiel_prenom_21 -0.213464\n",
              "\n",
              "[269 rows x 1 columns]"
            ]
          },
          "metadata": {
            "tags": []
          },
          "execution_count": 259
        }
      ]
    },
    {
      "cell_type": "code",
      "metadata": {
        "id": "Hrn05BAzx0CO",
        "colab": {
          "base_uri": "https://localhost:8080/"
        },
        "outputId": "2457f916-5185-4bbf-99dd-c17128afea90"
      },
      "source": [
        "# TRAIN SET TEST SET\n",
        "vingtiles_tableau = vingtiles(model = final_model_ADL, data_orig = data_coord_nan, affichage=True,\n",
        "            save=True, path = \"/content/drive/MyDrive/spad_score_method_1/spad_projection_AAPOT21/Fichier_E_vingtiles_AA/train_test_ACM_ADL_55.xlsx\")"
      ],
      "execution_count": 260,
      "outputs": [
        {
          "output_type": "stream",
          "text": [
            "             IDENT     PROBA\n",
            "42884   0010109170  0.020043\n",
            "150520  0010380220  0.021610\n",
            "120755  0010307146  0.022287\n",
            "27586   0010070391  0.025801\n",
            "45339   0010116687  0.025839\n",
            "...            ...       ...\n",
            "1412    0010008132  0.906016\n",
            "106488  0010271237  0.906016\n",
            "148214  0010377693  0.906016\n",
            "84017   0010212947  0.906016\n",
            "146351  0010368914  0.906016\n",
            "\n",
            "[152510 rows x 2 columns]\n",
            "0.875610    73\n",
            "0.839527    73\n",
            "0.769640    44\n",
            "0.791079    39\n",
            "0.853709    37\n",
            "            ..\n",
            "0.831464     1\n",
            "0.354016     1\n",
            "0.415829     1\n",
            "0.500326     1\n",
            "0.184900     1\n",
            "Name: PROBA, Length: 144640, dtype: int64\n"
          ],
          "name": "stdout"
        },
        {
          "output_type": "stream",
          "text": [
            "/usr/local/lib/python3.7/dist-packages/ipykernel_launcher.py:119: SettingWithCopyWarning: \n",
            "A value is trying to be set on a copy of a slice from a DataFrame\n",
            "\n",
            "See the caveats in the documentation: https://pandas.pydata.org/pandas-docs/stable/user_guide/indexing.html#returning-a-view-versus-a-copy\n"
          ],
          "name": "stderr"
        },
        {
          "output_type": "stream",
          "text": [
            "             IDENT     PROBA        TRANCHES CLASSE\n",
            "42884   0010109170  0.020043  (0.019, 0.258]      1\n",
            "150520  0010380220  0.021610  (0.019, 0.258]      1\n",
            "120755  0010307146  0.022287  (0.019, 0.258]      1\n",
            "27586   0010070391  0.025801  (0.019, 0.258]      1\n",
            "45339   0010116687  0.025839  (0.019, 0.258]      1\n",
            "...            ...       ...             ...    ...\n",
            "1412    0010008132  0.906016  (0.712, 0.906]     20\n",
            "106488  0010271237  0.906016  (0.712, 0.906]     20\n",
            "148214  0010377693  0.906016  (0.712, 0.906]     20\n",
            "84017   0010212947  0.906016  (0.712, 0.906]     20\n",
            "146351  0010368914  0.906016  (0.712, 0.906]     20\n",
            "\n",
            "[152510 rows x 4 columns]\n",
            "Top_mon            1     2  TOTAL\n",
            "TRANCHES                         \n",
            "(0.019, 0.258]   604  7022   7626\n",
            "(0.258, 0.302]   752  6873   7625\n",
            "(0.302, 0.333]   890  6736   7626\n",
            "(0.333, 0.358]   932  6693   7625\n",
            "(0.358, 0.381]  1011  6615   7626\n",
            "(0.381, 0.401]  1142  6483   7625\n",
            "(0.401, 0.42]   1156  6470   7626\n",
            "(0.42, 0.438]   1234  6391   7625\n",
            "(0.438, 0.456]  1299  6327   7626\n",
            "(0.456, 0.474]  1322  6303   7625\n",
            "(0.474, 0.492]  1418  6207   7625\n",
            "(0.492, 0.51]   1505  6121   7626\n",
            "(0.51, 0.529]   1548  6077   7625\n",
            "(0.529, 0.55]   1560  6066   7626\n",
            "(0.55, 0.571]   1737  5888   7625\n",
            "(0.571, 0.596]  1789  5837   7626\n",
            "(0.596, 0.623]  1966  5659   7625\n",
            "(0.623, 0.659]  2246  5380   7626\n",
            "(0.659, 0.712]  2661  4965   7626\n",
            "(0.712, 0.906]  3667  3958   7625\n"
          ],
          "name": "stdout"
        }
      ]
    },
    {
      "cell_type": "code",
      "metadata": {
        "colab": {
          "base_uri": "https://localhost:8080/"
        },
        "id": "a6Jzy8ARodMH",
        "outputId": "7e9eaa2f-8794-41ab-f483-ca7851c7d38f"
      },
      "source": [
        "# TABLEAU MONTANT\n",
        "tableau_5_montant(vingtiles_tableau, data_montant_orig, affichage=True,\n",
        "            save=True, path = \"/content/drive/MyDrive/spad_score_method_1/spad_projection_AAPOT21/Fichier_E_vingtiles_AA/montant_ACM_ADL_55.xlsx\")"
      ],
      "execution_count": 261,
      "outputs": [
        {
          "output_type": "stream",
          "text": [
            "             IDENT     PROBA        TRANCHES CLASSE  SommeDeMONTANT_NUM\n",
            "0       0010109170  0.020043  (0.019, 0.258]      1               10.00\n",
            "1       0010380220  0.021610  (0.019, 0.258]      1               10.00\n",
            "2       0010307146  0.022287  (0.019, 0.258]      1               20.00\n",
            "3       0010070391  0.025801  (0.019, 0.258]      1               10.00\n",
            "4       0010116687  0.025839  (0.019, 0.258]      1               10.00\n",
            "...            ...       ...             ...    ...                 ...\n",
            "152505  0010008132  0.906016  (0.712, 0.906]     20             2500.00\n",
            "152506  0010271237  0.906016  (0.712, 0.906]     20             1400.00\n",
            "152507  0010377693  0.906016  (0.712, 0.906]     20               29.86\n",
            "152508  0010212947  0.906016  (0.712, 0.906]     20              100.00\n",
            "152509  0010368914  0.906016  (0.712, 0.906]     20               60.00\n",
            "\n",
            "[152134 rows x 5 columns]\n",
            "          TRANCHES Moyen_Somme TOTAL\n",
            "0   (0.019, 0.258]     28.0852  7626\n",
            "1   (0.258, 0.302]     32.8995  7622\n",
            "2   (0.302, 0.333]     34.8266  7626\n",
            "3   (0.333, 0.358]     35.6081  7623\n",
            "4   (0.358, 0.381]     37.1906  7622\n",
            "5   (0.381, 0.401]     40.0005  7622\n",
            "6    (0.401, 0.42]     38.6909  7620\n",
            "7    (0.42, 0.438]     40.9081  7623\n",
            "8   (0.438, 0.456]     42.4717  7618\n",
            "9   (0.456, 0.474]     41.1922  7617\n",
            "10  (0.474, 0.492]     43.8149  7620\n",
            "11   (0.492, 0.51]     47.4995  7623\n",
            "12   (0.51, 0.529]     49.6963  7623\n",
            "13   (0.529, 0.55]     48.7214  7616\n",
            "14   (0.55, 0.571]     52.5172  7615\n",
            "15  (0.571, 0.596]     57.0948  7618\n",
            "16  (0.596, 0.623]     60.3657  7609\n",
            "17  (0.623, 0.659]     75.4467  7598\n",
            "18  (0.659, 0.712]     95.3696  7579\n",
            "19  (0.712, 0.906]      185.56  7414\n"
          ],
          "name": "stdout"
        }
      ]
    },
    {
      "cell_type": "code",
      "metadata": {
        "id": "gDO7vRLUoLbI"
      },
      "source": [
        ""
      ],
      "execution_count": 261,
      "outputs": []
    },
    {
      "cell_type": "code",
      "metadata": {
        "id": "bzRRySpGoafi",
        "colab": {
          "base_uri": "https://localhost:8080/",
          "height": 70
        },
        "outputId": "206b2087-8490-472d-8881-ef067ef1cf17"
      },
      "source": [
        "\"\"\"\n",
        "# INDIVIDUS SANS TARGET\n",
        "vingtiles_ind_sans_target(model = final_model_ADL, data_orig= data_coord_avec_nan[(data_coord_avec_nan.isnull()).sum(axis=1) != 0], affichage=True,\n",
        "            save=False, path = \"/content/drive/MyDrive/spad_score_method_1/spad_projection_AAPOT21/Fichier_E_vingtiles_AA/ind_sans_target_ACM_ADL_55.xlsx\")\n",
        "\"\"\"            "
      ],
      "execution_count": 262,
      "outputs": [
        {
          "output_type": "execute_result",
          "data": {
            "application/vnd.google.colaboratory.intrinsic+json": {
              "type": "string"
            },
            "text/plain": [
              "'\\n# INDIVIDUS SANS TARGET\\nvingtiles_ind_sans_target(model = final_model_ADL, data_orig= data_coord_avec_nan[(data_coord_avec_nan.isnull()).sum(axis=1) != 0], affichage=True,\\n            save=False, path = \"/content/drive/MyDrive/spad_score_method_1/spad_projection_AAPOT21/Fichier_E_vingtiles_AA/ind_sans_target_ACM_ADL_55.xlsx\")\\n'"
            ]
          },
          "metadata": {
            "tags": []
          },
          "execution_count": 262
        }
      ]
    },
    {
      "cell_type": "code",
      "metadata": {
        "id": "Tgxw6vZHoah_"
      },
      "source": [
        ""
      ],
      "execution_count": 262,
      "outputs": []
    },
    {
      "cell_type": "code",
      "metadata": {
        "id": "jaVuYmyQoakO"
      },
      "source": [
        ""
      ],
      "execution_count": 262,
      "outputs": []
    },
    {
      "cell_type": "code",
      "metadata": {
        "id": "td8tREtarT8x",
        "colab": {
          "base_uri": "https://localhost:8080/"
        },
        "outputId": "125483d9-8b37-4a3d-fef5-efbaf6035f05"
      },
      "source": [
        "model_ADQ = QuadraticDiscriminantAnalysis()\n",
        "evaluation(model_ADQ, X_resampled, y_resampled, test_X_s, test_Y_s, scoring = \"f1\", plot=False)\n"
      ],
      "execution_count": 263,
      "outputs": [
        {
          "output_type": "stream",
          "text": [
            "test set : \n",
            "[[ 4974  1131]\n",
            " [16567  7830]]\n",
            "              precision    recall  f1-score   support\n",
            "\n",
            "           1       0.23      0.81      0.36      6105\n",
            "           2       0.87      0.32      0.47     24397\n",
            "\n",
            "    accuracy                           0.42     30502\n",
            "   macro avg       0.55      0.57      0.41     30502\n",
            "weighted avg       0.75      0.42      0.45     30502\n",
            "\n",
            "train set : \n",
            "[[74688 14953]\n",
            " [60253 29388]]\n",
            "              precision    recall  f1-score   support\n",
            "\n",
            "           1       0.55      0.83      0.67     89641\n",
            "           2       0.66      0.33      0.44     89641\n",
            "\n",
            "    accuracy                           0.58    179282\n",
            "   macro avg       0.61      0.58      0.55    179282\n",
            "weighted avg       0.61      0.58      0.55    179282\n",
            "\n",
            "GRAPHIQUE NON DEMANDE\n"
          ],
          "name": "stdout"
        }
      ]
    },
    {
      "cell_type": "code",
      "metadata": {
        "id": "ncpYOwNVqtX6",
        "colab": {
          "base_uri": "https://localhost:8080/"
        },
        "outputId": "e03189b1-9402-4df1-f305-84d774f8ce75"
      },
      "source": [
        "#data_coord_nan\n",
        "# TRAIN SET TEST SET\n",
        "vingtiles_tableau = vingtiles(model =model_ADQ, data_orig = data_coord_nan, affichage=True,\n",
        "            save=True, path = \"/content/drive/MyDrive/spad_score_method_1/spad_projection_AAPOT21/Fichier_E_vingtiles_AA/train_test_ACM_ADQ_55.xlsx\")"
      ],
      "execution_count": 264,
      "outputs": [
        {
          "output_type": "stream",
          "text": [
            "             IDENT  PROBA\n",
            "149874  0010379472    0.0\n",
            "121527  0010308005    0.0\n",
            "31302   0010081227    0.0\n",
            "132432  0010333382    0.0\n",
            "132446  0010333397    0.0\n",
            "...            ...    ...\n",
            "5192    0010018941    1.0\n",
            "70618   0010178016    1.0\n",
            "89833   0010226041    1.0\n",
            "25340   0010067908    1.0\n",
            "144938  0010367357    1.0\n",
            "\n",
            "[152510 rows x 2 columns]\n",
            "0.000000    439\n",
            "1.000000    309\n",
            "1.000000     73\n",
            "1.000000     73\n",
            "0.999998     39\n",
            "           ... \n",
            "0.970464      1\n",
            "0.999998      1\n",
            "0.577181      1\n",
            "0.924680      1\n",
            "0.001937      1\n",
            "Name: PROBA, Length: 143996, dtype: int64\n"
          ],
          "name": "stdout"
        },
        {
          "output_type": "stream",
          "text": [
            "/usr/local/lib/python3.7/dist-packages/ipykernel_launcher.py:119: SettingWithCopyWarning: \n",
            "A value is trying to be set on a copy of a slice from a DataFrame\n",
            "\n",
            "See the caveats in the documentation: https://pandas.pydata.org/pandas-docs/stable/user_guide/indexing.html#returning-a-view-versus-a-copy\n"
          ],
          "name": "stderr"
        },
        {
          "output_type": "stream",
          "text": [
            "             IDENT  PROBA               TRANCHES CLASSE\n",
            "149874  0010379472    0.0  (-1e-06, 1.95035e-12]      1\n",
            "121527  0010308005    0.0  (-1e-06, 1.95035e-12]      1\n",
            "31302   0010081227    0.0  (-1e-06, 1.95035e-12]      1\n",
            "132432  0010333382    0.0  (-1e-06, 1.95035e-12]      1\n",
            "132446  0010333397    0.0  (-1e-06, 1.95035e-12]      1\n",
            "...            ...    ...                    ...    ...\n",
            "5192    0010018941    1.0        (0.999997, 1.0]     20\n",
            "70618   0010178016    1.0        (0.999997, 1.0]     20\n",
            "89833   0010226041    1.0        (0.999997, 1.0]     20\n",
            "25340   0010067908    1.0        (0.999997, 1.0]     20\n",
            "144938  0010367357    1.0        (0.999997, 1.0]     20\n",
            "\n",
            "[152510 rows x 4 columns]\n",
            "Top_mon                        1     2  TOTAL\n",
            "TRANCHES                                     \n",
            "(-1e-06, 1.95035e-12]        684  6942   7626\n",
            "(1.95035e-12, 0.000577618]  1021  6604   7625\n",
            "(0.000577618, 0.0230814]    1012  6614   7626\n",
            "(0.0230814, 0.11972]        1017  6608   7625\n",
            "(0.11972, 0.315543]         1039  6587   7626\n",
            "(0.315543, 0.526962]         964  6661   7625\n",
            "(0.526962, 0.691793]        1121  6505   7626\n",
            "(0.691793, 0.812835]        1216  6409   7625\n",
            "(0.812835, 0.885362]        1218  6408   7626\n",
            "(0.885362, 0.926964]        1340  6285   7625\n",
            "(0.926964, 0.954119]        1388  6237   7625\n",
            "(0.954119, 0.972185]        1506  6120   7626\n",
            "(0.972185, 0.983615]        1520  6105   7625\n",
            "(0.983615, 0.991065]        1673  5953   7626\n",
            "(0.991065, 0.995254]        1667  5958   7625\n",
            "(0.995254, 0.997931]        1832  5794   7626\n",
            "(0.997931, 0.999295]        2106  5519   7625\n",
            "(0.999295, 0.99994]         2404  5222   7626\n",
            "(0.99994, 0.999997]         2336  5290   7626\n",
            "(0.999997, 1.0]             3375  4250   7625\n"
          ],
          "name": "stdout"
        }
      ]
    },
    {
      "cell_type": "code",
      "metadata": {
        "colab": {
          "base_uri": "https://localhost:8080/"
        },
        "id": "dH_0S2Q0oqiO",
        "outputId": "1c363f1f-fc35-4ff7-ea94-fda828e09cf4"
      },
      "source": [
        "# TABLEAU MONTANT\n",
        "tableau_5_montant(vingtiles_tableau, data_montant_orig, affichage=True,\n",
        "            save=True, path = \"/content/drive/MyDrive/spad_score_method_1/spad_projection_AAPOT21/Fichier_E_vingtiles_AA/montant_ACM_ADQ_55.xlsx\")"
      ],
      "execution_count": 265,
      "outputs": [
        {
          "output_type": "stream",
          "text": [
            "             IDENT  PROBA               TRANCHES CLASSE  SommeDeMONTANT_NUM\n",
            "0       0010379472    0.0  (-1e-06, 1.95035e-12]      1                10.0\n",
            "1       0010308005    0.0  (-1e-06, 1.95035e-12]      1                20.0\n",
            "2       0010081227    0.0  (-1e-06, 1.95035e-12]      1                10.0\n",
            "3       0010333382    0.0  (-1e-06, 1.95035e-12]      1                10.0\n",
            "4       0010333397    0.0  (-1e-06, 1.95035e-12]      1                10.0\n",
            "...            ...    ...                    ...    ...                 ...\n",
            "152504  0010225855    1.0        (0.999997, 1.0]     20              4544.4\n",
            "152505  0010018941    1.0        (0.999997, 1.0]     20                 5.0\n",
            "152507  0010226041    1.0        (0.999997, 1.0]     20                60.0\n",
            "152508  0010067908    1.0        (0.999997, 1.0]     20                10.0\n",
            "152509  0010367357    1.0        (0.999997, 1.0]     20                30.0\n",
            "\n",
            "[152134 rows x 5 columns]\n",
            "                      TRANCHES Moyen_Somme TOTAL\n",
            "0        (-1e-06, 1.95035e-12]      30.656  7623\n",
            "1   (1.95035e-12, 0.000577618]      39.666  7620\n",
            "2     (0.000577618, 0.0230814]     37.9568  7623\n",
            "3         (0.0230814, 0.11972]     36.0176  7623\n",
            "4          (0.11972, 0.315543]     39.2482  7625\n",
            "5         (0.315543, 0.526962]     35.3165  7623\n",
            "6         (0.526962, 0.691793]     38.7603  7622\n",
            "7         (0.691793, 0.812835]     42.3533  7620\n",
            "8         (0.812835, 0.885362]     39.7261  7623\n",
            "9         (0.885362, 0.926964]     42.0583  7622\n",
            "10        (0.926964, 0.954119]     45.4791  7618\n",
            "11        (0.954119, 0.972185]      45.513  7622\n",
            "12        (0.972185, 0.983615]     46.9054  7619\n",
            "13        (0.983615, 0.991065]     50.1824  7624\n",
            "14        (0.991065, 0.995254]     50.0398  7624\n",
            "15        (0.995254, 0.997931]     51.2441  7620\n",
            "16        (0.997931, 0.999295]     56.1185  7619\n",
            "17         (0.999295, 0.99994]     70.6096  7609\n",
            "18         (0.99994, 0.999997]     70.9504  7604\n",
            "19             (0.999997, 1.0]     221.274  7351\n"
          ],
          "name": "stdout"
        }
      ]
    },
    {
      "cell_type": "code",
      "metadata": {
        "id": "m_GYkyDqqtaA",
        "colab": {
          "base_uri": "https://localhost:8080/",
          "height": 70
        },
        "outputId": "3f98521d-39d6-440c-fe7f-7dca9833a376"
      },
      "source": [
        "\"\"\"\n",
        "# INDIVIDUS SANS TARGET\n",
        "vingtiles_ind_sans_target(model = model_ADQ, data_orig= data_coord_avec_nan[(data_coord_avec_nan.isnull()).sum(axis=1) != 0], affichage=True,\n",
        "            save=False, path = \"/content/drive/MyDrive/spad_score_method_1/spad_projection_AAPOT21/Fichier_E_vingtiles_AA/ind_sans_target_ACM_ADQ_55.xlsx\")\n",
        "\"\"\"            "
      ],
      "execution_count": 266,
      "outputs": [
        {
          "output_type": "execute_result",
          "data": {
            "application/vnd.google.colaboratory.intrinsic+json": {
              "type": "string"
            },
            "text/plain": [
              "'\\n# INDIVIDUS SANS TARGET\\nvingtiles_ind_sans_target(model = model_ADQ, data_orig= data_coord_avec_nan[(data_coord_avec_nan.isnull()).sum(axis=1) != 0], affichage=True,\\n            save=False, path = \"/content/drive/MyDrive/spad_score_method_1/spad_projection_AAPOT21/Fichier_E_vingtiles_AA/ind_sans_target_ACM_ADQ_55.xlsx\")\\n'"
            ]
          },
          "metadata": {
            "tags": []
          },
          "execution_count": 266
        }
      ]
    },
    {
      "cell_type": "code",
      "metadata": {
        "id": "OgVGcJpOh83C"
      },
      "source": [
        "###############################################################################\n",
        "###############################################################################"
      ],
      "execution_count": 230,
      "outputs": []
    },
    {
      "cell_type": "code",
      "metadata": {
        "colab": {
          "base_uri": "https://localhost:8080/",
          "height": 1000
        },
        "id": "GjEC3Y3AfrGT",
        "outputId": "61c731f9-09fb-4c7b-cae6-a0395cef0df3"
      },
      "source": [
        "# SANS UNDER-SAMPLING ET OVER-SAMPLING\n",
        "\n",
        "print(\"ADL test sans under-sampling et over_sampling\")\n",
        "test_model_ADL = LinearDiscriminantAnalysis()  # la valeur par defaut de la tolérence donne le même résultat que tol=1e-5\n",
        "evaluation(test_model_ADL, train_X_s, train_Y_s, test_X_s, test_Y_s, scoring = \"f1\", plot=False)\n",
        "\n",
        "print(\"ADQ test sans under-sampling et over_sampling\")\n",
        "test_model_ADQ = QuadraticDiscriminantAnalysis()  # la valeur par defaut de la tolérence donne le même résultat que tol=1e-5\n",
        "evaluation(test_model_ADQ, train_X_s, train_Y_s, test_X_s, test_Y_s, scoring = \"f1\", plot=False)\n",
        "\n",
        "vingtiles(model =test_model_ADQ, data_orig = data_coord_nan, affichage=True,\n",
        "          save=False, path = \" \")\n"
      ],
      "execution_count": 231,
      "outputs": [
        {
          "output_type": "stream",
          "text": [
            "ADL test sans under-sampling et over_sampling\n",
            "test set : \n",
            "[[  355  5750]\n",
            " [  304 24093]]\n",
            "              precision    recall  f1-score   support\n",
            "\n",
            "           1       0.54      0.06      0.10      6105\n",
            "           2       0.81      0.99      0.89     24397\n",
            "\n",
            "    accuracy                           0.80     30502\n",
            "   macro avg       0.67      0.52      0.50     30502\n",
            "weighted avg       0.75      0.80      0.73     30502\n",
            "\n",
            "train set : \n",
            "[[ 1486 22848]\n",
            " [ 1205 96469]]\n",
            "              precision    recall  f1-score   support\n",
            "\n",
            "           1       0.55      0.06      0.11     24334\n",
            "           2       0.81      0.99      0.89     97674\n",
            "\n",
            "    accuracy                           0.80    122008\n",
            "   macro avg       0.68      0.52      0.50    122008\n",
            "weighted avg       0.76      0.80      0.73    122008\n",
            "\n",
            "GRAPHIQUE NON DEMANDE\n",
            "ADQ test sans under-sampling et over_sampling\n",
            "test set : \n",
            "[[ 4363  1742]\n",
            " [13215 11182]]\n",
            "              precision    recall  f1-score   support\n",
            "\n",
            "           1       0.25      0.71      0.37      6105\n",
            "           2       0.87      0.46      0.60     24397\n",
            "\n",
            "    accuracy                           0.51     30502\n",
            "   macro avg       0.56      0.59      0.48     30502\n",
            "weighted avg       0.74      0.51      0.55     30502\n",
            "\n",
            "train set : \n",
            "[[17448  6886]\n",
            " [52801 44873]]\n",
            "              precision    recall  f1-score   support\n",
            "\n",
            "           1       0.25      0.72      0.37     24334\n",
            "           2       0.87      0.46      0.60     97674\n",
            "\n",
            "    accuracy                           0.51    122008\n",
            "   macro avg       0.56      0.59      0.48    122008\n",
            "weighted avg       0.74      0.51      0.55    122008\n",
            "\n",
            "GRAPHIQUE NON DEMANDE\n",
            "             IDENT  PROBA\n",
            "12254   0010033395    0.0\n",
            "120755  0010307146    0.0\n",
            "89860   0010226069    0.0\n",
            "145579  0010368105    0.0\n",
            "87263   0010223184    0.0\n",
            "...            ...    ...\n",
            "130429  0010331165    1.0\n",
            "7024    0010020903    1.0\n",
            "49438   0010127909    1.0\n",
            "94027   0010237334    1.0\n",
            "59704   0010152392    1.0\n",
            "\n",
            "[152510 rows x 2 columns]\n",
            "1.000000    301\n",
            "0.000000    261\n",
            "1.000000     73\n",
            "1.000000     73\n",
            "0.999987     39\n",
            "           ... \n",
            "0.381701      1\n",
            "0.954763      1\n",
            "0.482554      1\n",
            "0.708879      1\n",
            "0.975298      1\n",
            "Name: PROBA, Length: 144191, dtype: int64\n"
          ],
          "name": "stdout"
        },
        {
          "output_type": "stream",
          "text": [
            "/usr/local/lib/python3.7/dist-packages/ipykernel_launcher.py:119: SettingWithCopyWarning: \n",
            "A value is trying to be set on a copy of a slice from a DataFrame\n",
            "\n",
            "See the caveats in the documentation: https://pandas.pydata.org/pandas-docs/stable/user_guide/indexing.html#returning-a-view-versus-a-copy\n"
          ],
          "name": "stderr"
        },
        {
          "output_type": "stream",
          "text": [
            "             IDENT  PROBA              TRANCHES CLASSE\n",
            "12254   0010033395    0.0  (-1e-05, 5.8943e-11]      1\n",
            "120755  0010307146    0.0  (-1e-05, 5.8943e-11]      1\n",
            "89860   0010226069    0.0  (-1e-05, 5.8943e-11]      1\n",
            "145579  0010368105    0.0  (-1e-05, 5.8943e-11]      1\n",
            "87263   0010223184    0.0  (-1e-05, 5.8943e-11]      1\n",
            "...            ...    ...                   ...    ...\n",
            "130429  0010331165    1.0        (0.99997, 1.0]     20\n",
            "7024    0010020903    1.0        (0.99997, 1.0]     20\n",
            "49438   0010127909    1.0        (0.99997, 1.0]     20\n",
            "94027   0010237334    1.0        (0.99997, 1.0]     20\n",
            "59704   0010152392    1.0        (0.99997, 1.0]     20\n",
            "\n",
            "[152510 rows x 4 columns]\n",
            "Top_mon                      1     2  TOTAL\n",
            "TRANCHES                                   \n",
            "(-1e-05, 5.8943e-11]       675  6951   7626\n",
            "(5.8943e-11, 0.00080504]  1036  6589   7625\n",
            "(0.00080504, 0.012493]     994  6632   7626\n",
            "(0.012493, 0.046783]       986  6639   7625\n",
            "(0.046783, 0.11465]       1005  6621   7626\n",
            "(0.11465, 0.20461]         996  6629   7625\n",
            "(0.20461, 0.32093]        1133  6493   7626\n",
            "(0.32093, 0.44577]        1183  6442   7625\n",
            "(0.44577, 0.55657]        1287  6339   7626\n",
            "(0.55657, 0.66457]        1367  6258   7625\n",
            "(0.66457, 0.75809]        1395  6230   7625\n",
            "(0.75809, 0.82738]        1497  6129   7626\n",
            "(0.82738, 0.88683]        1516  6109   7625\n",
            "(0.88683, 0.93139]        1609  6017   7626\n",
            "(0.93139, 0.9602]         1677  5948   7625\n",
            "(0.9602, 0.97986]         1813  5813   7626\n",
            "(0.97986, 0.99312]        2170  5455   7625\n",
            "(0.99312, 0.99928]        2358  5268   7626\n",
            "(0.99928, 0.99997]        2382  5243   7625\n",
            "(0.99997, 1.0]            3360  4266   7626\n"
          ],
          "name": "stdout"
        },
        {
          "output_type": "execute_result",
          "data": {
            "text/html": [
              "<div>\n",
              "<style scoped>\n",
              "    .dataframe tbody tr th:only-of-type {\n",
              "        vertical-align: middle;\n",
              "    }\n",
              "\n",
              "    .dataframe tbody tr th {\n",
              "        vertical-align: top;\n",
              "    }\n",
              "\n",
              "    .dataframe thead th {\n",
              "        text-align: right;\n",
              "    }\n",
              "</style>\n",
              "<table border=\"1\" class=\"dataframe\">\n",
              "  <thead>\n",
              "    <tr style=\"text-align: right;\">\n",
              "      <th></th>\n",
              "      <th>IDENT</th>\n",
              "      <th>PROBA</th>\n",
              "      <th>TRANCHES</th>\n",
              "      <th>CLASSE</th>\n",
              "    </tr>\n",
              "  </thead>\n",
              "  <tbody>\n",
              "    <tr>\n",
              "      <th>12254</th>\n",
              "      <td>0010033395</td>\n",
              "      <td>0.0</td>\n",
              "      <td>(-1e-05, 5.8943e-11]</td>\n",
              "      <td>1</td>\n",
              "    </tr>\n",
              "    <tr>\n",
              "      <th>120755</th>\n",
              "      <td>0010307146</td>\n",
              "      <td>0.0</td>\n",
              "      <td>(-1e-05, 5.8943e-11]</td>\n",
              "      <td>1</td>\n",
              "    </tr>\n",
              "    <tr>\n",
              "      <th>89860</th>\n",
              "      <td>0010226069</td>\n",
              "      <td>0.0</td>\n",
              "      <td>(-1e-05, 5.8943e-11]</td>\n",
              "      <td>1</td>\n",
              "    </tr>\n",
              "    <tr>\n",
              "      <th>145579</th>\n",
              "      <td>0010368105</td>\n",
              "      <td>0.0</td>\n",
              "      <td>(-1e-05, 5.8943e-11]</td>\n",
              "      <td>1</td>\n",
              "    </tr>\n",
              "    <tr>\n",
              "      <th>87263</th>\n",
              "      <td>0010223184</td>\n",
              "      <td>0.0</td>\n",
              "      <td>(-1e-05, 5.8943e-11]</td>\n",
              "      <td>1</td>\n",
              "    </tr>\n",
              "    <tr>\n",
              "      <th>...</th>\n",
              "      <td>...</td>\n",
              "      <td>...</td>\n",
              "      <td>...</td>\n",
              "      <td>...</td>\n",
              "    </tr>\n",
              "    <tr>\n",
              "      <th>130429</th>\n",
              "      <td>0010331165</td>\n",
              "      <td>1.0</td>\n",
              "      <td>(0.99997, 1.0]</td>\n",
              "      <td>20</td>\n",
              "    </tr>\n",
              "    <tr>\n",
              "      <th>7024</th>\n",
              "      <td>0010020903</td>\n",
              "      <td>1.0</td>\n",
              "      <td>(0.99997, 1.0]</td>\n",
              "      <td>20</td>\n",
              "    </tr>\n",
              "    <tr>\n",
              "      <th>49438</th>\n",
              "      <td>0010127909</td>\n",
              "      <td>1.0</td>\n",
              "      <td>(0.99997, 1.0]</td>\n",
              "      <td>20</td>\n",
              "    </tr>\n",
              "    <tr>\n",
              "      <th>94027</th>\n",
              "      <td>0010237334</td>\n",
              "      <td>1.0</td>\n",
              "      <td>(0.99997, 1.0]</td>\n",
              "      <td>20</td>\n",
              "    </tr>\n",
              "    <tr>\n",
              "      <th>59704</th>\n",
              "      <td>0010152392</td>\n",
              "      <td>1.0</td>\n",
              "      <td>(0.99997, 1.0]</td>\n",
              "      <td>20</td>\n",
              "    </tr>\n",
              "  </tbody>\n",
              "</table>\n",
              "<p>152510 rows × 4 columns</p>\n",
              "</div>"
            ],
            "text/plain": [
              "             IDENT  PROBA              TRANCHES CLASSE\n",
              "12254   0010033395    0.0  (-1e-05, 5.8943e-11]      1\n",
              "120755  0010307146    0.0  (-1e-05, 5.8943e-11]      1\n",
              "89860   0010226069    0.0  (-1e-05, 5.8943e-11]      1\n",
              "145579  0010368105    0.0  (-1e-05, 5.8943e-11]      1\n",
              "87263   0010223184    0.0  (-1e-05, 5.8943e-11]      1\n",
              "...            ...    ...                   ...    ...\n",
              "130429  0010331165    1.0        (0.99997, 1.0]     20\n",
              "7024    0010020903    1.0        (0.99997, 1.0]     20\n",
              "49438   0010127909    1.0        (0.99997, 1.0]     20\n",
              "94027   0010237334    1.0        (0.99997, 1.0]     20\n",
              "59704   0010152392    1.0        (0.99997, 1.0]     20\n",
              "\n",
              "[152510 rows x 4 columns]"
            ]
          },
          "metadata": {
            "tags": []
          },
          "execution_count": 231
        }
      ]
    },
    {
      "cell_type": "code",
      "metadata": {
        "id": "zNo_JpzffrI-"
      },
      "source": [
        ""
      ],
      "execution_count": 191,
      "outputs": []
    },
    {
      "cell_type": "code",
      "metadata": {
        "id": "8kj3m4VlfrMh"
      },
      "source": [
        ""
      ],
      "execution_count": null,
      "outputs": []
    },
    {
      "cell_type": "code",
      "metadata": {
        "id": "-uG3-b8GPx1r"
      },
      "source": [
        "#################################################################################\n",
        "#################################################################################"
      ],
      "execution_count": null,
      "outputs": []
    },
    {
      "cell_type": "code",
      "metadata": {
        "id": "CfLeYRkTPx4H"
      },
      "source": [
        "import warnings\n",
        "warnings.filterwarnings(\"ignore\")"
      ],
      "execution_count": null,
      "outputs": []
    },
    {
      "cell_type": "code",
      "metadata": {
        "id": "igJQA-9ZjMDg"
      },
      "source": [
        "from scipy.stats import shapiro"
      ],
      "execution_count": 109,
      "outputs": []
    },
    {
      "cell_type": "code",
      "metadata": {
        "colab": {
          "base_uri": "https://localhost:8080/",
          "height": 1000
        },
        "id": "MRk4_z0vSTOS",
        "outputId": "1b4d66b4-e0e1-4643-88e0-f6c8fef64558"
      },
      "source": [
        "\n",
        "for i in range(0,15):\n",
        "    plt.figure(figsize=(5,8))\n",
        "    sns.distplot(coord_sans_nan[data_sans_nan.iloc[:,15]==1,i],hist=False) \n",
        "    sns.distplot(coord_sans_nan[data_sans_nan.iloc[:,15]==2,i],hist=False) \n",
        "    plt.xlim((-2.5,2.5))\n",
        "    plt.ylim((0,2))\n"
      ],
      "execution_count": 110,
      "outputs": [
        {
          "output_type": "stream",
          "text": [
            "/usr/local/lib/python3.7/dist-packages/seaborn/distributions.py:2557: FutureWarning: `distplot` is a deprecated function and will be removed in a future version. Please adapt your code to use either `displot` (a figure-level function with similar flexibility) or `kdeplot` (an axes-level function for kernel density plots).\n",
            "  warnings.warn(msg, FutureWarning)\n",
            "/usr/local/lib/python3.7/dist-packages/seaborn/distributions.py:2557: FutureWarning: `distplot` is a deprecated function and will be removed in a future version. Please adapt your code to use either `displot` (a figure-level function with similar flexibility) or `kdeplot` (an axes-level function for kernel density plots).\n",
            "  warnings.warn(msg, FutureWarning)\n",
            "/usr/local/lib/python3.7/dist-packages/seaborn/distributions.py:2557: FutureWarning: `distplot` is a deprecated function and will be removed in a future version. Please adapt your code to use either `displot` (a figure-level function with similar flexibility) or `kdeplot` (an axes-level function for kernel density plots).\n",
            "  warnings.warn(msg, FutureWarning)\n",
            "/usr/local/lib/python3.7/dist-packages/seaborn/distributions.py:2557: FutureWarning: `distplot` is a deprecated function and will be removed in a future version. Please adapt your code to use either `displot` (a figure-level function with similar flexibility) or `kdeplot` (an axes-level function for kernel density plots).\n",
            "  warnings.warn(msg, FutureWarning)\n",
            "/usr/local/lib/python3.7/dist-packages/seaborn/distributions.py:2557: FutureWarning: `distplot` is a deprecated function and will be removed in a future version. Please adapt your code to use either `displot` (a figure-level function with similar flexibility) or `kdeplot` (an axes-level function for kernel density plots).\n",
            "  warnings.warn(msg, FutureWarning)\n",
            "/usr/local/lib/python3.7/dist-packages/seaborn/distributions.py:2557: FutureWarning: `distplot` is a deprecated function and will be removed in a future version. Please adapt your code to use either `displot` (a figure-level function with similar flexibility) or `kdeplot` (an axes-level function for kernel density plots).\n",
            "  warnings.warn(msg, FutureWarning)\n",
            "/usr/local/lib/python3.7/dist-packages/seaborn/distributions.py:2557: FutureWarning: `distplot` is a deprecated function and will be removed in a future version. Please adapt your code to use either `displot` (a figure-level function with similar flexibility) or `kdeplot` (an axes-level function for kernel density plots).\n",
            "  warnings.warn(msg, FutureWarning)\n",
            "/usr/local/lib/python3.7/dist-packages/seaborn/distributions.py:2557: FutureWarning: `distplot` is a deprecated function and will be removed in a future version. Please adapt your code to use either `displot` (a figure-level function with similar flexibility) or `kdeplot` (an axes-level function for kernel density plots).\n",
            "  warnings.warn(msg, FutureWarning)\n",
            "/usr/local/lib/python3.7/dist-packages/seaborn/distributions.py:2557: FutureWarning: `distplot` is a deprecated function and will be removed in a future version. Please adapt your code to use either `displot` (a figure-level function with similar flexibility) or `kdeplot` (an axes-level function for kernel density plots).\n",
            "  warnings.warn(msg, FutureWarning)\n",
            "/usr/local/lib/python3.7/dist-packages/seaborn/distributions.py:2557: FutureWarning: `distplot` is a deprecated function and will be removed in a future version. Please adapt your code to use either `displot` (a figure-level function with similar flexibility) or `kdeplot` (an axes-level function for kernel density plots).\n",
            "  warnings.warn(msg, FutureWarning)\n",
            "/usr/local/lib/python3.7/dist-packages/seaborn/distributions.py:2557: FutureWarning: `distplot` is a deprecated function and will be removed in a future version. Please adapt your code to use either `displot` (a figure-level function with similar flexibility) or `kdeplot` (an axes-level function for kernel density plots).\n",
            "  warnings.warn(msg, FutureWarning)\n",
            "/usr/local/lib/python3.7/dist-packages/seaborn/distributions.py:2557: FutureWarning: `distplot` is a deprecated function and will be removed in a future version. Please adapt your code to use either `displot` (a figure-level function with similar flexibility) or `kdeplot` (an axes-level function for kernel density plots).\n",
            "  warnings.warn(msg, FutureWarning)\n",
            "/usr/local/lib/python3.7/dist-packages/seaborn/distributions.py:2557: FutureWarning: `distplot` is a deprecated function and will be removed in a future version. Please adapt your code to use either `displot` (a figure-level function with similar flexibility) or `kdeplot` (an axes-level function for kernel density plots).\n",
            "  warnings.warn(msg, FutureWarning)\n",
            "/usr/local/lib/python3.7/dist-packages/seaborn/distributions.py:2557: FutureWarning: `distplot` is a deprecated function and will be removed in a future version. Please adapt your code to use either `displot` (a figure-level function with similar flexibility) or `kdeplot` (an axes-level function for kernel density plots).\n",
            "  warnings.warn(msg, FutureWarning)\n",
            "/usr/local/lib/python3.7/dist-packages/seaborn/distributions.py:2557: FutureWarning: `distplot` is a deprecated function and will be removed in a future version. Please adapt your code to use either `displot` (a figure-level function with similar flexibility) or `kdeplot` (an axes-level function for kernel density plots).\n",
            "  warnings.warn(msg, FutureWarning)\n",
            "/usr/local/lib/python3.7/dist-packages/seaborn/distributions.py:2557: FutureWarning: `distplot` is a deprecated function and will be removed in a future version. Please adapt your code to use either `displot` (a figure-level function with similar flexibility) or `kdeplot` (an axes-level function for kernel density plots).\n",
            "  warnings.warn(msg, FutureWarning)\n",
            "/usr/local/lib/python3.7/dist-packages/seaborn/distributions.py:2557: FutureWarning: `distplot` is a deprecated function and will be removed in a future version. Please adapt your code to use either `displot` (a figure-level function with similar flexibility) or `kdeplot` (an axes-level function for kernel density plots).\n",
            "  warnings.warn(msg, FutureWarning)\n",
            "/usr/local/lib/python3.7/dist-packages/seaborn/distributions.py:2557: FutureWarning: `distplot` is a deprecated function and will be removed in a future version. Please adapt your code to use either `displot` (a figure-level function with similar flexibility) or `kdeplot` (an axes-level function for kernel density plots).\n",
            "  warnings.warn(msg, FutureWarning)\n",
            "/usr/local/lib/python3.7/dist-packages/seaborn/distributions.py:2557: FutureWarning: `distplot` is a deprecated function and will be removed in a future version. Please adapt your code to use either `displot` (a figure-level function with similar flexibility) or `kdeplot` (an axes-level function for kernel density plots).\n",
            "  warnings.warn(msg, FutureWarning)\n",
            "/usr/local/lib/python3.7/dist-packages/seaborn/distributions.py:2557: FutureWarning: `distplot` is a deprecated function and will be removed in a future version. Please adapt your code to use either `displot` (a figure-level function with similar flexibility) or `kdeplot` (an axes-level function for kernel density plots).\n",
            "  warnings.warn(msg, FutureWarning)\n",
            "/usr/local/lib/python3.7/dist-packages/seaborn/distributions.py:2557: FutureWarning: `distplot` is a deprecated function and will be removed in a future version. Please adapt your code to use either `displot` (a figure-level function with similar flexibility) or `kdeplot` (an axes-level function for kernel density plots).\n",
            "  warnings.warn(msg, FutureWarning)\n",
            "/usr/local/lib/python3.7/dist-packages/seaborn/distributions.py:2557: FutureWarning: `distplot` is a deprecated function and will be removed in a future version. Please adapt your code to use either `displot` (a figure-level function with similar flexibility) or `kdeplot` (an axes-level function for kernel density plots).\n",
            "  warnings.warn(msg, FutureWarning)\n",
            "/usr/local/lib/python3.7/dist-packages/seaborn/distributions.py:2557: FutureWarning: `distplot` is a deprecated function and will be removed in a future version. Please adapt your code to use either `displot` (a figure-level function with similar flexibility) or `kdeplot` (an axes-level function for kernel density plots).\n",
            "  warnings.warn(msg, FutureWarning)\n",
            "/usr/local/lib/python3.7/dist-packages/seaborn/distributions.py:2557: FutureWarning: `distplot` is a deprecated function and will be removed in a future version. Please adapt your code to use either `displot` (a figure-level function with similar flexibility) or `kdeplot` (an axes-level function for kernel density plots).\n",
            "  warnings.warn(msg, FutureWarning)\n",
            "/usr/local/lib/python3.7/dist-packages/seaborn/distributions.py:2557: FutureWarning: `distplot` is a deprecated function and will be removed in a future version. Please adapt your code to use either `displot` (a figure-level function with similar flexibility) or `kdeplot` (an axes-level function for kernel density plots).\n",
            "  warnings.warn(msg, FutureWarning)\n",
            "/usr/local/lib/python3.7/dist-packages/seaborn/distributions.py:2557: FutureWarning: `distplot` is a deprecated function and will be removed in a future version. Please adapt your code to use either `displot` (a figure-level function with similar flexibility) or `kdeplot` (an axes-level function for kernel density plots).\n",
            "  warnings.warn(msg, FutureWarning)\n",
            "/usr/local/lib/python3.7/dist-packages/seaborn/distributions.py:2557: FutureWarning: `distplot` is a deprecated function and will be removed in a future version. Please adapt your code to use either `displot` (a figure-level function with similar flexibility) or `kdeplot` (an axes-level function for kernel density plots).\n",
            "  warnings.warn(msg, FutureWarning)\n",
            "/usr/local/lib/python3.7/dist-packages/seaborn/distributions.py:2557: FutureWarning: `distplot` is a deprecated function and will be removed in a future version. Please adapt your code to use either `displot` (a figure-level function with similar flexibility) or `kdeplot` (an axes-level function for kernel density plots).\n",
            "  warnings.warn(msg, FutureWarning)\n",
            "/usr/local/lib/python3.7/dist-packages/seaborn/distributions.py:2557: FutureWarning: `distplot` is a deprecated function and will be removed in a future version. Please adapt your code to use either `displot` (a figure-level function with similar flexibility) or `kdeplot` (an axes-level function for kernel density plots).\n",
            "  warnings.warn(msg, FutureWarning)\n",
            "/usr/local/lib/python3.7/dist-packages/seaborn/distributions.py:2557: FutureWarning: `distplot` is a deprecated function and will be removed in a future version. Please adapt your code to use either `displot` (a figure-level function with similar flexibility) or `kdeplot` (an axes-level function for kernel density plots).\n",
            "  warnings.warn(msg, FutureWarning)\n"
          ],
          "name": "stderr"
        },
        {
          "output_type": "display_data",
          "data": {
            "image/png": "[encoded data removed]",
            "text/plain": [
              "<Figure size 360x576 with 1 Axes>"
            ]
          },
          "metadata": {
            "tags": [],
            "needs_background": "light"
          }
        },
        {
          "output_type": "display_data",
          "data": {
            "image/png": "[encoded data removed]",
            "text/plain": [
              "<Figure size 360x576 with 1 Axes>"
            ]
          },
          "metadata": {
            "tags": [],
            "needs_background": "light"
          }
        },
        {
          "output_type": "display_data",
          "data": {
            "image/png": "[encoded data removed]",
            "text/plain": [
              "<Figure size 360x576 with 1 Axes>"
            ]
          },
          "metadata": {
            "tags": [],
            "needs_background": "light"
          }
        },
        {
          "output_type": "display_data",
          "data": {
            "image/png": "[encoded data removed]",
            "text/plain": [
              "<Figure size 360x576 with 1 Axes>"
            ]
          },
          "metadata": {
            "tags": [],
            "needs_background": "light"
          }
        },
        {
          "output_type": "display_data",
          "data": {
            "image/png": "[encoded data removed]",
            "text/plain": [
              "<Figure size 360x576 with 1 Axes>"
            ]
          },
          "metadata": {
            "tags": [],
            "needs_background": "light"
          }
        },
        {
          "output_type": "display_data",
          "data": {
            "image/png": "[encoded data removed]",
            "text/plain": [
              "<Figure size 360x576 with 1 Axes>"
            ]
          },
          "metadata": {
            "tags": [],
            "needs_background": "light"
          }
        },
        {
          "output_type": "display_data",
          "data": {
            "image/png": "[encoded data removed]",
            "text/plain": [
              "<Figure size 360x576 with 1 Axes>"
            ]
          },
          "metadata": {
            "tags": [],
            "needs_background": "light"
          }
        },
        {
          "output_type": "display_data",
          "data": {
            "image/png": "[encoded data removed]",
            "text/plain": [
              "<Figure size 360x576 with 1 Axes>"
            ]
          },
          "metadata": {
            "tags": [],
            "needs_background": "light"
          }
        },
        {
          "output_type": "display_data",
          "data": {
            "image/png": "[encoded data removed]",
            "text/plain": [
              "<Figure size 360x576 with 1 Axes>"
            ]
          },
          "metadata": {
            "tags": [],
            "needs_background": "light"
          }
        },
        {
          "output_type": "display_data",
          "data": {
            "image/png": "[encoded data removed]",
            "text/plain": [
              "<Figure size 360x576 with 1 Axes>"
            ]
          },
          "metadata": {
            "tags": [],
            "needs_background": "light"
          }
        },
        {
          "output_type": "display_data",
          "data": {
            "image/png": "[encoded data removed]",
            "text/plain": [
              "<Figure size 360x576 with 1 Axes>"
            ]
          },
          "metadata": {
            "tags": [],
            "needs_background": "light"
          }
        },
        {
          "output_type": "display_data",
          "data": {
            "image/png": "[encoded data removed]",
            "text/plain": [
              "<Figure size 360x576 with 1 Axes>"
            ]
          },
          "metadata": {
            "tags": [],
            "needs_background": "light"
          }
        },
        {
          "output_type": "display_data",
          "data": {
            "image/png": "[encoded data removed]",
            "text/plain": [
              "<Figure size 360x576 with 1 Axes>"
            ]
          },
          "metadata": {
            "tags": [],
            "needs_background": "light"
          }
        },
        {
          "output_type": "display_data",
          "data": {
            "image/png": "[encoded data removed]",
            "text/plain": [
              "<Figure size 360x576 with 1 Axes>"
            ]
          },
          "metadata": {
            "tags": [],
            "needs_background": "light"
          }
        },
        {
          "output_type": "display_data",
          "data": {
            "image/png": "[encoded data removed]",
            "text/plain": [
              "<Figure size 360x576 with 1 Axes>"
            ]
          },
          "metadata": {
            "tags": [],
            "needs_background": "light"
          }
        }
      ]
    },
    {
      "cell_type": "code",
      "metadata": {
        "colab": {
          "base_uri": "https://localhost:8080/"
        },
        "id": "a2tNN4IFWJA9",
        "outputId": "01448da0-55b8-4984-820d-e7b49413b2df"
      },
      "source": [
        "for j in range(15):\n",
        "    print( shapiro(coord_sans_nan[data_sans_nan.iloc[:,15]==1,j]), shapiro(coord_sans_nan[data_sans_nan.iloc[:,15]==2,j]) )"
      ],
      "execution_count": 111,
      "outputs": [
        {
          "output_type": "stream",
          "text": [
            "/usr/local/lib/python3.7/dist-packages/scipy/stats/morestats.py:1676: UserWarning: p-value may not be accurate for N > 5000.\n",
            "  warnings.warn(\"p-value may not be accurate for N > 5000.\")\n",
            "/usr/local/lib/python3.7/dist-packages/scipy/stats/morestats.py:1676: UserWarning: p-value may not be accurate for N > 5000.\n",
            "  warnings.warn(\"p-value may not be accurate for N > 5000.\")\n",
            "/usr/local/lib/python3.7/dist-packages/scipy/stats/morestats.py:1676: UserWarning: p-value may not be accurate for N > 5000.\n",
            "  warnings.warn(\"p-value may not be accurate for N > 5000.\")\n",
            "/usr/local/lib/python3.7/dist-packages/scipy/stats/morestats.py:1676: UserWarning: p-value may not be accurate for N > 5000.\n",
            "  warnings.warn(\"p-value may not be accurate for N > 5000.\")\n",
            "/usr/local/lib/python3.7/dist-packages/scipy/stats/morestats.py:1676: UserWarning: p-value may not be accurate for N > 5000.\n",
            "  warnings.warn(\"p-value may not be accurate for N > 5000.\")\n",
            "/usr/local/lib/python3.7/dist-packages/scipy/stats/morestats.py:1676: UserWarning: p-value may not be accurate for N > 5000.\n",
            "  warnings.warn(\"p-value may not be accurate for N > 5000.\")\n",
            "/usr/local/lib/python3.7/dist-packages/scipy/stats/morestats.py:1676: UserWarning: p-value may not be accurate for N > 5000.\n",
            "  warnings.warn(\"p-value may not be accurate for N > 5000.\")\n",
            "/usr/local/lib/python3.7/dist-packages/scipy/stats/morestats.py:1676: UserWarning: p-value may not be accurate for N > 5000.\n",
            "  warnings.warn(\"p-value may not be accurate for N > 5000.\")\n",
            "/usr/local/lib/python3.7/dist-packages/scipy/stats/morestats.py:1676: UserWarning: p-value may not be accurate for N > 5000.\n",
            "  warnings.warn(\"p-value may not be accurate for N > 5000.\")\n",
            "/usr/local/lib/python3.7/dist-packages/scipy/stats/morestats.py:1676: UserWarning: p-value may not be accurate for N > 5000.\n",
            "  warnings.warn(\"p-value may not be accurate for N > 5000.\")\n",
            "/usr/local/lib/python3.7/dist-packages/scipy/stats/morestats.py:1676: UserWarning: p-value may not be accurate for N > 5000.\n",
            "  warnings.warn(\"p-value may not be accurate for N > 5000.\")\n",
            "/usr/local/lib/python3.7/dist-packages/scipy/stats/morestats.py:1676: UserWarning: p-value may not be accurate for N > 5000.\n",
            "  warnings.warn(\"p-value may not be accurate for N > 5000.\")\n",
            "/usr/local/lib/python3.7/dist-packages/scipy/stats/morestats.py:1676: UserWarning: p-value may not be accurate for N > 5000.\n",
            "  warnings.warn(\"p-value may not be accurate for N > 5000.\")\n",
            "/usr/local/lib/python3.7/dist-packages/scipy/stats/morestats.py:1676: UserWarning: p-value may not be accurate for N > 5000.\n",
            "  warnings.warn(\"p-value may not be accurate for N > 5000.\")\n",
            "/usr/local/lib/python3.7/dist-packages/scipy/stats/morestats.py:1676: UserWarning: p-value may not be accurate for N > 5000.\n",
            "  warnings.warn(\"p-value may not be accurate for N > 5000.\")\n",
            "/usr/local/lib/python3.7/dist-packages/scipy/stats/morestats.py:1676: UserWarning: p-value may not be accurate for N > 5000.\n",
            "  warnings.warn(\"p-value may not be accurate for N > 5000.\")\n",
            "/usr/local/lib/python3.7/dist-packages/scipy/stats/morestats.py:1676: UserWarning: p-value may not be accurate for N > 5000.\n",
            "  warnings.warn(\"p-value may not be accurate for N > 5000.\")\n"
          ],
          "name": "stderr"
        },
        {
          "output_type": "stream",
          "text": [
            "(0.9400959014892578, 0.0) (0.9459327459335327, 0.0)\n",
            "(0.5237278938293457, 0.0) (0.5481933355331421, 0.0)\n",
            "(0.8849930167198181, 0.0) (0.7459245920181274, 0.0)\n",
            "(0.9713298678398132, 0.0) (0.9716548919677734, 0.0)\n",
            "(0.9846040606498718, 0.0) (0.9869669079780579, 0.0)\n",
            "(0.15803945064544678, 0.0) (0.17652684450149536, 0.0)\n",
            "(0.9988471269607544, 1.0145431315802117e-13) (0.9988173842430115, 6.65370770224968e-26)\n",
            "(0.9965178370475769, 1.4597586321631845e-25) (0.9886163473129272, 0.0)\n",
            "(0.9854133725166321, 0.0) (0.9852766990661621, 0.0)\n",
            "(0.9952378869056702, 1.2304616703729529e-29) (0.9942613840103149, 0.0)\n",
            "(0.9483503103256226, 0.0) (0.9649373292922974, 0.0)\n",
            "(0.9922227263450623, 1.1599845552113861e-36) (0.9940491914749146, 0.0)\n",
            "(0.9950872659683228, 4.647572891625749e-30) (0.9949935674667358, 0.0)\n",
            "(0.9921479821205139, 8.310771606511681e-37) (0.9947836399078369, 0.0)\n",
            "(0.9675762057304382, 0.0) (0.9772742986679077, 0.0)\n"
          ],
          "name": "stdout"
        },
        {
          "output_type": "stream",
          "text": [
            "/usr/local/lib/python3.7/dist-packages/scipy/stats/morestats.py:1676: UserWarning: p-value may not be accurate for N > 5000.\n",
            "  warnings.warn(\"p-value may not be accurate for N > 5000.\")\n",
            "/usr/local/lib/python3.7/dist-packages/scipy/stats/morestats.py:1676: UserWarning: p-value may not be accurate for N > 5000.\n",
            "  warnings.warn(\"p-value may not be accurate for N > 5000.\")\n",
            "/usr/local/lib/python3.7/dist-packages/scipy/stats/morestats.py:1676: UserWarning: p-value may not be accurate for N > 5000.\n",
            "  warnings.warn(\"p-value may not be accurate for N > 5000.\")\n",
            "/usr/local/lib/python3.7/dist-packages/scipy/stats/morestats.py:1676: UserWarning: p-value may not be accurate for N > 5000.\n",
            "  warnings.warn(\"p-value may not be accurate for N > 5000.\")\n",
            "/usr/local/lib/python3.7/dist-packages/scipy/stats/morestats.py:1676: UserWarning: p-value may not be accurate for N > 5000.\n",
            "  warnings.warn(\"p-value may not be accurate for N > 5000.\")\n",
            "/usr/local/lib/python3.7/dist-packages/scipy/stats/morestats.py:1676: UserWarning: p-value may not be accurate for N > 5000.\n",
            "  warnings.warn(\"p-value may not be accurate for N > 5000.\")\n",
            "/usr/local/lib/python3.7/dist-packages/scipy/stats/morestats.py:1676: UserWarning: p-value may not be accurate for N > 5000.\n",
            "  warnings.warn(\"p-value may not be accurate for N > 5000.\")\n",
            "/usr/local/lib/python3.7/dist-packages/scipy/stats/morestats.py:1676: UserWarning: p-value may not be accurate for N > 5000.\n",
            "  warnings.warn(\"p-value may not be accurate for N > 5000.\")\n",
            "/usr/local/lib/python3.7/dist-packages/scipy/stats/morestats.py:1676: UserWarning: p-value may not be accurate for N > 5000.\n",
            "  warnings.warn(\"p-value may not be accurate for N > 5000.\")\n",
            "/usr/local/lib/python3.7/dist-packages/scipy/stats/morestats.py:1676: UserWarning: p-value may not be accurate for N > 5000.\n",
            "  warnings.warn(\"p-value may not be accurate for N > 5000.\")\n",
            "/usr/local/lib/python3.7/dist-packages/scipy/stats/morestats.py:1676: UserWarning: p-value may not be accurate for N > 5000.\n",
            "  warnings.warn(\"p-value may not be accurate for N > 5000.\")\n",
            "/usr/local/lib/python3.7/dist-packages/scipy/stats/morestats.py:1676: UserWarning: p-value may not be accurate for N > 5000.\n",
            "  warnings.warn(\"p-value may not be accurate for N > 5000.\")\n",
            "/usr/local/lib/python3.7/dist-packages/scipy/stats/morestats.py:1676: UserWarning: p-value may not be accurate for N > 5000.\n",
            "  warnings.warn(\"p-value may not be accurate for N > 5000.\")\n"
          ],
          "name": "stderr"
        }
      ]
    },
    {
      "cell_type": "code",
      "metadata": {
        "colab": {
          "base_uri": "https://localhost:8080/"
        },
        "id": "KRVPkZ9FWwm3",
        "outputId": "edb26893-2f9a-4e33-f8c9-bd0c6304b845"
      },
      "source": [
        "shapiro(coord_sans_nan[data_sans_nan.iloc[:,15]==1,:]), shapiro(coord_sans_nan[data_sans_nan.iloc[:,15]==2,:])"
      ],
      "execution_count": 112,
      "outputs": [
        {
          "output_type": "stream",
          "text": [
            "/usr/local/lib/python3.7/dist-packages/scipy/stats/morestats.py:1676: UserWarning: p-value may not be accurate for N > 5000.\n",
            "  warnings.warn(\"p-value may not be accurate for N > 5000.\")\n",
            "/usr/local/lib/python3.7/dist-packages/scipy/stats/morestats.py:1676: UserWarning: p-value may not be accurate for N > 5000.\n",
            "  warnings.warn(\"p-value may not be accurate for N > 5000.\")\n"
          ],
          "name": "stderr"
        },
        {
          "output_type": "execute_result",
          "data": {
            "text/plain": [
              "((0.9147318601608276, 0.0), (0.953933835029602, 0.0))"
            ]
          },
          "metadata": {
            "tags": []
          },
          "execution_count": 112
        }
      ]
    },
    {
      "cell_type": "code",
      "metadata": {
        "colab": {
          "base_uri": "https://localhost:8080/",
          "height": 283
        },
        "id": "mVEvl0WqW3yh",
        "outputId": "a790f42f-51dd-40e1-c633-316f2358faf1"
      },
      "source": [
        "plt.plot(coord_sans_nan[data_sans_nan.iloc[:,15]==2,1], coord_sans_nan[data_sans_nan.iloc[:,15]==2,0],\".\")\n",
        "plt.plot(coord_sans_nan[data_sans_nan.iloc[:,15]==1,1], coord_sans_nan[data_sans_nan.iloc[:,15]==1,0],\".\")"
      ],
      "execution_count": 113,
      "outputs": [
        {
          "output_type": "execute_result",
          "data": {
            "text/plain": [
              "[<matplotlib.lines.Line2D at 0x7f23574413d0>]"
            ]
          },
          "metadata": {
            "tags": []
          },
          "execution_count": 113
        },
        {
          "output_type": "display_data",
          "data": {
            "image/png": "[encoded data removed]",
            "text/plain": [
              "<Figure size 432x288 with 1 Axes>"
            ]
          },
          "metadata": {
            "tags": [],
            "needs_background": "light"
          }
        }
      ]
    },
    {
      "cell_type": "code",
      "metadata": {
        "colab": {
          "base_uri": "https://localhost:8080/",
          "height": 283
        },
        "id": "9vXfindOYYvk",
        "outputId": "dd94eae5-fd01-4394-86b0-73da83732e25"
      },
      "source": [
        "plt.plot(coord_sans_nan[data_sans_nan.iloc[:,15]==2,1], coord_sans_nan[data_sans_nan.iloc[:,15]==2,2],\".\")\n",
        "plt.plot(coord_sans_nan[data_sans_nan.iloc[:,15]==1,1], coord_sans_nan[data_sans_nan.iloc[:,15]==1,2],\".\")"
      ],
      "execution_count": 114,
      "outputs": [
        {
          "output_type": "execute_result",
          "data": {
            "text/plain": [
              "[<matplotlib.lines.Line2D at 0x7f23573a71d0>]"
            ]
          },
          "metadata": {
            "tags": []
          },
          "execution_count": 114
        },
        {
          "output_type": "display_data",
          "data": {
            "image/png": "[encoded data removed]",
            "text/plain": [
              "<Figure size 432x288 with 1 Axes>"
            ]
          },
          "metadata": {
            "tags": [],
            "needs_background": "light"
          }
        }
      ]
    },
    {
      "cell_type": "code",
      "metadata": {
        "colab": {
          "base_uri": "https://localhost:8080/",
          "height": 283
        },
        "id": "Sv0Ae6i9t9Q1",
        "outputId": "c6f9d67a-2f3a-49fd-b4ab-c7dd863675ab"
      },
      "source": [
        "plt.plot(coord_sans_nan[data_sans_nan.iloc[:,15]==2,0], coord_sans_nan[data_sans_nan.iloc[:,15]==2,2],\".\")\n",
        "plt.plot(coord_sans_nan[data_sans_nan.iloc[:,15]==1,0], coord_sans_nan[data_sans_nan.iloc[:,15]==1,2],\".\")"
      ],
      "execution_count": 115,
      "outputs": [
        {
          "output_type": "execute_result",
          "data": {
            "text/plain": [
              "[<matplotlib.lines.Line2D at 0x7f235738bd90>]"
            ]
          },
          "metadata": {
            "tags": []
          },
          "execution_count": 115
        },
        {
          "output_type": "display_data",
          "data": {
            "image/png": "[encoded data removed]",
            "text/plain": [
              "<Figure size 432x288 with 1 Axes>"
            ]
          },
          "metadata": {
            "tags": [],
            "needs_background": "light"
          }
        }
      ]
    },
    {
      "cell_type": "code",
      "metadata": {
        "colab": {
          "base_uri": "https://localhost:8080/"
        },
        "id": "gZjFY1LbDFZm",
        "outputId": "d9e5564a-5a91-4121-8c72-7f6ef7a79339"
      },
      "source": [
        "for j in range(15):#23456\n",
        "    hhh = pd.DataFrame(coord_sans_nan[data_sans_nan.iloc[:,15]==2,j])\n",
        "    \n",
        "    q_low = hhh.quantile(0.05)\n",
        "    q_hi  = hhh.quantile(0.95)\n",
        "    df_filtered = hhh[(hhh < q_hi) & (hhh > q_low)]\n",
        "\n",
        "    print(shapiro(df_filtered.dropna()))\n"
      ],
      "execution_count": 116,
      "outputs": [
        {
          "output_type": "stream",
          "text": [
            "/usr/local/lib/python3.7/dist-packages/scipy/stats/morestats.py:1676: UserWarning: p-value may not be accurate for N > 5000.\n",
            "  warnings.warn(\"p-value may not be accurate for N > 5000.\")\n",
            "/usr/local/lib/python3.7/dist-packages/scipy/stats/morestats.py:1676: UserWarning: p-value may not be accurate for N > 5000.\n",
            "  warnings.warn(\"p-value may not be accurate for N > 5000.\")\n",
            "/usr/local/lib/python3.7/dist-packages/scipy/stats/morestats.py:1676: UserWarning: p-value may not be accurate for N > 5000.\n",
            "  warnings.warn(\"p-value may not be accurate for N > 5000.\")\n",
            "/usr/local/lib/python3.7/dist-packages/scipy/stats/morestats.py:1676: UserWarning: p-value may not be accurate for N > 5000.\n",
            "  warnings.warn(\"p-value may not be accurate for N > 5000.\")\n",
            "/usr/local/lib/python3.7/dist-packages/scipy/stats/morestats.py:1676: UserWarning: p-value may not be accurate for N > 5000.\n",
            "  warnings.warn(\"p-value may not be accurate for N > 5000.\")\n",
            "/usr/local/lib/python3.7/dist-packages/scipy/stats/morestats.py:1676: UserWarning: p-value may not be accurate for N > 5000.\n",
            "  warnings.warn(\"p-value may not be accurate for N > 5000.\")\n",
            "/usr/local/lib/python3.7/dist-packages/scipy/stats/morestats.py:1676: UserWarning: p-value may not be accurate for N > 5000.\n",
            "  warnings.warn(\"p-value may not be accurate for N > 5000.\")\n"
          ],
          "name": "stderr"
        },
        {
          "output_type": "stream",
          "text": [
            "(0.9097604751586914, 0.0)\n",
            "(0.9828373193740845, 0.0)\n",
            "(0.9234477281570435, 0.0)\n",
            "(0.9587929844856262, 0.0)\n",
            "(0.9823282957077026, 0.0)\n",
            "(0.9837237596511841, 0.0)\n",
            "(0.98667973279953, 0.0)\n"
          ],
          "name": "stdout"
        },
        {
          "output_type": "stream",
          "text": [
            "/usr/local/lib/python3.7/dist-packages/scipy/stats/morestats.py:1676: UserWarning: p-value may not be accurate for N > 5000.\n",
            "  warnings.warn(\"p-value may not be accurate for N > 5000.\")\n",
            "/usr/local/lib/python3.7/dist-packages/scipy/stats/morestats.py:1676: UserWarning: p-value may not be accurate for N > 5000.\n",
            "  warnings.warn(\"p-value may not be accurate for N > 5000.\")\n",
            "/usr/local/lib/python3.7/dist-packages/scipy/stats/morestats.py:1676: UserWarning: p-value may not be accurate for N > 5000.\n",
            "  warnings.warn(\"p-value may not be accurate for N > 5000.\")\n",
            "/usr/local/lib/python3.7/dist-packages/scipy/stats/morestats.py:1676: UserWarning: p-value may not be accurate for N > 5000.\n",
            "  warnings.warn(\"p-value may not be accurate for N > 5000.\")\n",
            "/usr/local/lib/python3.7/dist-packages/scipy/stats/morestats.py:1676: UserWarning: p-value may not be accurate for N > 5000.\n",
            "  warnings.warn(\"p-value may not be accurate for N > 5000.\")\n",
            "/usr/local/lib/python3.7/dist-packages/scipy/stats/morestats.py:1676: UserWarning: p-value may not be accurate for N > 5000.\n",
            "  warnings.warn(\"p-value may not be accurate for N > 5000.\")\n",
            "/usr/local/lib/python3.7/dist-packages/scipy/stats/morestats.py:1676: UserWarning: p-value may not be accurate for N > 5000.\n",
            "  warnings.warn(\"p-value may not be accurate for N > 5000.\")\n"
          ],
          "name": "stderr"
        },
        {
          "output_type": "stream",
          "text": [
            "(0.987086296081543, 0.0)\n",
            "(0.9912088513374329, 0.0)\n",
            "(0.9889185428619385, 0.0)\n",
            "(0.9722937941551208, 0.0)\n",
            "(0.9869872331619263, 0.0)\n",
            "(0.9814345836639404, 0.0)\n",
            "(0.9800136685371399, 0.0)\n",
            "(0.9598149061203003, 0.0)\n"
          ],
          "name": "stdout"
        },
        {
          "output_type": "stream",
          "text": [
            "/usr/local/lib/python3.7/dist-packages/scipy/stats/morestats.py:1676: UserWarning: p-value may not be accurate for N > 5000.\n",
            "  warnings.warn(\"p-value may not be accurate for N > 5000.\")\n"
          ],
          "name": "stderr"
        }
      ]
    },
    {
      "cell_type": "code",
      "metadata": {
        "colab": {
          "base_uri": "https://localhost:8080/",
          "height": 320
        },
        "id": "5oeZQaY9gbf_",
        "outputId": "8913e2b9-b668-4b87-ebef-edb74c8c8abd"
      },
      "source": [
        "hhh = pd.DataFrame(coord_sans_nan[data_sans_nan.iloc[:,15]==1,1])\n",
        "q_low = hhh.quantile(0.03)\n",
        "q_hi  = hhh.quantile(0.95)\n",
        "df_filtered = hhh[(hhh < q_hi) & (hhh > q_low)]\n",
        "print(df_filtered.shape)\n",
        "\n",
        "hhh_2 = pd.DataFrame(coord_sans_nan[data_sans_nan.iloc[:,15]==1,2])\n",
        "q_low_2 = hhh_2.quantile(0.03)\n",
        "q_hi_2  = hhh_2.quantile(0.95)\n",
        "df_filtered_2 = hhh_2[(hhh_2 < q_hi_2) & (hhh_2 > q_low_2)]\n",
        "print(df_filtered_2.shape)\n",
        "\n",
        "plt.plot(df_filtered.iloc[:,0], df_filtered_2.iloc[:,0], '.')"
      ],
      "execution_count": 117,
      "outputs": [
        {
          "output_type": "stream",
          "text": [
            "(30439, 1)\n",
            "(30439, 1)\n"
          ],
          "name": "stdout"
        },
        {
          "output_type": "execute_result",
          "data": {
            "text/plain": [
              "[<matplotlib.lines.Line2D at 0x7f2357402950>]"
            ]
          },
          "metadata": {
            "tags": []
          },
          "execution_count": 117
        },
        {
          "output_type": "display_data",
          "data": {
            "image/png": "[encoded data removed]",
            "text/plain": [
              "<Figure size 432x288 with 1 Axes>"
            ]
          },
          "metadata": {
            "tags": [],
            "needs_background": "light"
          }
        }
      ]
    },
    {
      "cell_type": "code",
      "metadata": {
        "id": "O1GfVaA0eH_7"
      },
      "source": [
        ""
      ],
      "execution_count": null,
      "outputs": []
    },
    {
      "cell_type": "code",
      "metadata": {
        "id": "0csF8LqVx0Ee"
      },
      "source": [
        "\n",
        "'''\n",
        "from sklearn.preprocessing import KBinsDiscretizer\n",
        "# discrétisation des variables continues (les valeurs manquantes doivent être gérées en amont)\n",
        " c'est qui est bien avec KBinsDiscretizer est qu'il s'adapte aux éventuelles partitions au\n",
        "sein d'une variable. En d'autres termes, si la méthode n'arrive pas à partitionner les individus\n",
        "en k partitions, alors elle esssayera de les partitionner en k-1 partitions, et ainsi de suite, \n",
        "jusqu'à atteindre 1 partition (il faut faire attention avec les variables ayant uniquement \n",
        "une modalité). Lorsque la méthode rencontre ce cas, elle affichera \"UserWaring\" pour informer \n",
        "l'utilisateur de celui-ci ainsi que les variables concernées. Ceci sera utile plus tard.\n",
        "\n",
        "\n",
        "method_discre = KBinsDiscretizer(n_bins=4, encode='ordinal', strategy='quantile') \n",
        "method_discre.fit(data.iloc[:,1:23])\n",
        "resultat_discre = method_discre.transform(data.iloc[:,1:23])\n",
        "resultat_discre\n",
        "\n",
        "# construction du data frame après discrétisation\n",
        "data2_index = data.iloc[:,0]\n",
        "df_resultat_discre = pd.DataFrame(resultat_discre,columns=colonnes[1:23], dtype=int )\n",
        "data_final = pd.concat([data2_index, df_resultat_discre,data[\"IFI+\"]], axis=1 ) #data2_index\n",
        "data_final\n",
        "\n",
        "#nombre_mod(data_final)\n",
        "#nombre_mod(data)\n",
        "\n",
        "# description des modalités d'une variable\n",
        "for k in range(1,data_final.shape[1]):\n",
        "    print(data_final.iloc[:,k].value_counts(dropna=True)); print(\"=\"*50)\n",
        "\n",
        "# description des modalités d'une variable\n",
        "for k in range(1,data.shape[1]):\n",
        "    print(data.iloc[:,k].value_counts(dropna=True)); print(\"=\"*50)\n",
        "\n",
        "'''\n"
      ],
      "execution_count": null,
      "outputs": []
    },
    {
      "cell_type": "code",
      "metadata": {
        "id": "SIKMz_STz4fn"
      },
      "source": [
        "###########################################################################################################\n",
        "#  PIPELINE"
      ],
      "execution_count": null,
      "outputs": []
    },
    {
      "cell_type": "code",
      "metadata": {
        "id": "3oAVMbZqz9eK"
      },
      "source": [
        "from sklearn.pipeline import Pipeline, make_pipeline"
      ],
      "execution_count": null,
      "outputs": []
    },
    {
      "cell_type": "code",
      "metadata": {
        "id": "jAZ0dEGzIgry"
      },
      "source": [
        "disqual =  Pipeline([(\"acm\", MCA(var_labels = data.columns[1:num_var_max], )),(\"adl\", LinearDiscriminantAnalysis())])"
      ],
      "execution_count": null,
      "outputs": []
    },
    {
      "cell_type": "code",
      "metadata": {
        "id": "_YNg4cZgIgu-"
      },
      "source": [
        "disqual.fit(data.iloc[:127115, 1:-1].values, data.iloc[:127115, num_var_max] )\n",
        "\n"
      ],
      "execution_count": null,
      "outputs": []
    },
    {
      "cell_type": "code",
      "metadata": {
        "id": "q3k4jqMm5plF"
      },
      "source": [
        "#accès à l'ACM, nombre de composants\n",
        "print(disqual.named_steps[\"acm\"].n_components_)\n"
      ],
      "execution_count": null,
      "outputs": []
    },
    {
      "cell_type": "code",
      "metadata": {
        "id": "XEvgv1RcU149"
      },
      "source": [
        "#afficher les valeurs propres\n",
        "disqual.named_steps[\"acm\"].plot_eigenvalues()\n"
      ],
      "execution_count": null,
      "outputs": []
    },
    {
      "cell_type": "code",
      "metadata": {
        "id": "Kx5lHEqr5vn8"
      },
      "source": [
        "#coefs. de la fonction score\n",
        "print(disqual.named_steps[\"adl\"].coef_)\n"
      ],
      "execution_count": null,
      "outputs": []
    },
    {
      "cell_type": "code",
      "metadata": {
        "id": "Bjg0uW_z5vrq"
      },
      "source": [
        "#prediction\n",
        "pVote = disqual.predict(vote_test.iloc[:,:-1].values)\n",
        "print(numpy.unique(pVote,return_counts=True))\n"
      ],
      "execution_count": null,
      "outputs": []
    },
    {
      "cell_type": "code",
      "metadata": {
        "id": "9zSE6MTn6CMP"
      },
      "source": [
        "#nombres de facteurs à tester\n",
        "parametres = [{\"acm__n_components\":[1,2,5,10,15,20,25,30,32]}]"
      ],
      "execution_count": null,
      "outputs": []
    },
    {
      "cell_type": "code",
      "metadata": {
        "id": "m0czJyy46CPC"
      },
      "source": [
        ""
      ],
      "execution_count": null,
      "outputs": []
    },
    {
      "cell_type": "code",
      "metadata": {
        "id": "blbzUKqT8HXP",
        "colab": {
          "base_uri": "https://localhost:8080/"
        },
        "outputId": "3e6a6e09-b9a9-419d-db88-8abd81fed783"
      },
      "source": [
        "1771/4964"
      ],
      "execution_count": null,
      "outputs": [
        {
          "output_type": "execute_result",
          "data": {
            "text/plain": [
              "0.35676873489121674"
            ]
          },
          "metadata": {
            "tags": []
          },
          "execution_count": 52
        }
      ]
    },
    {
      "cell_type": "code",
      "metadata": {
        "id": "Db6LKnHuJ6MJ"
      },
      "source": [
        ""
      ],
      "execution_count": null,
      "outputs": []
    },
    {
      "cell_type": "code",
      "metadata": {
        "id": "Bs5C3G-B-zLe"
      },
      "source": [
        ""
      ],
      "execution_count": null,
      "outputs": []
    },
    {
      "cell_type": "code",
      "metadata": {
        "id": "LpMadefxoQXh"
      },
      "source": [
        ""
      ],
      "execution_count": null,
      "outputs": []
    },
    {
      "cell_type": "code",
      "metadata": {
        "id": "o5nJHZBiWJrc",
        "colab": {
          "base_uri": "https://localhost:8080/"
        },
        "outputId": "c0853ddb-78ee-44ac-a169-dbc273c8be0e"
      },
      "source": [
        "np.unique(data_orig[\"Sexe\"])"
      ],
      "execution_count": null,
      "outputs": [
        {
          "output_type": "execute_result",
          "data": {
            "text/plain": [
              "array(['04', '05'], dtype=object)"
            ]
          },
          "metadata": {
            "tags": []
          },
          "execution_count": 45
        }
      ]
    },
    {
      "cell_type": "code",
      "metadata": {
        "colab": {
          "base_uri": "https://localhost:8080/",
          "height": 739
        },
        "id": "U5mwGvSxPwQt",
        "outputId": "99d9e97d-7817-4c00-8642-82cb3108de3b"
      },
      "source": [
        "nombre_mod(data_orig.iloc[:,1:])"
      ],
      "execution_count": null,
      "outputs": [
        {
          "output_type": "execute_result",
          "data": {
            "text/html": [
              "<div>\n",
              "<style scoped>\n",
              "    .dataframe tbody tr th:only-of-type {\n",
              "        vertical-align: middle;\n",
              "    }\n",
              "\n",
              "    .dataframe tbody tr th {\n",
              "        vertical-align: top;\n",
              "    }\n",
              "\n",
              "    .dataframe thead th {\n",
              "        text-align: right;\n",
              "    }\n",
              "</style>\n",
              "<table border=\"1\" class=\"dataframe\">\n",
              "  <thead>\n",
              "    <tr style=\"text-align: right;\">\n",
              "      <th></th>\n",
              "      <th>VARIABLE</th>\n",
              "      <th>NOMBRE_MOD</th>\n",
              "      <th>NOMBRE_MOD_SANS_NA</th>\n",
              "    </tr>\n",
              "  </thead>\n",
              "  <tbody>\n",
              "    <tr>\n",
              "      <th>0</th>\n",
              "      <td>IDENT</td>\n",
              "      <td>4</td>\n",
              "      <td>4</td>\n",
              "    </tr>\n",
              "    <tr>\n",
              "      <th>1</th>\n",
              "      <td>TypeHabi</td>\n",
              "      <td>38</td>\n",
              "      <td>38</td>\n",
              "    </tr>\n",
              "    <tr>\n",
              "      <th>2</th>\n",
              "      <td>GeoFaz_Scl</td>\n",
              "      <td>8</td>\n",
              "      <td>8</td>\n",
              "    </tr>\n",
              "    <tr>\n",
              "      <th>3</th>\n",
              "      <td>GeoFaz_cl</td>\n",
              "      <td>31</td>\n",
              "      <td>31</td>\n",
              "    </tr>\n",
              "    <tr>\n",
              "      <th>4</th>\n",
              "      <td>ImmoFaz_Scl</td>\n",
              "      <td>9</td>\n",
              "      <td>9</td>\n",
              "    </tr>\n",
              "    <tr>\n",
              "      <th>5</th>\n",
              "      <td>ImmoFaz_cl</td>\n",
              "      <td>11</td>\n",
              "      <td>11</td>\n",
              "    </tr>\n",
              "    <tr>\n",
              "      <th>6</th>\n",
              "      <td>Anciennete</td>\n",
              "      <td>21</td>\n",
              "      <td>21</td>\n",
              "    </tr>\n",
              "    <tr>\n",
              "      <th>7</th>\n",
              "      <td>Logement_prix_m2</td>\n",
              "      <td>21</td>\n",
              "      <td>21</td>\n",
              "    </tr>\n",
              "    <tr>\n",
              "      <th>8</th>\n",
              "      <td>Mediane_RFR</td>\n",
              "      <td>2</td>\n",
              "      <td>2</td>\n",
              "    </tr>\n",
              "    <tr>\n",
              "      <th>9</th>\n",
              "      <td>Sexe</td>\n",
              "      <td>31</td>\n",
              "      <td>31</td>\n",
              "    </tr>\n",
              "    <tr>\n",
              "      <th>10</th>\n",
              "      <td>Prenom_Phase_scl_H</td>\n",
              "      <td>45</td>\n",
              "      <td>45</td>\n",
              "    </tr>\n",
              "    <tr>\n",
              "      <th>11</th>\n",
              "      <td>Prenom_Phase_scl_F</td>\n",
              "      <td>7</td>\n",
              "      <td>7</td>\n",
              "    </tr>\n",
              "    <tr>\n",
              "      <th>12</th>\n",
              "      <td>Prenom_Phase_cl_H</td>\n",
              "      <td>8</td>\n",
              "      <td>8</td>\n",
              "    </tr>\n",
              "    <tr>\n",
              "      <th>13</th>\n",
              "      <td>Prenom_Phase_cl_F</td>\n",
              "      <td>12</td>\n",
              "      <td>12</td>\n",
              "    </tr>\n",
              "    <tr>\n",
              "      <th>14</th>\n",
              "      <td>Age_H</td>\n",
              "      <td>12</td>\n",
              "      <td>12</td>\n",
              "    </tr>\n",
              "    <tr>\n",
              "      <th>15</th>\n",
              "      <td>Age_F</td>\n",
              "      <td>21</td>\n",
              "      <td>21</td>\n",
              "    </tr>\n",
              "    <tr>\n",
              "      <th>16</th>\n",
              "      <td>Affinite_1</td>\n",
              "      <td>21</td>\n",
              "      <td>21</td>\n",
              "    </tr>\n",
              "    <tr>\n",
              "      <th>17</th>\n",
              "      <td>Affinite_2</td>\n",
              "      <td>6</td>\n",
              "      <td>6</td>\n",
              "    </tr>\n",
              "    <tr>\n",
              "      <th>18</th>\n",
              "      <td>Prenom_effectif</td>\n",
              "      <td>21</td>\n",
              "      <td>21</td>\n",
              "    </tr>\n",
              "    <tr>\n",
              "      <th>19</th>\n",
              "      <td>Potentiel_prenom</td>\n",
              "      <td>36</td>\n",
              "      <td>36</td>\n",
              "    </tr>\n",
              "    <tr>\n",
              "      <th>20</th>\n",
              "      <td>Onoma-Phase_Scl</td>\n",
              "      <td>6</td>\n",
              "      <td>6</td>\n",
              "    </tr>\n",
              "    <tr>\n",
              "      <th>21</th>\n",
              "      <td>Onoma-Phase_CL</td>\n",
              "      <td>2</td>\n",
              "      <td>2</td>\n",
              "    </tr>\n",
              "  </tbody>\n",
              "</table>\n",
              "</div>"
            ],
            "text/plain": [
              "              VARIABLE NOMBRE_MOD NOMBRE_MOD_SANS_NA\n",
              "0                IDENT          4                  4\n",
              "1             TypeHabi         38                 38\n",
              "2           GeoFaz_Scl          8                  8\n",
              "3            GeoFaz_cl         31                 31\n",
              "4          ImmoFaz_Scl          9                  9\n",
              "5           ImmoFaz_cl         11                 11\n",
              "6           Anciennete         21                 21\n",
              "7     Logement_prix_m2         21                 21\n",
              "8          Mediane_RFR          2                  2\n",
              "9                 Sexe         31                 31\n",
              "10  Prenom_Phase_scl_H         45                 45\n",
              "11  Prenom_Phase_scl_F          7                  7\n",
              "12   Prenom_Phase_cl_H          8                  8\n",
              "13   Prenom_Phase_cl_F         12                 12\n",
              "14               Age_H         12                 12\n",
              "15               Age_F         21                 21\n",
              "16          Affinite_1         21                 21\n",
              "17          Affinite_2          6                  6\n",
              "18     Prenom_effectif         21                 21\n",
              "19    Potentiel_prenom         36                 36\n",
              "20     Onoma-Phase_Scl          6                  6\n",
              "21      Onoma-Phase_CL          2                  2"
            ]
          },
          "metadata": {
            "tags": []
          },
          "execution_count": 41
        }
      ]
    },
    {
      "cell_type": "code",
      "metadata": {
        "id": "oe3RnIxpP6Ue",
        "colab": {
          "base_uri": "https://localhost:8080/"
        },
        "outputId": "fc01fa77-2344-4e28-f2b3-e996dc47bb42"
      },
      "source": [
        "data_orig[(data_orig.isnull()).sum(axis=1) == 0].shape[0]"
      ],
      "execution_count": 193,
      "outputs": [
        {
          "output_type": "execute_result",
          "data": {
            "text/plain": [
              "152510"
            ]
          },
          "metadata": {
            "tags": []
          },
          "execution_count": 193
        }
      ]
    },
    {
      "cell_type": "code",
      "metadata": {
        "id": "xCUxYf5NTDyv"
      },
      "source": [
        ""
      ],
      "execution_count": 194,
      "outputs": []
    },
    {
      "cell_type": "code",
      "metadata": {
        "id": "8tzrWORIbYtE"
      },
      "source": [
        ""
      ],
      "execution_count": null,
      "outputs": []
    }
  ]
}