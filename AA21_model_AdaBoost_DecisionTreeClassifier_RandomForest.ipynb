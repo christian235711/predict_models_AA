{
  "nbformat": 4,
  "nbformat_minor": 0,
  "metadata": {
    "colab": {
      "name": "AA21_model_AdaBoost_DecisionTreeClassifier_RandomForest.ipynb",
      "provenance": [],
      "collapsed_sections": [],
      "authorship_tag": "ABX9TyOzBUCMpynSl2cetck6q0Ej"
    },
    "kernelspec": {
      "display_name": "Python 3",
      "name": "python3"
    },
    "language_info": {
      "name": "python"
    }
  },
  "cells": [
    {
      "cell_type": "code",
      "metadata": {
        "colab": {
          "base_uri": "https://localhost:8080/"
        },
        "id": "uXwzY9aHJ83i",
        "outputId": "a398a33d-6b70-49d6-e7b0-4c73959775d7"
      },
      "source": [
        "import numpy as np\n",
        "import pandas as pd\n",
        "import seaborn as sns\n",
        "import matplotlib.pyplot as plt\n",
        "\n",
        "#!pip install fanalysis\n",
        "\n",
        "from sklearn.metrics import confusion_matrix\n",
        "\n",
        "from google.colab import drive\n",
        "drive.mount('/content/drive')"
      ],
      "execution_count": null,
      "outputs": [
        {
          "output_type": "stream",
          "text": [
            "Mounted at /content/drive\n"
          ],
          "name": "stdout"
        }
      ]
    },
    {
      "cell_type": "code",
      "metadata": {
        "id": "QVPy76oFJ-HY"
      },
      "source": [
        "# les noms des variables\n",
        "\n",
        "colonnes =([\"IDENT\", \"TypeHabi\", \"GeoFaz_Scl\", \"GeoFaz_cl\", \"ImmoFaz_Scl\", \"ImmoFaz_cl\", \"Anciennete\",\n",
        "            \"Logement_prix_m2\", \"Mediane_RFR\", \"Sexe\", \"Prenom_Phase_scl_H\", \"Prenom_Phase_scl_F\",\n",
        "            \"Prenom_Phase_cl_H\", \"Prenom_Phase_cl_F\", \"Age_H\", \"Age_F\", \"Affinite_1\", \"Affinite_2\",\n",
        "            \"Prenom_effectif\", \"Potentiel_prenom\", \"Onoma-Phase_Scl\", \"Onoma-Phase_CL\", \"Top_mon\"])"
      ],
      "execution_count": null,
      "outputs": []
    },
    {
      "cell_type": "code",
      "metadata": {
        "id": "A8mfuivnlJmh"
      },
      "source": [
        "\n",
        "colonnes_montant = [\"DEDUPLI\", \"IDENT\", \"SommeDeMONTANT_NUM\", \"Flag_Top_Montant\", \"NovosScore_Vingtile\"]\n",
        "colonnes_montant = colonnes_montant[:-1]\n",
        "\n",
        "data_montant_orig = pd.read_csv(\"/content/drive/MyDrive/spad_score_method_1/spad_projection_AAPOT21/DONS_AA_N_TODAY_1ers gestes_REF_MD.txt\", sep=\";\", header = 0, low_memory=False, dtype=str) #, dtype=str )#, dtype='Int64')\n",
        "data_montant_orig =data_montant_orig.iloc[:,1:]  \n",
        "\n",
        "data_montant_orig.iloc[:,2]=data_montant_orig.iloc[:,2].str.replace(\",\",\".\")\n",
        "\n",
        "data_montant_orig.columns =colonnes_montant\n",
        "data_montant_orig[\"SommeDeMONTANT_NUM\"]=data_montant_orig[\"SommeDeMONTANT_NUM\"].astype(float)\n"
      ],
      "execution_count": null,
      "outputs": []
    },
    {
      "cell_type": "code",
      "metadata": {
        "id": "lmQPaeuMJ-J0"
      },
      "source": [
        "# importation du fichier (changer le chemin d'accès)\n",
        "''' Faites attention au type de fichier, au délimiteur des valeurs (ça doit être unique et non multiple),\n",
        "au header et à la lecture des types d'objets (low_memory) '''\n",
        "\n",
        "data_orig = pd.read_csv(\"/content/drive/MyDrive/spad_score_method_1/spad_projection_AAPOT21/sep_AAPOT21.txt\", delim_whitespace=\"\\t\", header = None, names=colonnes, low_memory=False,dtype=str )#, dtype='Int64')\n"
      ],
      "execution_count": null,
      "outputs": []
    },
    {
      "cell_type": "code",
      "metadata": {
        "colab": {
          "base_uri": "https://localhost:8080/"
        },
        "id": "AuFzAId4KKZ_",
        "outputId": "2281e80a-fb79-420e-ee87-1ba924cd3081"
      },
      "source": [
        "''' copie superficielle (peu profonde) du dataset original pour ne pas modifier les valeurs\n",
        "d'origine par erreur plus tard \n",
        "'''\n",
        "data = data_orig.copy()\n",
        "data.shape"
      ],
      "execution_count": null,
      "outputs": [
        {
          "output_type": "execute_result",
          "data": {
            "text/plain": [
              "(152510, 23)"
            ]
          },
          "metadata": {
            "tags": []
          },
          "execution_count": 5
        }
      ]
    },
    {
      "cell_type": "code",
      "metadata": {
        "colab": {
          "base_uri": "https://localhost:8080/",
          "height": 243
        },
        "id": "eCTsRwocJ-MF",
        "outputId": "c535dd94-9f61-44cb-df20-7ba6bc25c0dd"
      },
      "source": [
        "# visualisation des premiers lignes\n",
        "data.head()"
      ],
      "execution_count": null,
      "outputs": [
        {
          "output_type": "execute_result",
          "data": {
            "text/html": [
              "<div>\n",
              "<style scoped>\n",
              "    .dataframe tbody tr th:only-of-type {\n",
              "        vertical-align: middle;\n",
              "    }\n",
              "\n",
              "    .dataframe tbody tr th {\n",
              "        vertical-align: top;\n",
              "    }\n",
              "\n",
              "    .dataframe thead th {\n",
              "        text-align: right;\n",
              "    }\n",
              "</style>\n",
              "<table border=\"1\" class=\"dataframe\">\n",
              "  <thead>\n",
              "    <tr style=\"text-align: right;\">\n",
              "      <th></th>\n",
              "      <th>IDENT</th>\n",
              "      <th>TypeHabi</th>\n",
              "      <th>GeoFaz_Scl</th>\n",
              "      <th>GeoFaz_cl</th>\n",
              "      <th>ImmoFaz_Scl</th>\n",
              "      <th>ImmoFaz_cl</th>\n",
              "      <th>Anciennete</th>\n",
              "      <th>Logement_prix_m2</th>\n",
              "      <th>Mediane_RFR</th>\n",
              "      <th>Sexe</th>\n",
              "      <th>Prenom_Phase_scl_H</th>\n",
              "      <th>Prenom_Phase_scl_F</th>\n",
              "      <th>Prenom_Phase_cl_H</th>\n",
              "      <th>Prenom_Phase_cl_F</th>\n",
              "      <th>Age_H</th>\n",
              "      <th>Age_F</th>\n",
              "      <th>Affinite_1</th>\n",
              "      <th>Affinite_2</th>\n",
              "      <th>Prenom_effectif</th>\n",
              "      <th>Potentiel_prenom</th>\n",
              "      <th>Onoma-Phase_Scl</th>\n",
              "      <th>Onoma-Phase_CL</th>\n",
              "      <th>Top_mon</th>\n",
              "    </tr>\n",
              "  </thead>\n",
              "  <tbody>\n",
              "    <tr>\n",
              "      <th>0</th>\n",
              "      <td>0010000067</td>\n",
              "      <td>01</td>\n",
              "      <td>72</td>\n",
              "      <td>07</td>\n",
              "      <td>83</td>\n",
              "      <td>08</td>\n",
              "      <td>06</td>\n",
              "      <td>17</td>\n",
              "      <td>18</td>\n",
              "      <td>03</td>\n",
              "      <td>44</td>\n",
              "      <td>81</td>\n",
              "      <td>04</td>\n",
              "      <td>08</td>\n",
              "      <td>06</td>\n",
              "      <td>12</td>\n",
              "      <td>02</td>\n",
              "      <td>03</td>\n",
              "      <td>04</td>\n",
              "      <td>12</td>\n",
              "      <td>31</td>\n",
              "      <td>03</td>\n",
              "      <td>1</td>\n",
              "    </tr>\n",
              "    <tr>\n",
              "      <th>1</th>\n",
              "      <td>0010000070</td>\n",
              "      <td>01</td>\n",
              "      <td>72</td>\n",
              "      <td>07</td>\n",
              "      <td>84</td>\n",
              "      <td>08</td>\n",
              "      <td>05</td>\n",
              "      <td>18</td>\n",
              "      <td>20</td>\n",
              "      <td>01</td>\n",
              "      <td>33</td>\n",
              "      <td>44</td>\n",
              "      <td>03</td>\n",
              "      <td>04</td>\n",
              "      <td>08</td>\n",
              "      <td>08</td>\n",
              "      <td>05</td>\n",
              "      <td>09</td>\n",
              "      <td>05</td>\n",
              "      <td>20</td>\n",
              "      <td>36</td>\n",
              "      <td>03</td>\n",
              "      <td>2</td>\n",
              "    </tr>\n",
              "    <tr>\n",
              "      <th>2</th>\n",
              "      <td>0010000090</td>\n",
              "      <td>03</td>\n",
              "      <td>64</td>\n",
              "      <td>06</td>\n",
              "      <td>75</td>\n",
              "      <td>07</td>\n",
              "      <td>05</td>\n",
              "      <td>13</td>\n",
              "      <td>08</td>\n",
              "      <td>01</td>\n",
              "      <td>71</td>\n",
              "      <td>67</td>\n",
              "      <td>07</td>\n",
              "      <td>06</td>\n",
              "      <td>12</td>\n",
              "      <td>11</td>\n",
              "      <td>10</td>\n",
              "      <td>08</td>\n",
              "      <td>04</td>\n",
              "      <td>02</td>\n",
              "      <td>22</td>\n",
              "      <td>02</td>\n",
              "      <td>2</td>\n",
              "    </tr>\n",
              "    <tr>\n",
              "      <th>3</th>\n",
              "      <td>0010000124</td>\n",
              "      <td>03</td>\n",
              "      <td>43</td>\n",
              "      <td>04</td>\n",
              "      <td>82</td>\n",
              "      <td>08</td>\n",
              "      <td>01</td>\n",
              "      <td>15</td>\n",
              "      <td>17</td>\n",
              "      <td>03</td>\n",
              "      <td>51</td>\n",
              "      <td>81</td>\n",
              "      <td>05</td>\n",
              "      <td>08</td>\n",
              "      <td>10</td>\n",
              "      <td>12</td>\n",
              "      <td>10</td>\n",
              "      <td>14</td>\n",
              "      <td>05</td>\n",
              "      <td>15</td>\n",
              "      <td>61</td>\n",
              "      <td>06</td>\n",
              "      <td>2</td>\n",
              "    </tr>\n",
              "    <tr>\n",
              "      <th>4</th>\n",
              "      <td>0010000147</td>\n",
              "      <td>02</td>\n",
              "      <td>25</td>\n",
              "      <td>02</td>\n",
              "      <td>32</td>\n",
              "      <td>03</td>\n",
              "      <td>07</td>\n",
              "      <td>07</td>\n",
              "      <td>15</td>\n",
              "      <td>05</td>\n",
              "      <td>71</td>\n",
              "      <td>81</td>\n",
              "      <td>07</td>\n",
              "      <td>08</td>\n",
              "      <td>12</td>\n",
              "      <td>12</td>\n",
              "      <td>21</td>\n",
              "      <td>21</td>\n",
              "      <td>06</td>\n",
              "      <td>21</td>\n",
              "      <td>61</td>\n",
              "      <td>06</td>\n",
              "      <td>1</td>\n",
              "    </tr>\n",
              "  </tbody>\n",
              "</table>\n",
              "</div>"
            ],
            "text/plain": [
              "        IDENT TypeHabi GeoFaz_Scl  ... Onoma-Phase_Scl Onoma-Phase_CL Top_mon\n",
              "0  0010000067       01         72  ...              31             03       1\n",
              "1  0010000070       01         72  ...              36             03       2\n",
              "2  0010000090       03         64  ...              22             02       2\n",
              "3  0010000124       03         43  ...              61             06       2\n",
              "4  0010000147       02         25  ...              61             06       1\n",
              "\n",
              "[5 rows x 23 columns]"
            ]
          },
          "metadata": {
            "tags": []
          },
          "execution_count": 6
        }
      ]
    },
    {
      "cell_type": "code",
      "metadata": {
        "id": "HMG7Zbw4Ku9R"
      },
      "source": [
        "#nombre de modalités de chaque variables (dans un dataframe)\n",
        "def nombre_mod(data2):\n",
        "    #création d'un dataframe vide\n",
        "    dff= pd.DataFrame(columns=[\"VARIABLE\",\"NOMBRE_MOD\", \"NOMBRE_MOD_SANS_NA\"])\n",
        "    for i in range(data2.shape[1]): # sans compter les valeurs manquantes\n",
        "        taille =len(data2.iloc[:,i].value_counts(dropna=False))\n",
        "        taille_1 = len(data2.iloc[:,i].value_counts(dropna=True) )\n",
        "        dff=dff.append({\"VARIABLE\": colonnes[i],\"NOMBRE_MOD\":taille, \"NOMBRE_MOD_SANS_NA\":taille_1 }, ignore_index=True)\n",
        "    return dff\n",
        "\n",
        "# sélection des corrélations les plus importantes\n",
        "def variables_corr(tableau_corr, seuil):\n",
        "    colonnes = tableau_corr.columns\n",
        "    val_temp = 0 \n",
        "    variables_corr_pos=[] ; variables_corr_pos_val=[]\n",
        "    variables_corr_neg=[] ; variables_corr_neg_val=[]\n",
        "    for i in range(tableau_corr.shape[0]):  \n",
        "        for j in range(tableau_corr.shape[0]):\n",
        "            if i<j: #i!=j:\n",
        "                if (tableau_corr.iloc[i,j] > seuil):\n",
        "                    variables_corr_pos.append(colonnes[j])\n",
        "                    variables_corr_pos_val.append(round( tableau_corr.iloc[i,j], 2))\n",
        "                    val_temp += 1\n",
        "\n",
        "                if (tableau_corr.iloc[i,j] <-seuil):\n",
        "                    variables_corr_neg.append(colonnes[j])\n",
        "                    variables_corr_neg_val.append(round( tableau_corr.iloc[i,j], 2))\n",
        "                    val_temp += 1\n",
        "\n",
        "        if (len(variables_corr_pos) > 0) | (len(variables_corr_neg) >0) :\n",
        "            print(\"variable : \", colonnes[i])\n",
        "            if len(variables_corr_pos) > 0:    \n",
        "                print(\"corr pos\", variables_corr_pos)\n",
        "                print(\"corr pos\", variables_corr_pos_val)\n",
        "                val_temp += 1\n",
        "\n",
        "            if len(variables_corr_neg) >0:  \n",
        "                print(\"corr neg\", variables_corr_neg)\n",
        "                print(\"corr neg\", variables_corr_neg_val)\n",
        "                val_temp += 1\n",
        "            print(\"\")\n",
        "        variables_corr_pos = variables_corr_pos*0\n",
        "        variables_corr_neg = variables_corr_pos*0\n",
        "\n",
        "        variables_corr_pos_val = variables_corr_pos_val*0\n",
        "        variables_corr_neg_val = variables_corr_pos_val*0\n",
        "    if val_temp == 0:\n",
        "        print(\"IL N'Y A PAS DE CORRELATION ENTRE LES VARIABLES PAR RAPPORT AU SEUIL PRIS\")\n",
        "        \n",
        "\n",
        "def evaluation(model, X_train, y_train, X_test, y_test, scoring, plot):\n",
        "\n",
        "    model.fit(X_train, y_train)\n",
        "    y_pred = model.predict(X_test)\n",
        "    \n",
        "    print(\"test set : \")\n",
        "    print(confusion_matrix(y_test, y_pred))\n",
        "    print(classification_report(y_test, y_pred)) \n",
        "    print(\"train set : \")\n",
        "    print(confusion_matrix(y_train, model.predict(X_train)))  \n",
        "    print(classification_report(y_train, model.predict(X_train) ))\n",
        "\n",
        "    if plot == True:\n",
        "        N, train_score, val_score = learning_curve(model, X_train, y_train, shuffle=True, cv = 4, scoring = scoring, train_sizes = np.linspace(0.1, 1, 6) )\n",
        "\n",
        "        plt.figure(figsize = (10,6))\n",
        "        plt.plot(N, train_score.mean(axis=1), label =\"train_score\")\n",
        "        plt.plot(N, val_score.mean(axis=1), label =\"cross_validation_score\")\n",
        "        plt.legend()\n",
        "    else :\n",
        "        print(\"GRAPHIQUE NON DEMANDE\")\n",
        "\n",
        "# Comme il n'y a pas de valeurs manquantes (à la place il y a un nombre), le seul traitement qu'on fait c'est tranformer\n",
        "# le type de variable (les variables continues deviennent qualitatives)\n",
        "def data_processing(df):\n",
        "    \"\"\" \n",
        "    for i in range(0,len(df.columns)):    \n",
        "        df[df.columns[i]].fillna(100.0, inplace=True) #On remplace les données manquantes par 100\n",
        "    for i in range(0,len(df.columns)):\n",
        "        print(df[df.columns[i]].value_counts(dropna=False))    \n",
        "    \"\"\"\n",
        "    \n",
        "   #Transformation de toutes les variables en facteurs         \n",
        "    for i in range(0,len(df.columns)):\n",
        "        df[df.columns[i]] = df[df.columns[i]].astype('category')\n",
        "    return df.to_numpy() #.as_matrix()\n",
        "\n",
        "\n",
        "def vingtiles(model, data_orig, affichage, save, path): # data_orig est une variables locale (peut être différente au df d'origine)\n",
        "    # position de la dernière variable explicative dans le dataset\n",
        "    nb_var = data_orig.shape[1]-1\n",
        "\n",
        "    # predict sur tous les individus (avec et sans classe Top_mon)\n",
        "    tous_probas = model.predict_proba(data_orig.iloc[:,1:nb_var])\n",
        "    df_tous = pd.DataFrame({'IDENT': data_orig.iloc[:,0] , 'PROBA': tous_probas[:,0] })\n",
        "    #df_tous\n",
        "    \n",
        "    # valeurs ordonnées pour diviser après\n",
        "    df_tous=df_tous.sort_values(by='PROBA', ascending=True)\n",
        "    #df_tous\n",
        "    print(df_tous)\n",
        "    \n",
        "    #vérification\n",
        "    print(df_tous['PROBA'].value_counts())\n",
        "\n",
        "    # vingtiles\n",
        "    df_temp =pd.DataFrame( pd.qcut(df_tous['PROBA'],q= 20)  )\n",
        "    #print(df_temp)\n",
        "\n",
        "    # ajout par index (IMPORTANTE)\n",
        "    df_tous[\"TRANCHES\"]=pd.DataFrame(df_temp.iloc[:,0].to_numpy(),index= df_temp.index)\n",
        "    #print(df_tous)\n",
        "\n",
        "    # création de la dernière colonne CLASSE et son remplissage\n",
        "    index_20_ord = pd.DataFrame(np.unique(df_tous[\"TRANCHES\"])) \n",
        "    df_tous[\"CLASSE\"]=df_tous[\"TRANCHES\"].copy()\n",
        "    ind_val=1\n",
        "    for kk in range(20):\n",
        "        df_tous[\"CLASSE\"][df_tous[\"CLASSE\"]== index_20_ord.iloc[kk,0] ] = str(ind_val) \n",
        "        ind_val+=1\n",
        "    print(df_tous)    \n",
        "    \n",
        "    # pour la colonne Top_mon : changement de type de variable et remplissage des valeurs (s'il le faut)\n",
        "    data_temp_t = data_orig.copy()\n",
        "    data_temp_t[\"Top_mon\"] =  data_temp_t[\"Top_mon\"].replace(1.0,'1')\n",
        "    data_temp_t[\"Top_mon\"] =  data_temp_t[\"Top_mon\"].replace(2.0,'2')\n",
        "    data_all_complet_class = data_temp_t #data_temp_t.fillna('2')\n",
        "    #data_all_complet_class\n",
        "\n",
        "    # jointure\n",
        "    ident_class_tous = data_all_complet_class[[\"IDENT\",\"Top_mon\"]]\n",
        "    tableau_resultats = pd.merge(df_tous,ident_class_tous)\n",
        "    #tableau_resultats\n",
        "\n",
        "    # tranches finales\n",
        "    tab_cross_temp = pd.crosstab(tableau_resultats[\"TRANCHES\"],tableau_resultats[\"Top_mon\"])\n",
        "    #print(tab_cross_temp); print(\"-----------------------\")\n",
        "\n",
        "    # création d'une colonne TOTAL\n",
        "    tab_cross_temp[\"TOTAL\"]=tab_cross_temp[\"1\"]+tab_cross_temp[\"2\"]\n",
        "    \n",
        "    # affichage\n",
        "    if affichage ==True:        \n",
        "        print(tab_cross_temp)\n",
        "\n",
        "    # création du tableau final en éliminant la colonne 2\n",
        "    #tab_pour_excel = tab_cross_temp.drop([\"2\"], axis=1)\n",
        "\n",
        "    # si on ne veut pas éliminer la colonne 2\n",
        "    tab_pour_excel =  tab_cross_temp\n",
        "    \n",
        "    # enregistrement sous Excel\n",
        "    if save == True:\n",
        "        tab_pour_excel.to_excel(path)\n",
        "\n",
        "    return  df_tous\n",
        "\n",
        "\n",
        "def tableau_5_montant(df_tous, data_montant_orig, affichage, save, path):\n",
        "    # tableau avec les deux variables qui nous intéressent\n",
        "    ident_et_montant = data_montant_orig[[\"IDENT\",\"SommeDeMONTANT_NUM\"]]\n",
        "\n",
        "    # jointure\n",
        "    tableau_resultats_et_montant = pd.merge(df_tous,ident_et_montant)\n",
        "    #print(tableau_resultats_et_montant) \n",
        "\n",
        "    # on élimine toutes les sommes supérieur à 5000 €\n",
        "    tableau_resultats_et_montant = tableau_resultats_et_montant[tableau_resultats_et_montant[\"SommeDeMONTANT_NUM\"] <= 5000]\n",
        "    print(tableau_resultats_et_montant) \n",
        "    #print(tableau_resultats_et_montant[\"TRANCHES\"].value_counts())\n",
        "    #print(pd.DataFrame(np.unique(tableau_resultats_et_montant[\"TRANCHES\"])))\n",
        "\n",
        "    # index\n",
        "    index_temp = pd.DataFrame(np.unique(tableau_resultats_et_montant[\"TRANCHES\"])) \n",
        "\n",
        "    # création du tableau qui contiendra les résultats finaux\n",
        "    tableau_resultats_finaux = pd.DataFrame(columns=[\"TRANCHES\",\"Moyen_Somme\",\"TOTAL\"],index=range(20))\n",
        "    tableau_resultats_finaux[\"TRANCHES\"] = index_temp\n",
        "\n",
        "    # remplissage du tableau final\n",
        "    for k in range(20):\n",
        "        tableau_resultats_finaux.iloc[k,1] = tableau_resultats_et_montant[tableau_resultats_et_montant[\"TRANCHES\"]==index_temp.iloc[k,0]][\"SommeDeMONTANT_NUM\"].mean()\n",
        "        tableau_resultats_finaux.iloc[k,2] = (tableau_resultats_et_montant[\"TRANCHES\"]==index_temp.iloc[k,0]).sum()\n",
        "    \n",
        "    # affichage\n",
        "    if affichage:        \n",
        "        print(tableau_resultats_finaux)\n",
        "    \n",
        "    # enregistrement sous Excel\n",
        "    if save:\n",
        "        tableau_resultats_finaux.to_excel(path)\n",
        "\n",
        "\n",
        "def vingtiles_ind_sans_target(model, data_orig, affichage, save, path):\n",
        "    # position de la dernière variable explicative dans le dataset\n",
        "    nb_var = data_orig.shape[1]-1\n",
        "\n",
        "    # predict sur tous les individus (avec et sans classe IFI+)\n",
        "    tous_probas = model.predict_proba(data_orig.iloc[:,1:nb_var])\n",
        "    df_tous = pd.DataFrame({'IDENT': data_orig.iloc[:,0] , 'PROBA': tous_probas[:,0] })\n",
        "    #df_tous\n",
        "    \n",
        "    # valeurs ordonnées pour diviser après\n",
        "    df_tous=df_tous.sort_values(by='PROBA', ascending=True)\n",
        "    #df_tous\n",
        "    print(df_tous)\n",
        "    \n",
        "    #vérification\n",
        "    print(df_tous['PROBA'].value_counts())\n",
        "\n",
        "    # quarantiles\n",
        "    df_temp =pd.DataFrame( pd.qcut(df_tous['PROBA'],q= 20)  )\n",
        "    print(df_temp)\n",
        "\n",
        "    # ajout par index (IMPORTANTE)\n",
        "    df_tous[\"TRANCHES\"]=pd.DataFrame(df_temp.iloc[:,0].to_numpy(),index= df_temp.index)\n",
        "    print(df_tous)\n",
        "    print(df_tous[\"TRANCHES\"].value_counts(ascending = True))\n",
        "\n",
        "    # GERE L'ORDRE\n",
        "    patra = np.unique(df_tous.iloc[:,2], return_counts=True)\n",
        "    df_tranches_sans_target = pd.DataFrame([patra[0],patra[1]]).T\n",
        "    df_tranches_sans_target.columns=[\"TRANCHES\",\"COUNTS\"]\n",
        "\n",
        "    # affichage\n",
        "    if affichage ==True:        \n",
        "        print(df_tranches_sans_target)\n",
        "    \n",
        "    # enregistrement sous Excel\n",
        "    if save == True:\n",
        "        df_tranches_sans_target.to_excel(path)\n",
        "    \n",
        "\n",
        "# élimination des variables trop corrélées (choix manuel)\n",
        "def elimination_val_corr(data):\n",
        "    data = data.drop(columns=[\"\"])\n",
        "    return data\n",
        "          \n"
      ],
      "execution_count": null,
      "outputs": []
    },
    {
      "cell_type": "code",
      "metadata": {
        "id": "VrNwSeGoLu4z"
      },
      "source": [
        "def vingtiles_xgb(model, data_orig, affichage, save, path):\n",
        "    # position de la dernière variable explicative dans le dataset\n",
        "    nb_var = data_orig.shape[1]-1\n",
        "\n",
        "    # predict sur tous les individus (avec et sans classe IFI+)\n",
        "    tous_probas = model.predict_proba(data_orig.iloc[:,1:nb_var].values)\n",
        "    df_tous = pd.DataFrame({'IDENT': data_orig.iloc[:,0] , 'PROBA': tous_probas[:,0] })\n",
        "    #df_tous\n",
        "    \n",
        "    # valeurs ordonnées pour diviser après\n",
        "    df_tous=df_tous.sort_values(by='PROBA', ascending=True)\n",
        "    #df_tous\n",
        "    print(df_tous)\n",
        "    \n",
        "    #vérification\n",
        "    print(df_tous['PROBA'].value_counts())\n",
        "\n",
        "    # quarantiles\n",
        "    df_temp =pd.DataFrame( pd.qcut(df_tous['PROBA'],q= 20)  )\n",
        "    print(df_temp)\n",
        "\n",
        "    # ajout par index (IMPORTANTE)\n",
        "    df_tous[\"TRANCHES\"]=pd.DataFrame(df_temp.iloc[:,0].to_numpy(),index= df_temp.index)\n",
        "    #print(df_tous)\n",
        "    \n",
        "    # pour la colonne Top_mon :\n",
        "    # remplissage de la dernière colonne par 2 (VALABLE QUE POUR CE DATA, MODIFIER POUR D'AUTRES)\n",
        "    data_temp_t = data_orig.copy()\n",
        "    # remplacement\n",
        "    data_temp_t[\"Top_mon\"] =  data_temp_t[\"Top_mon\"].replace(1.0,'1')\n",
        "    data_temp_t[\"Top_mon\"] =  data_temp_t[\"Top_mon\"].replace(2.0,'2')\n",
        "    data_all_complet_class = data_temp_t.fillna('2')\n",
        "    #data_all_complet_class\n",
        "\n",
        "    # jointure\n",
        "    ident_class_tous = data_all_complet_class[[\"IDENT\",\"Top_mon\"]]\n",
        "    tableau_resultats = pd.merge(df_tous,ident_class_tous)\n",
        "    #tableau_resultats\n",
        "\n",
        "    # tranches finales\n",
        "    tab_cross_temp = pd.crosstab(tableau_resultats[\"TRANCHES\"],tableau_resultats[\"Top_mon\"])\n",
        "    #print(tab_cross_temp); print(\"-----------------------\")\n",
        "\n",
        "    # création d'une colonne total\n",
        "    tab_cross_temp[\"TOTAL\"]=tab_cross_temp[\"1\"]+tab_cross_temp[\"2\"]\n",
        "    \n",
        "    # affichage\n",
        "    if affichage ==True:        \n",
        "        print(tab_cross_temp)\n",
        "\n",
        "    # création du tableau final en éliminant la colonne 2\n",
        "    #tab_pour_excel = tab_cross_temp.drop([\"2\"], axis=1)\n",
        "\n",
        "    # si on ne veut pas éliminer la colonne 2\n",
        "    tab_pour_excel =  tab_cross_temp\n",
        "    \n",
        "    # enregistrement sous Excel\n",
        "    if save == True:\n",
        "        tab_pour_excel.to_excel(path)"
      ],
      "execution_count": null,
      "outputs": []
    },
    {
      "cell_type": "code",
      "metadata": {
        "id": "91nsbYDpPOb2"
      },
      "source": [
        ""
      ],
      "execution_count": null,
      "outputs": []
    },
    {
      "cell_type": "code",
      "metadata": {
        "id": "I-YPAloELNpw"
      },
      "source": [
        "from sklearn.model_selection import train_test_split\n",
        "from sklearn.preprocessing import OneHotEncoder\n",
        "\n",
        "from sklearn.tree import DecisionTreeClassifier, plot_tree\n",
        "from sklearn.ensemble import RandomForestClassifier, BaggingClassifier, AdaBoostClassifier, GradientBoostingClassifier, ExtraTreesClassifier\n",
        "\n",
        "import xgboost as xgb\n",
        "from xgboost.sklearn import XGBClassifier\n",
        "\n",
        "from sklearn.metrics import f1_score, confusion_matrix, classification_report\n",
        "from sklearn.model_selection import learning_curve, GridSearchCV"
      ],
      "execution_count": null,
      "outputs": []
    },
    {
      "cell_type": "code",
      "metadata": {
        "id": "oJZmK3A1hFjN"
      },
      "source": [
        "####################  DONNEES SANS LES VARIABLES CORR ET ENCODAGE DUMMIES        ###########################"
      ],
      "execution_count": null,
      "outputs": []
    },
    {
      "cell_type": "code",
      "metadata": {
        "id": "Ayz77hrtHzrW"
      },
      "source": [
        "# test predict individus sans classe\n",
        "data = data_orig.copy()\n",
        "\n",
        "# on élimine les variables dons\n",
        "data=data.drop([\"GeoFaz_cl\", \"ImmoFaz_Scl\", \"ImmoFaz_cl\", \"Prenom_Phase_cl_H\", \"Prenom_Phase_cl_F\",\"Onoma-Phase_Scl\",\n",
        "                \"Onoma-Phase_CL\"],axis=1)\n",
        "\n",
        "# encodage Onehot sur toutes les données (on évite ainsi les erreurs futures)\n",
        "nb_var = data.shape[1] - 1\n",
        "data_1_22 = pd.get_dummies(data.iloc[:,1:(data.shape[1]-1)], columns=data.columns[1:(data.shape[1]-1)] )\n",
        "data_var_qualitatives_temp =  pd.concat([data[\"IDENT\"], data_1_22, data[\"Top_mon\"]], axis=1)\n",
        "data = data_var_qualitatives_temp\n",
        "#encodage = OneHotEncoder()\n",
        "#encodage.fit(data_processing(data.iloc[:,1:nb_var]))\n",
        "\n",
        "# élimination des individus n'ayant pas de valeur pour la varialbe IFI+\n",
        "\"\"\"IMPORTANT\"\"\"\n",
        "data_sans_nan = data[(data.isnull()).sum(axis=1) == 0]\n",
        "\n",
        "#conversion du type de variable\n",
        "for i in range(1,data_sans_nan.shape[1]):\n",
        "    data_sans_nan.iloc[:,i]=data_sans_nan.iloc[:,i].astype(int)\n",
        "\n",
        "# base de données avec des variables corrélées et avec encodage OneHot\n",
        "data =data_sans_nan\n",
        "\n",
        "nb_var = data.shape[1] - 1\n",
        "train_set, test_set = train_test_split(data, test_size = 0.2, random_state=0 )\n",
        "\n",
        "train_X_s = (train_set.iloc[:,1:nb_var]).to_numpy()\n",
        "train_Y_s = np.asanyarray(train_set.iloc[:,nb_var])\n",
        "\n",
        "test_X_s = (test_set.iloc[:,1:nb_var]).to_numpy()\n",
        "test_Y_s = np.asanyarray(test_set.iloc[:,nb_var])\n"
      ],
      "execution_count": 96,
      "outputs": []
    },
    {
      "cell_type": "code",
      "metadata": {
        "id": "nzA3GnjILNsT"
      },
      "source": [
        "####################################################################################\n",
        "#                            MODELE 1 : BOOSTING\n",
        "####################################################################################"
      ],
      "execution_count": null,
      "outputs": []
    },
    {
      "cell_type": "code",
      "metadata": {
        "colab": {
          "base_uri": "https://localhost:8080/"
        },
        "id": "6uT19lFGHzw1",
        "outputId": "e1dccf7e-d96d-4697-c2ee-1dcd5edbca8b"
      },
      "source": [
        "model_AdaBoost = AdaBoostClassifier(base_estimator=DecisionTreeClassifier(class_weight = \"balanced\"), random_state =0 )\n",
        "param = {'base_estimator__criterion': ['gini','entropy'], 'base_estimator__max_depth' : list(range(2,20, 2)), 'n_estimators' : [20, 50] }\n",
        "\n",
        "grid_AdaBoost = GridSearchCV(model_AdaBoost, param, cv = 4, scoring = \"recall\", n_jobs=-1)\n",
        "resultat_grid_AdaBoost = grid_AdaBoost.fit(train_X_s, train_Y_s)\n",
        "resultat_grid_AdaBoost.best_params_\n",
        "#model_AdaBoost.get_params\n"
      ],
      "execution_count": null,
      "outputs": [
        {
          "output_type": "execute_result",
          "data": {
            "text/plain": [
              "{'base_estimator__criterion': 'entropy',\n",
              " 'base_estimator__max_depth': 4,\n",
              " 'n_estimators': 50}"
            ]
          },
          "metadata": {
            "tags": []
          },
          "execution_count": 12
        }
      ]
    },
    {
      "cell_type": "code",
      "metadata": {
        "colab": {
          "base_uri": "https://localhost:8080/"
        },
        "id": "FUHacSWXHzyp",
        "outputId": "b836d1c2-3381-443b-cd04-7fcaa613650f"
      },
      "source": [
        "final_model_AdaBoost = AdaBoostClassifier(base_estimator = DecisionTreeClassifier(class_weight=\"balanced\", criterion=\"entropy\",max_depth=4),n_estimators = 50 , random_state=0 ) \n",
        "evaluation(final_model_AdaBoost, train_X_s, train_Y_s, test_X_s, test_Y_s, scoring=\"recall\" , plot =False)"
      ],
      "execution_count": null,
      "outputs": [
        {
          "output_type": "stream",
          "text": [
            "test set : \n",
            "[[ 3391  2714]\n",
            " [ 8552 15845]]\n",
            "              precision    recall  f1-score   support\n",
            "\n",
            "           1       0.28      0.56      0.38      6105\n",
            "           2       0.85      0.65      0.74     24397\n",
            "\n",
            "    accuracy                           0.63     30502\n",
            "   macro avg       0.57      0.60      0.56     30502\n",
            "weighted avg       0.74      0.63      0.67     30502\n",
            "\n",
            "train set : \n",
            "[[14550  9784]\n",
            " [33107 64567]]\n",
            "              precision    recall  f1-score   support\n",
            "\n",
            "           1       0.31      0.60      0.40     24334\n",
            "           2       0.87      0.66      0.75     97674\n",
            "\n",
            "    accuracy                           0.65    122008\n",
            "   macro avg       0.59      0.63      0.58    122008\n",
            "weighted avg       0.76      0.65      0.68    122008\n",
            "\n",
            "GRAPHIQUE NON DEMANDE\n"
          ],
          "name": "stdout"
        }
      ]
    },
    {
      "cell_type": "code",
      "metadata": {
        "colab": {
          "base_uri": "https://localhost:8080/"
        },
        "id": "LKm4jSqlhqKT",
        "outputId": "b6297127-5b47-42f4-deff-c4a9b38d54a5"
      },
      "source": [
        "# TRAIN SET TEST SET\n",
        "vingtiles_tableau = vingtiles(model = final_model_AdaBoost, data_orig = data, affichage=True,\n",
        "            save=True, path = \"/content/drive/MyDrive/spad_score_method_1/spad_projection_AAPOT21/Fichier_E_vingtiles_AA/train_test_Adaboost.xlsx\")"
      ],
      "execution_count": null,
      "outputs": [
        {
          "output_type": "stream",
          "text": [
            "             IDENT     PROBA\n",
            "68693   0010175854  0.051322\n",
            "19020   0010049365  0.051556\n",
            "113742  0010286147  0.052343\n",
            "62768   0010162397  0.052610\n",
            "12310   0010033454  0.052812\n",
            "...            ...       ...\n",
            "44608   0010115879  0.678602\n",
            "57631   0010146679  0.679044\n",
            "63886   0010163618  0.680184\n",
            "12241   0010033382  0.806274\n",
            "117303  0010296719  0.806477\n",
            "\n",
            "[152510 rows x 2 columns]\n",
            "0.505319    127\n",
            "0.520884     73\n",
            "0.505784     55\n",
            "0.508899     49\n",
            "0.509265     47\n",
            "           ... \n",
            "0.497595      1\n",
            "0.502488      1\n",
            "0.500932      1\n",
            "0.497675      1\n",
            "0.500231      1\n",
            "Name: PROBA, Length: 136773, dtype: int64\n"
          ],
          "name": "stdout"
        },
        {
          "output_type": "stream",
          "text": [
            "/usr/local/lib/python3.7/dist-packages/ipykernel_launcher.py:119: SettingWithCopyWarning: \n",
            "A value is trying to be set on a copy of a slice from a DataFrame\n",
            "\n",
            "See the caveats in the documentation: https://pandas.pydata.org/pandas-docs/stable/user_guide/indexing.html#returning-a-view-versus-a-copy\n"
          ],
          "name": "stderr"
        },
        {
          "output_type": "stream",
          "text": [
            "             IDENT     PROBA                        TRANCHES CLASSE\n",
            "68693   0010175854  0.051322  (0.051219999999999995, 0.4918]      1\n",
            "19020   0010049365  0.051556  (0.051219999999999995, 0.4918]      1\n",
            "113742  0010286147  0.052343  (0.051219999999999995, 0.4918]      1\n",
            "62768   0010162397  0.052610  (0.051219999999999995, 0.4918]      1\n",
            "12310   0010033454  0.052812  (0.051219999999999995, 0.4918]      1\n",
            "...            ...       ...                             ...    ...\n",
            "44608   0010115879  0.678602                (0.5055, 0.8065]     20\n",
            "57631   0010146679  0.679044                (0.5055, 0.8065]     20\n",
            "63886   0010163618  0.680184                (0.5055, 0.8065]     20\n",
            "12241   0010033382  0.806274                (0.5055, 0.8065]     20\n",
            "117303  0010296719  0.806477                (0.5055, 0.8065]     20\n",
            "\n",
            "[152510 rows x 4 columns]\n",
            "Top_mon                            1     2  TOTAL\n",
            "TRANCHES                                         \n",
            "(0.051219999999999995, 0.4918]   229  7397   7626\n",
            "(0.4918, 0.4951]                 595  7030   7625\n",
            "(0.4951, 0.4962]                 728  6898   7626\n",
            "(0.4962, 0.4968]                 869  6756   7625\n",
            "(0.4968, 0.4974]                 998  6628   7626\n",
            "(0.4974, 0.4978]                1078  6547   7625\n",
            "(0.4978, 0.4982]                1100  6527   7627\n",
            "(0.4982, 0.4986]                1232  6392   7624\n",
            "(0.4986, 0.4989]                1289  6337   7626\n",
            "(0.4989, 0.4992]                1290  6335   7625\n",
            "(0.4992, 0.4996]                1367  6258   7625\n",
            "(0.4996, 0.4999]                1456  6170   7626\n",
            "(0.4999, 0.5003]                1524  6101   7625\n",
            "(0.5003, 0.5007]                1612  6014   7626\n",
            "(0.5007, 0.5012]                1789  5836   7625\n",
            "(0.5012, 0.5018]                1862  5764   7626\n",
            "(0.5018, 0.5025]                1999  5626   7625\n",
            "(0.5025, 0.5035]                2317  5309   7626\n",
            "(0.5035, 0.5055]                2780  4845   7625\n",
            "(0.5055, 0.8065]                4325  3301   7626\n"
          ],
          "name": "stdout"
        }
      ]
    },
    {
      "cell_type": "code",
      "metadata": {
        "colab": {
          "base_uri": "https://localhost:8080/"
        },
        "id": "iKXH83PFSlV1",
        "outputId": "61fffae3-6241-4725-fe31-94d06a44d07a"
      },
      "source": [
        "# TABLEAU MONTANT\n",
        "tableau_5_montant(vingtiles_tableau, data_montant_orig, affichage=True,\n",
        "            save=True, path = \"/content/drive/MyDrive/spad_score_method_1/spad_projection_AAPOT21/Fichier_E_vingtiles_AA/montant_Adaboost.xlsx\")"
      ],
      "execution_count": null,
      "outputs": [
        {
          "output_type": "stream",
          "text": [
            "             IDENT     PROBA  ... CLASSE SommeDeMONTANT_NUM\n",
            "0       0010175854  0.051322  ...      1               10.0\n",
            "1       0010049365  0.051556  ...      1               10.0\n",
            "2       0010286147  0.052343  ...      1               50.0\n",
            "3       0010162397  0.052610  ...      1               10.0\n",
            "4       0010033454  0.052812  ...      1               10.0\n",
            "...            ...       ...  ...    ...                ...\n",
            "152505  0010115879  0.678602  ...     20               50.0\n",
            "152506  0010146679  0.679044  ...     20               10.0\n",
            "152507  0010163618  0.680184  ...     20              300.0\n",
            "152508  0010033382  0.806274  ...     20              100.0\n",
            "152509  0010296719  0.806477  ...     20              100.0\n",
            "\n",
            "[152134 rows x 5 columns]\n",
            "                          TRANCHES Moyen_Somme TOTAL\n",
            "0   (0.051219999999999995, 0.4918]     25.3997  7626\n",
            "1                 (0.4918, 0.4951]     30.8026  7623\n",
            "2                 (0.4951, 0.4962]     31.9412  7625\n",
            "3                 (0.4962, 0.4968]     34.7685  7622\n",
            "4                 (0.4968, 0.4974]     37.5247  7621\n",
            "5                 (0.4974, 0.4978]     37.0427  7623\n",
            "6                 (0.4978, 0.4982]     40.5689  7625\n",
            "7                 (0.4982, 0.4986]     41.7681  7622\n",
            "8                 (0.4986, 0.4989]     43.4084  7623\n",
            "9                 (0.4989, 0.4992]       41.22  7620\n",
            "10                (0.4992, 0.4996]     42.4973  7622\n",
            "11                (0.4996, 0.4999]     43.5928  7619\n",
            "12                (0.4999, 0.5003]     46.5979  7618\n",
            "13                (0.5003, 0.5007]     46.2933  7621\n",
            "14                (0.5007, 0.5012]      52.123  7621\n",
            "15                (0.5012, 0.5018]     52.2459  7620\n",
            "16                (0.5018, 0.5025]     53.5229  7618\n",
            "17                (0.5025, 0.5035]     62.3764  7622\n",
            "18                (0.5035, 0.5055]       75.55  7614\n",
            "19                (0.5055, 0.8065]     252.482  7329\n"
          ],
          "name": "stdout"
        }
      ]
    },
    {
      "cell_type": "code",
      "metadata": {
        "colab": {
          "base_uri": "https://localhost:8080/",
          "height": 70
        },
        "id": "BvNNKb0ndG7O",
        "outputId": "87a44639-567f-49d9-83ca-024fee0e8752"
      },
      "source": [
        "\"\"\"\n",
        "# INDIVIDUS SANS TARGET\n",
        "vingtiles_ind_sans_target(model = final_model_AdaBoost, data_orig= data_var_qualitatives_temp[(data_var_qualitatives_temp.isnull()).sum(axis=1) != 0], affichage=True,\n",
        "            save=True, path = \"/content/drive/MyDrive/spad_score_method_1/spad_projection_AAPOT21/Fichier_E_vingtiles_AA/ind_sans_target_Adaboost.xlsx\")\n",
        "\"\"\""
      ],
      "execution_count": null,
      "outputs": [
        {
          "output_type": "execute_result",
          "data": {
            "application/vnd.google.colaboratory.intrinsic+json": {
              "type": "string"
            },
            "text/plain": [
              "'\\n# INDIVIDUS SANS TARGET\\nvingtiles_ind_sans_target(model = final_model_AdaBoost, data_orig= data_var_qualitatives_temp[(data_var_qualitatives_temp.isnull()).sum(axis=1) != 0], affichage=True,\\n            save=True, path = \"/content/drive/MyDrive/spad_score_method_1/spad_projection_AAPOT21/Fichier_E_vingtiles_AA/ind_sans_target_Adaboost.xlsx\")\\n'"
            ]
          },
          "metadata": {
            "tags": []
          },
          "execution_count": 28
        }
      ]
    },
    {
      "cell_type": "code",
      "metadata": {
        "id": "qsQSJ6dhhqRJ"
      },
      "source": [
        "#############################################################\n",
        "#                   MODELE 2 : RANDOM FOREST\n",
        "#############################################################"
      ],
      "execution_count": null,
      "outputs": []
    },
    {
      "cell_type": "code",
      "metadata": {
        "id": "HBC-6OWNYvnm",
        "colab": {
          "base_uri": "https://localhost:8080/"
        },
        "outputId": "3db42ee9-020b-4d45-9780-834c0f24455c"
      },
      "source": [
        "model_RandomForestClassifier = RandomForestClassifier(class_weight=\"balanced\", random_state =0 )\n",
        "param = {'criterion': ['gini','entropy'], 'max_depth' : [2,3,4,5],\"max_features\":[12,15,16,17,18,19] ,'n_estimators' : [50,100,200] }\n",
        "\n",
        "grid_RandomForestClassifier = GridSearchCV(model_RandomForestClassifier, param, cv = 4, scoring = \"recall\", n_jobs=-1)\n",
        "resultat_grid_RandomForestClassifier = grid_RandomForestClassifier.fit(train_X_s, train_Y_s)\n",
        "resultat_grid_RandomForestClassifier.best_params_\n"
      ],
      "execution_count": 92,
      "outputs": [
        {
          "output_type": "execute_result",
          "data": {
            "text/plain": [
              "{'criterion': 'gini', 'max_depth': 4, 'max_features': 19, 'n_estimators': 50}"
            ]
          },
          "metadata": {
            "tags": []
          },
          "execution_count": 92
        }
      ]
    },
    {
      "cell_type": "code",
      "metadata": {
        "colab": {
          "base_uri": "https://localhost:8080/"
        },
        "id": "n3i-NJ26zZsC",
        "outputId": "4c117829-d064-4582-d9cb-9bdd621cd4ee"
      },
      "source": [
        "final_model_RandomForestClassifier = RandomForestClassifier(class_weight=\"balanced\", criterion=\"gini\", max_depth=4, max_features=19, n_estimators = 50, random_state=0) \n",
        "evaluation(final_model_RandomForestClassifier, train_X_s, train_Y_s, test_X_s, test_Y_s, scoring=\"recall\", plot=False)"
      ],
      "execution_count": 97,
      "outputs": [
        {
          "output_type": "stream",
          "text": [
            "test set : \n",
            "[[ 3930  2175]\n",
            " [11456 12941]]\n",
            "              precision    recall  f1-score   support\n",
            "\n",
            "           1       0.26      0.64      0.37      6105\n",
            "           2       0.86      0.53      0.66     24397\n",
            "\n",
            "    accuracy                           0.55     30502\n",
            "   macro avg       0.56      0.59      0.51     30502\n",
            "weighted avg       0.74      0.55      0.60     30502\n",
            "\n",
            "train set : \n",
            "[[15750  8584]\n",
            " [45897 51777]]\n",
            "              precision    recall  f1-score   support\n",
            "\n",
            "           1       0.26      0.65      0.37     24334\n",
            "           2       0.86      0.53      0.66     97674\n",
            "\n",
            "    accuracy                           0.55    122008\n",
            "   macro avg       0.56      0.59      0.51    122008\n",
            "weighted avg       0.74      0.55      0.60    122008\n",
            "\n",
            "GRAPHIQUE NON DEMANDE\n"
          ],
          "name": "stdout"
        }
      ]
    },
    {
      "cell_type": "code",
      "metadata": {
        "colab": {
          "base_uri": "https://localhost:8080/"
        },
        "id": "zHQtVH69zZvW",
        "outputId": "3aaca618-efc7-46fb-b72c-47f769da8d72"
      },
      "source": [
        "# TRAIN SET TEST SET\n",
        "vingtiles_tableau = vingtiles(model = final_model_RandomForestClassifier, data_orig = data, affichage=True,\n",
        "            save=True, path = \"/content/drive/MyDrive/spad_score_method_1/spad_projection_AAPOT21/Fichier_E_vingtiles_AA/train_test_Random_Forest.xlsx\")"
      ],
      "execution_count": 98,
      "outputs": [
        {
          "output_type": "stream",
          "text": [
            "             IDENT     PROBA\n",
            "72862   0010187238  0.325862\n",
            "140157  0010355278  0.325862\n",
            "102096  0010259577  0.328730\n",
            "34591   0010091470  0.331894\n",
            "108662  0010273645  0.332341\n",
            "...            ...       ...\n",
            "88649   0010224735  0.810035\n",
            "133303  0010334382  0.810035\n",
            "35731   0010092729  0.810035\n",
            "118023  0010297514  0.810035\n",
            "110804  0010282873  0.810035\n",
            "\n",
            "[152510 rows x 2 columns]\n",
            "0.509898    4801\n",
            "0.505284    1972\n",
            "0.433337    1532\n",
            "0.503639    1154\n",
            "0.454494     967\n",
            "            ... \n",
            "0.511379       1\n",
            "0.444134       1\n",
            "0.635703       1\n",
            "0.403297       1\n",
            "0.422410       1\n",
            "Name: PROBA, Length: 31357, dtype: int64\n"
          ],
          "name": "stdout"
        },
        {
          "output_type": "stream",
          "text": [
            "/usr/local/lib/python3.7/dist-packages/ipykernel_launcher.py:119: SettingWithCopyWarning: \n",
            "A value is trying to be set on a copy of a slice from a DataFrame\n",
            "\n",
            "See the caveats in the documentation: https://pandas.pydata.org/pandas-docs/stable/user_guide/indexing.html#returning-a-view-versus-a-copy\n"
          ],
          "name": "stderr"
        },
        {
          "output_type": "stream",
          "text": [
            "             IDENT     PROBA        TRANCHES CLASSE\n",
            "72862   0010187238  0.325862  (0.325, 0.412]      1\n",
            "140157  0010355278  0.325862  (0.325, 0.412]      1\n",
            "102096  0010259577  0.328730  (0.325, 0.412]      1\n",
            "34591   0010091470  0.331894  (0.325, 0.412]      1\n",
            "108662  0010273645  0.332341  (0.325, 0.412]      1\n",
            "...            ...       ...             ...    ...\n",
            "88649   0010224735  0.810035   (0.586, 0.81]     20\n",
            "133303  0010334382  0.810035   (0.586, 0.81]     20\n",
            "35731   0010092729  0.810035   (0.586, 0.81]     20\n",
            "118023  0010297514  0.810035   (0.586, 0.81]     20\n",
            "110804  0010282873  0.810035   (0.586, 0.81]     20\n",
            "\n",
            "[152510 rows x 4 columns]\n",
            "Top_mon            1     2  TOTAL\n",
            "TRANCHES                         \n",
            "(0.325, 0.412]   631  7108   7739\n",
            "(0.412, 0.423]   804  6733   7537\n",
            "(0.423, 0.43]    902  6709   7611\n",
            "(0.43, 0.436]   1033  6583   7616\n",
            "(0.436, 0.444]  1129  6496   7625\n",
            "(0.444, 0.451]  1154  6479   7633\n",
            "(0.451, 0.46]   1237  6389   7626\n",
            "(0.46, 0.476]   1258  6360   7618\n",
            "(0.476, 0.49]   1379  6246   7625\n",
            "(0.49, 0.501]   1354  6276   7630\n",
            "(0.501, 0.505]  1386  6285   7671\n",
            "(0.505, 0.508]  1432  6326   7758\n",
            "(0.508, 0.51]   1383  6061   7444\n",
            "(0.51, 0.513]   1584  6092   7676\n",
            "(0.513, 0.517]  1655  6051   7706\n",
            "(0.517, 0.523]  1682  5936   7618\n",
            "(0.523, 0.53]   1930  5576   7506\n",
            "(0.53, 0.557]   2075  5545   7620\n",
            "(0.557, 0.586]  2406  5220   7626\n",
            "(0.586, 0.81]   4025  3600   7625\n"
          ],
          "name": "stdout"
        }
      ]
    },
    {
      "cell_type": "code",
      "metadata": {
        "id": "CNoifDu6iXK1",
        "colab": {
          "base_uri": "https://localhost:8080/"
        },
        "outputId": "fc248237-7722-49a9-fe9d-a502e02e35eb"
      },
      "source": [
        "# TABLEAU MONTANT\n",
        "tableau_5_montant(vingtiles_tableau, data_montant_orig, affichage=True,\n",
        "            save=True, path = \"/content/drive/MyDrive/spad_score_method_1/spad_projection_AAPOT21/Fichier_E_vingtiles_AA/montant_Random_Forest.xlsx\")"
      ],
      "execution_count": 99,
      "outputs": [
        {
          "output_type": "stream",
          "text": [
            "             IDENT     PROBA        TRANCHES CLASSE  SommeDeMONTANT_NUM\n",
            "0       0010187238  0.325862  (0.325, 0.412]      1                40.0\n",
            "1       0010355278  0.325862  (0.325, 0.412]      1                10.0\n",
            "2       0010259577  0.328730  (0.325, 0.412]      1                20.0\n",
            "3       0010091470  0.331894  (0.325, 0.412]      1                10.0\n",
            "4       0010273645  0.332341  (0.325, 0.412]      1                10.0\n",
            "...            ...       ...             ...    ...                 ...\n",
            "152504  0010236918  0.810035   (0.586, 0.81]     20              5000.0\n",
            "152505  0010224735  0.810035   (0.586, 0.81]     20                35.0\n",
            "152507  0010092729  0.810035   (0.586, 0.81]     20              1500.0\n",
            "152508  0010297514  0.810035   (0.586, 0.81]     20              1000.0\n",
            "152509  0010282873  0.810035   (0.586, 0.81]     20              2000.0\n",
            "\n",
            "[152134 rows x 5 columns]\n",
            "          TRANCHES Moyen_Somme TOTAL\n",
            "0   (0.325, 0.412]     28.5076  7737\n",
            "1   (0.412, 0.423]     35.2774  7535\n",
            "2    (0.423, 0.43]     33.9093  7610\n",
            "3    (0.43, 0.436]     36.7134  7611\n",
            "4   (0.436, 0.444]     38.9599  7619\n",
            "5   (0.444, 0.451]     40.3415  7629\n",
            "6    (0.451, 0.46]     42.1764  7621\n",
            "7    (0.46, 0.476]     41.2033  7610\n",
            "8    (0.476, 0.49]     44.6721  7619\n",
            "9    (0.49, 0.501]      45.424  7626\n",
            "10  (0.501, 0.505]     43.0887  7670\n",
            "11  (0.505, 0.508]     42.6031  7753\n",
            "12   (0.508, 0.51]     43.3811  7443\n",
            "13   (0.51, 0.513]     48.6331  7673\n",
            "14  (0.513, 0.517]     46.7656  7700\n",
            "15  (0.517, 0.523]     48.3505  7612\n",
            "16   (0.523, 0.53]     56.7996  7499\n",
            "17   (0.53, 0.557]     59.7578  7617\n",
            "18  (0.557, 0.586]     68.5523  7614\n",
            "19   (0.586, 0.81]      246.44  7336\n"
          ],
          "name": "stdout"
        }
      ]
    },
    {
      "cell_type": "code",
      "metadata": {
        "id": "8jVj4rxxzZ1k"
      },
      "source": [
        "\"\"\"\n",
        "# INDIVIDUS SANS TARGET\n",
        "vingtiles_ind_sans_target(model = final_model_RandomForestClassifier, data_orig= data_var_qualitatives_temp[(data_var_qualitatives_temp.isnull()).sum(axis=1) != 0], affichage=True,\n",
        "            save=True, path = \"/content/drive/MyDrive/spad_score_method_1/spad_projection_AAPOT21/Fichier_E_vingtiles_AA/ind_sans_target_Random_Forest.xlsx\")\n",
        "\"\"\""
      ],
      "execution_count": null,
      "outputs": []
    },
    {
      "cell_type": "code",
      "metadata": {
        "id": "d04Xaq_mRPT-"
      },
      "source": [
        ""
      ],
      "execution_count": null,
      "outputs": []
    },
    {
      "cell_type": "code",
      "metadata": {
        "id": "7LLwgps2n4tS"
      },
      "source": [
        "#############################################################\n",
        "#                   MODELE 3 : BAGGING\n",
        "#############################################################"
      ],
      "execution_count": null,
      "outputs": []
    },
    {
      "cell_type": "code",
      "metadata": {
        "id": "pL9jq9H5n4wa",
        "colab": {
          "base_uri": "https://localhost:8080/",
          "height": 363
        },
        "outputId": "8092b9e8-51e1-40ac-9dd0-f98ea0d23e40"
      },
      "source": [
        "model_Bagging = BaggingClassifier(base_estimator=DecisionTreeClassifier(class_weight = \"balanced\"), random_state =0 )\n",
        "param = {'base_estimator__criterion': ['gini','entropy'], 'base_estimator__max_depth' : list(range(2,20, 1)), 'n_estimators' : [20,50,100],\n",
        "         'bootstrap':[True], \"bootstrap_features\": [False]}\n",
        "\n",
        "grid_Bagging = GridSearchCV(model_Bagging, param, cv = 4, scoring = \"recall\", n_jobs=-1)\n",
        "resultat_grid_Bagging = grid_Bagging.fit(train_X_s, train_Y_s)\n",
        "resultat_grid_Bagging.best_params_\n"
      ],
      "execution_count": null,
      "outputs": [
        {
          "output_type": "error",
          "ename": "KeyboardInterrupt",
          "evalue": "ignored",
          "traceback": [
            "\u001b[0;31m---------------------------------------------------------------------------\u001b[0m",
            "\u001b[0;31mKeyboardInterrupt\u001b[0m                         Traceback (most recent call last)",
            "\u001b[0;32m<ipython-input-14-595bcfebc5e7>\u001b[0m in \u001b[0;36m<module>\u001b[0;34m()\u001b[0m\n\u001b[1;32m      4\u001b[0m \u001b[0;34m\u001b[0m\u001b[0m\n\u001b[1;32m      5\u001b[0m \u001b[0mgrid_Bagging\u001b[0m \u001b[0;34m=\u001b[0m \u001b[0mGridSearchCV\u001b[0m\u001b[0;34m(\u001b[0m\u001b[0mmodel_Bagging\u001b[0m\u001b[0;34m,\u001b[0m \u001b[0mparam\u001b[0m\u001b[0;34m,\u001b[0m \u001b[0mcv\u001b[0m \u001b[0;34m=\u001b[0m \u001b[0;36m4\u001b[0m\u001b[0;34m,\u001b[0m \u001b[0mscoring\u001b[0m \u001b[0;34m=\u001b[0m \u001b[0;34m\"recall\"\u001b[0m\u001b[0;34m,\u001b[0m \u001b[0mn_jobs\u001b[0m\u001b[0;34m=\u001b[0m\u001b[0;34m-\u001b[0m\u001b[0;36m1\u001b[0m\u001b[0;34m)\u001b[0m\u001b[0;34m\u001b[0m\u001b[0;34m\u001b[0m\u001b[0m\n\u001b[0;32m----> 6\u001b[0;31m \u001b[0mresultat_grid_Bagging\u001b[0m \u001b[0;34m=\u001b[0m \u001b[0mgrid_Bagging\u001b[0m\u001b[0;34m.\u001b[0m\u001b[0mfit\u001b[0m\u001b[0;34m(\u001b[0m\u001b[0mtrain_X_s\u001b[0m\u001b[0;34m,\u001b[0m \u001b[0mtrain_Y_s\u001b[0m\u001b[0;34m)\u001b[0m\u001b[0;34m\u001b[0m\u001b[0;34m\u001b[0m\u001b[0m\n\u001b[0m\u001b[1;32m      7\u001b[0m \u001b[0mresultat_grid_Bagging\u001b[0m\u001b[0;34m.\u001b[0m\u001b[0mbest_params_\u001b[0m\u001b[0;34m\u001b[0m\u001b[0;34m\u001b[0m\u001b[0m\n",
            "\u001b[0;32m/usr/local/lib/python3.7/dist-packages/sklearn/model_selection/_search.py\u001b[0m in \u001b[0;36mfit\u001b[0;34m(self, X, y, groups, **fit_params)\u001b[0m\n\u001b[1;32m    708\u001b[0m                 \u001b[0;32mreturn\u001b[0m \u001b[0mresults\u001b[0m\u001b[0;34m\u001b[0m\u001b[0;34m\u001b[0m\u001b[0m\n\u001b[1;32m    709\u001b[0m \u001b[0;34m\u001b[0m\u001b[0m\n\u001b[0;32m--> 710\u001b[0;31m             \u001b[0mself\u001b[0m\u001b[0;34m.\u001b[0m\u001b[0m_run_search\u001b[0m\u001b[0;34m(\u001b[0m\u001b[0mevaluate_candidates\u001b[0m\u001b[0;34m)\u001b[0m\u001b[0;34m\u001b[0m\u001b[0;34m\u001b[0m\u001b[0m\n\u001b[0m\u001b[1;32m    711\u001b[0m \u001b[0;34m\u001b[0m\u001b[0m\n\u001b[1;32m    712\u001b[0m         \u001b[0;31m# For multi-metric evaluation, store the best_index_, best_params_ and\u001b[0m\u001b[0;34m\u001b[0m\u001b[0;34m\u001b[0m\u001b[0;34m\u001b[0m\u001b[0m\n",
            "\u001b[0;32m/usr/local/lib/python3.7/dist-packages/sklearn/model_selection/_search.py\u001b[0m in \u001b[0;36m_run_search\u001b[0;34m(self, evaluate_candidates)\u001b[0m\n\u001b[1;32m   1149\u001b[0m     \u001b[0;32mdef\u001b[0m \u001b[0m_run_search\u001b[0m\u001b[0;34m(\u001b[0m\u001b[0mself\u001b[0m\u001b[0;34m,\u001b[0m \u001b[0mevaluate_candidates\u001b[0m\u001b[0;34m)\u001b[0m\u001b[0;34m:\u001b[0m\u001b[0;34m\u001b[0m\u001b[0;34m\u001b[0m\u001b[0m\n\u001b[1;32m   1150\u001b[0m         \u001b[0;34m\"\"\"Search all candidates in param_grid\"\"\"\u001b[0m\u001b[0;34m\u001b[0m\u001b[0;34m\u001b[0m\u001b[0m\n\u001b[0;32m-> 1151\u001b[0;31m         \u001b[0mevaluate_candidates\u001b[0m\u001b[0;34m(\u001b[0m\u001b[0mParameterGrid\u001b[0m\u001b[0;34m(\u001b[0m\u001b[0mself\u001b[0m\u001b[0;34m.\u001b[0m\u001b[0mparam_grid\u001b[0m\u001b[0;34m)\u001b[0m\u001b[0;34m)\u001b[0m\u001b[0;34m\u001b[0m\u001b[0;34m\u001b[0m\u001b[0m\n\u001b[0m\u001b[1;32m   1152\u001b[0m \u001b[0;34m\u001b[0m\u001b[0m\n\u001b[1;32m   1153\u001b[0m \u001b[0;34m\u001b[0m\u001b[0m\n",
            "\u001b[0;32m/usr/local/lib/python3.7/dist-packages/sklearn/model_selection/_search.py\u001b[0m in \u001b[0;36mevaluate_candidates\u001b[0;34m(candidate_params)\u001b[0m\n\u001b[1;32m    687\u001b[0m                                \u001b[0;32mfor\u001b[0m \u001b[0mparameters\u001b[0m\u001b[0;34m,\u001b[0m \u001b[0;34m(\u001b[0m\u001b[0mtrain\u001b[0m\u001b[0;34m,\u001b[0m \u001b[0mtest\u001b[0m\u001b[0;34m)\u001b[0m\u001b[0;34m\u001b[0m\u001b[0;34m\u001b[0m\u001b[0m\n\u001b[1;32m    688\u001b[0m                                in product(candidate_params,\n\u001b[0;32m--> 689\u001b[0;31m                                           cv.split(X, y, groups)))\n\u001b[0m\u001b[1;32m    690\u001b[0m \u001b[0;34m\u001b[0m\u001b[0m\n\u001b[1;32m    691\u001b[0m                 \u001b[0;32mif\u001b[0m \u001b[0mlen\u001b[0m\u001b[0;34m(\u001b[0m\u001b[0mout\u001b[0m\u001b[0;34m)\u001b[0m \u001b[0;34m<\u001b[0m \u001b[0;36m1\u001b[0m\u001b[0;34m:\u001b[0m\u001b[0;34m\u001b[0m\u001b[0;34m\u001b[0m\u001b[0m\n",
            "\u001b[0;32m/usr/local/lib/python3.7/dist-packages/joblib/parallel.py\u001b[0m in \u001b[0;36m__call__\u001b[0;34m(self, iterable)\u001b[0m\n\u001b[1;32m   1052\u001b[0m \u001b[0;34m\u001b[0m\u001b[0m\n\u001b[1;32m   1053\u001b[0m             \u001b[0;32mwith\u001b[0m \u001b[0mself\u001b[0m\u001b[0;34m.\u001b[0m\u001b[0m_backend\u001b[0m\u001b[0;34m.\u001b[0m\u001b[0mretrieval_context\u001b[0m\u001b[0;34m(\u001b[0m\u001b[0;34m)\u001b[0m\u001b[0;34m:\u001b[0m\u001b[0;34m\u001b[0m\u001b[0;34m\u001b[0m\u001b[0m\n\u001b[0;32m-> 1054\u001b[0;31m                 \u001b[0mself\u001b[0m\u001b[0;34m.\u001b[0m\u001b[0mretrieve\u001b[0m\u001b[0;34m(\u001b[0m\u001b[0;34m)\u001b[0m\u001b[0;34m\u001b[0m\u001b[0;34m\u001b[0m\u001b[0m\n\u001b[0m\u001b[1;32m   1055\u001b[0m             \u001b[0;31m# Make sure that we get a last message telling us we are done\u001b[0m\u001b[0;34m\u001b[0m\u001b[0;34m\u001b[0m\u001b[0;34m\u001b[0m\u001b[0m\n\u001b[1;32m   1056\u001b[0m             \u001b[0melapsed_time\u001b[0m \u001b[0;34m=\u001b[0m \u001b[0mtime\u001b[0m\u001b[0;34m.\u001b[0m\u001b[0mtime\u001b[0m\u001b[0;34m(\u001b[0m\u001b[0;34m)\u001b[0m \u001b[0;34m-\u001b[0m \u001b[0mself\u001b[0m\u001b[0;34m.\u001b[0m\u001b[0m_start_time\u001b[0m\u001b[0;34m\u001b[0m\u001b[0;34m\u001b[0m\u001b[0m\n",
            "\u001b[0;32m/usr/local/lib/python3.7/dist-packages/joblib/parallel.py\u001b[0m in \u001b[0;36mretrieve\u001b[0;34m(self)\u001b[0m\n\u001b[1;32m    931\u001b[0m             \u001b[0;32mtry\u001b[0m\u001b[0;34m:\u001b[0m\u001b[0;34m\u001b[0m\u001b[0;34m\u001b[0m\u001b[0m\n\u001b[1;32m    932\u001b[0m                 \u001b[0;32mif\u001b[0m \u001b[0mgetattr\u001b[0m\u001b[0;34m(\u001b[0m\u001b[0mself\u001b[0m\u001b[0;34m.\u001b[0m\u001b[0m_backend\u001b[0m\u001b[0;34m,\u001b[0m \u001b[0;34m'supports_timeout'\u001b[0m\u001b[0;34m,\u001b[0m \u001b[0;32mFalse\u001b[0m\u001b[0;34m)\u001b[0m\u001b[0;34m:\u001b[0m\u001b[0;34m\u001b[0m\u001b[0;34m\u001b[0m\u001b[0m\n\u001b[0;32m--> 933\u001b[0;31m                     \u001b[0mself\u001b[0m\u001b[0;34m.\u001b[0m\u001b[0m_output\u001b[0m\u001b[0;34m.\u001b[0m\u001b[0mextend\u001b[0m\u001b[0;34m(\u001b[0m\u001b[0mjob\u001b[0m\u001b[0;34m.\u001b[0m\u001b[0mget\u001b[0m\u001b[0;34m(\u001b[0m\u001b[0mtimeout\u001b[0m\u001b[0;34m=\u001b[0m\u001b[0mself\u001b[0m\u001b[0;34m.\u001b[0m\u001b[0mtimeout\u001b[0m\u001b[0;34m)\u001b[0m\u001b[0;34m)\u001b[0m\u001b[0;34m\u001b[0m\u001b[0;34m\u001b[0m\u001b[0m\n\u001b[0m\u001b[1;32m    934\u001b[0m                 \u001b[0;32melse\u001b[0m\u001b[0;34m:\u001b[0m\u001b[0;34m\u001b[0m\u001b[0;34m\u001b[0m\u001b[0m\n\u001b[1;32m    935\u001b[0m                     \u001b[0mself\u001b[0m\u001b[0;34m.\u001b[0m\u001b[0m_output\u001b[0m\u001b[0;34m.\u001b[0m\u001b[0mextend\u001b[0m\u001b[0;34m(\u001b[0m\u001b[0mjob\u001b[0m\u001b[0;34m.\u001b[0m\u001b[0mget\u001b[0m\u001b[0;34m(\u001b[0m\u001b[0;34m)\u001b[0m\u001b[0;34m)\u001b[0m\u001b[0;34m\u001b[0m\u001b[0;34m\u001b[0m\u001b[0m\n",
            "\u001b[0;32m/usr/local/lib/python3.7/dist-packages/joblib/_parallel_backends.py\u001b[0m in \u001b[0;36mwrap_future_result\u001b[0;34m(future, timeout)\u001b[0m\n\u001b[1;32m    540\u001b[0m         AsyncResults.get from multiprocessing.\"\"\"\n\u001b[1;32m    541\u001b[0m         \u001b[0;32mtry\u001b[0m\u001b[0;34m:\u001b[0m\u001b[0;34m\u001b[0m\u001b[0;34m\u001b[0m\u001b[0m\n\u001b[0;32m--> 542\u001b[0;31m             \u001b[0;32mreturn\u001b[0m \u001b[0mfuture\u001b[0m\u001b[0;34m.\u001b[0m\u001b[0mresult\u001b[0m\u001b[0;34m(\u001b[0m\u001b[0mtimeout\u001b[0m\u001b[0;34m=\u001b[0m\u001b[0mtimeout\u001b[0m\u001b[0;34m)\u001b[0m\u001b[0;34m\u001b[0m\u001b[0;34m\u001b[0m\u001b[0m\n\u001b[0m\u001b[1;32m    543\u001b[0m         \u001b[0;32mexcept\u001b[0m \u001b[0mCfTimeoutError\u001b[0m \u001b[0;32mas\u001b[0m \u001b[0me\u001b[0m\u001b[0;34m:\u001b[0m\u001b[0;34m\u001b[0m\u001b[0;34m\u001b[0m\u001b[0m\n\u001b[1;32m    544\u001b[0m             \u001b[0;32mraise\u001b[0m \u001b[0mTimeoutError\u001b[0m \u001b[0;32mfrom\u001b[0m \u001b[0me\u001b[0m\u001b[0;34m\u001b[0m\u001b[0;34m\u001b[0m\u001b[0m\n",
            "\u001b[0;32m/usr/lib/python3.7/concurrent/futures/_base.py\u001b[0m in \u001b[0;36mresult\u001b[0;34m(self, timeout)\u001b[0m\n\u001b[1;32m    428\u001b[0m                 \u001b[0;32mreturn\u001b[0m \u001b[0mself\u001b[0m\u001b[0;34m.\u001b[0m\u001b[0m__get_result\u001b[0m\u001b[0;34m(\u001b[0m\u001b[0;34m)\u001b[0m\u001b[0;34m\u001b[0m\u001b[0;34m\u001b[0m\u001b[0m\n\u001b[1;32m    429\u001b[0m \u001b[0;34m\u001b[0m\u001b[0m\n\u001b[0;32m--> 430\u001b[0;31m             \u001b[0mself\u001b[0m\u001b[0;34m.\u001b[0m\u001b[0m_condition\u001b[0m\u001b[0;34m.\u001b[0m\u001b[0mwait\u001b[0m\u001b[0;34m(\u001b[0m\u001b[0mtimeout\u001b[0m\u001b[0;34m)\u001b[0m\u001b[0;34m\u001b[0m\u001b[0;34m\u001b[0m\u001b[0m\n\u001b[0m\u001b[1;32m    431\u001b[0m \u001b[0;34m\u001b[0m\u001b[0m\n\u001b[1;32m    432\u001b[0m             \u001b[0;32mif\u001b[0m \u001b[0mself\u001b[0m\u001b[0;34m.\u001b[0m\u001b[0m_state\u001b[0m \u001b[0;32min\u001b[0m \u001b[0;34m[\u001b[0m\u001b[0mCANCELLED\u001b[0m\u001b[0;34m,\u001b[0m \u001b[0mCANCELLED_AND_NOTIFIED\u001b[0m\u001b[0;34m]\u001b[0m\u001b[0;34m:\u001b[0m\u001b[0;34m\u001b[0m\u001b[0;34m\u001b[0m\u001b[0m\n",
            "\u001b[0;32m/usr/lib/python3.7/threading.py\u001b[0m in \u001b[0;36mwait\u001b[0;34m(self, timeout)\u001b[0m\n\u001b[1;32m    294\u001b[0m         \u001b[0;32mtry\u001b[0m\u001b[0;34m:\u001b[0m    \u001b[0;31m# restore state no matter what (e.g., KeyboardInterrupt)\u001b[0m\u001b[0;34m\u001b[0m\u001b[0;34m\u001b[0m\u001b[0m\n\u001b[1;32m    295\u001b[0m             \u001b[0;32mif\u001b[0m \u001b[0mtimeout\u001b[0m \u001b[0;32mis\u001b[0m \u001b[0;32mNone\u001b[0m\u001b[0;34m:\u001b[0m\u001b[0;34m\u001b[0m\u001b[0;34m\u001b[0m\u001b[0m\n\u001b[0;32m--> 296\u001b[0;31m                 \u001b[0mwaiter\u001b[0m\u001b[0;34m.\u001b[0m\u001b[0macquire\u001b[0m\u001b[0;34m(\u001b[0m\u001b[0;34m)\u001b[0m\u001b[0;34m\u001b[0m\u001b[0;34m\u001b[0m\u001b[0m\n\u001b[0m\u001b[1;32m    297\u001b[0m                 \u001b[0mgotit\u001b[0m \u001b[0;34m=\u001b[0m \u001b[0;32mTrue\u001b[0m\u001b[0;34m\u001b[0m\u001b[0;34m\u001b[0m\u001b[0m\n\u001b[1;32m    298\u001b[0m             \u001b[0;32melse\u001b[0m\u001b[0;34m:\u001b[0m\u001b[0;34m\u001b[0m\u001b[0;34m\u001b[0m\u001b[0m\n",
            "\u001b[0;31mKeyboardInterrupt\u001b[0m: "
          ]
        }
      ]
    },
    {
      "cell_type": "code",
      "metadata": {
        "colab": {
          "base_uri": "https://localhost:8080/"
        },
        "id": "I8vJFdWdn4z1",
        "outputId": "162add83-96ed-4811-e986-c066b09a79cb"
      },
      "source": [
        "final_model_BaggingClassifier = BaggingClassifier(base_estimator=DecisionTreeClassifier(class_weight = \"balanced\", criterion=\"gini\", max_depth=2, random_state=0),bootstrap=True, bootstrap_features=False, n_estimators = 50) \n",
        "evaluation(final_model_BaggingClassifier, train_X_s, train_Y_s, test_X_s, test_Y_s, scoring=\"recall\", plot=False)"
      ],
      "execution_count": null,
      "outputs": [
        {
          "output_type": "stream",
          "text": [
            "test set : \n",
            "[[3289 2042]\n",
            " [6708 7821]]\n",
            "              precision    recall  f1-score   support\n",
            "\n",
            "           1       0.33      0.62      0.43      5331\n",
            "           2       0.79      0.54      0.64     14529\n",
            "\n",
            "    accuracy                           0.56     19860\n",
            "   macro avg       0.56      0.58      0.54     19860\n",
            "weighted avg       0.67      0.56      0.58     19860\n",
            "\n",
            "train set : \n",
            "[[12917  8480]\n",
            " [26550 31489]]\n",
            "              precision    recall  f1-score   support\n",
            "\n",
            "           1       0.33      0.60      0.42     21397\n",
            "           2       0.79      0.54      0.64     58039\n",
            "\n",
            "    accuracy                           0.56     79436\n",
            "   macro avg       0.56      0.57      0.53     79436\n",
            "weighted avg       0.66      0.56      0.58     79436\n",
            "\n",
            "GRAPHIQUE NON DEMANDE\n"
          ],
          "name": "stdout"
        }
      ]
    },
    {
      "cell_type": "code",
      "metadata": {
        "colab": {
          "base_uri": "https://localhost:8080/",
          "height": 1000
        },
        "id": "-iYPSINKn43B",
        "outputId": "a8baebff-2202-4a61-d763-366289d257dc"
      },
      "source": [
        "vingtiles(model = final_model_BaggingClassifier, data_orig = data, affichage=True,\n",
        "            save=False, path = \"/content/drive/MyDrive/spad_score_method_1/spad_projection_AAPOT21/Fichier_E_vingtiles_AA/train_test_Decision_Tree_Classifier.xlsx\")"
      ],
      "execution_count": null,
      "outputs": [
        {
          "output_type": "stream",
          "text": [
            "            IDENT     PROBA\n",
            "0      0010000001  0.421471\n",
            "51100  0010376657  0.421471\n",
            "51106  0010376663  0.421471\n",
            "51107  0010376664  0.421471\n",
            "51109  0010376666  0.421471\n",
            "...           ...       ...\n",
            "30820  0010351248  0.753873\n",
            "2297   0010029949  0.753873\n",
            "33573  0010358016  0.753873\n",
            "20580  0010336549  0.753873\n",
            "65100  0010398693  0.753873\n",
            "\n",
            "[99296 rows x 2 columns]\n",
            "0.421471    36029\n",
            "0.530511    24169\n",
            "0.507569    15519\n",
            "0.451343    11014\n",
            "0.656990     1817\n",
            "0.744772     1804\n",
            "0.474285     1397\n",
            "0.477697     1343\n",
            "0.705378     1167\n",
            "0.635514      938\n",
            "0.666091      904\n",
            "0.753873      883\n",
            "0.673075      534\n",
            "0.714480      437\n",
            "0.644615      377\n",
            "0.682176      253\n",
            "0.651598      208\n",
            "0.712468      113\n",
            "0.689294      110\n",
            "0.698395       80\n",
            "0.660700       72\n",
            "0.721570       45\n",
            "0.475478       32\n",
            "0.423689       11\n",
            "0.690992        7\n",
            "0.505350        7\n",
            "0.676660        6\n",
            "0.453561        5\n",
            "0.528293        3\n",
            "0.685761        3\n",
            "0.692744        2\n",
            "0.669624        2\n",
            "0.701846        2\n",
            "0.725102        1\n",
            "0.476504        1\n",
            "0.700093        1\n",
            "Name: PROBA, dtype: int64\n"
          ],
          "name": "stdout"
        },
        {
          "output_type": "error",
          "ename": "ValueError",
          "evalue": "ignored",
          "traceback": [
            "\u001b[0;31m---------------------------------------------------------------------------\u001b[0m",
            "\u001b[0;31mValueError\u001b[0m                                Traceback (most recent call last)",
            "\u001b[0;32m<ipython-input-27-4be2b6119a1a>\u001b[0m in \u001b[0;36m<module>\u001b[0;34m()\u001b[0m\n\u001b[1;32m      1\u001b[0m vingtiles(model = final_model_BaggingClassifier, data_orig = data, affichage=True,\n\u001b[0;32m----> 2\u001b[0;31m             save=False, path = \"/content/drive/MyDrive/spad_score_method_1/spad_projection_FDFTOT21/Fichier_excel_vingtiles/train_test_Decision_Tree_Classifier.xlsx\")\n\u001b[0m",
            "\u001b[0;32m<ipython-input-24-8e1bcf0023f5>\u001b[0m in \u001b[0;36mvingtiles\u001b[0;34m(model, data_orig, affichage, save, path)\u001b[0m\n\u001b[1;32m    105\u001b[0m \u001b[0;34m\u001b[0m\u001b[0m\n\u001b[1;32m    106\u001b[0m     \u001b[0;31m# vingtiles\u001b[0m\u001b[0;34m\u001b[0m\u001b[0;34m\u001b[0m\u001b[0;34m\u001b[0m\u001b[0m\n\u001b[0;32m--> 107\u001b[0;31m     \u001b[0mdf_temp\u001b[0m \u001b[0;34m=\u001b[0m\u001b[0mpd\u001b[0m\u001b[0;34m.\u001b[0m\u001b[0mDataFrame\u001b[0m\u001b[0;34m(\u001b[0m \u001b[0mpd\u001b[0m\u001b[0;34m.\u001b[0m\u001b[0mqcut\u001b[0m\u001b[0;34m(\u001b[0m\u001b[0mdf_tous\u001b[0m\u001b[0;34m[\u001b[0m\u001b[0;34m'PROBA'\u001b[0m\u001b[0;34m]\u001b[0m\u001b[0;34m,\u001b[0m\u001b[0mq\u001b[0m\u001b[0;34m=\u001b[0m \u001b[0;36m20\u001b[0m\u001b[0;34m)\u001b[0m  \u001b[0;34m)\u001b[0m\u001b[0;34m\u001b[0m\u001b[0;34m\u001b[0m\u001b[0m\n\u001b[0m\u001b[1;32m    108\u001b[0m     \u001b[0;31m#print(df_temp)\u001b[0m\u001b[0;34m\u001b[0m\u001b[0;34m\u001b[0m\u001b[0;34m\u001b[0m\u001b[0m\n\u001b[1;32m    109\u001b[0m \u001b[0;34m\u001b[0m\u001b[0m\n",
            "\u001b[0;32m/usr/local/lib/python3.7/dist-packages/pandas/core/reshape/tile.py\u001b[0m in \u001b[0;36mqcut\u001b[0;34m(x, q, labels, retbins, precision, duplicates)\u001b[0m\n\u001b[1;32m    365\u001b[0m         \u001b[0minclude_lowest\u001b[0m\u001b[0;34m=\u001b[0m\u001b[0;32mTrue\u001b[0m\u001b[0;34m,\u001b[0m\u001b[0;34m\u001b[0m\u001b[0;34m\u001b[0m\u001b[0m\n\u001b[1;32m    366\u001b[0m         \u001b[0mdtype\u001b[0m\u001b[0;34m=\u001b[0m\u001b[0mdtype\u001b[0m\u001b[0;34m,\u001b[0m\u001b[0;34m\u001b[0m\u001b[0;34m\u001b[0m\u001b[0m\n\u001b[0;32m--> 367\u001b[0;31m         \u001b[0mduplicates\u001b[0m\u001b[0;34m=\u001b[0m\u001b[0mduplicates\u001b[0m\u001b[0;34m,\u001b[0m\u001b[0;34m\u001b[0m\u001b[0;34m\u001b[0m\u001b[0m\n\u001b[0m\u001b[1;32m    368\u001b[0m     )\n\u001b[1;32m    369\u001b[0m \u001b[0;34m\u001b[0m\u001b[0m\n",
            "\u001b[0;32m/usr/local/lib/python3.7/dist-packages/pandas/core/reshape/tile.py\u001b[0m in \u001b[0;36m_bins_to_cuts\u001b[0;34m(x, bins, right, labels, precision, include_lowest, dtype, duplicates, ordered)\u001b[0m\n\u001b[1;32m    400\u001b[0m         \u001b[0;32mif\u001b[0m \u001b[0mduplicates\u001b[0m \u001b[0;34m==\u001b[0m \u001b[0;34m\"raise\"\u001b[0m\u001b[0;34m:\u001b[0m\u001b[0;34m\u001b[0m\u001b[0;34m\u001b[0m\u001b[0m\n\u001b[1;32m    401\u001b[0m             raise ValueError(\n\u001b[0;32m--> 402\u001b[0;31m                 \u001b[0;34mf\"Bin edges must be unique: {repr(bins)}.\\n\"\u001b[0m\u001b[0;34m\u001b[0m\u001b[0;34m\u001b[0m\u001b[0m\n\u001b[0m\u001b[1;32m    403\u001b[0m                 \u001b[0;34mf\"You can drop duplicate edges by setting the 'duplicates' kwarg\"\u001b[0m\u001b[0;34m\u001b[0m\u001b[0;34m\u001b[0m\u001b[0m\n\u001b[1;32m    404\u001b[0m             )\n",
            "\u001b[0;31mValueError\u001b[0m: Bin edges must be unique: array([0.42147071, 0.42147071, 0.42147071, 0.42147071, 0.42147071,\n       0.42147071, 0.42147071, 0.42147071, 0.45134289, 0.45134289,\n       0.47769651, 0.50756869, 0.50756869, 0.50756869, 0.53051119,\n       0.53051119, 0.53051119, 0.53051119, 0.53051119, 0.67307476,\n       0.75387304]).\nYou can drop duplicate edges by setting the 'duplicates' kwarg"
          ]
        }
      ]
    },
    {
      "cell_type": "code",
      "metadata": {
        "id": "M_AjyHWqHVxP"
      },
      "source": [
        "#############################################################\n",
        "#                   MODELE 4 : EXTRA-TREES\n",
        "#############################################################"
      ],
      "execution_count": null,
      "outputs": []
    },
    {
      "cell_type": "code",
      "metadata": {
        "colab": {
          "base_uri": "https://localhost:8080/"
        },
        "id": "Mato8dS5qWhB",
        "outputId": "297fd355-8bcb-425a-aa8e-2acbfa6706ed"
      },
      "source": [
        "model_ExtraTreesClassifier = ExtraTreesClassifier(class_weight=\"balanced\", random_state =0 )\n",
        "param = {'criterion': ['gini','entropy'], 'max_depth' : [2,3,4,5],\"max_features\":[8,12,15,20,25,30] ,'n_estimators' : [20,50,100] }# 100\n",
        "\n",
        "grid_ExtraTreesClassifier = GridSearchCV(model_ExtraTreesClassifier, param, cv = 4, scoring = \"recall\", n_jobs=-1)\n",
        "resultat_grid_ExtraTreesClassifier = grid_ExtraTreesClassifier.fit(train_X_s, train_Y_s)\n",
        "resultat_grid_ExtraTreesClassifier.best_params_\n",
        "\n"
      ],
      "execution_count": null,
      "outputs": [
        {
          "output_type": "execute_result",
          "data": {
            "text/plain": [
              "{'criterion': 'entropy',\n",
              " 'max_depth': 2,\n",
              " 'max_features': 12,\n",
              " 'n_estimators': 20}"
            ]
          },
          "metadata": {
            "tags": []
          },
          "execution_count": 14
        }
      ]
    },
    {
      "cell_type": "code",
      "metadata": {
        "colab": {
          "base_uri": "https://localhost:8080/"
        },
        "id": "RoQPo8kpqWj6",
        "outputId": "486be01a-f2fe-42c7-ce44-081ad9dd4bcb"
      },
      "source": [
        "final_model_ExtraTreesClassifier = ExtraTreesClassifier( criterion=\"entropy\", max_depth=2, max_features=12, n_estimators=20 , class_weight=\"balanced\", random_state=0) \n",
        "evaluation(final_model_ExtraTreesClassifier, train_X_s, train_Y_s, test_X_s, test_Y_s, scoring=\"recall\", plot=False)"
      ],
      "execution_count": null,
      "outputs": [
        {
          "output_type": "stream",
          "text": [
            "test set : \n",
            "[[ 4023  2082]\n",
            " [12109 12288]]\n",
            "              precision    recall  f1-score   support\n",
            "\n",
            "           1       0.25      0.66      0.36      6105\n",
            "           2       0.86      0.50      0.63     24397\n",
            "\n",
            "    accuracy                           0.53     30502\n",
            "   macro avg       0.55      0.58      0.50     30502\n",
            "weighted avg       0.73      0.53      0.58     30502\n",
            "\n",
            "train set : \n",
            "[[16180  8154]\n",
            " [48407 49267]]\n",
            "              precision    recall  f1-score   support\n",
            "\n",
            "           1       0.25      0.66      0.36     24334\n",
            "           2       0.86      0.50      0.64     97674\n",
            "\n",
            "    accuracy                           0.54    122008\n",
            "   macro avg       0.55      0.58      0.50    122008\n",
            "weighted avg       0.74      0.54      0.58    122008\n",
            "\n",
            "GRAPHIQUE NON DEMANDE\n"
          ],
          "name": "stdout"
        }
      ]
    },
    {
      "cell_type": "code",
      "metadata": {
        "colab": {
          "base_uri": "https://localhost:8080/"
        },
        "id": "sbb1j_mWCJTJ",
        "outputId": "6e195707-cca9-4587-ed96-e4324d18006b"
      },
      "source": [
        "vingtiles_tableau=vingtiles(model = final_model_ExtraTreesClassifier, data_orig = data, affichage=True,\n",
        "            save=True, path = \"/content/drive/MyDrive/spad_score_method_1/spad_projection_AAPOT21/Fichier_E_vingtiles_AA/train_test_Extra_Trees_Classifier.xlsx\")"
      ],
      "execution_count": null,
      "outputs": [
        {
          "output_type": "stream",
          "text": [
            "            IDENT     PROBA\n",
            "24030  0010066445  0.384846\n",
            "50943  0010129561  0.385199\n",
            "2794   0010009664  0.385323\n",
            "4828   0010013746  0.385519\n",
            "7151   0010021053  0.385519\n",
            "...           ...       ...\n",
            "1613   0010008375  0.638298\n",
            "98557  0010249184  0.638298\n",
            "35494  0010092465  0.638298\n",
            "95927  0010246296  0.642986\n",
            "9416   0010023563  0.646302\n",
            "\n",
            "[152510 rows x 2 columns]\n",
            "0.507173    10746\n",
            "0.460710     6072\n",
            "0.502855     4957\n",
            "0.510775     4063\n",
            "0.469192     3708\n",
            "            ...  \n",
            "0.522516        1\n",
            "0.471306        1\n",
            "0.532955        1\n",
            "0.476590        1\n",
            "0.512777        1\n",
            "Name: PROBA, Length: 6001, dtype: int64\n"
          ],
          "name": "stdout"
        },
        {
          "output_type": "stream",
          "text": [
            "/usr/local/lib/python3.7/dist-packages/ipykernel_launcher.py:119: SettingWithCopyWarning: \n",
            "A value is trying to be set on a copy of a slice from a DataFrame\n",
            "\n",
            "See the caveats in the documentation: https://pandas.pydata.org/pandas-docs/stable/user_guide/indexing.html#returning-a-view-versus-a-copy\n"
          ],
          "name": "stderr"
        },
        {
          "output_type": "stream",
          "text": [
            "            IDENT     PROBA        TRANCHES CLASSE\n",
            "24030  0010066445  0.384846  (0.384, 0.455]      1\n",
            "50943  0010129561  0.385199  (0.384, 0.455]      1\n",
            "2794   0010009664  0.385323  (0.384, 0.455]      1\n",
            "4828   0010013746  0.385519  (0.384, 0.455]      1\n",
            "7151   0010021053  0.385519  (0.384, 0.455]      1\n",
            "...           ...       ...             ...    ...\n",
            "1613   0010008375  0.638298  (0.548, 0.646]     20\n",
            "98557  0010249184  0.638298  (0.548, 0.646]     20\n",
            "35494  0010092465  0.638298  (0.548, 0.646]     20\n",
            "95927  0010246296  0.642986  (0.548, 0.646]     20\n",
            "9416   0010023563  0.646302  (0.548, 0.646]     20\n",
            "\n",
            "[152510 rows x 4 columns]\n",
            "Top_mon            1      2  TOTAL\n",
            "TRANCHES                          \n",
            "(0.384, 0.455]   682   6974   7656\n",
            "(0.455, 0.461]  1527  11023  12550\n",
            "(0.461, 0.462]   375   2740   3115\n",
            "(0.462, 0.467]  1193   7439   8632\n",
            "(0.467, 0.471]   900   5283   6183\n",
            "(0.471, 0.475]  1257   6698   7955\n",
            "(0.475, 0.48]   1158   6163   7321\n",
            "(0.48, 0.488]   1301   6756   8057\n",
            "(0.488, 0.497]  1317   6300   7617\n",
            "(0.497, 0.503]  1276   5900   7176\n",
            "(0.503, 0.504]  1468   6286   7754\n",
            "(0.504, 0.506]  1730   6925   8655\n",
            "(0.506, 0.507]  2035   9148  11183\n",
            "(0.507, 0.508]   616   2429   3045\n",
            "(0.508, 0.511]  1680   6111   7791\n",
            "(0.511, 0.512]  1695   6007   7702\n",
            "(0.512, 0.515]  1812   5975   7787\n",
            "(0.515, 0.529]  1926   5211   7137\n",
            "(0.529, 0.548]  2530   5102   7632\n",
            "(0.548, 0.646]  3961   3601   7562\n"
          ],
          "name": "stdout"
        }
      ]
    },
    {
      "cell_type": "code",
      "metadata": {
        "colab": {
          "base_uri": "https://localhost:8080/"
        },
        "id": "jS0wqiC_jkzN",
        "outputId": "a9b73c66-dcd2-4d0f-aa53-df55b7ed67e4"
      },
      "source": [
        "# TABLEAU MONTANT\n",
        "tableau_5_montant(vingtiles_tableau, data_montant_orig, affichage=True,\n",
        "            save=True, path = \"/content/drive/MyDrive/spad_score_method_1/spad_projection_AAPOT21/Fichier_E_vingtiles_AA/montant_Extra_Trees_Classifier.xlsx\")"
      ],
      "execution_count": null,
      "outputs": [
        {
          "output_type": "stream",
          "text": [
            "             IDENT     PROBA        TRANCHES CLASSE  SommeDeMONTANT_NUM\n",
            "0       0010066445  0.384846  (0.384, 0.455]      1                50.0\n",
            "1       0010129561  0.385199  (0.384, 0.455]      1                10.0\n",
            "2       0010009664  0.385323  (0.384, 0.455]      1                10.0\n",
            "3       0010013746  0.385519  (0.384, 0.455]      1                10.0\n",
            "4       0010021053  0.385519  (0.384, 0.455]      1                10.0\n",
            "...            ...       ...             ...    ...                 ...\n",
            "152505  0010008375  0.638298  (0.548, 0.646]     20                50.0\n",
            "152506  0010249184  0.638298  (0.548, 0.646]     20               100.0\n",
            "152507  0010092465  0.638298  (0.548, 0.646]     20                20.0\n",
            "152508  0010246296  0.642986  (0.548, 0.646]     20               100.0\n",
            "152509  0010023563  0.646302  (0.548, 0.646]     20                50.0\n",
            "\n",
            "[152134 rows x 5 columns]\n",
            "          TRANCHES Moyen_Somme  TOTAL\n",
            "0   (0.384, 0.455]     28.7295   7654\n",
            "1   (0.455, 0.461]     34.9231  12547\n",
            "2   (0.461, 0.462]     37.1716   3112\n",
            "3   (0.462, 0.467]     38.4934   8624\n",
            "4   (0.467, 0.471]     40.3758   6181\n",
            "5   (0.471, 0.475]     40.8894   7951\n",
            "6    (0.475, 0.48]     39.4927   7314\n",
            "7    (0.48, 0.488]     41.7936   8051\n",
            "8   (0.488, 0.497]     43.2161   7613\n",
            "9   (0.497, 0.503]     43.5204   7175\n",
            "10  (0.503, 0.504]      45.197   7750\n",
            "11  (0.504, 0.506]      46.335   8648\n",
            "12  (0.506, 0.507]     43.4129  11181\n",
            "13  (0.507, 0.508]     46.6877   3044\n",
            "14  (0.508, 0.511]     50.2105   7784\n",
            "15  (0.511, 0.512]     50.7371   7697\n",
            "16  (0.512, 0.515]     49.2885   7781\n",
            "17  (0.515, 0.529]     59.0793   7134\n",
            "18  (0.529, 0.548]      70.435   7618\n",
            "19  (0.548, 0.646]      247.11   7275\n"
          ],
          "name": "stdout"
        }
      ]
    },
    {
      "cell_type": "code",
      "metadata": {
        "colab": {
          "base_uri": "https://localhost:8080/",
          "height": 70
        },
        "id": "o4sqbcxcBhvi",
        "outputId": "94953892-587a-426a-8292-38460cf92045"
      },
      "source": [
        "\"\"\"\n",
        "# INDIVIDUS SANS TARGET\n",
        "vingtiles_ind_sans_target(model = final_model_ExtraTreesClassifier, data_orig= data_var_qualitatives_temp[(data_var_qualitatives_temp.isnull()).sum(axis=1) != 0], affichage=True,\n",
        "            save=True, path = \"/content/drive/MyDrive/spad_score_method_1/spad_projection_AAPOT21/Fichier_E_vingtiles_AA/ind_sans_target_Extra_Trees_Classifier.xlsx\")\n",
        "\"\"\""
      ],
      "execution_count": null,
      "outputs": [
        {
          "output_type": "execute_result",
          "data": {
            "application/vnd.google.colaboratory.intrinsic+json": {
              "type": "string"
            },
            "text/plain": [
              "'\\n# INDIVIDUS SANS TARGET\\nvingtiles_ind_sans_target(model = final_model_ExtraTreesClassifier, data_orig= data_var_qualitatives_temp[(data_var_qualitatives_temp.isnull()).sum(axis=1) != 0], affichage=True,\\n            save=True, path = \"/content/drive/MyDrive/spad_score_method_1/spad_projection_AAPOT21/Fichier_E_vingtiles_AA/ind_sans_target_Extra_Trees_Classifier.xlsx\")\\n'"
            ]
          },
          "metadata": {
            "tags": []
          },
          "execution_count": 34
        }
      ]
    },
    {
      "cell_type": "code",
      "metadata": {
        "id": "JxHRxZh4DB2f"
      },
      "source": [
        "#############################################################\n",
        "#                   MODELE 5 : XGBoost (IL FAUT L'AMELIORER CAR GRIDSEARCHCV PREND TROP DE TEMPS)\n",
        "#############################################################"
      ],
      "execution_count": null,
      "outputs": []
    },
    {
      "cell_type": "code",
      "metadata": {
        "id": "Xsf_dhDuTIXz"
      },
      "source": [
        ""
      ],
      "execution_count": null,
      "outputs": []
    },
    {
      "cell_type": "code",
      "metadata": {
        "colab": {
          "base_uri": "https://localhost:8080/",
          "height": 418
        },
        "id": "e8CsHSLMafgQ",
        "outputId": "353aa7aa-255f-4af6-e786-7b58a3e9fba1"
      },
      "source": [
        "\n",
        "model_XGBClassifier = XGBClassifier(learning_rate =0.1, n_estimators=100, gamma=0, subsample=0.8,\n",
        "                                                  colsample_bytree=0.8, objective= 'binary:logistic', nthread=-1, seed=0)\n",
        "param = { 'scale_pos_weight': list(np.linspace(0.30, 0.40, 20)), 'max_depth':range(3,10,1), 'min_child_weight':range(1,6,2) } #list(np.linspace(0.10, 0.30, 2))   #'max_depth':range(3,10,2), 'min_child_weight':range(1,6,2),\n",
        "\n",
        "grid_XGBClassifier = GridSearchCV(estimator = model_XGBClassifier, param_grid = param, scoring='recall', cv=5, n_jobs=-1)\n",
        "resultat_grid_XGBClassifier = grid_XGBClassifier.fit(train_X_s, train_Y_s)\n",
        "resultat_grid_XGBClassifier.best_params_"
      ],
      "execution_count": null,
      "outputs": [
        {
          "output_type": "stream",
          "text": [
            "/usr/local/lib/python3.7/dist-packages/joblib/externals/loky/process_executor.py:691: UserWarning: A worker stopped while some jobs were given to the executor. This can be caused by a too short worker timeout or by a memory leak.\n",
            "  \"timeout or by a memory leak.\", UserWarning\n"
          ],
          "name": "stderr"
        },
        {
          "output_type": "error",
          "ename": "KeyboardInterrupt",
          "evalue": "ignored",
          "traceback": [
            "\u001b[0;31m---------------------------------------------------------------------------\u001b[0m",
            "\u001b[0;31mKeyboardInterrupt\u001b[0m                         Traceback (most recent call last)",
            "\u001b[0;32m<ipython-input-15-a364e178a11a>\u001b[0m in \u001b[0;36m<module>\u001b[0;34m()\u001b[0m\n\u001b[1;32m      5\u001b[0m \u001b[0;34m\u001b[0m\u001b[0m\n\u001b[1;32m      6\u001b[0m \u001b[0mgrid_XGBClassifier\u001b[0m \u001b[0;34m=\u001b[0m \u001b[0mGridSearchCV\u001b[0m\u001b[0;34m(\u001b[0m\u001b[0mestimator\u001b[0m \u001b[0;34m=\u001b[0m \u001b[0mmodel_XGBClassifier\u001b[0m\u001b[0;34m,\u001b[0m \u001b[0mparam_grid\u001b[0m \u001b[0;34m=\u001b[0m \u001b[0mparam\u001b[0m\u001b[0;34m,\u001b[0m \u001b[0mscoring\u001b[0m\u001b[0;34m=\u001b[0m\u001b[0;34m'recall'\u001b[0m\u001b[0;34m,\u001b[0m \u001b[0mcv\u001b[0m\u001b[0;34m=\u001b[0m\u001b[0;36m5\u001b[0m\u001b[0;34m,\u001b[0m \u001b[0mn_jobs\u001b[0m\u001b[0;34m=\u001b[0m\u001b[0;34m-\u001b[0m\u001b[0;36m1\u001b[0m\u001b[0;34m)\u001b[0m\u001b[0;34m\u001b[0m\u001b[0;34m\u001b[0m\u001b[0m\n\u001b[0;32m----> 7\u001b[0;31m \u001b[0mresultat_grid_XGBClassifier\u001b[0m \u001b[0;34m=\u001b[0m \u001b[0mgrid_XGBClassifier\u001b[0m\u001b[0;34m.\u001b[0m\u001b[0mfit\u001b[0m\u001b[0;34m(\u001b[0m\u001b[0mtrain_X_s\u001b[0m\u001b[0;34m,\u001b[0m \u001b[0mtrain_Y_s\u001b[0m\u001b[0;34m)\u001b[0m\u001b[0;34m\u001b[0m\u001b[0;34m\u001b[0m\u001b[0m\n\u001b[0m\u001b[1;32m      8\u001b[0m \u001b[0mresultat_grid_XGBClassifier\u001b[0m\u001b[0;34m.\u001b[0m\u001b[0mbest_params_\u001b[0m\u001b[0;34m\u001b[0m\u001b[0;34m\u001b[0m\u001b[0m\n",
            "\u001b[0;32m/usr/local/lib/python3.7/dist-packages/sklearn/model_selection/_search.py\u001b[0m in \u001b[0;36mfit\u001b[0;34m(self, X, y, groups, **fit_params)\u001b[0m\n\u001b[1;32m    708\u001b[0m                 \u001b[0;32mreturn\u001b[0m \u001b[0mresults\u001b[0m\u001b[0;34m\u001b[0m\u001b[0;34m\u001b[0m\u001b[0m\n\u001b[1;32m    709\u001b[0m \u001b[0;34m\u001b[0m\u001b[0m\n\u001b[0;32m--> 710\u001b[0;31m             \u001b[0mself\u001b[0m\u001b[0;34m.\u001b[0m\u001b[0m_run_search\u001b[0m\u001b[0;34m(\u001b[0m\u001b[0mevaluate_candidates\u001b[0m\u001b[0;34m)\u001b[0m\u001b[0;34m\u001b[0m\u001b[0;34m\u001b[0m\u001b[0m\n\u001b[0m\u001b[1;32m    711\u001b[0m \u001b[0;34m\u001b[0m\u001b[0m\n\u001b[1;32m    712\u001b[0m         \u001b[0;31m# For multi-metric evaluation, store the best_index_, best_params_ and\u001b[0m\u001b[0;34m\u001b[0m\u001b[0;34m\u001b[0m\u001b[0;34m\u001b[0m\u001b[0m\n",
            "\u001b[0;32m/usr/local/lib/python3.7/dist-packages/sklearn/model_selection/_search.py\u001b[0m in \u001b[0;36m_run_search\u001b[0;34m(self, evaluate_candidates)\u001b[0m\n\u001b[1;32m   1149\u001b[0m     \u001b[0;32mdef\u001b[0m \u001b[0m_run_search\u001b[0m\u001b[0;34m(\u001b[0m\u001b[0mself\u001b[0m\u001b[0;34m,\u001b[0m \u001b[0mevaluate_candidates\u001b[0m\u001b[0;34m)\u001b[0m\u001b[0;34m:\u001b[0m\u001b[0;34m\u001b[0m\u001b[0;34m\u001b[0m\u001b[0m\n\u001b[1;32m   1150\u001b[0m         \u001b[0;34m\"\"\"Search all candidates in param_grid\"\"\"\u001b[0m\u001b[0;34m\u001b[0m\u001b[0;34m\u001b[0m\u001b[0m\n\u001b[0;32m-> 1151\u001b[0;31m         \u001b[0mevaluate_candidates\u001b[0m\u001b[0;34m(\u001b[0m\u001b[0mParameterGrid\u001b[0m\u001b[0;34m(\u001b[0m\u001b[0mself\u001b[0m\u001b[0;34m.\u001b[0m\u001b[0mparam_grid\u001b[0m\u001b[0;34m)\u001b[0m\u001b[0;34m)\u001b[0m\u001b[0;34m\u001b[0m\u001b[0;34m\u001b[0m\u001b[0m\n\u001b[0m\u001b[1;32m   1152\u001b[0m \u001b[0;34m\u001b[0m\u001b[0m\n\u001b[1;32m   1153\u001b[0m \u001b[0;34m\u001b[0m\u001b[0m\n",
            "\u001b[0;32m/usr/local/lib/python3.7/dist-packages/sklearn/model_selection/_search.py\u001b[0m in \u001b[0;36mevaluate_candidates\u001b[0;34m(candidate_params)\u001b[0m\n\u001b[1;32m    687\u001b[0m                                \u001b[0;32mfor\u001b[0m \u001b[0mparameters\u001b[0m\u001b[0;34m,\u001b[0m \u001b[0;34m(\u001b[0m\u001b[0mtrain\u001b[0m\u001b[0;34m,\u001b[0m \u001b[0mtest\u001b[0m\u001b[0;34m)\u001b[0m\u001b[0;34m\u001b[0m\u001b[0;34m\u001b[0m\u001b[0m\n\u001b[1;32m    688\u001b[0m                                in product(candidate_params,\n\u001b[0;32m--> 689\u001b[0;31m                                           cv.split(X, y, groups)))\n\u001b[0m\u001b[1;32m    690\u001b[0m \u001b[0;34m\u001b[0m\u001b[0m\n\u001b[1;32m    691\u001b[0m                 \u001b[0;32mif\u001b[0m \u001b[0mlen\u001b[0m\u001b[0;34m(\u001b[0m\u001b[0mout\u001b[0m\u001b[0;34m)\u001b[0m \u001b[0;34m<\u001b[0m \u001b[0;36m1\u001b[0m\u001b[0;34m:\u001b[0m\u001b[0;34m\u001b[0m\u001b[0;34m\u001b[0m\u001b[0m\n",
            "\u001b[0;32m/usr/local/lib/python3.7/dist-packages/joblib/parallel.py\u001b[0m in \u001b[0;36m__call__\u001b[0;34m(self, iterable)\u001b[0m\n\u001b[1;32m   1052\u001b[0m \u001b[0;34m\u001b[0m\u001b[0m\n\u001b[1;32m   1053\u001b[0m             \u001b[0;32mwith\u001b[0m \u001b[0mself\u001b[0m\u001b[0;34m.\u001b[0m\u001b[0m_backend\u001b[0m\u001b[0;34m.\u001b[0m\u001b[0mretrieval_context\u001b[0m\u001b[0;34m(\u001b[0m\u001b[0;34m)\u001b[0m\u001b[0;34m:\u001b[0m\u001b[0;34m\u001b[0m\u001b[0;34m\u001b[0m\u001b[0m\n\u001b[0;32m-> 1054\u001b[0;31m                 \u001b[0mself\u001b[0m\u001b[0;34m.\u001b[0m\u001b[0mretrieve\u001b[0m\u001b[0;34m(\u001b[0m\u001b[0;34m)\u001b[0m\u001b[0;34m\u001b[0m\u001b[0;34m\u001b[0m\u001b[0m\n\u001b[0m\u001b[1;32m   1055\u001b[0m             \u001b[0;31m# Make sure that we get a last message telling us we are done\u001b[0m\u001b[0;34m\u001b[0m\u001b[0;34m\u001b[0m\u001b[0;34m\u001b[0m\u001b[0m\n\u001b[1;32m   1056\u001b[0m             \u001b[0melapsed_time\u001b[0m \u001b[0;34m=\u001b[0m \u001b[0mtime\u001b[0m\u001b[0;34m.\u001b[0m\u001b[0mtime\u001b[0m\u001b[0;34m(\u001b[0m\u001b[0;34m)\u001b[0m \u001b[0;34m-\u001b[0m \u001b[0mself\u001b[0m\u001b[0;34m.\u001b[0m\u001b[0m_start_time\u001b[0m\u001b[0;34m\u001b[0m\u001b[0;34m\u001b[0m\u001b[0m\n",
            "\u001b[0;32m/usr/local/lib/python3.7/dist-packages/joblib/parallel.py\u001b[0m in \u001b[0;36mretrieve\u001b[0;34m(self)\u001b[0m\n\u001b[1;32m    931\u001b[0m             \u001b[0;32mtry\u001b[0m\u001b[0;34m:\u001b[0m\u001b[0;34m\u001b[0m\u001b[0;34m\u001b[0m\u001b[0m\n\u001b[1;32m    932\u001b[0m                 \u001b[0;32mif\u001b[0m \u001b[0mgetattr\u001b[0m\u001b[0;34m(\u001b[0m\u001b[0mself\u001b[0m\u001b[0;34m.\u001b[0m\u001b[0m_backend\u001b[0m\u001b[0;34m,\u001b[0m \u001b[0;34m'supports_timeout'\u001b[0m\u001b[0;34m,\u001b[0m \u001b[0;32mFalse\u001b[0m\u001b[0;34m)\u001b[0m\u001b[0;34m:\u001b[0m\u001b[0;34m\u001b[0m\u001b[0;34m\u001b[0m\u001b[0m\n\u001b[0;32m--> 933\u001b[0;31m                     \u001b[0mself\u001b[0m\u001b[0;34m.\u001b[0m\u001b[0m_output\u001b[0m\u001b[0;34m.\u001b[0m\u001b[0mextend\u001b[0m\u001b[0;34m(\u001b[0m\u001b[0mjob\u001b[0m\u001b[0;34m.\u001b[0m\u001b[0mget\u001b[0m\u001b[0;34m(\u001b[0m\u001b[0mtimeout\u001b[0m\u001b[0;34m=\u001b[0m\u001b[0mself\u001b[0m\u001b[0;34m.\u001b[0m\u001b[0mtimeout\u001b[0m\u001b[0;34m)\u001b[0m\u001b[0;34m)\u001b[0m\u001b[0;34m\u001b[0m\u001b[0;34m\u001b[0m\u001b[0m\n\u001b[0m\u001b[1;32m    934\u001b[0m                 \u001b[0;32melse\u001b[0m\u001b[0;34m:\u001b[0m\u001b[0;34m\u001b[0m\u001b[0;34m\u001b[0m\u001b[0m\n\u001b[1;32m    935\u001b[0m                     \u001b[0mself\u001b[0m\u001b[0;34m.\u001b[0m\u001b[0m_output\u001b[0m\u001b[0;34m.\u001b[0m\u001b[0mextend\u001b[0m\u001b[0;34m(\u001b[0m\u001b[0mjob\u001b[0m\u001b[0;34m.\u001b[0m\u001b[0mget\u001b[0m\u001b[0;34m(\u001b[0m\u001b[0;34m)\u001b[0m\u001b[0;34m)\u001b[0m\u001b[0;34m\u001b[0m\u001b[0;34m\u001b[0m\u001b[0m\n",
            "\u001b[0;32m/usr/local/lib/python3.7/dist-packages/joblib/_parallel_backends.py\u001b[0m in \u001b[0;36mwrap_future_result\u001b[0;34m(future, timeout)\u001b[0m\n\u001b[1;32m    540\u001b[0m         AsyncResults.get from multiprocessing.\"\"\"\n\u001b[1;32m    541\u001b[0m         \u001b[0;32mtry\u001b[0m\u001b[0;34m:\u001b[0m\u001b[0;34m\u001b[0m\u001b[0;34m\u001b[0m\u001b[0m\n\u001b[0;32m--> 542\u001b[0;31m             \u001b[0;32mreturn\u001b[0m \u001b[0mfuture\u001b[0m\u001b[0;34m.\u001b[0m\u001b[0mresult\u001b[0m\u001b[0;34m(\u001b[0m\u001b[0mtimeout\u001b[0m\u001b[0;34m=\u001b[0m\u001b[0mtimeout\u001b[0m\u001b[0;34m)\u001b[0m\u001b[0;34m\u001b[0m\u001b[0;34m\u001b[0m\u001b[0m\n\u001b[0m\u001b[1;32m    543\u001b[0m         \u001b[0;32mexcept\u001b[0m \u001b[0mCfTimeoutError\u001b[0m \u001b[0;32mas\u001b[0m \u001b[0me\u001b[0m\u001b[0;34m:\u001b[0m\u001b[0;34m\u001b[0m\u001b[0;34m\u001b[0m\u001b[0m\n\u001b[1;32m    544\u001b[0m             \u001b[0;32mraise\u001b[0m \u001b[0mTimeoutError\u001b[0m \u001b[0;32mfrom\u001b[0m \u001b[0me\u001b[0m\u001b[0;34m\u001b[0m\u001b[0;34m\u001b[0m\u001b[0m\n",
            "\u001b[0;32m/usr/lib/python3.7/concurrent/futures/_base.py\u001b[0m in \u001b[0;36mresult\u001b[0;34m(self, timeout)\u001b[0m\n\u001b[1;32m    428\u001b[0m                 \u001b[0;32mreturn\u001b[0m \u001b[0mself\u001b[0m\u001b[0;34m.\u001b[0m\u001b[0m__get_result\u001b[0m\u001b[0;34m(\u001b[0m\u001b[0;34m)\u001b[0m\u001b[0;34m\u001b[0m\u001b[0;34m\u001b[0m\u001b[0m\n\u001b[1;32m    429\u001b[0m \u001b[0;34m\u001b[0m\u001b[0m\n\u001b[0;32m--> 430\u001b[0;31m             \u001b[0mself\u001b[0m\u001b[0;34m.\u001b[0m\u001b[0m_condition\u001b[0m\u001b[0;34m.\u001b[0m\u001b[0mwait\u001b[0m\u001b[0;34m(\u001b[0m\u001b[0mtimeout\u001b[0m\u001b[0;34m)\u001b[0m\u001b[0;34m\u001b[0m\u001b[0;34m\u001b[0m\u001b[0m\n\u001b[0m\u001b[1;32m    431\u001b[0m \u001b[0;34m\u001b[0m\u001b[0m\n\u001b[1;32m    432\u001b[0m             \u001b[0;32mif\u001b[0m \u001b[0mself\u001b[0m\u001b[0;34m.\u001b[0m\u001b[0m_state\u001b[0m \u001b[0;32min\u001b[0m \u001b[0;34m[\u001b[0m\u001b[0mCANCELLED\u001b[0m\u001b[0;34m,\u001b[0m \u001b[0mCANCELLED_AND_NOTIFIED\u001b[0m\u001b[0;34m]\u001b[0m\u001b[0;34m:\u001b[0m\u001b[0;34m\u001b[0m\u001b[0;34m\u001b[0m\u001b[0m\n",
            "\u001b[0;32m/usr/lib/python3.7/threading.py\u001b[0m in \u001b[0;36mwait\u001b[0;34m(self, timeout)\u001b[0m\n\u001b[1;32m    294\u001b[0m         \u001b[0;32mtry\u001b[0m\u001b[0;34m:\u001b[0m    \u001b[0;31m# restore state no matter what (e.g., KeyboardInterrupt)\u001b[0m\u001b[0;34m\u001b[0m\u001b[0;34m\u001b[0m\u001b[0m\n\u001b[1;32m    295\u001b[0m             \u001b[0;32mif\u001b[0m \u001b[0mtimeout\u001b[0m \u001b[0;32mis\u001b[0m \u001b[0;32mNone\u001b[0m\u001b[0;34m:\u001b[0m\u001b[0;34m\u001b[0m\u001b[0;34m\u001b[0m\u001b[0m\n\u001b[0;32m--> 296\u001b[0;31m                 \u001b[0mwaiter\u001b[0m\u001b[0;34m.\u001b[0m\u001b[0macquire\u001b[0m\u001b[0;34m(\u001b[0m\u001b[0;34m)\u001b[0m\u001b[0;34m\u001b[0m\u001b[0;34m\u001b[0m\u001b[0m\n\u001b[0m\u001b[1;32m    297\u001b[0m                 \u001b[0mgotit\u001b[0m \u001b[0;34m=\u001b[0m \u001b[0;32mTrue\u001b[0m\u001b[0;34m\u001b[0m\u001b[0;34m\u001b[0m\u001b[0m\n\u001b[1;32m    298\u001b[0m             \u001b[0;32melse\u001b[0m\u001b[0;34m:\u001b[0m\u001b[0;34m\u001b[0m\u001b[0;34m\u001b[0m\u001b[0m\n",
            "\u001b[0;31mKeyboardInterrupt\u001b[0m: "
          ]
        }
      ]
    },
    {
      "cell_type": "code",
      "metadata": {
        "colab": {
          "base_uri": "https://localhost:8080/"
        },
        "id": "sgv8RGt5afiW",
        "outputId": "b424600d-5e50-457c-c711-45c015af7d38"
      },
      "source": [
        "final_model_XGBClassifier = XGBClassifier(learning_rate =0.1, n_estimators=100, max_depth=3, min_child_weight=1, gamma=0, subsample=0.8,\n",
        "                                                  colsample_bytree=0.8, objective= 'binary:logistic', nthread=2, scale_pos_weight=0.34, seed=0)\n",
        "evaluation(final_model_XGBClassifier, train_X_s, train_Y_s, test_X_s, test_Y_s, scoring=\"recall\", plot=False)"
      ],
      "execution_count": null,
      "outputs": [
        {
          "output_type": "stream",
          "text": [
            "test set : \n",
            "[[3313 2018]\n",
            " [6270 8259]]\n",
            "              precision    recall  f1-score   support\n",
            "\n",
            "           1       0.35      0.62      0.44      5331\n",
            "           2       0.80      0.57      0.67     14529\n",
            "\n",
            "    accuracy                           0.58     19860\n",
            "   macro avg       0.57      0.59      0.56     19860\n",
            "weighted avg       0.68      0.58      0.61     19860\n",
            "\n",
            "train set : \n",
            "[[13348  8049]\n",
            " [24432 33607]]\n",
            "              precision    recall  f1-score   support\n",
            "\n",
            "           1       0.35      0.62      0.45     21397\n",
            "           2       0.81      0.58      0.67     58039\n",
            "\n",
            "    accuracy                           0.59     79436\n",
            "   macro avg       0.58      0.60      0.56     79436\n",
            "weighted avg       0.68      0.59      0.61     79436\n",
            "\n",
            "GRAPHIQUE NON DEMANDE\n"
          ],
          "name": "stdout"
        }
      ]
    },
    {
      "cell_type": "code",
      "metadata": {
        "id": "D5UGKazveShM",
        "colab": {
          "base_uri": "https://localhost:8080/"
        },
        "outputId": "bae2f5b7-d042-4785-b625-b4076e9998f4"
      },
      "source": [
        "vingtiles_xgb(model = final_model_XGBClassifier, data_orig = data, affichage=True,\n",
        "            save=False, path = \"/content/drive/MyDrive/spad_score_method_1/spad_projection_AAPOT21/Fichier_E_vingtiles_AA/train_test_XGBoost.xlsx\")"
      ],
      "execution_count": null,
      "outputs": [
        {
          "output_type": "stream",
          "text": [
            "                 IDENT     PROBA\n",
            "66003  660040010399617  0.227716\n",
            "67823  678240010401567  0.227716\n",
            "78844  788450010414774  0.227716\n",
            "29727  297280010349859  0.232173\n",
            "68075  680760010401859  0.236831\n",
            "...                ...       ...\n",
            "48128  481290010373476  0.885968\n",
            "83091  830920010502100  0.885968\n",
            "5615    56160010208685  0.885968\n",
            "83536  835370010503920  0.886497\n",
            "60221  602220010392936  0.888440\n",
            "\n",
            "[99296 rows x 2 columns]\n",
            "0.546209    385\n",
            "0.495340    256\n",
            "0.403445    226\n",
            "0.550064    213\n",
            "0.431736    197\n",
            "           ... \n",
            "0.700457      1\n",
            "0.412724      1\n",
            "0.475223      1\n",
            "0.412721      1\n",
            "0.437500      1\n",
            "Name: PROBA, Length: 58312, dtype: int64\n",
            "                PROBA\n",
            "66003  (0.227, 0.361]\n",
            "67823  (0.227, 0.361]\n",
            "78844  (0.227, 0.361]\n",
            "29727  (0.227, 0.361]\n",
            "68075  (0.227, 0.361]\n",
            "...               ...\n",
            "48128  (0.717, 0.888]\n",
            "83091  (0.717, 0.888]\n",
            "5615   (0.717, 0.888]\n",
            "83536  (0.717, 0.888]\n",
            "60221  (0.717, 0.888]\n",
            "\n",
            "[99296 rows x 1 columns]\n",
            "Top_mon            1     2  TOTAL\n",
            "TRANCHES                         \n",
            "(0.227, 0.361]   609  4356   4965\n",
            "(0.361, 0.385]   767  4198   4965\n",
            "(0.385, 0.404]   833  4133   4966\n",
            "(0.404, 0.421]   902  4090   4992\n",
            "(0.421, 0.433]   925  4011   4936\n",
            "(0.433, 0.446]   969  3996   4965\n",
            "(0.446, 0.458]  1107  3858   4965\n",
            "(0.458, 0.471]  1070  3896   4966\n",
            "(0.471, 0.482]  1149  3815   4964\n",
            "(0.482, 0.494]  1170  3794   4964\n",
            "(0.494, 0.507]  1269  3697   4966\n",
            "(0.507, 0.52]   1326  3655   4981\n",
            "(0.52, 0.532]   1414  3533   4947\n",
            "(0.532, 0.545]  1432  3534   4966\n",
            "(0.545, 0.559]  1486  3478   4964\n",
            "(0.559, 0.579]  1640  3325   4965\n",
            "(0.579, 0.605]  1765  3199   4964\n",
            "(0.605, 0.646]  1880  3085   4965\n",
            "(0.646, 0.717]  2169  2796   4965\n",
            "(0.717, 0.888]  2846  2119   4965\n"
          ],
          "name": "stdout"
        }
      ]
    },
    {
      "cell_type": "code",
      "metadata": {
        "id": "1y7a7EMEy8sK"
      },
      "source": [
        "###################################################################################################################@\n",
        "###################################################################################################################@\n",
        "#                                   DECISION TREE CLASSIFIER  ----  AVEC VARIABLES QUALITATIVES\n",
        "###################################################################################################################@\n",
        "###################################################################################################################@"
      ],
      "execution_count": null,
      "outputs": []
    },
    {
      "cell_type": "code",
      "metadata": {
        "id": "CtAZAPy_h355"
      },
      "source": [
        "####################################################################################\n",
        "####################################################################################\n",
        "#                   DECISION TREE\n",
        "####################################################################################\n",
        "####################################################################################"
      ],
      "execution_count": null,
      "outputs": []
    },
    {
      "cell_type": "code",
      "metadata": {
        "colab": {
          "base_uri": "https://localhost:8080/"
        },
        "id": "9pt0VNO18P4N",
        "outputId": "57a49541-951c-4b55-bf01-e2886b9dcaba"
      },
      "source": [
        "\n",
        "model_DecisionTreeClassifier = DecisionTreeClassifier(random_state = 0, class_weight = \"balanced\" )\n",
        "param = { 'max_depth' :list(range(2,20)), 'criterion': [\"gini\", \"entropy\"], 'max_features' : list(range(3,10,1)),\n",
        "         'min_samples_split' : [0.05, 0.1, 0.4, 0.6, 0.8, 1] }\n",
        "\n",
        "grid_DecisionTreeClassifier = GridSearchCV(model_DecisionTreeClassifier, param_grid= param, cv = 4, scoring = \"recall\", n_jobs=-1)\n",
        "resultat_grid_DecisionTreeClassifier = grid_DecisionTreeClassifier.fit(train_X_s, train_Y_s)\n",
        "resultat_grid_DecisionTreeClassifier.best_params_\n"
      ],
      "execution_count": null,
      "outputs": [
        {
          "output_type": "execute_result",
          "data": {
            "text/plain": [
              "{'criterion': 'gini',\n",
              " 'max_depth': 2,\n",
              " 'max_features': 8,\n",
              " 'min_samples_split': 0.05}"
            ]
          },
          "metadata": {
            "tags": []
          },
          "execution_count": 44
        }
      ]
    },
    {
      "cell_type": "code",
      "metadata": {
        "colab": {
          "base_uri": "https://localhost:8080/"
        },
        "id": "JNnn4DAf8P6W",
        "outputId": "32ab72c3-c88f-4a32-ddeb-ab347df01216"
      },
      "source": [
        "final_model_DecisionTreeClassifier = DecisionTreeClassifier(random_state = 0, criterion=\"gini\", class_weight = \"balanced\", max_depth = 2, max_features=8, min_samples_split=0.05 )\n",
        "evaluation(final_model_DecisionTreeClassifier, train_X_s, train_Y_s, test_X_s, test_Y_s, scoring=\"recall\", plot=False)"
      ],
      "execution_count": null,
      "outputs": [
        {
          "output_type": "stream",
          "text": [
            "test set : \n",
            "[[ 5958   147]\n",
            " [23375  1022]]\n",
            "              precision    recall  f1-score   support\n",
            "\n",
            "           1       0.20      0.98      0.34      6105\n",
            "           2       0.87      0.04      0.08     24397\n",
            "\n",
            "    accuracy                           0.23     30502\n",
            "   macro avg       0.54      0.51      0.21     30502\n",
            "weighted avg       0.74      0.23      0.13     30502\n",
            "\n",
            "train set : \n",
            "[[23782   552]\n",
            " [93668  4006]]\n",
            "              precision    recall  f1-score   support\n",
            "\n",
            "           1       0.20      0.98      0.34     24334\n",
            "           2       0.88      0.04      0.08     97674\n",
            "\n",
            "    accuracy                           0.23    122008\n",
            "   macro avg       0.54      0.51      0.21    122008\n",
            "weighted avg       0.74      0.23      0.13    122008\n",
            "\n",
            "GRAPHIQUE NON DEMANDE\n"
          ],
          "name": "stdout"
        }
      ]
    },
    {
      "cell_type": "code",
      "metadata": {
        "colab": {
          "base_uri": "https://localhost:8080/",
          "height": 779
        },
        "id": "3sGdSD11IMOO",
        "outputId": "2033d5e2-2aaa-4723-d0fc-2db1f9b0fed7"
      },
      "source": [
        "# TRAIN SET TEST SET\n",
        "vingtiles(model = final_model_DecisionTreeClassifier, data_orig = data, affichage=True,\n",
        "            save=False, path = \"/content/drive/MyDrive/spad_score_method_1/spad_projection_AAPOT21/Fichier_E_vingtiles_AA/train_test_Decision_Tree_Classifier.xlsx\")"
      ],
      "execution_count": null,
      "outputs": [
        {
          "output_type": "stream",
          "text": [
            "             IDENT     PROBA\n",
            "82633   0010211416  0.356121\n",
            "60396   0010153141  0.356121\n",
            "125380  0010319105  0.356121\n",
            "9817    0010026095  0.356121\n",
            "142896  0010358384  0.356121\n",
            "...            ...       ...\n",
            "85595   0010214677  0.566034\n",
            "55583   0010141240  0.566034\n",
            "92234   0010235374  0.566034\n",
            "18221   0010046701  0.566034\n",
            "137891  0010346067  0.566034\n",
            "\n",
            "[152510 rows x 2 columns]\n",
            "0.503490    144067\n",
            "0.356121      5727\n",
            "0.566034      2716\n",
            "Name: PROBA, dtype: int64\n"
          ],
          "name": "stdout"
        },
        {
          "output_type": "error",
          "ename": "ValueError",
          "evalue": "ignored",
          "traceback": [
            "\u001b[0;31m---------------------------------------------------------------------------\u001b[0m",
            "\u001b[0;31mValueError\u001b[0m                                Traceback (most recent call last)",
            "\u001b[0;32m<ipython-input-46-7f564907d776>\u001b[0m in \u001b[0;36m<module>\u001b[0;34m()\u001b[0m\n\u001b[1;32m      1\u001b[0m \u001b[0;31m# TRAIN SET TEST SET\u001b[0m\u001b[0;34m\u001b[0m\u001b[0;34m\u001b[0m\u001b[0;34m\u001b[0m\u001b[0m\n\u001b[1;32m      2\u001b[0m vingtiles(model = final_model_DecisionTreeClassifier, data_orig = data, affichage=True,\n\u001b[0;32m----> 3\u001b[0;31m             save=False, path = \"/content/drive/MyDrive/spad_score_method_1/spad_projection_AAPOT21/Fichier_E_vingtiles_AA/train_test_Decision_Tree_Classifier.xlsx\")\n\u001b[0m",
            "\u001b[0;32m<ipython-input-7-8e1bcf0023f5>\u001b[0m in \u001b[0;36mvingtiles\u001b[0;34m(model, data_orig, affichage, save, path)\u001b[0m\n\u001b[1;32m    105\u001b[0m \u001b[0;34m\u001b[0m\u001b[0m\n\u001b[1;32m    106\u001b[0m     \u001b[0;31m# vingtiles\u001b[0m\u001b[0;34m\u001b[0m\u001b[0;34m\u001b[0m\u001b[0;34m\u001b[0m\u001b[0m\n\u001b[0;32m--> 107\u001b[0;31m     \u001b[0mdf_temp\u001b[0m \u001b[0;34m=\u001b[0m\u001b[0mpd\u001b[0m\u001b[0;34m.\u001b[0m\u001b[0mDataFrame\u001b[0m\u001b[0;34m(\u001b[0m \u001b[0mpd\u001b[0m\u001b[0;34m.\u001b[0m\u001b[0mqcut\u001b[0m\u001b[0;34m(\u001b[0m\u001b[0mdf_tous\u001b[0m\u001b[0;34m[\u001b[0m\u001b[0;34m'PROBA'\u001b[0m\u001b[0;34m]\u001b[0m\u001b[0;34m,\u001b[0m\u001b[0mq\u001b[0m\u001b[0;34m=\u001b[0m \u001b[0;36m20\u001b[0m\u001b[0;34m)\u001b[0m  \u001b[0;34m)\u001b[0m\u001b[0;34m\u001b[0m\u001b[0;34m\u001b[0m\u001b[0m\n\u001b[0m\u001b[1;32m    108\u001b[0m     \u001b[0;31m#print(df_temp)\u001b[0m\u001b[0;34m\u001b[0m\u001b[0;34m\u001b[0m\u001b[0;34m\u001b[0m\u001b[0m\n\u001b[1;32m    109\u001b[0m \u001b[0;34m\u001b[0m\u001b[0m\n",
            "\u001b[0;32m/usr/local/lib/python3.7/dist-packages/pandas/core/reshape/tile.py\u001b[0m in \u001b[0;36mqcut\u001b[0;34m(x, q, labels, retbins, precision, duplicates)\u001b[0m\n\u001b[1;32m    365\u001b[0m         \u001b[0minclude_lowest\u001b[0m\u001b[0;34m=\u001b[0m\u001b[0;32mTrue\u001b[0m\u001b[0;34m,\u001b[0m\u001b[0;34m\u001b[0m\u001b[0;34m\u001b[0m\u001b[0m\n\u001b[1;32m    366\u001b[0m         \u001b[0mdtype\u001b[0m\u001b[0;34m=\u001b[0m\u001b[0mdtype\u001b[0m\u001b[0;34m,\u001b[0m\u001b[0;34m\u001b[0m\u001b[0;34m\u001b[0m\u001b[0m\n\u001b[0;32m--> 367\u001b[0;31m         \u001b[0mduplicates\u001b[0m\u001b[0;34m=\u001b[0m\u001b[0mduplicates\u001b[0m\u001b[0;34m,\u001b[0m\u001b[0;34m\u001b[0m\u001b[0;34m\u001b[0m\u001b[0m\n\u001b[0m\u001b[1;32m    368\u001b[0m     )\n\u001b[1;32m    369\u001b[0m \u001b[0;34m\u001b[0m\u001b[0m\n",
            "\u001b[0;32m/usr/local/lib/python3.7/dist-packages/pandas/core/reshape/tile.py\u001b[0m in \u001b[0;36m_bins_to_cuts\u001b[0;34m(x, bins, right, labels, precision, include_lowest, dtype, duplicates, ordered)\u001b[0m\n\u001b[1;32m    400\u001b[0m         \u001b[0;32mif\u001b[0m \u001b[0mduplicates\u001b[0m \u001b[0;34m==\u001b[0m \u001b[0;34m\"raise\"\u001b[0m\u001b[0;34m:\u001b[0m\u001b[0;34m\u001b[0m\u001b[0;34m\u001b[0m\u001b[0m\n\u001b[1;32m    401\u001b[0m             raise ValueError(\n\u001b[0;32m--> 402\u001b[0;31m                 \u001b[0;34mf\"Bin edges must be unique: {repr(bins)}.\\n\"\u001b[0m\u001b[0;34m\u001b[0m\u001b[0;34m\u001b[0m\u001b[0m\n\u001b[0m\u001b[1;32m    403\u001b[0m                 \u001b[0;34mf\"You can drop duplicate edges by setting the 'duplicates' kwarg\"\u001b[0m\u001b[0;34m\u001b[0m\u001b[0;34m\u001b[0m\u001b[0m\n\u001b[1;32m    404\u001b[0m             )\n",
            "\u001b[0;31mValueError\u001b[0m: Bin edges must be unique: array([0.35612115, 0.50349028, 0.50349028, 0.50349028, 0.50349028,\n       0.50349028, 0.50349028, 0.50349028, 0.50349028, 0.50349028,\n       0.50349028, 0.50349028, 0.50349028, 0.50349028, 0.50349028,\n       0.50349028, 0.50349028, 0.50349028, 0.50349028, 0.50349028,\n       0.56603432]).\nYou can drop duplicate edges by setting the 'duplicates' kwarg"
          ]
        }
      ]
    },
    {
      "cell_type": "code",
      "metadata": {
        "id": "ztkYTw2lKfrN"
      },
      "source": [
        ""
      ],
      "execution_count": null,
      "outputs": []
    },
    {
      "cell_type": "code",
      "metadata": {
        "id": "JT4GplPeak4R"
      },
      "source": [
        "####################################################################################################\n",
        "#                           SANS LES MODALITES REPRESENTANT LES VALEURS MANQUANTES\n",
        "####################################################################################################"
      ],
      "execution_count": null,
      "outputs": []
    },
    {
      "cell_type": "code",
      "metadata": {
        "id": "16GnZhtoasFp"
      },
      "source": [
        "# test predict individus sans classe\n",
        "data = data_orig.copy()\n",
        "\n",
        "# on élimine les variables dons\n",
        "data=data.drop([\"GeoFaz_cl\", \"ImmoFaz_Scl\", \"ImmoFaz_cl\", \"Prenom_Phase_cl_H\", \"Prenom_Phase_cl_F\",\n",
        "                \"Onoma-Phase_Scl\", \"Onoma-Phase_CL\"], axis=1)\n",
        "\n",
        "# encodage Onehot sur toutes les données (on évite ainsi les erreurs futures)\n",
        "nb_var = data.shape[1] - 1\n",
        "data_1_22 = pd.get_dummies(data.iloc[:,1:(data.shape[1]-1)], columns=data.columns[1:(data.shape[1]-1)] )\n",
        "\n",
        "colonnes_drop_nan = ['TypeHabi_04','GeoFaz_Scl_81','Anciennete_11','Logement_prix_m2_21','Mediane_RFR_21','Sexe_05','Prenom_Phase_scl_H_71','Prenom_Phase_scl_F_81','Age_H_12','Age_F_12','Affinite_1_21','Affinite_2_21','Prenom_effectif_06','Potentiel_prenom_21']\n",
        "#colonnes_drop_nan=data.drop(colonnes_drop_nan)\n",
        "data_1_22 = data_1_22.drop(colonnes_drop_nan, axis=1)\n",
        "\n",
        "\n",
        "data_var_qualitatives_temp =  pd.concat([data[\"IDENT\"], data_1_22, data[\"Top_mon\"]], axis=1)\n",
        "data = data_var_qualitatives_temp\n",
        "#encodage = OneHotEncoder()\n",
        "#encodage.fit(data_processing(data.iloc[:,1:nb_var]))\n",
        "\n",
        "# élimination des individus n'ayant pas de valeur pour la varialbe Top_mon\n",
        "\"\"\"IMPORTANT\"\"\"\n",
        "data_sans_nan = data[(data.isnull()).sum(axis=1) == 0]\n",
        "\n",
        "#conversion du type de variable\n",
        "for i in range(1,data_sans_nan.shape[1]):\n",
        "    data_sans_nan.iloc[:,i]=data_sans_nan.iloc[:,i].astype(int)\n",
        "\n",
        "# base de données avec des variables corrélées et avec encodage OneHot\n",
        "data =data_sans_nan\n",
        "\n",
        "nb_var = data.shape[1] - 1\n",
        "train_set, test_set = train_test_split(data, test_size = 0.2, random_state=0 )\n",
        "\n",
        "train_X_s = (train_set.iloc[:,1:nb_var]).to_numpy()\n",
        "train_Y_s = np.asanyarray(train_set.iloc[:,nb_var])\n",
        "\n",
        "test_X_s = (test_set.iloc[:,1:nb_var]).to_numpy()\n",
        "test_Y_s = np.asanyarray(test_set.iloc[:,nb_var])\n"
      ],
      "execution_count": null,
      "outputs": []
    },
    {
      "cell_type": "code",
      "metadata": {
        "id": "oH3l33RFbgfm"
      },
      "source": [
        "model_AdaBoost = AdaBoostClassifier(base_estimator=DecisionTreeClassifier(class_weight = \"balanced\"), random_state =0 )\n",
        "param = {'base_estimator__criterion': ['gini','entropy'], 'base_estimator__max_depth' : list(range(2,20, 2)), 'n_estimators' : [20, 50] }\n",
        "\n",
        "grid_AdaBoost = GridSearchCV(model_AdaBoost, param, cv = 4, scoring = \"recall\", n_jobs=-1)\n",
        "resultat_grid_AdaBoost = grid_AdaBoost.fit(train_X_s, train_Y_s)\n",
        "resultat_grid_AdaBoost.best_params_\n",
        "#model_AdaBoost.get_params\n"
      ],
      "execution_count": null,
      "outputs": []
    },
    {
      "cell_type": "code",
      "metadata": {
        "id": "JtgQ52BrD66B"
      },
      "source": [
        ""
      ],
      "execution_count": null,
      "outputs": []
    },
    {
      "cell_type": "code",
      "metadata": {
        "id": "GEIG_dMNQ5ja"
      },
      "source": [
        ""
      ],
      "execution_count": null,
      "outputs": []
    },
    {
      "cell_type": "code",
      "metadata": {
        "id": "SdG7KGa6RGzQ"
      },
      "source": [
        ""
      ],
      "execution_count": null,
      "outputs": []
    },
    {
      "cell_type": "code",
      "metadata": {
        "id": "AUSHUFSfRYHe"
      },
      "source": [
        ""
      ],
      "execution_count": 95,
      "outputs": []
    },
    {
      "cell_type": "code",
      "metadata": {
        "id": "q70eDXSvI-5i"
      },
      "source": [
        ""
      ],
      "execution_count": 95,
      "outputs": []
    },
    {
      "cell_type": "code",
      "metadata": {
        "id": "nrwgUUX7JAlE"
      },
      "source": [
        ""
      ],
      "execution_count": null,
      "outputs": []
    }
  ]
}